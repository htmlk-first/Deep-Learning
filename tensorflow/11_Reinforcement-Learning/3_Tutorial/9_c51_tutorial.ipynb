{
 "cells": [
  {
   "cell_type": "markdown",
   "metadata": {
    "id": "klGNgWREsvQv"
   },
   "source": [
    "##### Copyright 2018 The TF-Agents Authors."
   ]
  },
  {
   "cell_type": "code",
   "execution_count": 1,
   "metadata": {
    "cellView": "form",
    "execution": {
     "iopub.execute_input": "2020-11-12T01:26:54.835358Z",
     "iopub.status.busy": "2020-11-12T01:26:54.834604Z",
     "iopub.status.idle": "2020-11-12T01:26:54.836803Z",
     "shell.execute_reply": "2020-11-12T01:26:54.837211Z"
    },
    "id": "nQnmcm0oI1Q-"
   },
   "outputs": [],
   "source": [
    "#@title Licensed under the Apache License, Version 2.0 (the \"License\");\n",
    "# you may not use this file except in compliance with the License.\n",
    "# You may obtain a copy of the License at\n",
    "#\n",
    "# https://www.apache.org/licenses/LICENSE-2.0\n",
    "#\n",
    "# Unless required by applicable law or agreed to in writing, software\n",
    "# distributed under the License is distributed on an \"AS IS\" BASIS,\n",
    "# WITHOUT WARRANTIES OR CONDITIONS OF ANY KIND, either express or implied.\n",
    "# See the License for the specific language governing permissions and\n",
    "# limitations under the License."
   ]
  },
  {
   "cell_type": "markdown",
   "metadata": {
    "id": "oMaGpi7TciQs"
   },
   "source": [
    "# DQN C51/레인보우\n",
    "\n",
    "<table class=\"tfo-notebook-buttons\" align=\"left\">\n",
    "  <td><a target=\"_blank\" href=\"https://www.tensorflow.org/agents/tutorials/9_c51_tutorial\"><img src=\"https://www.tensorflow.org/images/tf_logo_32px.png\">TensorFlow.org에서 보기</a></td>\n",
    "  <td><a target=\"_blank\" href=\"https://colab.research.google.com/github/tensorflow/docs-l10n/blob/master/site/ko/agents/tutorials/9_c51_tutorial.ipynb\"><img src=\"https://www.tensorflow.org/images/colab_logo_32px.png\">Google Colab에서 실행하기</a></td>\n",
    "  <td><a target=\"_blank\" href=\"https://github.com/tensorflow/docs-l10n/blob/master/site/ko/agents/tutorials/9_c51_tutorial.ipynb\"><img src=\"https://www.tensorflow.org/images/GitHub-Mark-32px.png\">GitHub에서 소스 보기</a></td>\n",
    "  <td><a href=\"https://storage.googleapis.com/tensorflow_docs/docs-l10n/site/ko/agents/tutorials/9_c51_tutorial.ipynb\"><img src=\"https://www.tensorflow.org/images/download_logo_32px.png\">노트북 다운로드하기</a></td>\n",
    "</table>"
   ]
  },
  {
   "cell_type": "markdown",
   "metadata": {
    "id": "ZOUOQOrFs3zn"
   },
   "source": [
    "## 소개"
   ]
  },
  {
   "cell_type": "markdown",
   "metadata": {
    "id": "cKOCZlhUgXVK"
   },
   "source": [
    "이 예는 TF-Agents 라이브러리를 사용하여 Cartpole 환경에서 [Categorical DQN(C51)](https://arxiv.org/pdf/1707.06887.pdf) 에이전트를 훈련하는 방법을 보여줍니다.\n",
    "\n",
    "![카트 폴 환경](https://github.com/tensorflow/agents/blob/master/docs/tutorials/images/cartpole.png?raw=1)\n",
    "\n",
    "전제 조건으로 [DQN 튜토리얼](https://github.com/tensorflow/agents/blob/master/docs/tutorials/1_dqn_tutorial.ipynb)을 살펴보아야 합니다. 이 튜토리얼에서는 DQN 튜토리얼에 익숙하다고 가정합니다. 여기서는 주로 DQN과 C51의 차이점에 중점을 둡니다.\n"
   ]
  },
  {
   "cell_type": "markdown",
   "metadata": {
    "id": "lsaQlK8fFQqH"
   },
   "source": [
    "## 설정\n"
   ]
  },
  {
   "cell_type": "markdown",
   "metadata": {
    "id": "-NzBsZzPcyBm"
   },
   "source": [
    "tf-agents를 아직 설치하지 않은 경우 다음을 실행합니다."
   ]
  },
  {
   "cell_type": "code",
   "execution_count": 2,
   "metadata": {
    "execution": {
     "iopub.execute_input": "2020-11-12T01:26:54.848575Z",
     "iopub.status.busy": "2020-11-12T01:26:54.847927Z",
     "iopub.status.idle": "2020-11-12T01:27:42.598708Z",
     "shell.execute_reply": "2020-11-12T01:27:42.597909Z"
    },
    "id": "KEHR2Ui-lo8O"
   },
   "outputs": [
    {
     "name": "stdout",
     "output_type": "stream",
     "text": [
      "\r",
      "Reading package lists... 0%\r",
      "\r",
      "Reading package lists... 100%\r",
      "\r",
      "Reading package lists... Done\r",
      "\r\n",
      "\r",
      "Building dependency tree... 0%\r",
      "\r",
      "Building dependency tree... 0%\r"
     ]
    },
    {
     "name": "stdout",
     "output_type": "stream",
     "text": [
      "\r",
      "Building dependency tree... 50%\r",
      "\r",
      "Building dependency tree... 50%\r"
     ]
    },
    {
     "name": "stdout",
     "output_type": "stream",
     "text": [
      "\r",
      "Building dependency tree       \r",
      "\r\n",
      "\r",
      "Reading state information... 0%\r",
      "\r",
      "Reading state information... 0%\r",
      "\r",
      "Reading state information... Done\r",
      "\r\n"
     ]
    },
    {
     "name": "stdout",
     "output_type": "stream",
     "text": [
      "The following packages were automatically installed and are no longer required:\r\n",
      "  dconf-gsettings-backend dconf-service dkms freeglut3 freeglut3-dev\r\n",
      "  glib-networking glib-networking-common glib-networking-services\r\n",
      "  gsettings-desktop-schemas libcairo-gobject2 libcolord2 libdconf1\r\n",
      "  libegl1-mesa libepoxy0 libglu1-mesa libglu1-mesa-dev libgtk-3-0\r\n",
      "  libgtk-3-common libice-dev libjansson4 libjson-glib-1.0-0\r\n",
      "  libjson-glib-1.0-common libproxy1v5 librest-0.7-0 libsm-dev\r\n",
      "  libsoup-gnome2.4-1 libsoup2.4-1 libxi-dev libxmu-dev libxmu-headers\r\n",
      "  libxnvctrl0 libxt-dev linux-gcp-headers-5.0.0-1026\r\n",
      "  linux-headers-5.0.0-1026-gcp linux-image-5.0.0-1026-gcp\r\n",
      "  linux-modules-5.0.0-1026-gcp pkg-config policykit-1-gnome python3-xkit\r\n",
      "  screen-resolution-extra xserver-xorg-core-hwe-18.04\r\n",
      "Use 'sudo apt autoremove' to remove them.\r\n",
      "The following additional packages will be installed:\r\n",
      "  i965-va-driver libaacs0 libass9 libavc1394-0 libavcodec57 libavdevice57\r\n",
      "  libavfilter6 libavformat57 libavresample3 libavutil55 libbdplus0 libbluray2\r\n",
      "  libbs2b0 libcaca0 libcdio-cdda2 libcdio-paranoia2 libcdio17 libchromaprint1\r\n",
      "  libcrystalhd3 libdc1394-22 libdrm-amdgpu1 libdrm-common libdrm-dev\r\n",
      "  libdrm-intel1 libdrm-nouveau2 libdrm-radeon1 libdrm2 libfftw3-double3\r\n",
      "  libflite1 libgme0 libgsm1 libiec61883-0 libjack-jackd2-0 libllvm10\r\n",
      "  libmp3lame0 libmpg123-0 libmysofa0 libnorm1 libnuma1 libopenal-data\r\n",
      "  libopenal1 libopenjp2-7 libopenmpt0 libopus0 libpgm-5.2-0 libpostproc54\r\n",
      "  libraw1394-11 librubberband2 libsamplerate0 libsdl2-2.0-0 libshine3\r\n",
      "  libsnappy1v5 libsndio6.1 libsodium23 libsoxr0 libspeex1 libssh-gcrypt-4\r\n",
      "  libswresample2 libswscale4 libtheora0 libtwolame0 libva-drm2 libva-x11-2\r\n",
      "  libva2 libvorbisfile3 libvpx5 libwavpack1 libwebpmux3 libx264-152\r\n",
      "  libx265-146 libxss1 libxvidcore4 libzmq5 libzvbi-common libzvbi0\r\n",
      "  mesa-va-drivers va-driver-all xserver-common\r\n",
      "Suggested packages:\r\n",
      "  ffmpeg-doc i965-va-driver-shaders libbluray-bdj firmware-crystalhd\r\n",
      "  libfftw3-bin libfftw3-dev jackd2 libportaudio2 opus-tools libraw1394-doc\r\n",
      "  sndiod speex\r\n",
      "Recommended packages:\r\n",
      "  xfonts-base\r\n"
     ]
    },
    {
     "name": "stdout",
     "output_type": "stream",
     "text": [
      "The following NEW packages will be installed:\r\n",
      "  ffmpeg i965-va-driver libaacs0 libass9 libavc1394-0 libavcodec57\r\n",
      "  libavdevice57 libavfilter6 libavformat57 libavresample3 libavutil55\r\n",
      "  libbdplus0 libbluray2 libbs2b0 libcaca0 libcdio-cdda2 libcdio-paranoia2\r\n",
      "  libcdio17 libchromaprint1 libcrystalhd3 libdc1394-22 libfftw3-double3\r\n",
      "  libflite1 libgme0 libgsm1 libiec61883-0 libjack-jackd2-0 libllvm10\r\n",
      "  libmp3lame0 libmpg123-0 libmysofa0 libnorm1 libnuma1 libopenal-data\r\n",
      "  libopenal1 libopenjp2-7 libopenmpt0 libopus0 libpgm-5.2-0 libpostproc54\r\n",
      "  libraw1394-11 librubberband2 libsamplerate0 libsdl2-2.0-0 libshine3\r\n",
      "  libsnappy1v5 libsndio6.1 libsodium23 libsoxr0 libspeex1 libssh-gcrypt-4\r\n",
      "  libswresample2 libswscale4 libtheora0 libtwolame0 libva-drm2 libva-x11-2\r\n",
      "  libva2 libvorbisfile3 libvpx5 libwavpack1 libwebpmux3 libx264-152\r\n",
      "  libx265-146 libxss1 libxvidcore4 libzmq5 libzvbi-common libzvbi0\r\n",
      "  mesa-va-drivers va-driver-all xvfb\r\n",
      "The following packages will be upgraded:\r\n",
      "  libdrm-amdgpu1 libdrm-common libdrm-dev libdrm-intel1 libdrm-nouveau2\r\n",
      "  libdrm-radeon1 libdrm2 xserver-common\r\n",
      "8 upgraded, 72 newly installed, 0 to remove and 94 not upgraded.\r\n",
      "Need to get 50.5 MB of archives.\r\n",
      "After this operation, 199 MB of additional disk space will be used.\r\n",
      "\r",
      "0% [Working]\r",
      "            \r",
      "Get:1 http://asia-east1.gce.archive.ubuntu.com/ubuntu bionic/main amd64 libxss1 amd64 1:1.2.2-1 [8582 B]\r\n",
      "\r",
      "0% [1 libxss1 8582 B/8582 B 100%]\r",
      "                                 \r",
      "0% [Working]\r",
      "            \r",
      "Get:2 http://asia-east1.gce.archive.ubuntu.com/ubuntu bionic-updates/main amd64 libdrm-common all 2.4.101-2~18.04.1 [5560 B]\r\n",
      "\r",
      "0% [2 libdrm-common 5560 B/5560 B 100%]\r",
      "                                       \r",
      "1% [Waiting for headers]"
     ]
    },
    {
     "name": "stdout",
     "output_type": "stream",
     "text": [
      "\r",
      "                        \r",
      "Get:3 http://asia-east1.gce.archive.ubuntu.com/ubuntu bionic-updates/main amd64 libdrm-dev amd64 2.4.101-2~18.04.1 [126 kB]\r\n",
      "\r",
      "1% [3 libdrm-dev 12.3 kB/126 kB 10%]"
     ]
    },
    {
     "name": "stdout",
     "output_type": "stream",
     "text": [
      "\r",
      "                                    \r",
      "1% [Waiting for headers]\r",
      "                        \r",
      "Get:4 http://asia-east1.gce.archive.ubuntu.com/ubuntu bionic-updates/main amd64 libdrm-intel1 amd64 2.4.101-2~18.04.1 [60.0 kB]\r\n",
      "\r",
      "1% [4 libdrm-intel1 28.7 kB/60.0 kB 48%]\r",
      "                                        \r",
      "1% [Waiting for headers]\r",
      "                        \r",
      "Get:5 http://asia-east1.gce.archive.ubuntu.com/ubuntu bionic-updates/main amd64 libdrm-radeon1 amd64 2.4.101-2~18.04.1 [21.7 kB]\r\n",
      "\r",
      "1% [5 libdrm-radeon1 21.7 kB/21.7 kB 100%]\r",
      "                                          \r",
      "2% [Working]\r",
      "            \r",
      "Get:6 http://asia-east1.gce.archive.ubuntu.com/ubuntu bionic-updates/main amd64 libdrm-nouveau2 amd64 2.4.101-2~18.04.1 [16.5 kB]\r\n",
      "\r",
      "2% [6 libdrm-nouveau2 8044 B/16.5 kB 49%]\r",
      "                                         \r",
      "2% [Waiting for headers]\r",
      "                        \r",
      "Get:7 http://asia-east1.gce.archive.ubuntu.com/ubuntu bionic-updates/main amd64 libdrm-amdgpu1 amd64 2.4.101-2~18.04.1 [18.2 kB]\r\n",
      "\r",
      "2% [7 libdrm-amdgpu1 8044 B/18.2 kB 44%]\r",
      "                                        \r",
      "2% [Waiting for headers]"
     ]
    },
    {
     "name": "stdout",
     "output_type": "stream",
     "text": [
      "\r",
      "2% [Waiting for headers]"
     ]
    },
    {
     "name": "stdout",
     "output_type": "stream",
     "text": [
      "\r",
      "                        \r",
      "Get:8 http://asia-east1.gce.archive.ubuntu.com/ubuntu bionic-updates/main amd64 libdrm2 amd64 2.4.101-2~18.04.1 [32.3 kB]\r\n",
      "\r",
      "2% [8 libdrm2 13.7 kB/32.3 kB 42%]\r",
      "                                  \r",
      "2% [Waiting for headers]\r",
      "                        \r",
      "Get:9 http://asia-east1.gce.archive.ubuntu.com/ubuntu bionic-updates/main amd64 libnuma1 amd64 2.0.11-2.1ubuntu0.1 [22.0 kB]\r\n",
      "\r",
      "2% [9 libnuma1 12.3 kB/22.0 kB 56%]\r",
      "                                   \r",
      "3% [Waiting for headers]\r",
      "                        \r",
      "Get:10 http://asia-east1.gce.archive.ubuntu.com/ubuntu bionic/universe amd64 libva2 amd64 2.1.0-3 [47.6 kB]\r\n",
      "\r",
      "3% [10 libva2 8044 B/47.6 kB 17%]\r",
      "                                 \r",
      "3% [Waiting for headers]"
     ]
    },
    {
     "name": "stdout",
     "output_type": "stream",
     "text": [
      "\r",
      "                        \r",
      "Get:11 http://asia-east1.gce.archive.ubuntu.com/ubuntu bionic/universe amd64 libva-drm2 amd64 2.1.0-3 [6880 B]\r\n",
      "\r",
      "3% [11 libva-drm2 6880 B/6880 B 100%]\r",
      "                                     \r",
      "3% [Working]\r",
      "            \r",
      "Get:12 http://asia-east1.gce.archive.ubuntu.com/ubuntu bionic/universe amd64 libva-x11-2 amd64 2.1.0-3 [11.5 kB]\r\n",
      "\r",
      "3% [12 libva-x11-2 11.5 kB/11.5 kB 100%]\r",
      "                                        \r",
      "4% [Working]\r",
      "            \r",
      "Get:13 http://asia-east1.gce.archive.ubuntu.com/ubuntu bionic-updates/universe amd64 libavutil55 amd64 7:3.4.8-0ubuntu0.2 [190 kB]\r\n",
      "\r",
      "4% [13 libavutil55 4096 B/190 kB 2%]\r",
      "                                    \r",
      "4% [Waiting for headers]\r",
      "                        \r",
      "Get:14 http://asia-east1.gce.archive.ubuntu.com/ubuntu bionic/universe amd64 libcrystalhd3 amd64 1:0.0~git20110715.fdd2f19-12 [45.8 kB]\r\n",
      "\r",
      "4% [14 libcrystalhd3 17.6 kB/45.8 kB 39%]\r",
      "                                         \r",
      "4% [Working]"
     ]
    },
    {
     "name": "stdout",
     "output_type": "stream",
     "text": [
      "\r",
      "            \r",
      "Get:15 http://asia-east1.gce.archive.ubuntu.com/ubuntu bionic/universe amd64 libgsm1 amd64 1.0.13-4build1 [22.4 kB]\r\n",
      "\r",
      "5% [15 libgsm1 22.4 kB/22.4 kB 100%]\r",
      "                                    \r",
      "5% [Waiting for headers]"
     ]
    },
    {
     "name": "stdout",
     "output_type": "stream",
     "text": [
      "\r",
      "                        \r",
      "Get:16 http://asia-east1.gce.archive.ubuntu.com/ubuntu bionic/main amd64 libmp3lame0 amd64 3.100-2 [136 kB]\r\n",
      "\r",
      "5% [16 libmp3lame0 14.2 kB/136 kB 10%]\r",
      "                                      \r",
      "5% [Working]"
     ]
    },
    {
     "name": "stdout",
     "output_type": "stream",
     "text": [
      "\r",
      "            \r",
      "Get:17 http://asia-east1.gce.archive.ubuntu.com/ubuntu bionic-updates/universe amd64 libopenjp2-7 amd64 2.3.0-2build0.18.04.1 [145 kB]\r\n",
      "\r",
      "5% [17 libopenjp2-7 9321 B/145 kB 6%]\r",
      "                                     \r",
      "6% [Waiting for headers]\r",
      "                        \r",
      "Get:18 http://asia-east1.gce.archive.ubuntu.com/ubuntu bionic/main amd64 libopus0 amd64 1.1.2-1ubuntu1 [159 kB]\r\n",
      "\r",
      "6% [18 libopus0 8042 B/159 kB 5%]\r",
      "                                 \r",
      "6% [Waiting for headers]\r",
      "                        \r",
      "Get:19 http://asia-east1.gce.archive.ubuntu.com/ubuntu bionic/universe amd64 libshine3 amd64 3.1.1-1 [22.9 kB]\r\n",
      "\r",
      "6% [19 libshine3 8044 B/22.9 kB 35%]\r",
      "                                    \r",
      "6% [Waiting for headers]\r",
      "                        \r",
      "Get:20 http://asia-east1.gce.archive.ubuntu.com/ubuntu bionic/main amd64 libsnappy1v5 amd64 1.1.7-1 [16.0 kB]\r\n",
      "\r",
      "7% [20 libsnappy1v5 8745 B/16.0 kB 55%]\r",
      "                                       \r",
      "7% [Waiting for headers]\r",
      "                        \r",
      "Get:21 http://asia-east1.gce.archive.ubuntu.com/ubuntu bionic/main amd64 libspeex1 amd64 1.2~rc1.2-1ubuntu2 [52.1 kB]\r\n",
      "\r",
      "7% [21 libspeex1 8044 B/52.1 kB 15%]\r",
      "                                    \r",
      "7% [Waiting for headers]"
     ]
    },
    {
     "name": "stdout",
     "output_type": "stream",
     "text": [
      "\r",
      "                        \r",
      "Get:22 http://asia-east1.gce.archive.ubuntu.com/ubuntu bionic/universe amd64 libsoxr0 amd64 0.1.2-3 [65.9 kB]\r\n",
      "\r",
      "7% [22 libsoxr0 37.6 kB/65.9 kB 57%]\r",
      "                                    \r",
      "7% [Waiting for headers]\r",
      "                        \r",
      "Get:23 http://asia-east1.gce.archive.ubuntu.com/ubuntu bionic-updates/universe amd64 libswresample2 amd64 7:3.4.8-0ubuntu0.2 [55.2 kB]\r\n",
      "\r",
      "7% [23 libswresample2 4660 B/55.2 kB 8%]\r",
      "                                        \r",
      "8% [Waiting for headers]\r",
      "                        \r",
      "Get:24 http://asia-east1.gce.archive.ubuntu.com/ubuntu bionic/main amd64 libtheora0 amd64 1.1.1+dfsg.1-14 [170 kB]\r\n",
      "\r",
      "8% [24 libtheora0 14.6 kB/170 kB 9%]\r",
      "                                    \r",
      "8% [Waiting for headers]"
     ]
    },
    {
     "name": "stdout",
     "output_type": "stream",
     "text": [
      "\r",
      "                        \r",
      "Get:25 http://asia-east1.gce.archive.ubuntu.com/ubuntu bionic/main amd64 libtwolame0 amd64 0.3.13-3 [46.7 kB]\r\n",
      "\r",
      "8% [25 libtwolame0 40.8 kB/46.7 kB 87%]\r",
      "                                       \r",
      "9% [Waiting for headers]"
     ]
    },
    {
     "name": "stdout",
     "output_type": "stream",
     "text": [
      "\r",
      "                        \r",
      "Get:26 http://asia-east1.gce.archive.ubuntu.com/ubuntu bionic-updates/main amd64 libvpx5 amd64 1.7.0-3ubuntu0.18.04.1 [796 kB]\r\n",
      "\r",
      "9% [26 libvpx5 20.7 kB/796 kB 3%]"
     ]
    },
    {
     "name": "stdout",
     "output_type": "stream",
     "text": [
      "\r",
      "                                 \r",
      "10% [Waiting for headers]"
     ]
    },
    {
     "name": "stdout",
     "output_type": "stream",
     "text": [
      "\r",
      "                         \r",
      "Get:27 http://asia-east1.gce.archive.ubuntu.com/ubuntu bionic-updates/main amd64 libwavpack1 amd64 5.1.0-2ubuntu1.4 [76.6 kB]\r\n",
      "\r",
      "10% [27 libwavpack1 26.4 kB/76.6 kB 34%]"
     ]
    },
    {
     "name": "stdout",
     "output_type": "stream",
     "text": [
      "\r",
      "                                        \r",
      "11% [Waiting for headers]\r",
      "                         \r",
      "Get:28 http://asia-east1.gce.archive.ubuntu.com/ubuntu bionic/main amd64 libwebpmux3 amd64 0.6.1-2 [19.6 kB]\r\n",
      "\r",
      "11% [28 libwebpmux3 19.6 kB/19.6 kB 100%]\r",
      "                                         \r",
      "11% [Working]"
     ]
    },
    {
     "name": "stdout",
     "output_type": "stream",
     "text": [
      "\r",
      "             \r",
      "Get:29 http://asia-east1.gce.archive.ubuntu.com/ubuntu bionic/universe amd64 libx264-152 amd64 2:0.152.2854+gite9a5903-2 [609 kB]\r\n",
      "\r",
      "11% [29 libx264-152 18.2 kB/609 kB 3%]\r",
      "                                      \r",
      "12% [Waiting for headers]"
     ]
    },
    {
     "name": "stdout",
     "output_type": "stream",
     "text": [
      "\r",
      "                         \r",
      "Get:30 http://asia-east1.gce.archive.ubuntu.com/ubuntu bionic/universe amd64 libx265-146 amd64 2.6-3 [1026 kB]\r\n",
      "\r",
      "12% [30 libx265-146 29.2 kB/1026 kB 3%]\r",
      "                                       \r",
      "14% [Waiting for headers]\r",
      "                         \r",
      "Get:31 http://asia-east1.gce.archive.ubuntu.com/ubuntu bionic/universe amd64 libxvidcore4 amd64 2:1.3.5-1 [200 kB]\r\n",
      "\r",
      "14% [31 libxvidcore4 21.3 kB/200 kB 11%]\r",
      "                                        \r",
      "14% [Waiting for headers]\r",
      "                         \r",
      "Get:32 http://asia-east1.gce.archive.ubuntu.com/ubuntu bionic/universe amd64 libzvbi-common all 0.2.35-13 [32.1 kB]\r\n",
      "\r",
      "14% [32 libzvbi-common 17.1 kB/32.1 kB 53%]\r",
      "                                           \r",
      "15% [Working]"
     ]
    },
    {
     "name": "stdout",
     "output_type": "stream",
     "text": [
      "\r",
      "             \r",
      "Get:33 http://asia-east1.gce.archive.ubuntu.com/ubuntu bionic/universe amd64 libzvbi0 amd64 0.2.35-13 [235 kB]\r\n",
      "\r",
      "15% [33 libzvbi0 30.6 kB/235 kB 13%]\r",
      "                                    \r",
      "15% [Waiting for headers]\r",
      "                         \r",
      "Get:34 http://asia-east1.gce.archive.ubuntu.com/ubuntu bionic-updates/universe amd64 libavcodec57 amd64 7:3.4.8-0ubuntu0.2 [4595 kB]\r\n",
      "\r",
      "15% [34 libavcodec57 3756 B/4595 kB 0%]"
     ]
    },
    {
     "name": "stdout",
     "output_type": "stream",
     "text": [
      "\r",
      "                                       \r",
      "23% [Waiting for headers]\r",
      "                         \r",
      "Get:35 http://asia-east1.gce.archive.ubuntu.com/ubuntu bionic/main amd64 libraw1394-11 amd64 2.1.2-1 [30.7 kB]\r\n",
      "\r",
      "23% [35 libraw1394-11 30.7 kB/30.7 kB 100%]\r",
      "                                           \r",
      "23% [Working]\r",
      "             \r",
      "Get:36 http://asia-east1.gce.archive.ubuntu.com/ubuntu bionic/main amd64 libavc1394-0 amd64 0.5.4-4build1 [16.1 kB]\r\n",
      "\r",
      "23% [36 libavc1394-0 8192 B/16.1 kB 51%]\r",
      "                                        \r",
      "23% [Working]\r",
      "             \r",
      "Get:37 http://asia-east1.gce.archive.ubuntu.com/ubuntu bionic/universe amd64 libass9 amd64 1:0.14.0-1 [88.2 kB]\r\n",
      "\r",
      "24% [37 libass9 21.5 kB/88.2 kB 24%]\r",
      "                                    \r",
      "Get:38 http://asia-east1.gce.archive.ubuntu.com/ubuntu bionic/universe amd64 libbluray2 amd64 1:1.0.2-3 [141 kB]\r\n",
      "\r",
      "24% [38 libbluray2 64.0 kB/141 kB 45%]\r",
      "                                      \r",
      "Get:39 http://asia-east1.gce.archive.ubuntu.com/ubuntu bionic/universe amd64 libchromaprint1 amd64 1.4.3-1 [36.8 kB]\r\n",
      "\r",
      "24% [39 libchromaprint1 36.8 kB/36.8 kB 100%]\r",
      "                                             \r",
      "25% [Working]"
     ]
    },
    {
     "name": "stdout",
     "output_type": "stream",
     "text": [
      "\r",
      "             \r",
      "Get:40 http://asia-east1.gce.archive.ubuntu.com/ubuntu bionic/universe amd64 libgme0 amd64 0.6.2-1 [121 kB]\r\n",
      "\r",
      "25% [40 libgme0 16.4 kB/121 kB 14%]\r",
      "                                   \r",
      "25% [Waiting for headers]\r",
      "                         \r",
      "Get:41 http://asia-east1.gce.archive.ubuntu.com/ubuntu bionic/main amd64 libmpg123-0 amd64 1.25.10-1 [125 kB]\r\n",
      "\r",
      "25% [41 libmpg123-0 12.3 kB/125 kB 10%]\r",
      "                                       \r",
      "26% [Waiting for headers]"
     ]
    },
    {
     "name": "stdout",
     "output_type": "stream",
     "text": [
      "\r",
      "                         \r",
      "Get:42 http://asia-east1.gce.archive.ubuntu.com/ubuntu bionic/main amd64 libvorbisfile3 amd64 1.3.5-4.2 [16.0 kB]\r\n",
      "\r",
      "26% [42 libvorbisfile3 16.0 kB/16.0 kB 100%]\r",
      "                                            \r",
      "26% [Waiting for headers]\r",
      "                         \r",
      "Get:43 http://asia-east1.gce.archive.ubuntu.com/ubuntu bionic/universe amd64 libopenmpt0 amd64 0.3.6-1 [561 kB]\r\n",
      "\r",
      "26% [43 libopenmpt0 12.3 kB/561 kB 2%]\r",
      "                                      \r",
      "27% [Waiting for headers]\r",
      "                         \r",
      "Get:44 http://asia-east1.gce.archive.ubuntu.com/ubuntu bionic-updates/main amd64 libssh-gcrypt-4 amd64 0.8.0~20170825.94fa1e38-1ubuntu0.7 [172 kB]\r\n",
      "\r",
      "27% [44 libssh-gcrypt-4 44.3 kB/172 kB 26%]\r",
      "                                           \r",
      "27% [Waiting for headers]\r",
      "                         \r",
      "Get:45 http://asia-east1.gce.archive.ubuntu.com/ubuntu bionic-updates/universe amd64 libavformat57 amd64 7:3.4.8-0ubuntu0.2 [953 kB]\r\n",
      "\r",
      "27% [45 libavformat57 12.3 kB/953 kB 1%]"
     ]
    },
    {
     "name": "stdout",
     "output_type": "stream",
     "text": [
      "\r",
      "                                        \r",
      "29% [Waiting for headers]\r",
      "                         \r",
      "Get:46 http://asia-east1.gce.archive.ubuntu.com/ubuntu bionic-updates/universe amd64 libavresample3 amd64 7:3.4.8-0ubuntu0.2 [52.6 kB]\r\n",
      "\r",
      "29% [46 libavresample3 33.0 kB/52.6 kB 63%]\r",
      "                                           \r",
      "30% [Working]"
     ]
    },
    {
     "name": "stdout",
     "output_type": "stream",
     "text": [
      "\r",
      "             \r",
      "Get:47 http://asia-east1.gce.archive.ubuntu.com/ubuntu bionic/universe amd64 libbs2b0 amd64 3.1.0+dfsg-2.2 [10.5 kB]\r\n",
      "\r",
      "30% [47 libbs2b0 10.5 kB/10.5 kB 100%]                            1829 kB/s 21s\r",
      "30% [Waiting for headers]                                         1829 kB/s 21s"
     ]
    },
    {
     "name": "stdout",
     "output_type": "stream",
     "text": [
      "\r",
      "                                                                               \r",
      "Get:48 http://asia-east1.gce.archive.ubuntu.com/ubuntu bionic/universe amd64 libflite1 amd64 2.1-release-1 [12.8 MB]\r\n",
      "\r",
      "30% [48 libflite1 30.6 kB/12.8 MB 0%]                             1829 kB/s 21s"
     ]
    },
    {
     "name": "stdout",
     "output_type": "stream",
     "text": [
      "\r",
      "50% [Waiting for headers]                                         1829 kB/s 14s\r",
      "                                                                               \r",
      "Get:49 http://asia-east1.gce.archive.ubuntu.com/ubuntu bionic-updates/universe amd64 libmysofa0 amd64 0.6~dfsg0-3+deb10u1build1 [38.5 kB]\r\n",
      "\r",
      "50% [49 libmysofa0 38.5 kB/38.5 kB 100%]                          1829 kB/s 14s\r",
      "51% [Working]                                                     1829 kB/s 14s\r",
      "                                                                               \r",
      "Get:50 http://asia-east1.gce.archive.ubuntu.com/ubuntu bionic-updates/universe amd64 libpostproc54 amd64 7:3.4.8-0ubuntu0.2 [50.3 kB]\r\n",
      "\r",
      "51% [50 libpostproc54 25.4 kB/50.3 kB 51%]                        1829 kB/s 14s\r",
      "51% [Working]                                                     1829 kB/s 14s\r",
      "                                                                               \r",
      "Get:51 http://asia-east1.gce.archive.ubuntu.com/ubuntu bionic/main amd64 libfftw3-double3 amd64 3.3.7-1 [735 kB]\r\n",
      "\r",
      "51% [51 libfftw3-double3 32.8 kB/735 kB 4%]                       1829 kB/s 14s\r",
      "52% [Waiting for headers]                                         1829 kB/s 13s"
     ]
    },
    {
     "name": "stdout",
     "output_type": "stream",
     "text": [
      "\r",
      "                                                                               \r",
      "Get:52 http://asia-east1.gce.archive.ubuntu.com/ubuntu bionic/main amd64 libsamplerate0 amd64 0.1.9-1 [938 kB]\r\n",
      "\r",
      "52% [52 libsamplerate0 25.8 kB/938 kB 3%]                         1829 kB/s 13s\r",
      "54% [Waiting for headers]                                         1829 kB/s 13s"
     ]
    },
    {
     "name": "stdout",
     "output_type": "stream",
     "text": [
      "\r",
      "                                                                               \r",
      "Get:53 http://asia-east1.gce.archive.ubuntu.com/ubuntu bionic/universe amd64 librubberband2 amd64 1.8.1-7ubuntu2 [86.7 kB]\r\n",
      "\r",
      "54% [53 librubberband2 24.6 kB/86.7 kB 28%]                       1829 kB/s 13s\r",
      "55% [Waiting for headers]                                         1829 kB/s 13s\r",
      "                                                                               \r",
      "Get:54 http://asia-east1.gce.archive.ubuntu.com/ubuntu bionic-updates/universe amd64 libswscale4 amd64 7:3.4.8-0ubuntu0.2 [150 kB]\r\n",
      "\r",
      "55% [54 libswscale4 12.3 kB/150 kB 8%]                            1829 kB/s 13s\r",
      "55% [Waiting for headers]                                         1829 kB/s 13s"
     ]
    },
    {
     "name": "stdout",
     "output_type": "stream",
     "text": [
      "\r",
      "                                                                               \r",
      "Get:55 http://asia-east1.gce.archive.ubuntu.com/ubuntu bionic/universe amd64 libnorm1 amd64 1.5r6+dfsg1-6 [224 kB]\r\n",
      "\r",
      "55% [55 libnorm1 26.4 kB/224 kB 12%]                              1829 kB/s 13s\r",
      "56% [Waiting for headers]                                         1829 kB/s 13s"
     ]
    },
    {
     "name": "stdout",
     "output_type": "stream",
     "text": [
      "\r",
      "                                                                               \r",
      "Get:56 http://asia-east1.gce.archive.ubuntu.com/ubuntu bionic/universe amd64 libpgm-5.2-0 amd64 5.2.122~dfsg-2 [157 kB]\r\n",
      "\r",
      "56% [56 libpgm-5.2-0 45.1 kB/157 kB 29%]                          1829 kB/s 13s\r",
      "56% [Waiting for headers]                                         1829 kB/s 13s\r",
      "                                                                               \r",
      "Get:57 http://asia-east1.gce.archive.ubuntu.com/ubuntu bionic/main amd64 libsodium23 amd64 1.0.16-2 [143 kB]\r\n",
      "\r",
      "56% [57 libsodium23 12.4 kB/143 kB 9%]                            1829 kB/s 13s\r",
      "57% [Waiting for headers]                                         1829 kB/s 12s"
     ]
    },
    {
     "name": "stdout",
     "output_type": "stream",
     "text": [
      "\r",
      "                                                                               \r",
      "Get:58 http://asia-east1.gce.archive.ubuntu.com/ubuntu bionic-updates/universe amd64 libzmq5 amd64 4.2.5-1ubuntu0.2 [221 kB]\r\n",
      "\r",
      "57% [58 libzmq5 12.3 kB/221 kB 6%]                                1829 kB/s 12s\r",
      "57% [Waiting for headers]                                         1829 kB/s 12s\r",
      "                                                                               \r",
      "Get:59 http://asia-east1.gce.archive.ubuntu.com/ubuntu bionic-updates/universe amd64 libavfilter6 amd64 7:3.4.8-0ubuntu0.2 [874 kB]\r\n",
      "\r",
      "57% [59 libavfilter6 3409 B/874 kB 0%]                            1829 kB/s 12s\r",
      "59% [Waiting for headers]                                         1829 kB/s 12s\r",
      "                                                                               \r",
      "Get:60 http://asia-east1.gce.archive.ubuntu.com/ubuntu bionic-updates/main amd64 libcaca0 amd64 0.99.beta19-2ubuntu0.18.04.1 [203 kB]\r\n",
      "\r",
      "59% [60 libcaca0 46.8 kB/203 kB 23%]                              1829 kB/s 12s\r",
      "59% [Waiting for headers]                                         1829 kB/s 12s"
     ]
    },
    {
     "name": "stdout",
     "output_type": "stream",
     "text": [
      "\r",
      "                                                                               \r",
      "Get:61 http://asia-east1.gce.archive.ubuntu.com/ubuntu bionic/main amd64 libcdio17 amd64 1.0.0-2ubuntu2 [58.8 kB]\r\n",
      "\r",
      "59% [61 libcdio17 40.5 kB/58.8 kB 69%]                            1829 kB/s 12s\r",
      "60% [Waiting for headers]                                         1829 kB/s 12s\r",
      "                                                                               \r",
      "Get:62 http://asia-east1.gce.archive.ubuntu.com/ubuntu bionic/main amd64 libcdio-cdda2 amd64 10.2+0.94+2-2build1 [17.7 kB]\r\n",
      "\r",
      "60% [62 libcdio-cdda2 8044 B/17.7 kB 46%]                         1829 kB/s 12s\r",
      "60% [Waiting for headers]                                         1829 kB/s 12s"
     ]
    },
    {
     "name": "stdout",
     "output_type": "stream",
     "text": [
      "\r",
      "                                                                               \r",
      "Get:63 http://asia-east1.gce.archive.ubuntu.com/ubuntu bionic/main amd64 libcdio-paranoia2 amd64 10.2+0.94+2-2build1 [17.2 kB]\r\n",
      "\r",
      "60% [63 libcdio-paranoia2 17.2 kB/17.2 kB 100%]                   1829 kB/s 12s\r",
      "60% [Waiting for headers]                                         1829 kB/s 12s"
     ]
    },
    {
     "name": "stdout",
     "output_type": "stream",
     "text": [
      "\r",
      "                                                                               \r",
      "Get:64 http://asia-east1.gce.archive.ubuntu.com/ubuntu bionic/universe amd64 libdc1394-22 amd64 2.2.5-1 [77.5 kB]\r\n",
      "\r",
      "60% [64 libdc1394-22 11.2 kB/77.5 kB 14%]                         1829 kB/s 12s\r",
      "61% [Waiting for headers]                                         1829 kB/s 12s\r",
      "                                                                               \r",
      "Get:65 http://asia-east1.gce.archive.ubuntu.com/ubuntu bionic/main amd64 libiec61883-0 amd64 1.2.0-2 [23.5 kB]\r\n",
      "\r",
      "61% [65 libiec61883-0 8192 B/23.5 kB 35%]                         1829 kB/s 12s\r",
      "61% [Working]                                                     1829 kB/s 12s\r",
      "                                                                               \r",
      "Get:66 http://asia-east1.gce.archive.ubuntu.com/ubuntu bionic/main amd64 libjack-jackd2-0 amd64 1.9.12~dfsg-2 [263 kB]\r\n",
      "\r",
      "61% [66 libjack-jackd2-0 8042 B/263 kB 3%]                        1829 kB/s 12s\r",
      "62% [Waiting for headers]                                         1829 kB/s 12s"
     ]
    },
    {
     "name": "stdout",
     "output_type": "stream",
     "text": [
      "\r",
      "                                                                               \r",
      "Get:67 http://asia-east1.gce.archive.ubuntu.com/ubuntu bionic/universe amd64 libopenal-data all 1:1.18.2-2 [102 kB]\r\n",
      "\r",
      "62% [67 libopenal-data 32.0 kB/102 kB 31%]                        1829 kB/s 12s\r",
      "62% [Waiting for headers]                                         1829 kB/s 11s"
     ]
    },
    {
     "name": "stdout",
     "output_type": "stream",
     "text": [
      "\r",
      "                                                                               \r",
      "Get:68 http://asia-east1.gce.archive.ubuntu.com/ubuntu bionic/universe amd64 libsndio6.1 amd64 1.1.0-3 [23.4 kB]\r\n",
      "\r",
      "62% [68 libsndio6.1 23.4 kB/23.4 kB 100%]                         1829 kB/s 11s\r",
      "62% [Waiting for headers]                                         1829 kB/s 11s"
     ]
    },
    {
     "name": "stdout",
     "output_type": "stream",
     "text": [
      "\r",
      "                                                                               \r",
      "Get:69 http://asia-east1.gce.archive.ubuntu.com/ubuntu bionic/universe amd64 libopenal1 amd64 1:1.18.2-2 [266 kB]\r\n",
      "\r",
      "62% [69 libopenal1 36.2 kB/266 kB 14%]                            1829 kB/s 11s\r",
      "63% [Waiting for headers]                                         1829 kB/s 11s\r",
      "                                                                               \r",
      "Get:70 http://asia-east1.gce.archive.ubuntu.com/ubuntu bionic-updates/universe amd64 libsdl2-2.0-0 amd64 2.0.8+dfsg1-1ubuntu1.18.04.4 [382 kB]\r\n",
      "\r",
      "63% [70 libsdl2-2.0-0 40.3 kB/382 kB 11%]                         1829 kB/s 11s\r",
      "64% [Waiting for headers]                                         1829 kB/s 11s\r",
      "                                                                               \r",
      "Get:71 http://asia-east1.gce.archive.ubuntu.com/ubuntu bionic-updates/universe amd64 libavdevice57 amd64 7:3.4.8-0ubuntu0.2 [74.9 kB]\r\n",
      "\r",
      "64% [71 libavdevice57 51.6 kB/74.9 kB 69%]                        1829 kB/s 11s\r",
      "                                                                               \r",
      "Get:72 http://asia-east1.gce.archive.ubuntu.com/ubuntu bionic-updates/universe amd64 ffmpeg amd64 7:3.4.8-0ubuntu0.2 [1587 kB]\r\n",
      "\r",
      "64% [72 ffmpeg 41.8 kB/1587 kB 3%]                                1829 kB/s 11s\r",
      "67% [Waiting for headers]                                         1829 kB/s 10s"
     ]
    },
    {
     "name": "stdout",
     "output_type": "stream",
     "text": [
      "\r",
      "                                                                               \r",
      "Get:73 http://asia-east1.gce.archive.ubuntu.com/ubuntu bionic/universe amd64 libaacs0 amd64 0.9.0-1 [51.4 kB]\r\n",
      "\r",
      "67% [73 libaacs0 26.9 kB/51.4 kB 52%]                             1829 kB/s 10s\r",
      "67% [Waiting for headers]                                         1829 kB/s 10s\r",
      "                                                                               \r",
      "Get:74 http://asia-east1.gce.archive.ubuntu.com/ubuntu bionic/universe amd64 libbdplus0 amd64 0.1.2-2 [46.6 kB]\r\n",
      "\r",
      "67% [74 libbdplus0 24.6 kB/46.6 kB 53%]                           1829 kB/s 10s\r",
      "68% [Waiting for headers]                                         1829 kB/s 10s"
     ]
    },
    {
     "name": "stdout",
     "output_type": "stream",
     "text": [
      "\r",
      "                                                                               \r",
      "Get:75 http://asia-east1.gce.archive.ubuntu.com/ubuntu bionic-updates/main amd64 libllvm10 amd64 1:10.0.0-4ubuntu1~18.04.2 [15.4 MB]\r\n",
      "\r",
      "68% [75 libllvm10 6631 B/15.4 MB 0%]                              1829 kB/s 10s"
     ]
    },
    {
     "name": "stdout",
     "output_type": "stream",
     "text": [
      "\r",
      "92% [Waiting for headers]                                          1829 kB/s 2s"
     ]
    },
    {
     "name": "stdout",
     "output_type": "stream",
     "text": [
      "\r",
      "                                                                               \r",
      "Get:76 http://asia-east1.gce.archive.ubuntu.com/ubuntu bionic-updates/universe amd64 mesa-va-drivers amd64 20.0.8-0ubuntu1~18.04.1 [2376 kB]\r\n",
      "\r",
      "92% [76 mesa-va-drivers 20.4 kB/2376 kB 1%]                        1829 kB/s 2s"
     ]
    },
    {
     "name": "stdout",
     "output_type": "stream",
     "text": [
      "\r",
      "96% [Waiting for headers]                                          1829 kB/s 0s"
     ]
    },
    {
     "name": "stdout",
     "output_type": "stream",
     "text": [
      "\r",
      "                                                                               \r",
      "Get:77 http://asia-east1.gce.archive.ubuntu.com/ubuntu bionic/universe amd64 i965-va-driver amd64 2.1.0-0ubuntu1 [925 kB]\r\n",
      "\r",
      "96% [77 i965-va-driver 40.4 kB/925 kB 4%]                          1829 kB/s 0s\r",
      "98% [Waiting for headers]                                          1829 kB/s 0s"
     ]
    },
    {
     "name": "stdout",
     "output_type": "stream",
     "text": [
      "\r",
      "                                                                               \r",
      "Get:78 http://asia-east1.gce.archive.ubuntu.com/ubuntu bionic/universe amd64 va-driver-all amd64 2.1.0-3 [4376 B]\r\n",
      "\r",
      "98% [78 va-driver-all 4376 B/4376 B 100%]                          1829 kB/s 0s\r",
      "98% [Waiting for headers]                                          1829 kB/s 0s\r",
      "                                                                               \r",
      "Get:79 http://asia-east1.gce.archive.ubuntu.com/ubuntu bionic-updates/main amd64 xserver-common all 2:1.19.6-1ubuntu4.7 [26.9 kB]\r\n",
      "\r",
      "98% [79 xserver-common 26.9 kB/26.9 kB 100%]                       1829 kB/s 0s\r",
      "99% [Waiting for headers]                                          1829 kB/s 0s\r",
      "                                                                               \r",
      "Get:80 http://asia-east1.gce.archive.ubuntu.com/ubuntu bionic-updates/universe amd64 xvfb amd64 2:1.19.6-1ubuntu4.7 [783 kB]\r\n",
      "\r",
      "99% [80 xvfb 27.8 kB/783 kB 4%]                                    1829 kB/s 0s\r",
      "100% [Working]                                                     1829 kB/s 0s\r",
      "                                                                               \r",
      "Fetched 50.5 MB in 12s (4147 kB/s)\r\n"
     ]
    },
    {
     "name": "stdout",
     "output_type": "stream",
     "text": [
      "\r",
      "Extracting templates from packages: 37%"
     ]
    },
    {
     "name": "stdout",
     "output_type": "stream",
     "text": [
      "\r",
      "Extracting templates from packages: 75%"
     ]
    },
    {
     "name": "stdout",
     "output_type": "stream",
     "text": [
      "\r",
      "Extracting templates from packages: 100%\r\n"
     ]
    },
    {
     "name": "stdout",
     "output_type": "stream",
     "text": [
      "Selecting previously unselected package libxss1:amd64.\r\n",
      "(Reading database ... \r",
      "(Reading database ... 5%\r",
      "(Reading database ... 10%\r",
      "(Reading database ... 15%\r",
      "(Reading database ... 20%\r",
      "(Reading database ... 25%\r",
      "(Reading database ... 30%\r",
      "(Reading database ... 35%\r",
      "(Reading database ... 40%\r",
      "(Reading database ... 45%\r",
      "(Reading database ... 50%\r",
      "(Reading database ... 55%\r",
      "(Reading database ... 60%\r",
      "(Reading database ... 65%\r",
      "(Reading database ... 70%\r",
      "(Reading database ... 75%\r",
      "(Reading database ... 80%\r",
      "(Reading database ... 85%\r"
     ]
    },
    {
     "name": "stdout",
     "output_type": "stream",
     "text": [
      "(Reading database ... 90%\r",
      "(Reading database ... 95%\r",
      "(Reading database ... 100%\r",
      "(Reading database ... 225465 files and directories currently installed.)\r\n"
     ]
    },
    {
     "name": "stdout",
     "output_type": "stream",
     "text": [
      "Preparing to unpack .../00-libxss1_1%3a1.2.2-1_amd64.deb ...\r\n",
      "Unpacking libxss1:amd64 (1:1.2.2-1) ...\r\n"
     ]
    },
    {
     "name": "stdout",
     "output_type": "stream",
     "text": [
      "Preparing to unpack .../01-libdrm-common_2.4.101-2~18.04.1_all.deb ...\r\n",
      "Unpacking libdrm-common (2.4.101-2~18.04.1) over (2.4.99-1ubuntu1~18.04.2) ...\r\n"
     ]
    },
    {
     "name": "stdout",
     "output_type": "stream",
     "text": [
      "Preparing to unpack .../02-libdrm-dev_2.4.101-2~18.04.1_amd64.deb ...\r\n",
      "Unpacking libdrm-dev:amd64 (2.4.101-2~18.04.1) over (2.4.99-1ubuntu1~18.04.2) ...\r\n"
     ]
    },
    {
     "name": "stdout",
     "output_type": "stream",
     "text": [
      "Preparing to unpack .../03-libdrm-intel1_2.4.101-2~18.04.1_amd64.deb ...\r\n"
     ]
    },
    {
     "name": "stdout",
     "output_type": "stream",
     "text": [
      "Unpacking libdrm-intel1:amd64 (2.4.101-2~18.04.1) over (2.4.99-1ubuntu1~18.04.2) ...\r\n"
     ]
    },
    {
     "name": "stdout",
     "output_type": "stream",
     "text": [
      "Preparing to unpack .../04-libdrm-radeon1_2.4.101-2~18.04.1_amd64.deb ...\r\n",
      "Unpacking libdrm-radeon1:amd64 (2.4.101-2~18.04.1) over (2.4.99-1ubuntu1~18.04.2) ...\r\n"
     ]
    },
    {
     "name": "stdout",
     "output_type": "stream",
     "text": [
      "Preparing to unpack .../05-libdrm-nouveau2_2.4.101-2~18.04.1_amd64.deb ...\r\n",
      "Unpacking libdrm-nouveau2:amd64 (2.4.101-2~18.04.1) over (2.4.99-1ubuntu1~18.04.2) ...\r\n"
     ]
    },
    {
     "name": "stdout",
     "output_type": "stream",
     "text": [
      "Preparing to unpack .../06-libdrm-amdgpu1_2.4.101-2~18.04.1_amd64.deb ...\r\n",
      "Unpacking libdrm-amdgpu1:amd64 (2.4.101-2~18.04.1) over (2.4.99-1ubuntu1~18.04.2) ...\r\n"
     ]
    },
    {
     "name": "stdout",
     "output_type": "stream",
     "text": [
      "Preparing to unpack .../07-libdrm2_2.4.101-2~18.04.1_amd64.deb ...\r\n"
     ]
    },
    {
     "name": "stdout",
     "output_type": "stream",
     "text": [
      "Unpacking libdrm2:amd64 (2.4.101-2~18.04.1) over (2.4.99-1ubuntu1~18.04.2) ...\r\n",
      "Selecting previously unselected package libnuma1:amd64.\r\n"
     ]
    },
    {
     "name": "stdout",
     "output_type": "stream",
     "text": [
      "Preparing to unpack .../08-libnuma1_2.0.11-2.1ubuntu0.1_amd64.deb ...\r\n",
      "Unpacking libnuma1:amd64 (2.0.11-2.1ubuntu0.1) ...\r\n"
     ]
    },
    {
     "name": "stdout",
     "output_type": "stream",
     "text": [
      "Selecting previously unselected package libva2:amd64.\r\n",
      "Preparing to unpack .../09-libva2_2.1.0-3_amd64.deb ...\r\n",
      "Unpacking libva2:amd64 (2.1.0-3) ...\r\n"
     ]
    },
    {
     "name": "stdout",
     "output_type": "stream",
     "text": [
      "Selecting previously unselected package libva-drm2:amd64.\r\n",
      "Preparing to unpack .../10-libva-drm2_2.1.0-3_amd64.deb ...\r\n",
      "Unpacking libva-drm2:amd64 (2.1.0-3) ...\r\n"
     ]
    },
    {
     "name": "stdout",
     "output_type": "stream",
     "text": [
      "Selecting previously unselected package libva-x11-2:amd64.\r\n",
      "Preparing to unpack .../11-libva-x11-2_2.1.0-3_amd64.deb ...\r\n",
      "Unpacking libva-x11-2:amd64 (2.1.0-3) ...\r\n"
     ]
    },
    {
     "name": "stdout",
     "output_type": "stream",
     "text": [
      "Selecting previously unselected package libavutil55:amd64.\r\n"
     ]
    },
    {
     "name": "stdout",
     "output_type": "stream",
     "text": [
      "Preparing to unpack .../12-libavutil55_7%3a3.4.8-0ubuntu0.2_amd64.deb ...\r\n",
      "Unpacking libavutil55:amd64 (7:3.4.8-0ubuntu0.2) ...\r\n"
     ]
    },
    {
     "name": "stdout",
     "output_type": "stream",
     "text": [
      "Selecting previously unselected package libcrystalhd3:amd64.\r\n",
      "Preparing to unpack .../13-libcrystalhd3_1%3a0.0~git20110715.fdd2f19-12_amd64.deb ...\r\n",
      "Unpacking libcrystalhd3:amd64 (1:0.0~git20110715.fdd2f19-12) ...\r\n"
     ]
    },
    {
     "name": "stdout",
     "output_type": "stream",
     "text": [
      "Selecting previously unselected package libgsm1:amd64.\r\n",
      "Preparing to unpack .../14-libgsm1_1.0.13-4build1_amd64.deb ...\r\n",
      "Unpacking libgsm1:amd64 (1.0.13-4build1) ...\r\n"
     ]
    },
    {
     "name": "stdout",
     "output_type": "stream",
     "text": [
      "Selecting previously unselected package libmp3lame0:amd64.\r\n"
     ]
    },
    {
     "name": "stdout",
     "output_type": "stream",
     "text": [
      "Preparing to unpack .../15-libmp3lame0_3.100-2_amd64.deb ...\r\n",
      "Unpacking libmp3lame0:amd64 (3.100-2) ...\r\n"
     ]
    },
    {
     "name": "stdout",
     "output_type": "stream",
     "text": [
      "Selecting previously unselected package libopenjp2-7:amd64.\r\n",
      "Preparing to unpack .../16-libopenjp2-7_2.3.0-2build0.18.04.1_amd64.deb ...\r\n",
      "Unpacking libopenjp2-7:amd64 (2.3.0-2build0.18.04.1) ...\r\n"
     ]
    },
    {
     "name": "stdout",
     "output_type": "stream",
     "text": [
      "Selecting previously unselected package libopus0:amd64.\r\n"
     ]
    },
    {
     "name": "stdout",
     "output_type": "stream",
     "text": [
      "Preparing to unpack .../17-libopus0_1.1.2-1ubuntu1_amd64.deb ...\r\n",
      "Unpacking libopus0:amd64 (1.1.2-1ubuntu1) ...\r\n"
     ]
    },
    {
     "name": "stdout",
     "output_type": "stream",
     "text": [
      "Selecting previously unselected package libshine3:amd64.\r\n",
      "Preparing to unpack .../18-libshine3_3.1.1-1_amd64.deb ...\r\n",
      "Unpacking libshine3:amd64 (3.1.1-1) ...\r\n"
     ]
    },
    {
     "name": "stdout",
     "output_type": "stream",
     "text": [
      "Selecting previously unselected package libsnappy1v5:amd64.\r\n",
      "Preparing to unpack .../19-libsnappy1v5_1.1.7-1_amd64.deb ...\r\n",
      "Unpacking libsnappy1v5:amd64 (1.1.7-1) ...\r\n"
     ]
    },
    {
     "name": "stdout",
     "output_type": "stream",
     "text": [
      "Selecting previously unselected package libspeex1:amd64.\r\n"
     ]
    },
    {
     "name": "stdout",
     "output_type": "stream",
     "text": [
      "Preparing to unpack .../20-libspeex1_1.2~rc1.2-1ubuntu2_amd64.deb ...\r\n",
      "Unpacking libspeex1:amd64 (1.2~rc1.2-1ubuntu2) ...\r\n"
     ]
    },
    {
     "name": "stdout",
     "output_type": "stream",
     "text": [
      "Selecting previously unselected package libsoxr0:amd64.\r\n",
      "Preparing to unpack .../21-libsoxr0_0.1.2-3_amd64.deb ...\r\n",
      "Unpacking libsoxr0:amd64 (0.1.2-3) ...\r\n"
     ]
    },
    {
     "name": "stdout",
     "output_type": "stream",
     "text": [
      "Selecting previously unselected package libswresample2:amd64.\r\n",
      "Preparing to unpack .../22-libswresample2_7%3a3.4.8-0ubuntu0.2_amd64.deb ...\r\n",
      "Unpacking libswresample2:amd64 (7:3.4.8-0ubuntu0.2) ...\r\n"
     ]
    },
    {
     "name": "stdout",
     "output_type": "stream",
     "text": [
      "Selecting previously unselected package libtheora0:amd64.\r\n",
      "Preparing to unpack .../23-libtheora0_1.1.1+dfsg.1-14_amd64.deb ...\r\n"
     ]
    },
    {
     "name": "stdout",
     "output_type": "stream",
     "text": [
      "Unpacking libtheora0:amd64 (1.1.1+dfsg.1-14) ...\r\n"
     ]
    },
    {
     "name": "stdout",
     "output_type": "stream",
     "text": [
      "Selecting previously unselected package libtwolame0:amd64.\r\n",
      "Preparing to unpack .../24-libtwolame0_0.3.13-3_amd64.deb ...\r\n",
      "Unpacking libtwolame0:amd64 (0.3.13-3) ...\r\n"
     ]
    },
    {
     "name": "stdout",
     "output_type": "stream",
     "text": [
      "Selecting previously unselected package libvpx5:amd64.\r\n",
      "Preparing to unpack .../25-libvpx5_1.7.0-3ubuntu0.18.04.1_amd64.deb ...\r\n",
      "Unpacking libvpx5:amd64 (1.7.0-3ubuntu0.18.04.1) ...\r\n"
     ]
    },
    {
     "name": "stdout",
     "output_type": "stream",
     "text": [
      "Selecting previously unselected package libwavpack1:amd64.\r\n",
      "Preparing to unpack .../26-libwavpack1_5.1.0-2ubuntu1.4_amd64.deb ...\r\n",
      "Unpacking libwavpack1:amd64 (5.1.0-2ubuntu1.4) ...\r\n"
     ]
    },
    {
     "name": "stdout",
     "output_type": "stream",
     "text": [
      "Selecting previously unselected package libwebpmux3:amd64.\r\n"
     ]
    },
    {
     "name": "stdout",
     "output_type": "stream",
     "text": [
      "Preparing to unpack .../27-libwebpmux3_0.6.1-2_amd64.deb ...\r\n",
      "Unpacking libwebpmux3:amd64 (0.6.1-2) ...\r\n"
     ]
    },
    {
     "name": "stdout",
     "output_type": "stream",
     "text": [
      "Selecting previously unselected package libx264-152:amd64.\r\n",
      "Preparing to unpack .../28-libx264-152_2%3a0.152.2854+gite9a5903-2_amd64.deb ...\r\n",
      "Unpacking libx264-152:amd64 (2:0.152.2854+gite9a5903-2) ...\r\n"
     ]
    },
    {
     "name": "stdout",
     "output_type": "stream",
     "text": [
      "Selecting previously unselected package libx265-146:amd64.\r\n"
     ]
    },
    {
     "name": "stdout",
     "output_type": "stream",
     "text": [
      "Preparing to unpack .../29-libx265-146_2.6-3_amd64.deb ...\r\n",
      "Unpacking libx265-146:amd64 (2.6-3) ...\r\n"
     ]
    },
    {
     "name": "stdout",
     "output_type": "stream",
     "text": [
      "Selecting previously unselected package libxvidcore4:amd64.\r\n"
     ]
    },
    {
     "name": "stdout",
     "output_type": "stream",
     "text": [
      "Preparing to unpack .../30-libxvidcore4_2%3a1.3.5-1_amd64.deb ...\r\n",
      "Unpacking libxvidcore4:amd64 (2:1.3.5-1) ...\r\n"
     ]
    },
    {
     "name": "stdout",
     "output_type": "stream",
     "text": [
      "Selecting previously unselected package libzvbi-common.\r\n",
      "Preparing to unpack .../31-libzvbi-common_0.2.35-13_all.deb ...\r\n",
      "Unpacking libzvbi-common (0.2.35-13) ...\r\n"
     ]
    },
    {
     "name": "stdout",
     "output_type": "stream",
     "text": [
      "Selecting previously unselected package libzvbi0:amd64.\r\n",
      "Preparing to unpack .../32-libzvbi0_0.2.35-13_amd64.deb ...\r\n",
      "Unpacking libzvbi0:amd64 (0.2.35-13) ...\r\n"
     ]
    },
    {
     "name": "stdout",
     "output_type": "stream",
     "text": [
      "Selecting previously unselected package libavcodec57:amd64.\r\n"
     ]
    },
    {
     "name": "stdout",
     "output_type": "stream",
     "text": [
      "Preparing to unpack .../33-libavcodec57_7%3a3.4.8-0ubuntu0.2_amd64.deb ...\r\n",
      "Unpacking libavcodec57:amd64 (7:3.4.8-0ubuntu0.2) ...\r\n"
     ]
    },
    {
     "name": "stdout",
     "output_type": "stream",
     "text": [
      "Selecting previously unselected package libraw1394-11:amd64.\r\n",
      "Preparing to unpack .../34-libraw1394-11_2.1.2-1_amd64.deb ...\r\n",
      "Unpacking libraw1394-11:amd64 (2.1.2-1) ...\r\n"
     ]
    },
    {
     "name": "stdout",
     "output_type": "stream",
     "text": [
      "Selecting previously unselected package libavc1394-0:amd64.\r\n",
      "Preparing to unpack .../35-libavc1394-0_0.5.4-4build1_amd64.deb ...\r\n",
      "Unpacking libavc1394-0:amd64 (0.5.4-4build1) ...\r\n"
     ]
    },
    {
     "name": "stdout",
     "output_type": "stream",
     "text": [
      "Selecting previously unselected package libass9:amd64.\r\n"
     ]
    },
    {
     "name": "stdout",
     "output_type": "stream",
     "text": [
      "Preparing to unpack .../36-libass9_1%3a0.14.0-1_amd64.deb ...\r\n",
      "Unpacking libass9:amd64 (1:0.14.0-1) ...\r\n"
     ]
    },
    {
     "name": "stdout",
     "output_type": "stream",
     "text": [
      "Selecting previously unselected package libbluray2:amd64.\r\n",
      "Preparing to unpack .../37-libbluray2_1%3a1.0.2-3_amd64.deb ...\r\n",
      "Unpacking libbluray2:amd64 (1:1.0.2-3) ...\r\n"
     ]
    },
    {
     "name": "stdout",
     "output_type": "stream",
     "text": [
      "Selecting previously unselected package libchromaprint1:amd64.\r\n"
     ]
    },
    {
     "name": "stdout",
     "output_type": "stream",
     "text": [
      "Preparing to unpack .../38-libchromaprint1_1.4.3-1_amd64.deb ...\r\n",
      "Unpacking libchromaprint1:amd64 (1.4.3-1) ...\r\n"
     ]
    },
    {
     "name": "stdout",
     "output_type": "stream",
     "text": [
      "Selecting previously unselected package libgme0:amd64.\r\n",
      "Preparing to unpack .../39-libgme0_0.6.2-1_amd64.deb ...\r\n",
      "Unpacking libgme0:amd64 (0.6.2-1) ...\r\n"
     ]
    },
    {
     "name": "stdout",
     "output_type": "stream",
     "text": [
      "Selecting previously unselected package libmpg123-0:amd64.\r\n",
      "Preparing to unpack .../40-libmpg123-0_1.25.10-1_amd64.deb ...\r\n",
      "Unpacking libmpg123-0:amd64 (1.25.10-1) ...\r\n"
     ]
    },
    {
     "name": "stdout",
     "output_type": "stream",
     "text": [
      "Selecting previously unselected package libvorbisfile3:amd64.\r\n",
      "Preparing to unpack .../41-libvorbisfile3_1.3.5-4.2_amd64.deb ...\r\n",
      "Unpacking libvorbisfile3:amd64 (1.3.5-4.2) ...\r\n"
     ]
    },
    {
     "name": "stdout",
     "output_type": "stream",
     "text": [
      "Selecting previously unselected package libopenmpt0:amd64.\r\n",
      "Preparing to unpack .../42-libopenmpt0_0.3.6-1_amd64.deb ...\r\n",
      "Unpacking libopenmpt0:amd64 (0.3.6-1) ...\r\n"
     ]
    },
    {
     "name": "stdout",
     "output_type": "stream",
     "text": [
      "Selecting previously unselected package libssh-gcrypt-4:amd64.\r\n",
      "Preparing to unpack .../43-libssh-gcrypt-4_0.8.0~20170825.94fa1e38-1ubuntu0.7_amd64.deb ...\r\n"
     ]
    },
    {
     "name": "stdout",
     "output_type": "stream",
     "text": [
      "Unpacking libssh-gcrypt-4:amd64 (0.8.0~20170825.94fa1e38-1ubuntu0.7) ...\r\n"
     ]
    },
    {
     "name": "stdout",
     "output_type": "stream",
     "text": [
      "Selecting previously unselected package libavformat57:amd64.\r\n",
      "Preparing to unpack .../44-libavformat57_7%3a3.4.8-0ubuntu0.2_amd64.deb ...\r\n",
      "Unpacking libavformat57:amd64 (7:3.4.8-0ubuntu0.2) ...\r\n"
     ]
    },
    {
     "name": "stdout",
     "output_type": "stream",
     "text": [
      "Selecting previously unselected package libavresample3:amd64.\r\n",
      "Preparing to unpack .../45-libavresample3_7%3a3.4.8-0ubuntu0.2_amd64.deb ...\r\n",
      "Unpacking libavresample3:amd64 (7:3.4.8-0ubuntu0.2) ...\r\n"
     ]
    },
    {
     "name": "stdout",
     "output_type": "stream",
     "text": [
      "Selecting previously unselected package libbs2b0:amd64.\r\n",
      "Preparing to unpack .../46-libbs2b0_3.1.0+dfsg-2.2_amd64.deb ...\r\n",
      "Unpacking libbs2b0:amd64 (3.1.0+dfsg-2.2) ...\r\n"
     ]
    },
    {
     "name": "stdout",
     "output_type": "stream",
     "text": [
      "Selecting previously unselected package libflite1:amd64.\r\n"
     ]
    },
    {
     "name": "stdout",
     "output_type": "stream",
     "text": [
      "Preparing to unpack .../47-libflite1_2.1-release-1_amd64.deb ...\r\n",
      "Unpacking libflite1:amd64 (2.1-release-1) ...\r\n"
     ]
    },
    {
     "name": "stdout",
     "output_type": "stream",
     "text": [
      "Selecting previously unselected package libmysofa0:amd64.\r\n",
      "Preparing to unpack .../48-libmysofa0_0.6~dfsg0-3+deb10u1build1_amd64.deb ...\r\n",
      "Unpacking libmysofa0:amd64 (0.6~dfsg0-3+deb10u1build1) ...\r\n"
     ]
    },
    {
     "name": "stdout",
     "output_type": "stream",
     "text": [
      "Selecting previously unselected package libpostproc54:amd64.\r\n",
      "Preparing to unpack .../49-libpostproc54_7%3a3.4.8-0ubuntu0.2_amd64.deb ...\r\n",
      "Unpacking libpostproc54:amd64 (7:3.4.8-0ubuntu0.2) ...\r\n"
     ]
    },
    {
     "name": "stdout",
     "output_type": "stream",
     "text": [
      "Selecting previously unselected package libfftw3-double3:amd64.\r\n"
     ]
    },
    {
     "name": "stdout",
     "output_type": "stream",
     "text": [
      "Preparing to unpack .../50-libfftw3-double3_3.3.7-1_amd64.deb ...\r\n",
      "Unpacking libfftw3-double3:amd64 (3.3.7-1) ...\r\n"
     ]
    },
    {
     "name": "stdout",
     "output_type": "stream",
     "text": [
      "Selecting previously unselected package libsamplerate0:amd64.\r\n",
      "Preparing to unpack .../51-libsamplerate0_0.1.9-1_amd64.deb ...\r\n",
      "Unpacking libsamplerate0:amd64 (0.1.9-1) ...\r\n"
     ]
    },
    {
     "name": "stdout",
     "output_type": "stream",
     "text": [
      "Selecting previously unselected package librubberband2:amd64.\r\n"
     ]
    },
    {
     "name": "stdout",
     "output_type": "stream",
     "text": [
      "Preparing to unpack .../52-librubberband2_1.8.1-7ubuntu2_amd64.deb ...\r\n",
      "Unpacking librubberband2:amd64 (1.8.1-7ubuntu2) ...\r\n"
     ]
    },
    {
     "name": "stdout",
     "output_type": "stream",
     "text": [
      "Selecting previously unselected package libswscale4:amd64.\r\n",
      "Preparing to unpack .../53-libswscale4_7%3a3.4.8-0ubuntu0.2_amd64.deb ...\r\n",
      "Unpacking libswscale4:amd64 (7:3.4.8-0ubuntu0.2) ...\r\n"
     ]
    },
    {
     "name": "stdout",
     "output_type": "stream",
     "text": [
      "Selecting previously unselected package libnorm1:amd64.\r\n",
      "Preparing to unpack .../54-libnorm1_1.5r6+dfsg1-6_amd64.deb ...\r\n",
      "Unpacking libnorm1:amd64 (1.5r6+dfsg1-6) ...\r\n"
     ]
    },
    {
     "name": "stdout",
     "output_type": "stream",
     "text": [
      "Selecting previously unselected package libpgm-5.2-0:amd64.\r\n",
      "Preparing to unpack .../55-libpgm-5.2-0_5.2.122~dfsg-2_amd64.deb ...\r\n",
      "Unpacking libpgm-5.2-0:amd64 (5.2.122~dfsg-2) ...\r\n"
     ]
    },
    {
     "name": "stdout",
     "output_type": "stream",
     "text": [
      "Selecting previously unselected package libsodium23:amd64.\r\n"
     ]
    },
    {
     "name": "stdout",
     "output_type": "stream",
     "text": [
      "Preparing to unpack .../56-libsodium23_1.0.16-2_amd64.deb ...\r\n",
      "Unpacking libsodium23:amd64 (1.0.16-2) ...\r\n"
     ]
    },
    {
     "name": "stdout",
     "output_type": "stream",
     "text": [
      "Selecting previously unselected package libzmq5:amd64.\r\n",
      "Preparing to unpack .../57-libzmq5_4.2.5-1ubuntu0.2_amd64.deb ...\r\n",
      "Unpacking libzmq5:amd64 (4.2.5-1ubuntu0.2) ...\r\n"
     ]
    },
    {
     "name": "stdout",
     "output_type": "stream",
     "text": [
      "Selecting previously unselected package libavfilter6:amd64.\r\n"
     ]
    },
    {
     "name": "stdout",
     "output_type": "stream",
     "text": [
      "Preparing to unpack .../58-libavfilter6_7%3a3.4.8-0ubuntu0.2_amd64.deb ...\r\n",
      "Unpacking libavfilter6:amd64 (7:3.4.8-0ubuntu0.2) ...\r\n"
     ]
    },
    {
     "name": "stdout",
     "output_type": "stream",
     "text": [
      "Selecting previously unselected package libcaca0:amd64.\r\n",
      "Preparing to unpack .../59-libcaca0_0.99.beta19-2ubuntu0.18.04.1_amd64.deb ...\r\n"
     ]
    },
    {
     "name": "stdout",
     "output_type": "stream",
     "text": [
      "Unpacking libcaca0:amd64 (0.99.beta19-2ubuntu0.18.04.1) ...\r\n"
     ]
    },
    {
     "name": "stdout",
     "output_type": "stream",
     "text": [
      "Selecting previously unselected package libcdio17:amd64.\r\n",
      "Preparing to unpack .../60-libcdio17_1.0.0-2ubuntu2_amd64.deb ...\r\n",
      "Unpacking libcdio17:amd64 (1.0.0-2ubuntu2) ...\r\n"
     ]
    },
    {
     "name": "stdout",
     "output_type": "stream",
     "text": [
      "Selecting previously unselected package libcdio-cdda2:amd64.\r\n"
     ]
    },
    {
     "name": "stdout",
     "output_type": "stream",
     "text": [
      "Preparing to unpack .../61-libcdio-cdda2_10.2+0.94+2-2build1_amd64.deb ...\r\n",
      "Unpacking libcdio-cdda2:amd64 (10.2+0.94+2-2build1) ...\r\n",
      "Selecting previously unselected package libcdio-paranoia2:amd64.\r\n"
     ]
    },
    {
     "name": "stdout",
     "output_type": "stream",
     "text": [
      "Preparing to unpack .../62-libcdio-paranoia2_10.2+0.94+2-2build1_amd64.deb ...\r\n",
      "Unpacking libcdio-paranoia2:amd64 (10.2+0.94+2-2build1) ...\r\n",
      "Selecting previously unselected package libdc1394-22:amd64.\r\n"
     ]
    },
    {
     "name": "stdout",
     "output_type": "stream",
     "text": [
      "Preparing to unpack .../63-libdc1394-22_2.2.5-1_amd64.deb ...\r\n",
      "Unpacking libdc1394-22:amd64 (2.2.5-1) ...\r\n"
     ]
    },
    {
     "name": "stdout",
     "output_type": "stream",
     "text": [
      "Selecting previously unselected package libiec61883-0:amd64.\r\n",
      "Preparing to unpack .../64-libiec61883-0_1.2.0-2_amd64.deb ...\r\n",
      "Unpacking libiec61883-0:amd64 (1.2.0-2) ...\r\n"
     ]
    },
    {
     "name": "stdout",
     "output_type": "stream",
     "text": [
      "Selecting previously unselected package libjack-jackd2-0:amd64.\r\n",
      "Preparing to unpack .../65-libjack-jackd2-0_1.9.12~dfsg-2_amd64.deb ...\r\n",
      "Unpacking libjack-jackd2-0:amd64 (1.9.12~dfsg-2) ...\r\n"
     ]
    },
    {
     "name": "stdout",
     "output_type": "stream",
     "text": [
      "Selecting previously unselected package libopenal-data.\r\n",
      "Preparing to unpack .../66-libopenal-data_1%3a1.18.2-2_all.deb ...\r\n",
      "Unpacking libopenal-data (1:1.18.2-2) ...\r\n"
     ]
    },
    {
     "name": "stdout",
     "output_type": "stream",
     "text": [
      "Selecting previously unselected package libsndio6.1:amd64.\r\n"
     ]
    },
    {
     "name": "stdout",
     "output_type": "stream",
     "text": [
      "Preparing to unpack .../67-libsndio6.1_1.1.0-3_amd64.deb ...\r\n",
      "Unpacking libsndio6.1:amd64 (1.1.0-3) ...\r\n"
     ]
    },
    {
     "name": "stdout",
     "output_type": "stream",
     "text": [
      "Selecting previously unselected package libopenal1:amd64.\r\n",
      "Preparing to unpack .../68-libopenal1_1%3a1.18.2-2_amd64.deb ...\r\n",
      "Unpacking libopenal1:amd64 (1:1.18.2-2) ...\r\n"
     ]
    },
    {
     "name": "stdout",
     "output_type": "stream",
     "text": [
      "Selecting previously unselected package libsdl2-2.0-0:amd64.\r\n"
     ]
    },
    {
     "name": "stdout",
     "output_type": "stream",
     "text": [
      "Preparing to unpack .../69-libsdl2-2.0-0_2.0.8+dfsg1-1ubuntu1.18.04.4_amd64.deb ...\r\n",
      "Unpacking libsdl2-2.0-0:amd64 (2.0.8+dfsg1-1ubuntu1.18.04.4) ...\r\n"
     ]
    },
    {
     "name": "stdout",
     "output_type": "stream",
     "text": [
      "Selecting previously unselected package libavdevice57:amd64.\r\n"
     ]
    },
    {
     "name": "stdout",
     "output_type": "stream",
     "text": [
      "Preparing to unpack .../70-libavdevice57_7%3a3.4.8-0ubuntu0.2_amd64.deb ...\r\n",
      "Unpacking libavdevice57:amd64 (7:3.4.8-0ubuntu0.2) ...\r\n"
     ]
    },
    {
     "name": "stdout",
     "output_type": "stream",
     "text": [
      "Selecting previously unselected package ffmpeg.\r\n",
      "Preparing to unpack .../71-ffmpeg_7%3a3.4.8-0ubuntu0.2_amd64.deb ...\r\n",
      "Unpacking ffmpeg (7:3.4.8-0ubuntu0.2) ...\r\n"
     ]
    },
    {
     "name": "stdout",
     "output_type": "stream",
     "text": [
      "Selecting previously unselected package libaacs0:amd64.\r\n"
     ]
    },
    {
     "name": "stdout",
     "output_type": "stream",
     "text": [
      "Preparing to unpack .../72-libaacs0_0.9.0-1_amd64.deb ...\r\n",
      "Unpacking libaacs0:amd64 (0.9.0-1) ...\r\n"
     ]
    },
    {
     "name": "stdout",
     "output_type": "stream",
     "text": [
      "Selecting previously unselected package libbdplus0:amd64.\r\n",
      "Preparing to unpack .../73-libbdplus0_0.1.2-2_amd64.deb ...\r\n",
      "Unpacking libbdplus0:amd64 (0.1.2-2) ...\r\n"
     ]
    },
    {
     "name": "stdout",
     "output_type": "stream",
     "text": [
      "Selecting previously unselected package libllvm10:amd64.\r\n",
      "Preparing to unpack .../74-libllvm10_1%3a10.0.0-4ubuntu1~18.04.2_amd64.deb ...\r\n"
     ]
    },
    {
     "name": "stdout",
     "output_type": "stream",
     "text": [
      "Unpacking libllvm10:amd64 (1:10.0.0-4ubuntu1~18.04.2) ...\r\n"
     ]
    },
    {
     "name": "stdout",
     "output_type": "stream",
     "text": [
      "Selecting previously unselected package mesa-va-drivers:amd64.\r\n"
     ]
    },
    {
     "name": "stdout",
     "output_type": "stream",
     "text": [
      "Preparing to unpack .../75-mesa-va-drivers_20.0.8-0ubuntu1~18.04.1_amd64.deb ...\r\n",
      "Unpacking mesa-va-drivers:amd64 (20.0.8-0ubuntu1~18.04.1) ...\r\n"
     ]
    },
    {
     "name": "stdout",
     "output_type": "stream",
     "text": [
      "Selecting previously unselected package i965-va-driver:amd64.\r\n",
      "Preparing to unpack .../76-i965-va-driver_2.1.0-0ubuntu1_amd64.deb ...\r\n",
      "Unpacking i965-va-driver:amd64 (2.1.0-0ubuntu1) ...\r\n"
     ]
    },
    {
     "name": "stdout",
     "output_type": "stream",
     "text": [
      "Selecting previously unselected package va-driver-all:amd64.\r\n",
      "Preparing to unpack .../77-va-driver-all_2.1.0-3_amd64.deb ...\r\n",
      "Unpacking va-driver-all:amd64 (2.1.0-3) ...\r\n"
     ]
    },
    {
     "name": "stdout",
     "output_type": "stream",
     "text": [
      "Preparing to unpack .../78-xserver-common_2%3a1.19.6-1ubuntu4.7_all.deb ...\r\n"
     ]
    },
    {
     "name": "stdout",
     "output_type": "stream",
     "text": [
      "Unpacking xserver-common (2:1.19.6-1ubuntu4.7) over (2:1.19.6-1ubuntu4.6) ...\r\n"
     ]
    },
    {
     "name": "stdout",
     "output_type": "stream",
     "text": [
      "Selecting previously unselected package xvfb.\r\n",
      "Preparing to unpack .../79-xvfb_2%3a1.19.6-1ubuntu4.7_amd64.deb ...\r\n",
      "Unpacking xvfb (2:1.19.6-1ubuntu4.7) ...\r\n"
     ]
    },
    {
     "name": "stdout",
     "output_type": "stream",
     "text": [
      "Setting up libvorbisfile3:amd64 (1.3.5-4.2) ...\r\n",
      "Setting up libpgm-5.2-0:amd64 (5.2.122~dfsg-2) ...\r\n",
      "Setting up libtwolame0:amd64 (0.3.13-3) ...\r\n"
     ]
    },
    {
     "name": "stdout",
     "output_type": "stream",
     "text": [
      "Setting up libraw1394-11:amd64 (2.1.2-1) ...\r\n",
      "Setting up libx264-152:amd64 (2:0.152.2854+gite9a5903-2) ...\r\n",
      "Setting up xserver-common (2:1.19.6-1ubuntu4.7) ...\r\n",
      "Setting up libopenjp2-7:amd64 (2.3.0-2build0.18.04.1) ...\r\n",
      "Setting up libllvm10:amd64 (1:10.0.0-4ubuntu1~18.04.2) ...\r\n"
     ]
    },
    {
     "name": "stdout",
     "output_type": "stream",
     "text": [
      "Setting up libwavpack1:amd64 (5.1.0-2ubuntu1.4) ...\r\n",
      "Setting up xvfb (2:1.19.6-1ubuntu4.7) ...\r\n",
      "Setting up libaacs0:amd64 (0.9.0-1) ...\r\n",
      "Setting up libnuma1:amd64 (2.0.11-2.1ubuntu0.1) ...\r\n",
      "Setting up libflite1:amd64 (2.1-release-1) ...\r\n"
     ]
    },
    {
     "name": "stdout",
     "output_type": "stream",
     "text": [
      "Setting up libsoxr0:amd64 (0.1.2-3) ...\r\n",
      "Setting up libssh-gcrypt-4:amd64 (0.8.0~20170825.94fa1e38-1ubuntu0.7) ...\r\n",
      "Setting up libxss1:amd64 (1:1.2.2-1) ...\r\n",
      "Setting up libass9:amd64 (1:0.14.0-1) ...\r\n"
     ]
    },
    {
     "name": "stdout",
     "output_type": "stream",
     "text": [
      "Setting up libbluray2:amd64 (1:1.0.2-3) ...\r\n",
      "Setting up libdc1394-22:amd64 (2.2.5-1) ...\r\n",
      "Setting up libshine3:amd64 (3.1.1-1) ...\r\n",
      "Setting up libva2:amd64 (2.1.0-3) ...\r\n",
      "Setting up libiec61883-0:amd64 (1.2.0-2) ...\r\n"
     ]
    },
    {
     "name": "stdout",
     "output_type": "stream",
     "text": [
      "Setting up libspeex1:amd64 (1.2~rc1.2-1ubuntu2) ...\r\n",
      "Setting up libfftw3-double3:amd64 (3.3.7-1) ...\r\n",
      "Setting up libxvidcore4:amd64 (2:1.3.5-1) ...\r\n",
      "Setting up libopus0:amd64 (1.1.2-1ubuntu1) ...\r\n",
      "Setting up libx265-146:amd64 (2.6-3) ...\r\n"
     ]
    },
    {
     "name": "stdout",
     "output_type": "stream",
     "text": [
      "Setting up libopenal-data (1:1.18.2-2) ...\r\n",
      "Setting up libdrm-common (2.4.101-2~18.04.1) ...\r\n",
      "Setting up libbs2b0:amd64 (3.1.0+dfsg-2.2) ...\r\n",
      "Setting up libnorm1:amd64 (1.5r6+dfsg1-6) ...\r\n"
     ]
    },
    {
     "name": "stdout",
     "output_type": "stream",
     "text": [
      "Setting up libsodium23:amd64 (1.0.16-2) ...\r\n",
      "Setting up libmp3lame0:amd64 (3.100-2) ...\r\n",
      "Setting up libcrystalhd3:amd64 (1:0.0~git20110715.fdd2f19-12) ...\r\n"
     ]
    },
    {
     "name": "stdout",
     "output_type": "stream",
     "text": [
      "Setting up libwebpmux3:amd64 (0.6.1-2) ...\r\n"
     ]
    },
    {
     "name": "stdout",
     "output_type": "stream",
     "text": [
      "Setting up libsnappy1v5:amd64 (1.1.7-1) ...\r\n"
     ]
    },
    {
     "name": "stdout",
     "output_type": "stream",
     "text": [
      "Setting up libavc1394-0:amd64 (0.5.4-4build1) ...\r\n"
     ]
    },
    {
     "name": "stdout",
     "output_type": "stream",
     "text": [
      "Setting up libzvbi-common (0.2.35-13) ...\r\n"
     ]
    },
    {
     "name": "stdout",
     "output_type": "stream",
     "text": [
      "Setting up libvpx5:amd64 (1.7.0-3ubuntu0.18.04.1) ...\r\n"
     ]
    },
    {
     "name": "stdout",
     "output_type": "stream",
     "text": [
      "Setting up libgme0:amd64 (0.6.2-1) ...\r\n"
     ]
    },
    {
     "name": "stdout",
     "output_type": "stream",
     "text": [
      "Setting up libbdplus0:amd64 (0.1.2-2) ...\r\n"
     ]
    },
    {
     "name": "stdout",
     "output_type": "stream",
     "text": [
      "Setting up libzvbi0:amd64 (0.2.35-13) ...\r\n"
     ]
    },
    {
     "name": "stdout",
     "output_type": "stream",
     "text": [
      "Setting up libcaca0:amd64 (0.99.beta19-2ubuntu0.18.04.1) ...\r\n",
      "Setting up libsamplerate0:amd64 (0.1.9-1) ...\r\n",
      "Setting up libsndio6.1:amd64 (1.1.0-3) ...\r\n",
      "Setting up libtheora0:amd64 (1.1.1+dfsg.1-14) ...\r\n",
      "Setting up libmpg123-0:amd64 (1.25.10-1) ...\r\n"
     ]
    },
    {
     "name": "stdout",
     "output_type": "stream",
     "text": [
      "Setting up libgsm1:amd64 (1.0.13-4build1) ...\r\n",
      "Setting up libmysofa0:amd64 (0.6~dfsg0-3+deb10u1build1) ...\r\n",
      "Setting up libcdio17:amd64 (1.0.0-2ubuntu2) ...\r\n",
      "Setting up libzmq5:amd64 (4.2.5-1ubuntu0.2) ...\r\n",
      "Setting up libopenmpt0:amd64 (0.3.6-1) ...\r\n"
     ]
    },
    {
     "name": "stdout",
     "output_type": "stream",
     "text": [
      "Setting up libcdio-cdda2:amd64 (10.2+0.94+2-2build1) ...\r\n",
      "Setting up libdrm2:amd64 (2.4.101-2~18.04.1) ...\r\n",
      "Setting up libdrm-intel1:amd64 (2.4.101-2~18.04.1) ...\r\n",
      "Setting up librubberband2:amd64 (1.8.1-7ubuntu2) ...\r\n",
      "Setting up libsdl2-2.0-0:amd64 (2.0.8+dfsg1-1ubuntu1.18.04.4) ...\r\n",
      "Setting up libcdio-paranoia2:amd64 (10.2+0.94+2-2build1) ...\r\n"
     ]
    },
    {
     "name": "stdout",
     "output_type": "stream",
     "text": [
      "Setting up libva-drm2:amd64 (2.1.0-3) ...\r\n",
      "Setting up libjack-jackd2-0:amd64 (1.9.12~dfsg-2) ...\r\n",
      "Setting up libopenal1:amd64 (1:1.18.2-2) ...\r\n",
      "Setting up libdrm-radeon1:amd64 (2.4.101-2~18.04.1) ...\r\n",
      "Setting up libva-x11-2:amd64 (2.1.0-3) ...\r\n"
     ]
    },
    {
     "name": "stdout",
     "output_type": "stream",
     "text": [
      "Setting up libdrm-nouveau2:amd64 (2.4.101-2~18.04.1) ...\r\n",
      "Setting up libavutil55:amd64 (7:3.4.8-0ubuntu0.2) ...\r\n",
      "Setting up libdrm-amdgpu1:amd64 (2.4.101-2~18.04.1) ...\r\n",
      "Setting up libdrm-dev:amd64 (2.4.101-2~18.04.1) ...\r\n",
      "Setting up libswresample2:amd64 (7:3.4.8-0ubuntu0.2) ...\r\n"
     ]
    },
    {
     "name": "stdout",
     "output_type": "stream",
     "text": [
      "Setting up i965-va-driver:amd64 (2.1.0-0ubuntu1) ...\r\n",
      "Setting up libswscale4:amd64 (7:3.4.8-0ubuntu0.2) ...\r\n",
      "Setting up mesa-va-drivers:amd64 (20.0.8-0ubuntu1~18.04.1) ...\r\n",
      "Setting up libpostproc54:amd64 (7:3.4.8-0ubuntu0.2) ...\r\n",
      "Setting up libavresample3:amd64 (7:3.4.8-0ubuntu0.2) ...\r\n"
     ]
    },
    {
     "name": "stdout",
     "output_type": "stream",
     "text": [
      "Setting up libavcodec57:amd64 (7:3.4.8-0ubuntu0.2) ...\r\n",
      "Setting up va-driver-all:amd64 (2.1.0-3) ...\r\n",
      "Setting up libchromaprint1:amd64 (1.4.3-1) ...\r\n",
      "Setting up libavformat57:amd64 (7:3.4.8-0ubuntu0.2) ...\r\n",
      "Setting up libavfilter6:amd64 (7:3.4.8-0ubuntu0.2) ...\r\n",
      "Setting up libavdevice57:amd64 (7:3.4.8-0ubuntu0.2) ...\r\n"
     ]
    },
    {
     "name": "stdout",
     "output_type": "stream",
     "text": [
      "Setting up ffmpeg (7:3.4.8-0ubuntu0.2) ...\r\n",
      "Processing triggers for libc-bin (2.27-3ubuntu1.2) ...\r\n",
      "Processing triggers for man-db (2.8.3-2ubuntu0.1) ...\r\n"
     ]
    }
   ],
   "source": [
    "!sudo apt-get install -y xvfb ffmpeg\n",
    "!pip install -q 'gym==0.10.11'\n",
    "!pip install -q 'imageio==2.4.0'\n",
    "!pip install -q PILLOW\n",
    "!pip install -q 'pyglet==1.3.2'\n",
    "!pip install -q pyvirtualdisplay\n",
    "!pip install -q tf-agents"
   ]
  },
  {
   "cell_type": "code",
   "execution_count": 3,
   "metadata": {
    "execution": {
     "iopub.execute_input": "2020-11-12T01:27:42.606217Z",
     "iopub.status.busy": "2020-11-12T01:27:42.605486Z",
     "iopub.status.idle": "2020-11-12T01:27:50.017803Z",
     "shell.execute_reply": "2020-11-12T01:27:50.017172Z"
    },
    "id": "sMitx5qSgJk1"
   },
   "outputs": [],
   "source": [
    "from __future__ import absolute_import\n",
    "from __future__ import division\n",
    "from __future__ import print_function\n",
    "\n",
    "import base64\n",
    "import imageio\n",
    "import IPython\n",
    "import matplotlib\n",
    "import matplotlib.pyplot as plt\n",
    "import PIL.Image\n",
    "import pyvirtualdisplay\n",
    "\n",
    "import tensorflow as tf\n",
    "\n",
    "from tf_agents.agents.categorical_dqn import categorical_dqn_agent\n",
    "from tf_agents.drivers import dynamic_step_driver\n",
    "from tf_agents.environments import suite_gym\n",
    "from tf_agents.environments import tf_py_environment\n",
    "from tf_agents.eval import metric_utils\n",
    "from tf_agents.metrics import tf_metrics\n",
    "from tf_agents.networks import categorical_q_network\n",
    "from tf_agents.policies import random_tf_policy\n",
    "from tf_agents.replay_buffers import tf_uniform_replay_buffer\n",
    "from tf_agents.trajectories import trajectory\n",
    "from tf_agents.utils import common\n",
    "\n",
    "tf.compat.v1.enable_v2_behavior()\n",
    "\n",
    "\n",
    "# Set up a virtual display for rendering OpenAI gym environments.\n",
    "display = pyvirtualdisplay.Display(visible=0, size=(1400, 900)).start()"
   ]
  },
  {
   "cell_type": "markdown",
   "metadata": {
    "id": "LmC0NDhdLIKY"
   },
   "source": [
    "## 하이퍼 매개변수"
   ]
  },
  {
   "cell_type": "code",
   "execution_count": 4,
   "metadata": {
    "execution": {
     "iopub.execute_input": "2020-11-12T01:27:50.024921Z",
     "iopub.status.busy": "2020-11-12T01:27:50.024187Z",
     "iopub.status.idle": "2020-11-12T01:27:50.026504Z",
     "shell.execute_reply": "2020-11-12T01:27:50.025955Z"
    },
    "id": "HC1kNrOsLSIZ"
   },
   "outputs": [],
   "source": [
    "env_name = \"CartPole-v1\" # @param {type:\"string\"}\n",
    "num_iterations = 15000 # @param {type:\"integer\"}\n",
    "\n",
    "initial_collect_steps = 1000  # @param {type:\"integer\"} \n",
    "collect_steps_per_iteration = 1  # @param {type:\"integer\"}\n",
    "replay_buffer_capacity = 100000  # @param {type:\"integer\"}\n",
    "\n",
    "fc_layer_params = (100,)\n",
    "\n",
    "batch_size = 64  # @param {type:\"integer\"}\n",
    "learning_rate = 1e-3  # @param {type:\"number\"}\n",
    "gamma = 0.99\n",
    "log_interval = 200  # @param {type:\"integer\"}\n",
    "\n",
    "num_atoms = 51  # @param {type:\"integer\"}\n",
    "min_q_value = -20  # @param {type:\"integer\"}\n",
    "max_q_value = 20  # @param {type:\"integer\"}\n",
    "n_step_update = 2  # @param {type:\"integer\"}\n",
    "\n",
    "num_eval_episodes = 10  # @param {type:\"integer\"}\n",
    "eval_interval = 1000  # @param {type:\"integer\"}"
   ]
  },
  {
   "cell_type": "markdown",
   "metadata": {
    "id": "VMsJC3DEgI0x"
   },
   "source": [
    "## 환경\n",
    "\n",
    "이전과 같이 훈련용과 평가용으로 각각 하나의 환경을 로드합니다. 여기서는 200개가 아니라 500개의 보다 큰 최대 보상을 가진 CartPole-v1(DQN 튜토리얼에서는 CartPole-v0이었음)을 사용합니다."
   ]
  },
  {
   "cell_type": "code",
   "execution_count": 5,
   "metadata": {
    "execution": {
     "iopub.execute_input": "2020-11-12T01:27:50.031723Z",
     "iopub.status.busy": "2020-11-12T01:27:50.031076Z",
     "iopub.status.idle": "2020-11-12T01:27:50.049612Z",
     "shell.execute_reply": "2020-11-12T01:27:50.049026Z"
    },
    "id": "Xp-Y4mD6eDhF"
   },
   "outputs": [],
   "source": [
    "train_py_env = suite_gym.load(env_name)\n",
    "eval_py_env = suite_gym.load(env_name)\n",
    "\n",
    "train_env = tf_py_environment.TFPyEnvironment(train_py_env)\n",
    "eval_env = tf_py_environment.TFPyEnvironment(eval_py_env)"
   ]
  },
  {
   "cell_type": "markdown",
   "metadata": {
    "id": "E9lW_OZYFR8A"
   },
   "source": [
    "## 에이전트\n",
    "\n",
    "C51은 DQN을 기반으로 하는 Q-러닝 알고리즘으로, DQN과 마찬가지로 불연속 행동 공간이 있는 모든 환경에서 사용할 수 있습니다.\n",
    "\n",
    "C51이 DQN과 가장 다른 점은 각 상태-행동 쌍에 대한 Q-value를 단순히 예측하는 것이 아니라 Q-값의 확률 분포에 대한 히스토그램 모델을 예측한다는 것입니다.\n",
    "\n",
    "![실시 예 C51 분포](images/c51_distribution.png)\n",
    "\n",
    "알고리즘은 단순히 예상 값이 아닌 분포를 학습함으로써 훈련 중에 더 안정적으로 유지되어 최종 성능을 향상할 수 있습니다. 단일 평균이 정확한 그림을 제공하지 않는 바이 모달 또는 멀티 모달 값 분포가 있는 상황에서 특히 그렇습니다.\n",
    "\n",
    "값이 아닌 확률 분포에 대해 훈련하려면 손실 함수를 계산하기 위해 C51에서 복잡한 분포 계산을 수행해야 합니다. 하지만 걱정하지 마세요. 이 모든 작업은 TF-Agents에서 처리합니다!\n",
    "\n",
    "C51 에이전트를 만들려면 먼저 `CategoricalQNetwork`를 만들어야 합니다. `CategoricalQNetwork`의 API는 추가 인수 `num_atoms`가 있다는 점을 제외하고 `QNetwork`의 API와 동일합니다. 이것은 확률 분포 추정의 지원 포인트 수를 나타냅니다. (위의 이미지에는 각각 파란색 세로 막대로 표시된 10개의 지원 포인트가 포함되어 있습니다.) 이름에서 알 수 있듯이 기본 원자 수는 51개입니다.\n"
   ]
  },
  {
   "cell_type": "code",
   "execution_count": 6,
   "metadata": {
    "execution": {
     "iopub.execute_input": "2020-11-12T01:27:50.054434Z",
     "iopub.status.busy": "2020-11-12T01:27:50.053640Z",
     "iopub.status.idle": "2020-11-12T01:27:50.082305Z",
     "shell.execute_reply": "2020-11-12T01:27:50.081674Z"
    },
    "id": "TgkdEPg_muzV"
   },
   "outputs": [],
   "source": [
    "categorical_q_net = categorical_q_network.CategoricalQNetwork(\n",
    "    train_env.observation_spec(),\n",
    "    train_env.action_spec(),\n",
    "    num_atoms=num_atoms,\n",
    "    fc_layer_params=fc_layer_params)"
   ]
  },
  {
   "cell_type": "markdown",
   "metadata": {
    "id": "z62u55hSmviJ"
   },
   "source": [
    "또한, 방금 생성한 네트워크를 훈련하기 위해 `optimizer`가 필요하고, 네트워크가 몇 번 업데이트되었는지 추적하기 위해`train_step_counter` 변수가 필요합니다.\n",
    "\n",
    "바닐라 `DqnAgent`와 다른 또 다른 주된 차이점은 이제 `min_q_value` 및 `max_q_value`를 인수로 지정해야 한다는 것입니다. 이러한 인수는 지원의 가장 극단적인 값(즉, 양쪽에서 51개 원자 중 가장 극단의 값)을 지정합니다. 특정 환경에 적합하게 선택해야 합니다. 여기서는 -20과 20을 사용합니다."
   ]
  },
  {
   "cell_type": "code",
   "execution_count": 7,
   "metadata": {
    "execution": {
     "iopub.execute_input": "2020-11-12T01:27:51.485532Z",
     "iopub.status.busy": "2020-11-12T01:27:50.818117Z",
     "iopub.status.idle": "2020-11-12T01:27:52.092300Z",
     "shell.execute_reply": "2020-11-12T01:27:52.092737Z"
    },
    "id": "jbY4yrjTEyc9"
   },
   "outputs": [],
   "source": [
    "optimizer = tf.compat.v1.train.AdamOptimizer(learning_rate=learning_rate)\n",
    "\n",
    "train_step_counter = tf.compat.v2.Variable(0)\n",
    "\n",
    "agent = categorical_dqn_agent.CategoricalDqnAgent(\n",
    "    train_env.time_step_spec(),\n",
    "    train_env.action_spec(),\n",
    "    categorical_q_network=categorical_q_net,\n",
    "    optimizer=optimizer,\n",
    "    min_q_value=min_q_value,\n",
    "    max_q_value=max_q_value,\n",
    "    n_step_update=n_step_update,\n",
    "    td_errors_loss_fn=common.element_wise_squared_loss,\n",
    "    gamma=gamma,\n",
    "    train_step_counter=train_step_counter)\n",
    "agent.initialize()"
   ]
  },
  {
   "cell_type": "markdown",
   "metadata": {
    "id": "L7O7F_HqiQ1G"
   },
   "source": [
    "마지막으로 주목해야 할 점은 n-step 업데이트를 $n$ = 2로 사용하는 인수를 추가했다는 것입니다. 단일 스텝 Q-learning ($n$ = 1)에서는 단일 스텝 이익을 사용하여 현재 타임스텝과 다음 타임스텝에서 Q-값 사이의 오차만 계산합니다(Bellman 최적 방정식에 기초). 단일 스텝 이익은 다음과 같이 정의됩니다.\n",
    "\n",
    "$G_t = R_{t + 1} + \\gamma V(s_{t + 1})$\n",
    "\n",
    "여기서 $V(s) = \\max_a{Q(s, a)}$로 정의합니다.\n",
    "\n",
    "N-step 업데이트에는 표준 단일 스텝 이익 함수를 $n$번 확장하는 과정이 포함됩니다.\n",
    "\n",
    "$G_t^n = R_{t + 1} + \\gamma R_{t + 2} + \\gamma^2 R_{t + 3} + \\dots + \\gamma^n V(s_{t + n})$\n",
    "\n",
    "N-step 업데이트를 통해 에이전트는 더 먼 미래로부터 부트스트랩을 수행할 수 있으며 $n$의 올바른 값으로 대개 학습 속도가 더 빨라집니다.\n",
    "\n",
    "C51 및 n-step 업데이트는 종종 우선 순위가 지정된 재현과 결합하여 [레인보우 에이전트](https://arxiv.org/pdf/1710.02298.pdf)의 코어를 형성하지만, 우선 순위가 지정된 재현을 구현하는 것으로는 측정 가능한 개선이 이루어지지 않았습니다. 또한, C51 에이전트와 n-step 업데이트만 결합하면 이 에이전트뿐만 아니라 다른 레인보우 에이전트도 테스트한 Atari 환경의 샘플에서 실행됩니다."
   ]
  },
  {
   "cell_type": "markdown",
   "metadata": {
    "id": "94rCXQtbUbXv"
   },
   "source": [
    "## 메트릭 및 평가\n",
    "\n",
    "정책을 평가하는 데 사용되는 가장 일반적인 메트릭은 평균 이익입니다. 이익은 에피소드의 환경에서 정책을 실행하는 동안 얻은 보상의 합계이며 일반적으로 몇 개 에피소드에서 평균을 계산합니다. 다음과 같이 평균 이익 메트릭을 계산할 수 있습니다.\n"
   ]
  },
  {
   "cell_type": "code",
   "execution_count": 8,
   "metadata": {
    "execution": {
     "iopub.execute_input": "2020-11-12T01:27:52.103134Z",
     "iopub.status.busy": "2020-11-12T01:27:52.101830Z",
     "iopub.status.idle": "2020-11-12T01:27:52.661157Z",
     "shell.execute_reply": "2020-11-12T01:27:52.661644Z"
    },
    "id": "bitzHo5_UbXy"
   },
   "outputs": [
    {
     "data": {
      "text/plain": [
       "24.6"
      ]
     },
     "execution_count": 1,
     "metadata": {},
     "output_type": "execute_result"
    }
   ],
   "source": [
    "#@test {\"skip\": true}\n",
    "def compute_avg_return(environment, policy, num_episodes=10):\n",
    "\n",
    "  total_return = 0.0\n",
    "  for _ in range(num_episodes):\n",
    "\n",
    "    time_step = environment.reset()\n",
    "    episode_return = 0.0\n",
    "\n",
    "    while not time_step.is_last():\n",
    "      action_step = policy.action(time_step)\n",
    "      time_step = environment.step(action_step.action)\n",
    "      episode_return += time_step.reward\n",
    "    total_return += episode_return\n",
    "\n",
    "  avg_return = total_return / num_episodes\n",
    "  return avg_return.numpy()[0]\n",
    "\n",
    "\n",
    "random_policy = random_tf_policy.RandomTFPolicy(train_env.time_step_spec(),\n",
    "                                                train_env.action_spec())\n",
    "\n",
    "compute_avg_return(eval_env, random_policy, num_eval_episodes)\n",
    "\n",
    "# Please also see the metrics module for standard implementations of different\n",
    "# metrics."
   ]
  },
  {
   "cell_type": "markdown",
   "metadata": {
    "id": "NLva6g2jdWgr"
   },
   "source": [
    "## 데이터 수집\n",
    "\n",
    "DQN 튜토리얼에서와 같이 임의 정책으로 재현 버퍼 및 초기 데이터 수집을 설정합니다."
   ]
  },
  {
   "cell_type": "code",
   "execution_count": 9,
   "metadata": {
    "execution": {
     "iopub.execute_input": "2020-11-12T01:27:52.669927Z",
     "iopub.status.busy": "2020-11-12T01:27:52.669220Z",
     "iopub.status.idle": "2020-11-12T01:27:57.763023Z",
     "shell.execute_reply": "2020-11-12T01:27:57.762411Z"
    },
    "id": "wr1KSAEGG4h9"
   },
   "outputs": [
    {
     "name": "stdout",
     "output_type": "stream",
     "text": [
      "WARNING:tensorflow:From /tmpfs/src/tf_docs_env/lib/python3.6/site-packages/tensorflow/python/autograph/operators/control_flow.py:1004: ReplayBuffer.get_next (from tf_agents.replay_buffers.replay_buffer) is deprecated and will be removed in a future version.\n",
      "Instructions for updating:\n",
      "Use `as_dataset(..., single_deterministic_pass=False) instead.\n"
     ]
    }
   ],
   "source": [
    "#@test {\"skip\": true}\n",
    "replay_buffer = tf_uniform_replay_buffer.TFUniformReplayBuffer(\n",
    "    data_spec=agent.collect_data_spec,\n",
    "    batch_size=train_env.batch_size,\n",
    "    max_length=replay_buffer_capacity)\n",
    "\n",
    "def collect_step(environment, policy):\n",
    "  time_step = environment.current_time_step()\n",
    "  action_step = policy.action(time_step)\n",
    "  next_time_step = environment.step(action_step.action)\n",
    "  traj = trajectory.from_transition(time_step, action_step, next_time_step)\n",
    "\n",
    "  # Add trajectory to the replay buffer\n",
    "  replay_buffer.add_batch(traj)\n",
    "\n",
    "for _ in range(initial_collect_steps):\n",
    "  collect_step(train_env, random_policy)\n",
    "\n",
    "# This loop is so common in RL, that we provide standard implementations of\n",
    "# these. For more details see the drivers module.\n",
    "\n",
    "# Dataset generates trajectories with shape [BxTx...] where\n",
    "# T = n_step_update + 1.\n",
    "dataset = replay_buffer.as_dataset(\n",
    "    num_parallel_calls=3, sample_batch_size=batch_size,\n",
    "    num_steps=n_step_update + 1).prefetch(3)\n",
    "\n",
    "iterator = iter(dataset)"
   ]
  },
  {
   "cell_type": "markdown",
   "metadata": {
    "id": "hBc9lj9VWWtZ"
   },
   "source": [
    "## 에이전트 훈련하기\n",
    "\n",
    "훈련 루프에는 환경에서 데이터를 수집하고 에이전트의 네트워크를 최적화하는 작업이 포함됩니다. 그 과정에서 에이전트의 정책을 평가하여 진행 상황을 파악할 수 있습니다.\n",
    "\n",
    "다음을 실행하는 데 약 7분이 걸립니다."
   ]
  },
  {
   "cell_type": "code",
   "execution_count": 10,
   "metadata": {
    "execution": {
     "iopub.execute_input": "2020-11-12T01:27:57.774193Z",
     "iopub.status.busy": "2020-11-12T01:27:57.773391Z",
     "iopub.status.idle": "2020-11-12T01:34:13.116495Z",
     "shell.execute_reply": "2020-11-12T01:34:13.115839Z"
    },
    "id": "0pTbJ3PeyF-u"
   },
   "outputs": [
    {
     "name": "stdout",
     "output_type": "stream",
     "text": [
      "WARNING:tensorflow:From /tmpfs/src/tf_docs_env/lib/python3.6/site-packages/tensorflow/python/util/dispatch.py:201: calling foldr_v2 (from tensorflow.python.ops.functional_ops) with back_prop=False is deprecated and will be removed in a future version.\n",
      "Instructions for updating:\n",
      "back_prop=False is deprecated. Consider using tf.stop_gradient instead.\n",
      "Instead of:\n",
      "results = tf.foldr(fn, elems, back_prop=False)\n",
      "Use:\n",
      "results = tf.nest.map_structure(tf.stop_gradient, tf.foldr(fn, elems))\n"
     ]
    },
    {
     "name": "stdout",
     "output_type": "stream",
     "text": [
      "step = 200: loss = 2.9235901832580566\n"
     ]
    },
    {
     "name": "stdout",
     "output_type": "stream",
     "text": [
      "step = 400: loss = 2.4912521839141846\n"
     ]
    },
    {
     "name": "stdout",
     "output_type": "stream",
     "text": [
      "step = 600: loss = 2.063544273376465\n"
     ]
    },
    {
     "name": "stdout",
     "output_type": "stream",
     "text": [
      "step = 800: loss = 1.9763214588165283\n"
     ]
    },
    {
     "name": "stdout",
     "output_type": "stream",
     "text": [
      "step = 1000: loss = 1.6374388933181763\n"
     ]
    },
    {
     "name": "stdout",
     "output_type": "stream",
     "text": [
      "step = 1000: Average Return = 109.00\n"
     ]
    },
    {
     "name": "stdout",
     "output_type": "stream",
     "text": [
      "step = 1200: loss = 1.6560289859771729\n"
     ]
    },
    {
     "name": "stdout",
     "output_type": "stream",
     "text": [
      "step = 1400: loss = 1.4648106098175049\n"
     ]
    },
    {
     "name": "stdout",
     "output_type": "stream",
     "text": [
      "step = 1600: loss = 1.3268578052520752\n"
     ]
    },
    {
     "name": "stdout",
     "output_type": "stream",
     "text": [
      "step = 1800: loss = 1.3720085620880127\n"
     ]
    },
    {
     "name": "stdout",
     "output_type": "stream",
     "text": [
      "step = 2000: loss = 1.3370134830474854\n"
     ]
    },
    {
     "name": "stdout",
     "output_type": "stream",
     "text": [
      "step = 2000: Average Return = 115.30\n"
     ]
    },
    {
     "name": "stdout",
     "output_type": "stream",
     "text": [
      "step = 2200: loss = 1.1713643074035645\n"
     ]
    },
    {
     "name": "stdout",
     "output_type": "stream",
     "text": [
      "step = 2400: loss = 1.2708210945129395\n"
     ]
    },
    {
     "name": "stdout",
     "output_type": "stream",
     "text": [
      "step = 2600: loss = 1.3232998847961426\n"
     ]
    },
    {
     "name": "stdout",
     "output_type": "stream",
     "text": [
      "step = 2800: loss = 1.2653660774230957\n"
     ]
    },
    {
     "name": "stdout",
     "output_type": "stream",
     "text": [
      "step = 3000: loss = 1.1402384042739868\n"
     ]
    },
    {
     "name": "stdout",
     "output_type": "stream",
     "text": [
      "step = 3000: Average Return = 132.90\n"
     ]
    },
    {
     "name": "stdout",
     "output_type": "stream",
     "text": [
      "step = 3200: loss = 1.0176886320114136\n"
     ]
    },
    {
     "name": "stdout",
     "output_type": "stream",
     "text": [
      "step = 3400: loss = 0.8608313798904419\n"
     ]
    },
    {
     "name": "stdout",
     "output_type": "stream",
     "text": [
      "step = 3600: loss = 0.929936408996582\n"
     ]
    },
    {
     "name": "stdout",
     "output_type": "stream",
     "text": [
      "step = 3800: loss = 0.8328216075897217\n"
     ]
    },
    {
     "name": "stdout",
     "output_type": "stream",
     "text": [
      "step = 4000: loss = 0.8802810907363892\n"
     ]
    },
    {
     "name": "stdout",
     "output_type": "stream",
     "text": [
      "step = 4000: Average Return = 295.80\n"
     ]
    },
    {
     "name": "stdout",
     "output_type": "stream",
     "text": [
      "step = 4200: loss = 0.7492141723632812\n"
     ]
    },
    {
     "name": "stdout",
     "output_type": "stream",
     "text": [
      "step = 4400: loss = 0.7726025581359863\n"
     ]
    },
    {
     "name": "stdout",
     "output_type": "stream",
     "text": [
      "step = 4600: loss = 0.6017787456512451\n"
     ]
    },
    {
     "name": "stdout",
     "output_type": "stream",
     "text": [
      "step = 4800: loss = 1.0069717168807983\n"
     ]
    },
    {
     "name": "stdout",
     "output_type": "stream",
     "text": [
      "step = 5000: loss = 0.7220809459686279\n"
     ]
    },
    {
     "name": "stdout",
     "output_type": "stream",
     "text": [
      "step = 5000: Average Return = 311.60\n"
     ]
    },
    {
     "name": "stdout",
     "output_type": "stream",
     "text": [
      "step = 5200: loss = 0.7488924264907837\n"
     ]
    },
    {
     "name": "stdout",
     "output_type": "stream",
     "text": [
      "step = 5400: loss = 0.5694210529327393\n"
     ]
    },
    {
     "name": "stdout",
     "output_type": "stream",
     "text": [
      "step = 5600: loss = 0.6721386313438416\n"
     ]
    },
    {
     "name": "stdout",
     "output_type": "stream",
     "text": [
      "step = 5800: loss = 0.7949295043945312\n"
     ]
    },
    {
     "name": "stdout",
     "output_type": "stream",
     "text": [
      "step = 6000: loss = 0.651282787322998\n"
     ]
    },
    {
     "name": "stdout",
     "output_type": "stream",
     "text": [
      "step = 6000: Average Return = 199.70\n"
     ]
    },
    {
     "name": "stdout",
     "output_type": "stream",
     "text": [
      "step = 6200: loss = 0.6233834624290466\n"
     ]
    },
    {
     "name": "stdout",
     "output_type": "stream",
     "text": [
      "step = 6400: loss = 0.8107583522796631\n"
     ]
    },
    {
     "name": "stdout",
     "output_type": "stream",
     "text": [
      "step = 6600: loss = 0.58380126953125\n"
     ]
    },
    {
     "name": "stdout",
     "output_type": "stream",
     "text": [
      "step = 6800: loss = 0.7505298852920532\n"
     ]
    },
    {
     "name": "stdout",
     "output_type": "stream",
     "text": [
      "step = 7000: loss = 0.5908092260360718\n"
     ]
    },
    {
     "name": "stdout",
     "output_type": "stream",
     "text": [
      "step = 7000: Average Return = 299.10\n"
     ]
    },
    {
     "name": "stdout",
     "output_type": "stream",
     "text": [
      "step = 7200: loss = 0.5538588762283325\n"
     ]
    },
    {
     "name": "stdout",
     "output_type": "stream",
     "text": [
      "step = 7400: loss = 0.6156070232391357\n"
     ]
    },
    {
     "name": "stdout",
     "output_type": "stream",
     "text": [
      "step = 7600: loss = 0.47887083888053894\n"
     ]
    },
    {
     "name": "stdout",
     "output_type": "stream",
     "text": [
      "step = 7800: loss = 0.5000264644622803\n"
     ]
    },
    {
     "name": "stdout",
     "output_type": "stream",
     "text": [
      "step = 8000: loss = 0.45284855365753174\n"
     ]
    },
    {
     "name": "stdout",
     "output_type": "stream",
     "text": [
      "step = 8000: Average Return = 350.80\n"
     ]
    },
    {
     "name": "stdout",
     "output_type": "stream",
     "text": [
      "step = 8200: loss = 0.6110968589782715\n"
     ]
    },
    {
     "name": "stdout",
     "output_type": "stream",
     "text": [
      "step = 8400: loss = 0.3919612169265747\n"
     ]
    },
    {
     "name": "stdout",
     "output_type": "stream",
     "text": [
      "step = 8600: loss = 0.7722547054290771\n"
     ]
    },
    {
     "name": "stdout",
     "output_type": "stream",
     "text": [
      "step = 8800: loss = 0.4046146869659424\n"
     ]
    },
    {
     "name": "stdout",
     "output_type": "stream",
     "text": [
      "step = 9000: loss = 0.46277034282684326\n"
     ]
    },
    {
     "name": "stdout",
     "output_type": "stream",
     "text": [
      "step = 9000: Average Return = 271.50\n"
     ]
    },
    {
     "name": "stdout",
     "output_type": "stream",
     "text": [
      "step = 9200: loss = 0.3679955005645752\n"
     ]
    },
    {
     "name": "stdout",
     "output_type": "stream",
     "text": [
      "step = 9400: loss = 0.5566927194595337\n"
     ]
    },
    {
     "name": "stdout",
     "output_type": "stream",
     "text": [
      "step = 9600: loss = 0.41106539964675903\n"
     ]
    },
    {
     "name": "stdout",
     "output_type": "stream",
     "text": [
      "step = 9800: loss = 0.4605582356452942\n"
     ]
    },
    {
     "name": "stdout",
     "output_type": "stream",
     "text": [
      "step = 10000: loss = 0.5555872321128845\n"
     ]
    },
    {
     "name": "stdout",
     "output_type": "stream",
     "text": [
      "step = 10000: Average Return = 312.10\n"
     ]
    },
    {
     "name": "stdout",
     "output_type": "stream",
     "text": [
      "step = 10200: loss = 0.7797821164131165\n"
     ]
    },
    {
     "name": "stdout",
     "output_type": "stream",
     "text": [
      "step = 10400: loss = 0.44633305072784424\n"
     ]
    },
    {
     "name": "stdout",
     "output_type": "stream",
     "text": [
      "step = 10600: loss = 0.5042504072189331\n"
     ]
    },
    {
     "name": "stdout",
     "output_type": "stream",
     "text": [
      "step = 10800: loss = 0.3371679484844208\n"
     ]
    },
    {
     "name": "stdout",
     "output_type": "stream",
     "text": [
      "step = 11000: loss = 0.4677901268005371\n"
     ]
    },
    {
     "name": "stdout",
     "output_type": "stream",
     "text": [
      "step = 11000: Average Return = 299.80\n"
     ]
    },
    {
     "name": "stdout",
     "output_type": "stream",
     "text": [
      "step = 11200: loss = 0.5636323094367981\n"
     ]
    },
    {
     "name": "stdout",
     "output_type": "stream",
     "text": [
      "step = 11400: loss = 0.5001413822174072\n"
     ]
    },
    {
     "name": "stdout",
     "output_type": "stream",
     "text": [
      "step = 11600: loss = 0.47711390256881714\n"
     ]
    },
    {
     "name": "stdout",
     "output_type": "stream",
     "text": [
      "step = 11800: loss = 0.40261152386665344\n"
     ]
    },
    {
     "name": "stdout",
     "output_type": "stream",
     "text": [
      "step = 12000: loss = 0.43015092611312866\n"
     ]
    },
    {
     "name": "stdout",
     "output_type": "stream",
     "text": [
      "step = 12000: Average Return = 350.70\n"
     ]
    },
    {
     "name": "stdout",
     "output_type": "stream",
     "text": [
      "step = 12200: loss = 0.34091717004776\n"
     ]
    },
    {
     "name": "stdout",
     "output_type": "stream",
     "text": [
      "step = 12400: loss = 0.6249416470527649\n"
     ]
    },
    {
     "name": "stdout",
     "output_type": "stream",
     "text": [
      "step = 12600: loss = 0.5073033571243286\n"
     ]
    },
    {
     "name": "stdout",
     "output_type": "stream",
     "text": [
      "step = 12800: loss = 0.39890575408935547\n"
     ]
    },
    {
     "name": "stdout",
     "output_type": "stream",
     "text": [
      "step = 13000: loss = 0.32381200790405273\n"
     ]
    },
    {
     "name": "stdout",
     "output_type": "stream",
     "text": [
      "step = 13000: Average Return = 388.10\n"
     ]
    },
    {
     "name": "stdout",
     "output_type": "stream",
     "text": [
      "step = 13200: loss = 0.4492424726486206\n"
     ]
    },
    {
     "name": "stdout",
     "output_type": "stream",
     "text": [
      "step = 13400: loss = 0.313627153635025\n"
     ]
    },
    {
     "name": "stdout",
     "output_type": "stream",
     "text": [
      "step = 13600: loss = 0.33874017000198364\n"
     ]
    },
    {
     "name": "stdout",
     "output_type": "stream",
     "text": [
      "step = 13800: loss = 0.46816664934158325\n"
     ]
    },
    {
     "name": "stdout",
     "output_type": "stream",
     "text": [
      "step = 14000: loss = 0.3927123546600342\n"
     ]
    },
    {
     "name": "stdout",
     "output_type": "stream",
     "text": [
      "step = 14000: Average Return = 435.20\n"
     ]
    },
    {
     "name": "stdout",
     "output_type": "stream",
     "text": [
      "step = 14200: loss = 0.33503296971321106\n"
     ]
    },
    {
     "name": "stdout",
     "output_type": "stream",
     "text": [
      "step = 14400: loss = 0.3649250566959381\n"
     ]
    },
    {
     "name": "stdout",
     "output_type": "stream",
     "text": [
      "step = 14600: loss = 0.3163893520832062\n"
     ]
    },
    {
     "name": "stdout",
     "output_type": "stream",
     "text": [
      "step = 14800: loss = 0.5127081871032715\n"
     ]
    },
    {
     "name": "stdout",
     "output_type": "stream",
     "text": [
      "step = 15000: loss = 0.3506118059158325\n"
     ]
    },
    {
     "name": "stdout",
     "output_type": "stream",
     "text": [
      "step = 15000: Average Return = 408.60\n"
     ]
    }
   ],
   "source": [
    "#@test {\"skip\": true}\n",
    "try:\n",
    "  %%time\n",
    "except:\n",
    "  pass\n",
    "\n",
    "# (Optional) Optimize by wrapping some of the code in a graph using TF function.\n",
    "agent.train = common.function(agent.train)\n",
    "\n",
    "# Reset the train step\n",
    "agent.train_step_counter.assign(0)\n",
    "\n",
    "# Evaluate the agent's policy once before training.\n",
    "avg_return = compute_avg_return(eval_env, agent.policy, num_eval_episodes)\n",
    "returns = [avg_return]\n",
    "\n",
    "for _ in range(num_iterations):\n",
    "\n",
    "  # Collect a few steps using collect_policy and save to the replay buffer.\n",
    "  for _ in range(collect_steps_per_iteration):\n",
    "    collect_step(train_env, agent.collect_policy)\n",
    "\n",
    "  # Sample a batch of data from the buffer and update the agent's network.\n",
    "  experience, unused_info = next(iterator)\n",
    "  train_loss = agent.train(experience)\n",
    "\n",
    "  step = agent.train_step_counter.numpy()\n",
    "\n",
    "  if step % log_interval == 0:\n",
    "    print('step = {0}: loss = {1}'.format(step, train_loss.loss))\n",
    "\n",
    "  if step % eval_interval == 0:\n",
    "    avg_return = compute_avg_return(eval_env, agent.policy, num_eval_episodes)\n",
    "    print('step = {0}: Average Return = {1:.2f}'.format(step, avg_return))\n",
    "    returns.append(avg_return)"
   ]
  },
  {
   "cell_type": "markdown",
   "metadata": {
    "id": "68jNcA_TiJDq"
   },
   "source": [
    "## 시각화\n"
   ]
  },
  {
   "cell_type": "markdown",
   "metadata": {
    "id": "aO-LWCdbbOIC"
   },
   "source": [
    "### 플롯하기\n",
    "\n",
    "에이전트의 성과를 확인하기 위해 수익 대 글로벌 스텝을 플롯할 수 있습니다. `Cartpole-v1`에서 환경은 극이 머무르는 각 타임스텝에 대해 +1의 보상을 제공하며 최대 스텝 수는 500이므로 가능한 최대 수익도 500입니다."
   ]
  },
  {
   "cell_type": "code",
   "execution_count": 11,
   "metadata": {
    "execution": {
     "iopub.execute_input": "2020-11-12T01:34:13.141779Z",
     "iopub.status.busy": "2020-11-12T01:34:13.135510Z",
     "iopub.status.idle": "2020-11-12T01:34:13.252532Z",
     "shell.execute_reply": "2020-11-12T01:34:13.252976Z"
    },
    "id": "NxtL1mbOYCVO"
   },
   "outputs": [
    {
     "data": {
      "text/plain": [
       "(-11.57500081062317, 550.0)"
      ]
     },
     "execution_count": 1,
     "metadata": {},
     "output_type": "execute_result"
    },
    {
     "data": {
      "image/png": "[encoded data removed]",
      "text/plain": [
       "<Figure size 432x288 with 1 Axes>"
      ]
     },
     "metadata": {
      "needs_background": "light"
     },
     "output_type": "display_data"
    }
   ],
   "source": [
    "#@test {\"skip\": true}\n",
    "\n",
    "steps = range(0, num_iterations + 1, eval_interval)\n",
    "plt.plot(steps, returns)\n",
    "plt.ylabel('Average Return')\n",
    "plt.xlabel('Step')\n",
    "plt.ylim(top=550)"
   ]
  },
  {
   "cell_type": "markdown",
   "metadata": {
    "id": "M7-XpPP99Cy7"
   },
   "source": [
    "### 비디오"
   ]
  },
  {
   "cell_type": "markdown",
   "metadata": {
    "id": "9pGfGxSH32gn"
   },
   "source": [
    "각 스텝에서 환경을 렌더링하여 에이전트의 성능을 시각화하면 도움이 됩니다. 이를 수행하기 전에 먼저 이 Colab에 비디오를 포함하는 함수를 작성하겠습니다."
   ]
  },
  {
   "cell_type": "code",
   "execution_count": 12,
   "metadata": {
    "execution": {
     "iopub.execute_input": "2020-11-12T01:34:13.259420Z",
     "iopub.status.busy": "2020-11-12T01:34:13.258461Z",
     "iopub.status.idle": "2020-11-12T01:34:13.261055Z",
     "shell.execute_reply": "2020-11-12T01:34:13.260487Z"
    },
    "id": "ULaGr8pvOKbl"
   },
   "outputs": [],
   "source": [
    "def embed_mp4(filename):\n",
    "  \"\"\"Embeds an mp4 file in the notebook.\"\"\"\n",
    "  video = open(filename,'rb').read()\n",
    "  b64 = base64.b64encode(video)\n",
    "  tag = '''\n",
    "  <video width=\"640\" height=\"480\" controls>\n",
    "    <source src=\"data:video/mp4;base64,{0}\" type=\"video/mp4\">\n",
    "  Your browser does not support the video tag.\n",
    "  </video>'''.format(b64.decode())\n",
    "\n",
    "  return IPython.display.HTML(tag)"
   ]
  },
  {
   "cell_type": "markdown",
   "metadata": {
    "id": "9c_PH-pX4Pr5"
   },
   "source": [
    "다음 코드는 몇 가지 에피소드에 대한 에이전트 정책을 시각화합니다."
   ]
  },
  {
   "cell_type": "code",
   "execution_count": 13,
   "metadata": {
    "execution": {
     "iopub.execute_input": "2020-11-12T01:34:13.267782Z",
     "iopub.status.busy": "2020-11-12T01:34:13.266967Z",
     "iopub.status.idle": "2020-11-12T01:34:29.175772Z",
     "shell.execute_reply": "2020-11-12T01:34:29.176222Z"
    },
    "id": "owOVWB158NlF"
   },
   "outputs": [
    {
     "name": "stderr",
     "output_type": "stream",
     "text": [
      "WARNING:root:IMAGEIO FFMPEG_WRITER WARNING: input image is not divisible by macro_block_size=16, resizing from (400, 600) to (400, 608) to ensure video compatibility with most codecs and players. To prevent resizing, make your input image divisible by the macro_block_size or set the macro_block_size to None (risking incompatibility). You may also see a FFMPEG warning concerning speedloss due to data not being aligned.\n"
     ]
    },
    {
     "data": {
      "text/html": [
       "\n",
       "  <video width=\"640\" height=\"480\" controls>\n",
       "    <source src=\"data:video/mp4;base64,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\" type=\"video/mp4\">\n",
       "  Your browser does not support the video tag.\n",
       "  </video>"
      ],
      "text/plain": [
       "<IPython.core.display.HTML object>"
      ]
     },
     "execution_count": 1,
     "metadata": {},
     "output_type": "execute_result"
    }
   ],
   "source": [
    "num_episodes = 3\n",
    "video_filename = 'imageio.mp4'\n",
    "with imageio.get_writer(video_filename, fps=60) as video:\n",
    "  for _ in range(num_episodes):\n",
    "    time_step = eval_env.reset()\n",
    "    video.append_data(eval_py_env.render())\n",
    "    while not time_step.is_last():\n",
    "      action_step = agent.policy.action(time_step)\n",
    "      time_step = eval_env.step(action_step.action)\n",
    "      video.append_data(eval_py_env.render())\n",
    "\n",
    "embed_mp4(video_filename)"
   ]
  },
  {
   "cell_type": "markdown",
   "metadata": {
    "id": "exziB27hY8ia"
   },
   "source": [
    "C51은 CartPole-v1에서 DQN보다 약간 더 나은 경향이 있지만, 점차 더 복잡해지는 환경에서는 두 에이전트 간의 차이가 점점 더 중요해집니다. 예를 들어, 전체 Atari 2600 벤치마크에서 C51은 무작위 에이전트에 대해 정규화한 후 DQN에 비해 126%의 평균 점수가 개선됨을 보여줍니다. n-step 업데이트를 포함하여 추가로 개선할 수 있습니다.\n",
    "\n",
    "C51 알고리즘에 대한 자세한 내용 [강화 학습에 대한 분포적 관점(2017)](https://arxiv.org/pdf/1707.06887.pdf)을 참조하세요."
   ]
  }
 ],
 "metadata": {
  "colab": {
   "collapsed_sections": [],
   "name": "9_c51_tutorial.ipynb",
   "toc_visible": true
  },
  "kernelspec": {
   "display_name": "Python 3",
   "name": "python3"
  },
  "language_info": {
   "codemirror_mode": {
    "name": "ipython",
    "version": 3
   },
   "file_extension": ".py",
   "mimetype": "text/x-python",
   "name": "python",
   "nbconvert_exporter": "python",
   "pygments_lexer": "ipython3",
   "version": "3.6.9"
  }
 },
 "nbformat": 4,
 "nbformat_minor": 0
}
