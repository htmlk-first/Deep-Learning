{
 "cells": [
  {
   "cell_type": "markdown",
   "metadata": {
    "id": "klGNgWREsvQv"
   },
   "source": [
    "##### Copyright 2023 The TF-Agents Authors."
   ]
  },
  {
   "cell_type": "code",
   "execution_count": 1,
   "metadata": {
    "cellView": "form",
    "execution": {
     "iopub.execute_input": "2023-02-16T13:37:22.454481Z",
     "iopub.status.busy": "2023-02-16T13:37:22.454246Z",
     "iopub.status.idle": "2023-02-16T13:37:22.458137Z",
     "shell.execute_reply": "2023-02-16T13:37:22.457544Z"
    },
    "id": "nQnmcm0oI1Q-"
   },
   "outputs": [],
   "source": [
    "#@title Licensed under the Apache License, Version 2.0 (the \"License\");\n",
    "# you may not use this file except in compliance with the License.\n",
    "# You may obtain a copy of the License at\n",
    "#\n",
    "# https://www.apache.org/licenses/LICENSE-2.0\n",
    "#\n",
    "# Unless required by applicable law or agreed to in writing, software\n",
    "# distributed under the License is distributed on an \"AS IS\" BASIS,\n",
    "# WITHOUT WARRANTIES OR CONDITIONS OF ANY KIND, either express or implied.\n",
    "# See the License for the specific language governing permissions and\n",
    "# limitations under the License."
   ]
  },
  {
   "cell_type": "markdown",
   "metadata": {
    "id": "HNtBC6Bbb1YU"
   },
   "source": [
    "# REINFORCE agent\n",
    "\n",
    "<table class=\"tfo-notebook-buttons\" align=\"left\">\n",
    "  <td>\n",
    "    <a target=\"_blank\" href=\"https://www.tensorflow.org/agents/tutorials/6_reinforce_tutorial\">\n",
    "    <img src=\"https://www.tensorflow.org/images/tf_logo_32px.png\" />\n",
    "    View on TensorFlow.org</a>\n",
    "  </td>\n",
    "  <td>\n",
    "    <a target=\"_blank\" href=\"https://colab.research.google.com/github/tensorflow/agents/blob/master/docs/tutorials/6_reinforce_tutorial.ipynb\">\n",
    "    <img src=\"https://www.tensorflow.org/images/colab_logo_32px.png\" />\n",
    "    Run in Google Colab</a>\n",
    "  </td>\n",
    "  <td>\n",
    "    <a target=\"_blank\" href=\"https://github.com/tensorflow/agents/blob/master/docs/tutorials/6_reinforce_tutorial.ipynb\">\n",
    "    <img src=\"https://www.tensorflow.org/images/GitHub-Mark-32px.png\" />\n",
    "    View source on GitHub</a>\n",
    "  </td>\n",
    "  <td>\n",
    "    <a href=\"https://storage.googleapis.com/tensorflow_docs/agents/docs/tutorials/6_reinforce_tutorial.ipynb\"><img src=\"https://www.tensorflow.org/images/download_logo_32px.png\" />Download notebook</a>\n",
    "  </td>\n",
    "</table>"
   ]
  },
  {
   "cell_type": "markdown",
   "metadata": {
    "id": "ZOUOQOrFs3zn"
   },
   "source": [
    "## Introduction"
   ]
  },
  {
   "cell_type": "markdown",
   "metadata": {
    "id": "cKOCZlhUgXVK"
   },
   "source": [
    "This example shows how to train a [REINFORCE](https://www-anw.cs.umass.edu/~barto/courses/cs687/williams92simple.pdf) agent on the Cartpole environment using the TF-Agents library, similar to the [DQN tutorial](1_dqn_tutorial.ipynb).\n",
    "\n",
    "![Cartpole environment](images/cartpole.png)\n",
    "\n",
    "We will walk you through all the components in a Reinforcement Learning (RL) pipeline for training, evaluation and data collection.\n"
   ]
  },
  {
   "cell_type": "markdown",
   "metadata": {
    "id": "1u9QVVsShC9X"
   },
   "source": [
    "## Setup"
   ]
  },
  {
   "cell_type": "markdown",
   "metadata": {
    "id": "I5PNmEzIb9t4"
   },
   "source": [
    "If you haven't installed the following dependencies, run:"
   ]
  },
  {
   "cell_type": "code",
   "execution_count": 2,
   "metadata": {
    "execution": {
     "iopub.execute_input": "2023-02-16T13:37:22.461850Z",
     "iopub.status.busy": "2023-02-16T13:37:22.461312Z",
     "iopub.status.idle": "2023-02-16T13:38:01.963978Z",
     "shell.execute_reply": "2023-02-16T13:38:01.963138Z"
    },
    "id": "KEHR2Ui-lo8O"
   },
   "outputs": [
    {
     "name": "stdout",
     "output_type": "stream",
     "text": [
      "\r",
      "0% [Working]"
     ]
    },
    {
     "name": "stdout",
     "output_type": "stream",
     "text": [
      "\r",
      "0% [Connecting to us-central1.gce.archive.ubuntu.com] [Connecting to security.u\r",
      "                                                                               \r",
      "Hit:2 http://us-central1.gce.archive.ubuntu.com/ubuntu focal InRelease\r\n",
      "\r",
      "0% [Connected to apt.llvm.org (199.232.198.49)] [Connecting to security.ubuntu.\r",
      "                                                                               \r",
      "Hit:3 http://us-central1.gce.archive.ubuntu.com/ubuntu focal-updates InRelease\r\n",
      "\r",
      "                                                                               \r",
      "Get:4 http://us-central1.gce.archive.ubuntu.com/ubuntu focal-backports InRelease [108 kB]\r\n",
      "\r",
      "                                                                               \r",
      "Hit:5 https://developer.download.nvidia.com/compute/cuda/repos/ubuntu2004/x86_64  InRelease\r\n",
      "\r",
      "                                                                               \r",
      "Hit:6 https://download.docker.com/linux/ubuntu focal InRelease\r\n",
      "\r",
      "                                                                               \r",
      "Hit:7 https://nvidia.github.io/libnvidia-container/stable/ubuntu18.04/amd64  InRelease\r\n",
      "\r",
      "0% [Connected to apt.llvm.org (199.232.198.49)] [Connecting to security.ubuntu.\r",
      "                                                                               \r",
      "Hit:8 https://nvidia.github.io/nvidia-container-runtime/stable/ubuntu18.04/amd64  InRelease\r\n",
      "\r",
      "0% [Connected to apt.llvm.org (199.232.198.49)] [Connecting to security.ubuntu.\r",
      "                                                                               \r",
      "Hit:9 https://nvidia.github.io/nvidia-docker/ubuntu18.04/amd64  InRelease\r\n",
      "\r",
      "0% [Connected to apt.llvm.org (199.232.198.49)] [Connecting to security.ubuntu."
     ]
    },
    {
     "name": "stdout",
     "output_type": "stream",
     "text": [
      "\r",
      "                                                                               \r",
      "Hit:1 https://apt.llvm.org/focal llvm-toolchain-focal-14 InRelease\r\n",
      "\r",
      "0% [Connecting to security.ubuntu.com (185.125.190.36)] [Connecting to ppa.laun"
     ]
    },
    {
     "name": "stdout",
     "output_type": "stream",
     "text": [
      "\r",
      "                                                                               \r",
      "0% [Waiting for headers] [Waiting for headers]\r",
      "                                              \r",
      "Hit:10 http://ppa.launchpad.net/deadsnakes/ppa/ubuntu focal InRelease\r\n",
      "\r",
      "0% [Waiting for headers] [Connecting to ppa.launchpad.net (185.125.190.52)]\r",
      "                                                                           \r",
      "Hit:11 http://security.ubuntu.com/ubuntu focal-security InRelease\r\n",
      "\r",
      "                                                                           \r",
      "0% [Connecting to ppa.launchpad.net (185.125.190.52)]"
     ]
    },
    {
     "name": "stdout",
     "output_type": "stream",
     "text": [
      "\r",
      "0% [Connecting to ppa.launchpad.net (185.125.190.52)]"
     ]
    },
    {
     "name": "stdout",
     "output_type": "stream",
     "text": [
      "\r",
      "                                                     \r",
      "0% [Waiting for headers]"
     ]
    },
    {
     "name": "stdout",
     "output_type": "stream",
     "text": [
      "\r",
      "                        \r",
      "Hit:12 http://ppa.launchpad.net/longsleep/golang-backports/ubuntu focal InRelease\r\n",
      "\r",
      "0% [Connecting to ppa.launchpad.net (185.125.190.52)]\r",
      "0% [Connecting to ppa.launchpad.net (185.125.190.52)]"
     ]
    },
    {
     "name": "stdout",
     "output_type": "stream",
     "text": [
      "\r",
      "                                                     \r",
      "0% [Waiting for headers]"
     ]
    },
    {
     "name": "stdout",
     "output_type": "stream",
     "text": [
      "\r",
      "0% [Waiting for headers]\r",
      "                        \r",
      "Hit:13 http://ppa.launchpad.net/openjdk-r/ppa/ubuntu focal InRelease\r\n",
      "\r",
      "                        \r",
      "0% [Working]"
     ]
    },
    {
     "name": "stdout",
     "output_type": "stream",
     "text": [
      "\r",
      "0% [Working]"
     ]
    },
    {
     "name": "stdout",
     "output_type": "stream",
     "text": [
      "\r",
      "0% [Working]"
     ]
    },
    {
     "name": "stdout",
     "output_type": "stream",
     "text": [
      "\r",
      "0% [Working]"
     ]
    },
    {
     "name": "stdout",
     "output_type": "stream",
     "text": [
      "\r",
      "0% [Working]"
     ]
    },
    {
     "name": "stdout",
     "output_type": "stream",
     "text": [
      "\r",
      "0% [Working]"
     ]
    },
    {
     "name": "stdout",
     "output_type": "stream",
     "text": [
      "\r",
      "0% [Working]"
     ]
    },
    {
     "name": "stdout",
     "output_type": "stream",
     "text": [
      "\r",
      "100% [Working]\r",
      "              \r",
      "Fetched 108 kB in 1s (78.9 kB/s)\r\n"
     ]
    },
    {
     "name": "stdout",
     "output_type": "stream",
     "text": [
      "\r",
      "Reading package lists... 0%\r",
      "\r",
      "Reading package lists... 0%\r",
      "\r",
      "Reading package lists... 0%\r"
     ]
    },
    {
     "name": "stdout",
     "output_type": "stream",
     "text": [
      "\r",
      "Reading package lists... 3%\r",
      "\r",
      "Reading package lists... 3%\r",
      "\r",
      "Reading package lists... 4%\r",
      "\r",
      "Reading package lists... 4%\r",
      "\r",
      "Reading package lists... 5%\r",
      "\r",
      "Reading package lists... 5%\r",
      "\r",
      "Reading package lists... 5%\r",
      "\r",
      "Reading package lists... 5%\r"
     ]
    },
    {
     "name": "stdout",
     "output_type": "stream",
     "text": [
      "\r",
      "Reading package lists... 33%\r",
      "\r",
      "Reading package lists... 33%\r"
     ]
    },
    {
     "name": "stdout",
     "output_type": "stream",
     "text": [
      "\r",
      "Reading package lists... 48%\r",
      "\r",
      "Reading package lists... 48%\r",
      "\r",
      "Reading package lists... 49%\r",
      "\r",
      "Reading package lists... 49%\r",
      "\r",
      "Reading package lists... 49%\r",
      "\r",
      "Reading package lists... 49%\r"
     ]
    },
    {
     "name": "stdout",
     "output_type": "stream",
     "text": [
      "\r",
      "Reading package lists... 56%\r",
      "\r",
      "Reading package lists... 56%\r"
     ]
    },
    {
     "name": "stdout",
     "output_type": "stream",
     "text": [
      "\r",
      "Reading package lists... 61%\r",
      "\r",
      "Reading package lists... 61%\r"
     ]
    },
    {
     "name": "stdout",
     "output_type": "stream",
     "text": [
      "\r",
      "Reading package lists... 67%\r",
      "\r",
      "Reading package lists... 67%\r",
      "\r",
      "Reading package lists... 69%\r",
      "\r",
      "Reading package lists... 69%\r"
     ]
    },
    {
     "name": "stdout",
     "output_type": "stream",
     "text": [
      "\r",
      "Reading package lists... 73%\r",
      "\r",
      "Reading package lists... 73%\r",
      "\r",
      "Reading package lists... 74%\r",
      "\r",
      "Reading package lists... 74%\r",
      "\r",
      "Reading package lists... 74%\r",
      "\r",
      "Reading package lists... 74%\r",
      "\r",
      "Reading package lists... 74%\r",
      "\r",
      "Reading package lists... 74%\r",
      "\r",
      "Reading package lists... 74%\r",
      "\r",
      "Reading package lists... 74%\r",
      "\r",
      "Reading package lists... 74%\r",
      "\r",
      "Reading package lists... 74%\r",
      "\r",
      "Reading package lists... 74%\r",
      "\r",
      "Reading package lists... 74%\r",
      "\r",
      "Reading package lists... 74%\r",
      "\r",
      "Reading package lists... 74%\r",
      "\r",
      "Reading package lists... 75%\r",
      "\r",
      "Reading package lists... 80%\r",
      "\r",
      "Reading package lists... 80%\r"
     ]
    },
    {
     "name": "stdout",
     "output_type": "stream",
     "text": [
      "\r",
      "Reading package lists... 85%\r",
      "\r",
      "Reading package lists... 85%\r",
      "\r",
      "Reading package lists... 90%\r",
      "\r",
      "Reading package lists... 90%\r",
      "\r",
      "Reading package lists... 92%\r",
      "\r",
      "Reading package lists... 92%\r",
      "\r",
      "Reading package lists... 95%\r",
      "\r",
      "Reading package lists... 95%\r",
      "\r",
      "Reading package lists... 96%\r",
      "\r",
      "Reading package lists... 96%\r",
      "\r",
      "Reading package lists... 96%\r",
      "\r",
      "Reading package lists... 96%\r",
      "\r",
      "Reading package lists... 96%\r",
      "\r",
      "Reading package lists... 96%\r",
      "\r",
      "Reading package lists... 96%\r",
      "\r",
      "Reading package lists... 96%\r"
     ]
    },
    {
     "name": "stdout",
     "output_type": "stream",
     "text": [
      "\r",
      "Reading package lists... 98%\r",
      "\r",
      "Reading package lists... 98%\r",
      "\r",
      "Reading package lists... 98%\r",
      "\r",
      "Reading package lists... 98%\r",
      "\r",
      "Reading package lists... 98%\r",
      "\r",
      "Reading package lists... 98%\r",
      "\r",
      "Reading package lists... 98%\r",
      "\r",
      "Reading package lists... 98%\r",
      "\r",
      "Reading package lists... 98%\r",
      "\r",
      "Reading package lists... 98%\r",
      "\r",
      "Reading package lists... 98%\r",
      "\r",
      "Reading package lists... 98%\r",
      "\r",
      "Reading package lists... 99%\r",
      "\r",
      "Reading package lists... 99%\r",
      "\r",
      "Reading package lists... 99%\r",
      "\r",
      "Reading package lists... 99%\r",
      "\r",
      "Reading package lists... 99%\r",
      "\r",
      "Reading package lists... 99%\r",
      "\r",
      "Reading package lists... 99%\r",
      "\r",
      "Reading package lists... 99%\r"
     ]
    },
    {
     "name": "stdout",
     "output_type": "stream",
     "text": [
      "\r",
      "Reading package lists... 99%\r",
      "\r",
      "Reading package lists... 99%\r"
     ]
    },
    {
     "name": "stdout",
     "output_type": "stream",
     "text": [
      "\r",
      "Reading package lists... Done\r",
      "\r\n"
     ]
    },
    {
     "name": "stdout",
     "output_type": "stream",
     "text": [
      "\r",
      "Reading package lists... 0%\r",
      "\r",
      "Reading package lists... 100%\r",
      "\r",
      "Reading package lists... Done\r",
      "\r\n",
      "\r",
      "Building dependency tree... 0%\r",
      "\r",
      "Building dependency tree... 0%\r"
     ]
    },
    {
     "name": "stdout",
     "output_type": "stream",
     "text": [
      "\r",
      "Building dependency tree... 50%\r",
      "\r",
      "Building dependency tree... 50%\r"
     ]
    },
    {
     "name": "stdout",
     "output_type": "stream",
     "text": [
      "\r",
      "Building dependency tree       \r",
      "\r\n",
      "\r",
      "Reading state information... 0%\r",
      "\r",
      "Reading state information... 0%\r",
      "\r",
      "Reading state information... Done\r",
      "\r\n"
     ]
    },
    {
     "name": "stdout",
     "output_type": "stream",
     "text": [
      "freeglut3-dev is already the newest version (2.8.1-3).\r\n",
      "ffmpeg is already the newest version (7:4.2.7-0ubuntu0.1).\r\n",
      "xvfb is already the newest version (2:1.20.13-1ubuntu1~20.04.6).\r\n"
     ]
    },
    {
     "name": "stdout",
     "output_type": "stream",
     "text": [
      "The following packages were automatically installed and are no longer required:\r\n",
      "  libatasmart4 libblockdev-fs2 libblockdev-loop2 libblockdev-part-err2\r\n",
      "  libblockdev-part2 libblockdev-swap2 libblockdev-utils2 libblockdev2\r\n",
      "  libparted-fs-resize0 libxmlb2\r\n",
      "Use 'sudo apt autoremove' to remove them.\r\n"
     ]
    },
    {
     "name": "stdout",
     "output_type": "stream",
     "text": [
      "0 upgraded, 0 newly installed, 0 to remove and 56 not upgraded.\r\n"
     ]
    },
    {
     "name": "stdout",
     "output_type": "stream",
     "text": [
      "Collecting imageio==2.4.0\r\n",
      "  Using cached imageio-2.4.0-py3-none-any.whl\r\n",
      "Requirement already satisfied: pillow in /tmpfs/src/tf_docs_env/lib/python3.9/site-packages (from imageio==2.4.0) (9.4.0)\r\n",
      "Requirement already satisfied: numpy in /tmpfs/src/tf_docs_env/lib/python3.9/site-packages (from imageio==2.4.0) (1.23.5)\r\n"
     ]
    },
    {
     "name": "stdout",
     "output_type": "stream",
     "text": [
      "Installing collected packages: imageio\r\n",
      "  Attempting uninstall: imageio\r\n",
      "    Found existing installation: imageio 2.25.1\r\n"
     ]
    },
    {
     "name": "stdout",
     "output_type": "stream",
     "text": [
      "    Uninstalling imageio-2.25.1:\r\n",
      "      Successfully uninstalled imageio-2.25.1\r\n"
     ]
    },
    {
     "name": "stdout",
     "output_type": "stream",
     "text": [
      "\u001b[31mERROR: pip's dependency resolver does not currently take into account all the packages that are installed. This behaviour is the source of the following dependency conflicts.\r\n",
      "scikit-image 0.19.3 requires imageio>=2.4.1, but you have imageio 2.4.0 which is incompatible.\u001b[0m\u001b[31m\r\n",
      "\u001b[0mSuccessfully installed imageio-2.4.0\r\n"
     ]
    },
    {
     "name": "stdout",
     "output_type": "stream",
     "text": [
      "Collecting pyvirtualdisplay\r\n"
     ]
    },
    {
     "name": "stdout",
     "output_type": "stream",
     "text": [
      "  Using cached PyVirtualDisplay-3.0-py3-none-any.whl (15 kB)\r\n"
     ]
    },
    {
     "name": "stdout",
     "output_type": "stream",
     "text": [
      "Installing collected packages: pyvirtualdisplay\r\n"
     ]
    },
    {
     "name": "stdout",
     "output_type": "stream",
     "text": [
      "Successfully installed pyvirtualdisplay-3.0\r\n"
     ]
    },
    {
     "name": "stdout",
     "output_type": "stream",
     "text": [
      "Collecting tf-agents[reverb]\r\n",
      "  Using cached tf_agents-0.15.0-py3-none-any.whl (1.4 MB)\r\n"
     ]
    },
    {
     "name": "stdout",
     "output_type": "stream",
     "text": [
      "Collecting gym<=0.23.0,>=0.17.0\r\n",
      "  Using cached gym-0.23.0-py3-none-any.whl\r\n",
      "Requirement already satisfied: six>=1.10.0 in /tmpfs/src/tf_docs_env/lib/python3.9/site-packages (from tf-agents[reverb]) (1.16.0)\r\n"
     ]
    },
    {
     "name": "stdout",
     "output_type": "stream",
     "text": [
      "Collecting cloudpickle>=1.3\r\n",
      "  Using cached cloudpickle-2.2.1-py3-none-any.whl (25 kB)\r\n",
      "Requirement already satisfied: pillow in /tmpfs/src/tf_docs_env/lib/python3.9/site-packages (from tf-agents[reverb]) (9.4.0)\r\n",
      "Requirement already satisfied: numpy>=1.13.3 in /tmpfs/src/tf_docs_env/lib/python3.9/site-packages (from tf-agents[reverb]) (1.23.5)\r\n"
     ]
    },
    {
     "name": "stdout",
     "output_type": "stream",
     "text": [
      "Collecting pygame==2.1.0\r\n"
     ]
    },
    {
     "name": "stdout",
     "output_type": "stream",
     "text": [
      "  Using cached pygame-2.1.0-cp39-cp39-manylinux_2_17_x86_64.manylinux2014_x86_64.whl (18.3 MB)\r\n"
     ]
    },
    {
     "name": "stdout",
     "output_type": "stream",
     "text": [
      "Requirement already satisfied: typing-extensions>=3.7.4.3 in /tmpfs/src/tf_docs_env/lib/python3.9/site-packages (from tf-agents[reverb]) (4.5.0)\r\n"
     ]
    },
    {
     "name": "stdout",
     "output_type": "stream",
     "text": [
      "Collecting tensorflow-probability>=0.18.0\r\n",
      "  Using cached tensorflow_probability-0.19.0-py2.py3-none-any.whl (6.7 MB)\r\n"
     ]
    },
    {
     "name": "stdout",
     "output_type": "stream",
     "text": [
      "Requirement already satisfied: protobuf>=3.11.3 in /tmpfs/src/tf_docs_env/lib/python3.9/site-packages (from tf-agents[reverb]) (3.20.3)\r\n",
      "Requirement already satisfied: absl-py>=0.6.1 in /tmpfs/src/tf_docs_env/lib/python3.9/site-packages (from tf-agents[reverb]) (1.4.0)\r\n",
      "Requirement already satisfied: wrapt>=1.11.1 in /tmpfs/src/tf_docs_env/lib/python3.9/site-packages (from tf-agents[reverb]) (1.15.0rc1)\r\n",
      "Collecting gin-config>=0.4.0\r\n"
     ]
    },
    {
     "name": "stdout",
     "output_type": "stream",
     "text": [
      "  Using cached gin_config-0.5.0-py3-none-any.whl (61 kB)\r\n",
      "Collecting dm-reverb~=0.10.0\r\n",
      "  Using cached dm_reverb-0.10.0-cp39-cp39-manylinux2014_x86_64.whl (6.3 MB)\r\n"
     ]
    },
    {
     "name": "stdout",
     "output_type": "stream",
     "text": [
      "Collecting tensorflow==2.11.0\r\n"
     ]
    },
    {
     "name": "stdout",
     "output_type": "stream",
     "text": [
      "  Using cached tensorflow-2.11.0-cp39-cp39-manylinux_2_17_x86_64.manylinux2014_x86_64.whl (588.3 MB)\r\n"
     ]
    },
    {
     "name": "stdout",
     "output_type": "stream",
     "text": [
      "Collecting rlds\r\n",
      "  Using cached rlds-0.1.7-py3-none-manylinux2010_x86_64.whl (48 kB)\r\n",
      "Requirement already satisfied: astunparse>=1.6.0 in /tmpfs/src/tf_docs_env/lib/python3.9/site-packages (from tensorflow==2.11.0->tf-agents[reverb]) (1.6.3)\r\n"
     ]
    },
    {
     "name": "stdout",
     "output_type": "stream",
     "text": [
      "Collecting tensorflow-estimator<2.12,>=2.11.0\r\n",
      "  Using cached tensorflow_estimator-2.11.0-py2.py3-none-any.whl (439 kB)\r\n",
      "Requirement already satisfied: opt-einsum>=2.3.2 in /tmpfs/src/tf_docs_env/lib/python3.9/site-packages (from tensorflow==2.11.0->tf-agents[reverb]) (3.3.0)\r\n",
      "Requirement already satisfied: termcolor>=1.1.0 in /tmpfs/src/tf_docs_env/lib/python3.9/site-packages (from tensorflow==2.11.0->tf-agents[reverb]) (2.2.0)\r\n",
      "Requirement already satisfied: packaging in /tmpfs/src/tf_docs_env/lib/python3.9/site-packages (from tensorflow==2.11.0->tf-agents[reverb]) (23.0)\r\n",
      "Requirement already satisfied: flatbuffers>=2.0 in /tmpfs/src/tf_docs_env/lib/python3.9/site-packages (from tensorflow==2.11.0->tf-agents[reverb]) (23.1.21)\r\n",
      "Requirement already satisfied: google-pasta>=0.1.1 in /tmpfs/src/tf_docs_env/lib/python3.9/site-packages (from tensorflow==2.11.0->tf-agents[reverb]) (0.2.0)\r\n",
      "Requirement already satisfied: h5py>=2.9.0 in /tmpfs/src/tf_docs_env/lib/python3.9/site-packages (from tensorflow==2.11.0->tf-agents[reverb]) (3.8.0)\r\n"
     ]
    },
    {
     "name": "stdout",
     "output_type": "stream",
     "text": [
      "Collecting protobuf>=3.11.3\r\n",
      "  Using cached protobuf-3.19.6-cp39-cp39-manylinux_2_17_x86_64.manylinux2014_x86_64.whl (1.1 MB)\r\n",
      "Requirement already satisfied: tensorflow-io-gcs-filesystem>=0.23.1 in /tmpfs/src/tf_docs_env/lib/python3.9/site-packages (from tensorflow==2.11.0->tf-agents[reverb]) (0.30.0)\r\n"
     ]
    },
    {
     "name": "stdout",
     "output_type": "stream",
     "text": [
      "Collecting tensorboard<2.12,>=2.11\r\n",
      "  Using cached tensorboard-2.11.2-py3-none-any.whl (6.0 MB)\r\n"
     ]
    },
    {
     "name": "stdout",
     "output_type": "stream",
     "text": [
      "Requirement already satisfied: setuptools in /tmpfs/src/tf_docs_env/lib/python3.9/site-packages (from tensorflow==2.11.0->tf-agents[reverb]) (67.3.2)\r\n"
     ]
    },
    {
     "name": "stdout",
     "output_type": "stream",
     "text": [
      "Collecting keras<2.12,>=2.11.0\r\n",
      "  Using cached keras-2.11.0-py2.py3-none-any.whl (1.7 MB)\r\n",
      "Requirement already satisfied: libclang>=13.0.0 in /tmpfs/src/tf_docs_env/lib/python3.9/site-packages (from tensorflow==2.11.0->tf-agents[reverb]) (15.0.6.1)\r\n",
      "Requirement already satisfied: gast<=0.4.0,>=0.2.1 in /tmpfs/src/tf_docs_env/lib/python3.9/site-packages (from tensorflow==2.11.0->tf-agents[reverb]) (0.4.0)\r\n",
      "Requirement already satisfied: grpcio<2.0,>=1.24.3 in /tmpfs/src/tf_docs_env/lib/python3.9/site-packages (from tensorflow==2.11.0->tf-agents[reverb]) (1.52.0rc1)\r\n",
      "Requirement already satisfied: dm-tree in /tmpfs/src/tf_docs_env/lib/python3.9/site-packages (from dm-reverb~=0.10.0->tf-agents[reverb]) (0.1.8)\r\n",
      "Collecting portpicker\r\n",
      "  Using cached portpicker-1.5.2-py3-none-any.whl (14 kB)\r\n"
     ]
    },
    {
     "name": "stdout",
     "output_type": "stream",
     "text": [
      "Requirement already satisfied: importlib-metadata>=4.10.0 in /tmpfs/src/tf_docs_env/lib/python3.9/site-packages (from gym<=0.23.0,>=0.17.0->tf-agents[reverb]) (6.0.0)\r\n"
     ]
    },
    {
     "name": "stdout",
     "output_type": "stream",
     "text": [
      "Collecting gym-notices>=0.0.4\r\n",
      "  Using cached gym_notices-0.0.8-py3-none-any.whl (3.0 kB)\r\n",
      "Requirement already satisfied: decorator in /tmpfs/src/tf_docs_env/lib/python3.9/site-packages (from tensorflow-probability>=0.18.0->tf-agents[reverb]) (5.1.1)\r\n",
      "Requirement already satisfied: wheel<1.0,>=0.23.0 in /tmpfs/src/tf_docs_env/lib/python3.9/site-packages (from astunparse>=1.6.0->tensorflow==2.11.0->tf-agents[reverb]) (0.38.4)\r\n"
     ]
    },
    {
     "name": "stdout",
     "output_type": "stream",
     "text": [
      "Requirement already satisfied: zipp>=0.5 in /tmpfs/src/tf_docs_env/lib/python3.9/site-packages (from importlib-metadata>=4.10.0->gym<=0.23.0,>=0.17.0->tf-agents[reverb]) (3.13.0)\r\n",
      "Requirement already satisfied: google-auth<3,>=1.6.3 in /tmpfs/src/tf_docs_env/lib/python3.9/site-packages (from tensorboard<2.12,>=2.11->tensorflow==2.11.0->tf-agents[reverb]) (2.16.0)\r\n",
      "Requirement already satisfied: markdown>=2.6.8 in /tmpfs/src/tf_docs_env/lib/python3.9/site-packages (from tensorboard<2.12,>=2.11->tensorflow==2.11.0->tf-agents[reverb]) (3.4.1)\r\n"
     ]
    },
    {
     "name": "stdout",
     "output_type": "stream",
     "text": [
      "Collecting tensorboard-data-server<0.7.0,>=0.6.0\r\n",
      "  Using cached tensorboard_data_server-0.6.1-py3-none-manylinux2010_x86_64.whl (4.9 MB)\r\n"
     ]
    },
    {
     "name": "stdout",
     "output_type": "stream",
     "text": [
      "Requirement already satisfied: google-auth-oauthlib<0.5,>=0.4.1 in /tmpfs/src/tf_docs_env/lib/python3.9/site-packages (from tensorboard<2.12,>=2.11->tensorflow==2.11.0->tf-agents[reverb]) (0.4.6)\r\n",
      "Requirement already satisfied: werkzeug>=1.0.1 in /tmpfs/src/tf_docs_env/lib/python3.9/site-packages (from tensorboard<2.12,>=2.11->tensorflow==2.11.0->tf-agents[reverb]) (2.2.3)\r\n",
      "Requirement already satisfied: tensorboard-plugin-wit>=1.6.0 in /tmpfs/src/tf_docs_env/lib/python3.9/site-packages (from tensorboard<2.12,>=2.11->tensorflow==2.11.0->tf-agents[reverb]) (1.8.1)\r\n",
      "Requirement already satisfied: requests<3,>=2.21.0 in /tmpfs/src/tf_docs_env/lib/python3.9/site-packages (from tensorboard<2.12,>=2.11->tensorflow==2.11.0->tf-agents[reverb]) (2.28.2)\r\n",
      "Requirement already satisfied: psutil in /tmpfs/src/tf_docs_env/lib/python3.9/site-packages (from portpicker->dm-reverb~=0.10.0->tf-agents[reverb]) (5.9.4)\r\n"
     ]
    },
    {
     "name": "stdout",
     "output_type": "stream",
     "text": [
      "Requirement already satisfied: rsa<5,>=3.1.4 in /tmpfs/src/tf_docs_env/lib/python3.9/site-packages (from google-auth<3,>=1.6.3->tensorboard<2.12,>=2.11->tensorflow==2.11.0->tf-agents[reverb]) (4.9)\r\n",
      "Requirement already satisfied: pyasn1-modules>=0.2.1 in /tmpfs/src/tf_docs_env/lib/python3.9/site-packages (from google-auth<3,>=1.6.3->tensorboard<2.12,>=2.11->tensorflow==2.11.0->tf-agents[reverb]) (0.3.0rc1)\r\n",
      "Requirement already satisfied: cachetools<6.0,>=2.0.0 in /tmpfs/src/tf_docs_env/lib/python3.9/site-packages (from google-auth<3,>=1.6.3->tensorboard<2.12,>=2.11->tensorflow==2.11.0->tf-agents[reverb]) (5.3.0)\r\n",
      "Requirement already satisfied: requests-oauthlib>=0.7.0 in /tmpfs/src/tf_docs_env/lib/python3.9/site-packages (from google-auth-oauthlib<0.5,>=0.4.1->tensorboard<2.12,>=2.11->tensorflow==2.11.0->tf-agents[reverb]) (1.3.1)\r\n",
      "Requirement already satisfied: certifi>=2017.4.17 in /tmpfs/src/tf_docs_env/lib/python3.9/site-packages (from requests<3,>=2.21.0->tensorboard<2.12,>=2.11->tensorflow==2.11.0->tf-agents[reverb]) (2022.12.7)\r\n",
      "Requirement already satisfied: idna<4,>=2.5 in /tmpfs/src/tf_docs_env/lib/python3.9/site-packages (from requests<3,>=2.21.0->tensorboard<2.12,>=2.11->tensorflow==2.11.0->tf-agents[reverb]) (3.4)\r\n",
      "Requirement already satisfied: charset-normalizer<4,>=2 in /tmpfs/src/tf_docs_env/lib/python3.9/site-packages (from requests<3,>=2.21.0->tensorboard<2.12,>=2.11->tensorflow==2.11.0->tf-agents[reverb]) (3.0.1)\r\n",
      "Requirement already satisfied: urllib3<1.27,>=1.21.1 in /tmpfs/src/tf_docs_env/lib/python3.9/site-packages (from requests<3,>=2.21.0->tensorboard<2.12,>=2.11->tensorflow==2.11.0->tf-agents[reverb]) (1.26.14)\r\n",
      "Requirement already satisfied: MarkupSafe>=2.1.1 in /tmpfs/src/tf_docs_env/lib/python3.9/site-packages (from werkzeug>=1.0.1->tensorboard<2.12,>=2.11->tensorflow==2.11.0->tf-agents[reverb]) (2.1.2)\r\n"
     ]
    },
    {
     "name": "stdout",
     "output_type": "stream",
     "text": [
      "Requirement already satisfied: pyasn1<0.6.0,>=0.4.6 in /tmpfs/src/tf_docs_env/lib/python3.9/site-packages (from pyasn1-modules>=0.2.1->google-auth<3,>=1.6.3->tensorboard<2.12,>=2.11->tensorflow==2.11.0->tf-agents[reverb]) (0.5.0rc2)\r\n",
      "Requirement already satisfied: oauthlib>=3.0.0 in /tmpfs/src/tf_docs_env/lib/python3.9/site-packages (from requests-oauthlib>=0.7.0->google-auth-oauthlib<0.5,>=0.4.1->tensorboard<2.12,>=2.11->tensorflow==2.11.0->tf-agents[reverb]) (3.2.2)\r\n"
     ]
    },
    {
     "name": "stdout",
     "output_type": "stream",
     "text": [
      "Installing collected packages: gym-notices, gin-config, tensorflow-estimator, tensorboard-data-server, rlds, pygame, protobuf, portpicker, keras, cloudpickle, tensorflow-probability, gym, dm-reverb, tf-agents, tensorboard, tensorflow\r\n"
     ]
    },
    {
     "name": "stdout",
     "output_type": "stream",
     "text": [
      "  Attempting uninstall: tensorflow-estimator\r\n",
      "    Found existing installation: tensorflow-estimator 2.12.0rc0\r\n"
     ]
    },
    {
     "name": "stdout",
     "output_type": "stream",
     "text": [
      "    Uninstalling tensorflow-estimator-2.12.0rc0:\r\n",
      "      Successfully uninstalled tensorflow-estimator-2.12.0rc0\r\n"
     ]
    },
    {
     "name": "stdout",
     "output_type": "stream",
     "text": [
      "  Attempting uninstall: tensorboard-data-server\r\n",
      "    Found existing installation: tensorboard-data-server 0.7.0\r\n",
      "    Uninstalling tensorboard-data-server-0.7.0:\r\n",
      "      Successfully uninstalled tensorboard-data-server-0.7.0\r\n"
     ]
    },
    {
     "name": "stdout",
     "output_type": "stream",
     "text": [
      "  Attempting uninstall: protobuf\r\n",
      "    Found existing installation: protobuf 3.20.3\r\n"
     ]
    },
    {
     "name": "stdout",
     "output_type": "stream",
     "text": [
      "    Uninstalling protobuf-3.20.3:\r\n"
     ]
    },
    {
     "name": "stdout",
     "output_type": "stream",
     "text": [
      "      Successfully uninstalled protobuf-3.20.3\r\n"
     ]
    },
    {
     "name": "stdout",
     "output_type": "stream",
     "text": [
      "  Attempting uninstall: keras\r\n",
      "    Found existing installation: keras 2.12.0rc0\r\n"
     ]
    },
    {
     "name": "stdout",
     "output_type": "stream",
     "text": [
      "    Uninstalling keras-2.12.0rc0:\r\n",
      "      Successfully uninstalled keras-2.12.0rc0\r\n"
     ]
    },
    {
     "name": "stdout",
     "output_type": "stream",
     "text": [
      "  Attempting uninstall: tensorboard\r\n",
      "    Found existing installation: tensorboard 2.12.0\r\n"
     ]
    },
    {
     "name": "stdout",
     "output_type": "stream",
     "text": [
      "    Uninstalling tensorboard-2.12.0:\r\n",
      "      Successfully uninstalled tensorboard-2.12.0\r\n"
     ]
    },
    {
     "name": "stdout",
     "output_type": "stream",
     "text": [
      "  Attempting uninstall: tensorflow\r\n",
      "    Found existing installation: tensorflow 2.12.0rc0\r\n"
     ]
    },
    {
     "name": "stdout",
     "output_type": "stream",
     "text": [
      "    Uninstalling tensorflow-2.12.0rc0:\r\n"
     ]
    },
    {
     "name": "stdout",
     "output_type": "stream",
     "text": [
      "      Successfully uninstalled tensorflow-2.12.0rc0\r\n"
     ]
    },
    {
     "name": "stdout",
     "output_type": "stream",
     "text": [
      "Successfully installed cloudpickle-2.2.1 dm-reverb-0.10.0 gin-config-0.5.0 gym-0.23.0 gym-notices-0.0.8 keras-2.11.0 portpicker-1.5.2 protobuf-3.19.6 pygame-2.1.0 rlds-0.1.7 tensorboard-2.11.2 tensorboard-data-server-0.6.1 tensorflow-2.11.0 tensorflow-estimator-2.11.0 tensorflow-probability-0.19.0 tf-agents-0.15.0\r\n"
     ]
    },
    {
     "name": "stdout",
     "output_type": "stream",
     "text": [
      "Requirement already satisfied: pyglet in /tmpfs/src/tf_docs_env/lib/python3.9/site-packages (2.0.4)\r\n",
      "Requirement already satisfied: xvfbwrapper in /tmpfs/src/tf_docs_env/lib/python3.9/site-packages (0.2.9)\r\n"
     ]
    }
   ],
   "source": [
    "!sudo apt-get update\n",
    "!sudo apt-get install -y xvfb ffmpeg freeglut3-dev\n",
    "!pip install 'imageio==2.4.0'\n",
    "!pip install pyvirtualdisplay\n",
    "!pip install tf-agents[reverb]\n",
    "!pip install pyglet xvfbwrapper\n"
   ]
  },
  {
   "cell_type": "code",
   "execution_count": 3,
   "metadata": {
    "execution": {
     "iopub.execute_input": "2023-02-16T13:38:01.967861Z",
     "iopub.status.busy": "2023-02-16T13:38:01.967570Z",
     "iopub.status.idle": "2023-02-16T13:38:04.665627Z",
     "shell.execute_reply": "2023-02-16T13:38:04.664392Z"
    },
    "id": "sMitx5qSgJk1"
   },
   "outputs": [
    {
     "name": "stderr",
     "output_type": "stream",
     "text": [
      "2023-02-16 13:38:03.217137: W tensorflow/compiler/xla/stream_executor/platform/default/dso_loader.cc:64] Could not load dynamic library 'libnvinfer.so.7'; dlerror: libnvinfer.so.7: cannot open shared object file: No such file or directory\n",
      "2023-02-16 13:38:03.217245: W tensorflow/compiler/xla/stream_executor/platform/default/dso_loader.cc:64] Could not load dynamic library 'libnvinfer_plugin.so.7'; dlerror: libnvinfer_plugin.so.7: cannot open shared object file: No such file or directory\n",
      "2023-02-16 13:38:03.217255: W tensorflow/compiler/tf2tensorrt/utils/py_utils.cc:38] TF-TRT Warning: Cannot dlopen some TensorRT libraries. If you would like to use Nvidia GPU with TensorRT, please make sure the missing libraries mentioned above are installed properly.\n"
     ]
    }
   ],
   "source": [
    "from __future__ import absolute_import\n",
    "from __future__ import division\n",
    "from __future__ import print_function\n",
    "\n",
    "import base64\n",
    "import imageio\n",
    "import IPython\n",
    "import matplotlib.pyplot as plt\n",
    "import numpy as np\n",
    "import PIL.Image\n",
    "import pyvirtualdisplay\n",
    "import reverb\n",
    "\n",
    "import tensorflow as tf\n",
    "\n",
    "from tf_agents.agents.reinforce import reinforce_agent\n",
    "from tf_agents.drivers import py_driver\n",
    "from tf_agents.environments import suite_gym\n",
    "from tf_agents.environments import tf_py_environment\n",
    "from tf_agents.networks import actor_distribution_network\n",
    "from tf_agents.policies import py_tf_eager_policy\n",
    "from tf_agents.replay_buffers import reverb_replay_buffer\n",
    "from tf_agents.replay_buffers import reverb_utils\n",
    "from tf_agents.specs import tensor_spec\n",
    "from tf_agents.trajectories import trajectory\n",
    "from tf_agents.utils import common\n",
    "\n",
    "# Set up a virtual display for rendering OpenAI gym environments.\n",
    "display = pyvirtualdisplay.Display(visible=0, size=(1400, 900)).start()"
   ]
  },
  {
   "cell_type": "markdown",
   "metadata": {
    "id": "LmC0NDhdLIKY"
   },
   "source": [
    "## Hyperparameters"
   ]
  },
  {
   "cell_type": "code",
   "execution_count": 4,
   "metadata": {
    "execution": {
     "iopub.execute_input": "2023-02-16T13:38:04.670288Z",
     "iopub.status.busy": "2023-02-16T13:38:04.669498Z",
     "iopub.status.idle": "2023-02-16T13:38:04.674624Z",
     "shell.execute_reply": "2023-02-16T13:38:04.673877Z"
    },
    "id": "HC1kNrOsLSIZ"
   },
   "outputs": [],
   "source": [
    "env_name = \"CartPole-v0\" # @param {type:\"string\"}\n",
    "num_iterations = 250 # @param {type:\"integer\"}\n",
    "collect_episodes_per_iteration = 2 # @param {type:\"integer\"}\n",
    "replay_buffer_capacity = 2000 # @param {type:\"integer\"}\n",
    "\n",
    "fc_layer_params = (100,)\n",
    "\n",
    "learning_rate = 1e-3 # @param {type:\"number\"}\n",
    "log_interval = 25 # @param {type:\"integer\"}\n",
    "num_eval_episodes = 10 # @param {type:\"integer\"}\n",
    "eval_interval = 50 # @param {type:\"integer\"}"
   ]
  },
  {
   "cell_type": "markdown",
   "metadata": {
    "id": "VMsJC3DEgI0x"
   },
   "source": [
    "## Environment\n",
    "\n",
    "Environments in RL represent the task or problem that we are trying to solve. Standard environments can be easily created in TF-Agents using `suites`. We have different `suites` for loading environments from sources such as the OpenAI Gym, Atari, DM Control, etc., given a string environment name.\n",
    "\n",
    "Now let us load the CartPole environment from the OpenAI Gym suite."
   ]
  },
  {
   "cell_type": "code",
   "execution_count": 5,
   "metadata": {
    "execution": {
     "iopub.execute_input": "2023-02-16T13:38:04.677554Z",
     "iopub.status.busy": "2023-02-16T13:38:04.677298Z",
     "iopub.status.idle": "2023-02-16T13:38:04.706646Z",
     "shell.execute_reply": "2023-02-16T13:38:04.705892Z"
    },
    "id": "pYEz-S9gEv2-"
   },
   "outputs": [],
   "source": [
    "env = suite_gym.load(env_name)"
   ]
  },
  {
   "cell_type": "markdown",
   "metadata": {
    "id": "IIHYVBkuvPNw"
   },
   "source": [
    "We can render this environment to see how it looks. A free-swinging pole is attached to a cart.  The goal is to move the cart right or left in order to keep the pole pointing up."
   ]
  },
  {
   "cell_type": "code",
   "execution_count": 6,
   "metadata": {
    "execution": {
     "iopub.execute_input": "2023-02-16T13:38:04.709541Z",
     "iopub.status.busy": "2023-02-16T13:38:04.709314Z",
     "iopub.status.idle": "2023-02-16T13:38:04.828081Z",
     "shell.execute_reply": "2023-02-16T13:38:04.827231Z"
    },
    "id": "RlO7WIQHu_7D"
   },
   "outputs": [
    {
     "data": {
      "image/png": "[encoded data removed]",
      "text/plain": [
       "<PIL.Image.Image image mode=RGB size=600x400>"
      ]
     },
     "execution_count": 6,
     "metadata": {},
     "output_type": "execute_result"
    }
   ],
   "source": [
    "#@test {\"skip\": true}\n",
    "env.reset()\n",
    "PIL.Image.fromarray(env.render())"
   ]
  },
  {
   "cell_type": "markdown",
   "metadata": {
    "id": "B9_lskPOey18"
   },
   "source": [
    "The `time_step = environment.step(action)` statement takes `action` in the environment.  The `TimeStep` tuple returned contains the environment's next observation and reward for that action. The `time_step_spec()` and `action_spec()` methods in the environment return the specifications (types, shapes, bounds) of the `time_step` and `action` respectively."
   ]
  },
  {
   "cell_type": "code",
   "execution_count": 7,
   "metadata": {
    "execution": {
     "iopub.execute_input": "2023-02-16T13:38:04.831059Z",
     "iopub.status.busy": "2023-02-16T13:38:04.830801Z",
     "iopub.status.idle": "2023-02-16T13:38:04.996415Z",
     "shell.execute_reply": "2023-02-16T13:38:04.995636Z"
    },
    "id": "exDv57iHfwQV"
   },
   "outputs": [
    {
     "name": "stdout",
     "output_type": "stream",
     "text": [
      "Observation Spec:\n",
      "BoundedArraySpec(shape=(4,), dtype=dtype('float32'), name='observation', minimum=[-4.8000002e+00 -3.4028235e+38 -4.1887903e-01 -3.4028235e+38], maximum=[4.8000002e+00 3.4028235e+38 4.1887903e-01 3.4028235e+38])\n",
      "Action Spec:\n",
      "BoundedArraySpec(shape=(), dtype=dtype('int64'), name='action', minimum=0, maximum=1)\n"
     ]
    }
   ],
   "source": [
    "print('Observation Spec:')\n",
    "print(env.time_step_spec().observation)\n",
    "print('Action Spec:')\n",
    "print(env.action_spec())"
   ]
  },
  {
   "cell_type": "markdown",
   "metadata": {
    "id": "eJCgJnx3g0yY"
   },
   "source": [
    "So, we see that observation is an array of 4 floats: the position and velocity of the cart, and the angular position and velocity of the pole. Since only two actions are possible (move left or move right), the `action_spec` is a scalar where 0 means \"move left\" and 1 means \"move right.\""
   ]
  },
  {
   "cell_type": "code",
   "execution_count": 8,
   "metadata": {
    "execution": {
     "iopub.execute_input": "2023-02-16T13:38:05.000028Z",
     "iopub.status.busy": "2023-02-16T13:38:04.999417Z",
     "iopub.status.idle": "2023-02-16T13:38:05.006486Z",
     "shell.execute_reply": "2023-02-16T13:38:05.005719Z"
    },
    "id": "V2UGR5t_iZX-"
   },
   "outputs": [
    {
     "name": "stdout",
     "output_type": "stream",
     "text": [
      "Time step:\n",
      "TimeStep(\n",
      "{'discount': array(1., dtype=float32),\n",
      " 'observation': array([-0.00936952,  0.03431276,  0.01222295, -0.03050506], dtype=float32),\n",
      " 'reward': array(0., dtype=float32),\n",
      " 'step_type': array(0, dtype=int32)})\n",
      "Next time step:\n",
      "TimeStep(\n",
      "{'discount': array(1., dtype=float32),\n",
      " 'observation': array([-0.00868327,  0.22925732,  0.01161285, -0.31930658], dtype=float32),\n",
      " 'reward': array(1., dtype=float32),\n",
      " 'step_type': array(1, dtype=int32)})\n"
     ]
    }
   ],
   "source": [
    "time_step = env.reset()\n",
    "print('Time step:')\n",
    "print(time_step)\n",
    "\n",
    "action = np.array(1, dtype=np.int32)\n",
    "\n",
    "next_time_step = env.step(action)\n",
    "print('Next time step:')\n",
    "print(next_time_step)"
   ]
  },
  {
   "cell_type": "markdown",
   "metadata": {
    "id": "zuUqXAVmecTU"
   },
   "source": [
    "Usually we create two environments: one for training and one for evaluation. Most environments are written in pure python, but they can be easily converted to TensorFlow using the `TFPyEnvironment` wrapper. The original environment's API uses numpy arrays, the `TFPyEnvironment` converts these to/from `Tensors` for you to more easily interact with TensorFlow policies and agents.\n"
   ]
  },
  {
   "cell_type": "code",
   "execution_count": 9,
   "metadata": {
    "execution": {
     "iopub.execute_input": "2023-02-16T13:38:05.010011Z",
     "iopub.status.busy": "2023-02-16T13:38:05.009417Z",
     "iopub.status.idle": "2023-02-16T13:38:05.021134Z",
     "shell.execute_reply": "2023-02-16T13:38:05.020391Z"
    },
    "id": "Xp-Y4mD6eDhF"
   },
   "outputs": [],
   "source": [
    "train_py_env = suite_gym.load(env_name)\n",
    "eval_py_env = suite_gym.load(env_name)\n",
    "\n",
    "train_env = tf_py_environment.TFPyEnvironment(train_py_env)\n",
    "eval_env = tf_py_environment.TFPyEnvironment(eval_py_env)"
   ]
  },
  {
   "cell_type": "markdown",
   "metadata": {
    "id": "E9lW_OZYFR8A"
   },
   "source": [
    "## Agent\n",
    "\n",
    "The algorithm that we use to solve an RL problem is represented as an `Agent`. In addition to the REINFORCE agent, TF-Agents provides standard implementations of a variety of `Agents` such as [DQN](https://storage.googleapis.com/deepmind-media/dqn/DQNNaturePaper.pdf), [DDPG](https://arxiv.org/pdf/1509.02971.pdf), [TD3](https://arxiv.org/pdf/1802.09477.pdf), [PPO](https://arxiv.org/abs/1707.06347) and [SAC](https://arxiv.org/abs/1801.01290).\n",
    "\n",
    "To create a REINFORCE Agent, we first need an `Actor Network` that can learn to predict the action given an observation from the environment.\n",
    "\n",
    "We can easily create an `Actor Network` using the specs of the observations and actions. We can specify the layers in the network which, in this example, is the `fc_layer_params` argument set to a tuple of `ints` representing the sizes of each hidden layer (see the Hyperparameters section above).\n"
   ]
  },
  {
   "cell_type": "code",
   "execution_count": 10,
   "metadata": {
    "execution": {
     "iopub.execute_input": "2023-02-16T13:38:05.024458Z",
     "iopub.status.busy": "2023-02-16T13:38:05.023879Z",
     "iopub.status.idle": "2023-02-16T13:38:05.058570Z",
     "shell.execute_reply": "2023-02-16T13:38:05.057713Z"
    },
    "id": "TgkdEPg_muzV"
   },
   "outputs": [],
   "source": [
    "actor_net = actor_distribution_network.ActorDistributionNetwork(\n",
    "    train_env.observation_spec(),\n",
    "    train_env.action_spec(),\n",
    "    fc_layer_params=fc_layer_params)"
   ]
  },
  {
   "cell_type": "markdown",
   "metadata": {
    "id": "z62u55hSmviJ"
   },
   "source": [
    "We also need an `optimizer` to train the network we just created, and a `train_step_counter` variable to keep track of how many times the network was updated.\n"
   ]
  },
  {
   "cell_type": "code",
   "execution_count": 11,
   "metadata": {
    "execution": {
     "iopub.execute_input": "2023-02-16T13:38:05.061892Z",
     "iopub.status.busy": "2023-02-16T13:38:05.061306Z",
     "iopub.status.idle": "2023-02-16T13:38:08.594222Z",
     "shell.execute_reply": "2023-02-16T13:38:08.593501Z"
    },
    "id": "jbY4yrjTEyc9"
   },
   "outputs": [],
   "source": [
    "optimizer = tf.keras.optimizers.Adam(learning_rate=learning_rate)\n",
    "\n",
    "train_step_counter = tf.Variable(0)\n",
    "\n",
    "tf_agent = reinforce_agent.ReinforceAgent(\n",
    "    train_env.time_step_spec(),\n",
    "    train_env.action_spec(),\n",
    "    actor_network=actor_net,\n",
    "    optimizer=optimizer,\n",
    "    normalize_returns=True,\n",
    "    train_step_counter=train_step_counter)\n",
    "tf_agent.initialize()"
   ]
  },
  {
   "cell_type": "markdown",
   "metadata": {
    "id": "I0KLrEPwkn5x"
   },
   "source": [
    "## Policies\n",
    "\n",
    "In TF-Agents, policies represent the standard notion of policies in RL: given a `time_step` produce an action or a distribution over actions. The main method is `policy_step = policy.action(time_step)` where `policy_step` is a named tuple `PolicyStep(action, state, info)`.  The `policy_step.action` is the `action` to be applied to the environment, `state` represents the state for stateful (RNN) policies and `info` may contain auxiliary information such as log probabilities of the actions.\n",
    "\n",
    "Agents contain two policies: the main policy that is used for evaluation/deployment (agent.policy) and another policy that is used for data collection (agent.collect_policy)."
   ]
  },
  {
   "cell_type": "code",
   "execution_count": 12,
   "metadata": {
    "execution": {
     "iopub.execute_input": "2023-02-16T13:38:08.597911Z",
     "iopub.status.busy": "2023-02-16T13:38:08.597626Z",
     "iopub.status.idle": "2023-02-16T13:38:08.600822Z",
     "shell.execute_reply": "2023-02-16T13:38:08.600276Z"
    },
    "id": "BwY7StuMkuV4"
   },
   "outputs": [],
   "source": [
    "eval_policy = tf_agent.policy\n",
    "collect_policy = tf_agent.collect_policy"
   ]
  },
  {
   "cell_type": "markdown",
   "metadata": {
    "id": "94rCXQtbUbXv"
   },
   "source": [
    "## Metrics and Evaluation\n",
    "\n",
    "The most common metric used to evaluate a policy is the average return. The return is the sum of rewards obtained while running a policy in an environment for an episode, and we usually average this over a few episodes. We can compute the average return metric as follows.\n"
   ]
  },
  {
   "cell_type": "code",
   "execution_count": 13,
   "metadata": {
    "execution": {
     "iopub.execute_input": "2023-02-16T13:38:08.603382Z",
     "iopub.status.busy": "2023-02-16T13:38:08.603162Z",
     "iopub.status.idle": "2023-02-16T13:38:08.607478Z",
     "shell.execute_reply": "2023-02-16T13:38:08.606946Z"
    },
    "id": "bitzHo5_UbXy"
   },
   "outputs": [],
   "source": [
    "#@test {\"skip\": true}\n",
    "def compute_avg_return(environment, policy, num_episodes=10):\n",
    "\n",
    "  total_return = 0.0\n",
    "  for _ in range(num_episodes):\n",
    "\n",
    "    time_step = environment.reset()\n",
    "    episode_return = 0.0\n",
    "\n",
    "    while not time_step.is_last():\n",
    "      action_step = policy.action(time_step)\n",
    "      time_step = environment.step(action_step.action)\n",
    "      episode_return += time_step.reward\n",
    "    total_return += episode_return\n",
    "\n",
    "  avg_return = total_return / num_episodes\n",
    "  return avg_return.numpy()[0]\n",
    "\n",
    "\n",
    "# Please also see the metrics module for standard implementations of different\n",
    "# metrics."
   ]
  },
  {
   "cell_type": "markdown",
   "metadata": {
    "id": "NLva6g2jdWgr"
   },
   "source": [
    "## Replay Buffer\n",
    "\n",
    "In order to keep track of the data collected from the environment, we will use [Reverb](https://deepmind.com/research/open-source/Reverb), an efficient, extensible, and easy-to-use replay system by Deepmind. It stores experience data when we collect trajectories and is consumed during training.\n",
    "\n",
    "This replay buffer is constructed using specs describing the tensors that are to be stored, which can be obtained from the agent using `tf_agent.collect_data_spec`."
   ]
  },
  {
   "cell_type": "code",
   "execution_count": 14,
   "metadata": {
    "execution": {
     "iopub.execute_input": "2023-02-16T13:38:08.610506Z",
     "iopub.status.busy": "2023-02-16T13:38:08.610035Z",
     "iopub.status.idle": "2023-02-16T13:38:08.625252Z",
     "shell.execute_reply": "2023-02-16T13:38:08.624689Z"
    },
    "id": "vX2zGUWJGWAl"
   },
   "outputs": [
    {
     "name": "stderr",
     "output_type": "stream",
     "text": [
      "[reverb/cc/platform/tfrecord_checkpointer.cc:162]  Initializing TFRecordCheckpointer in /tmpfs/tmp/tmphr1_o7dx.\n",
      "[reverb/cc/platform/tfrecord_checkpointer.cc:567] Loading latest checkpoint from /tmpfs/tmp/tmphr1_o7dx\n",
      "[reverb/cc/platform/default/server.cc:71] Started replay server on port 38009\n"
     ]
    }
   ],
   "source": [
    "table_name = 'uniform_table'\n",
    "replay_buffer_signature = tensor_spec.from_spec(\n",
    "      tf_agent.collect_data_spec)\n",
    "replay_buffer_signature = tensor_spec.add_outer_dim(\n",
    "      replay_buffer_signature)\n",
    "table = reverb.Table(\n",
    "    table_name,\n",
    "    max_size=replay_buffer_capacity,\n",
    "    sampler=reverb.selectors.Uniform(),\n",
    "    remover=reverb.selectors.Fifo(),\n",
    "    rate_limiter=reverb.rate_limiters.MinSize(1),\n",
    "    signature=replay_buffer_signature)\n",
    "\n",
    "reverb_server = reverb.Server([table])\n",
    "\n",
    "replay_buffer = reverb_replay_buffer.ReverbReplayBuffer(\n",
    "    tf_agent.collect_data_spec,\n",
    "    table_name=table_name,\n",
    "    sequence_length=None,\n",
    "    local_server=reverb_server)\n",
    "\n",
    "rb_observer = reverb_utils.ReverbAddEpisodeObserver(\n",
    "    replay_buffer.py_client,\n",
    "    table_name,\n",
    "    replay_buffer_capacity\n",
    ")"
   ]
  },
  {
   "cell_type": "markdown",
   "metadata": {
    "id": "ZGNTDJpZs4NN"
   },
   "source": [
    "For most agents, the `collect_data_spec` is a `Trajectory` named tuple containing the observation, action, reward etc."
   ]
  },
  {
   "cell_type": "markdown",
   "metadata": {
    "id": "rVD5nQ9ZGo8_"
   },
   "source": [
    "## Data Collection\n",
    "\n",
    "As REINFORCE learns from whole episodes, we define a function to collect an episode using the given data collection policy and save the data (observations, actions, rewards etc.) as trajectories in the replay buffer. Here we are using 'PyDriver' to run the experience collecting loop. You can learn more about TF Agents driver in our [drivers tutorial](https://www.tensorflow.org/agents/tutorials/4_drivers_tutorial)."
   ]
  },
  {
   "cell_type": "code",
   "execution_count": 15,
   "metadata": {
    "execution": {
     "iopub.execute_input": "2023-02-16T13:38:08.628488Z",
     "iopub.status.busy": "2023-02-16T13:38:08.627842Z",
     "iopub.status.idle": "2023-02-16T13:38:08.631541Z",
     "shell.execute_reply": "2023-02-16T13:38:08.630971Z"
    },
    "id": "wr1KSAEGG4h9"
   },
   "outputs": [],
   "source": [
    "#@test {\"skip\": true}\n",
    "\n",
    "def collect_episode(environment, policy, num_episodes):\n",
    "\n",
    "  driver = py_driver.PyDriver(\n",
    "    environment,\n",
    "    py_tf_eager_policy.PyTFEagerPolicy(\n",
    "      policy, use_tf_function=True),\n",
    "    [rb_observer],\n",
    "    max_episodes=num_episodes)\n",
    "  initial_time_step = environment.reset()\n",
    "  driver.run(initial_time_step)"
   ]
  },
  {
   "cell_type": "markdown",
   "metadata": {
    "id": "hBc9lj9VWWtZ"
   },
   "source": [
    "## Training the agent\n",
    "\n",
    "The training loop involves both collecting data from the environment and optimizing the agent's networks. Along the way, we will occasionally evaluate the agent's policy to see how we are doing.\n",
    "\n",
    "The following will take ~3 minutes to run."
   ]
  },
  {
   "cell_type": "code",
   "execution_count": 16,
   "metadata": {
    "execution": {
     "iopub.execute_input": "2023-02-16T13:38:08.634141Z",
     "iopub.status.busy": "2023-02-16T13:38:08.633937Z",
     "iopub.status.idle": "2023-02-16T13:40:38.875815Z",
     "shell.execute_reply": "2023-02-16T13:40:38.875127Z"
    },
    "id": "0pTbJ3PeyF-u"
   },
   "outputs": [
    {
     "name": "stdout",
     "output_type": "stream",
     "text": [
      "WARNING:tensorflow:From /tmpfs/src/tf_docs_env/lib/python3.9/site-packages/tensorflow/python/autograph/pyct/static_analysis/liveness.py:83: Analyzer.lamba_check (from tensorflow.python.autograph.pyct.static_analysis.liveness) is deprecated and will be removed after 2023-09-23.\n",
      "Instructions for updating:\n",
      "Lambda fuctions will be no more assumed to be used in the statement where they are used, or at least in the same block. https://github.com/tensorflow/tensorflow/issues/56089\n"
     ]
    },
    {
     "name": "stderr",
     "output_type": "stream",
     "text": [
      "[reverb/cc/client.cc:165] Sampler and server are owned by the same process (24514) so Table uniform_table is accessed directly without gRPC.\n"
     ]
    },
    {
     "name": "stderr",
     "output_type": "stream",
     "text": [
      "[reverb/cc/client.cc:165] Sampler and server are owned by the same process (24514) so Table uniform_table is accessed directly without gRPC.\n"
     ]
    },
    {
     "name": "stderr",
     "output_type": "stream",
     "text": [
      "[reverb/cc/client.cc:165] Sampler and server are owned by the same process (24514) so Table uniform_table is accessed directly without gRPC.\n"
     ]
    },
    {
     "name": "stderr",
     "output_type": "stream",
     "text": [
      "[reverb/cc/client.cc:165] Sampler and server are owned by the same process (24514) so Table uniform_table is accessed directly without gRPC.\n"
     ]
    },
    {
     "name": "stderr",
     "output_type": "stream",
     "text": [
      "[reverb/cc/client.cc:165] Sampler and server are owned by the same process (24514) so Table uniform_table is accessed directly without gRPC.\n"
     ]
    },
    {
     "name": "stdout",
     "output_type": "stream",
     "text": [
      "step = 25: loss = 0.9861669540405273\n"
     ]
    },
    {
     "name": "stderr",
     "output_type": "stream",
     "text": [
      "[reverb/cc/client.cc:165] Sampler and server are owned by the same process (24514) so Table uniform_table is accessed directly without gRPC.\n"
     ]
    },
    {
     "name": "stdout",
     "output_type": "stream",
     "text": [
      "step = 50: loss = 0.9843673706054688\n"
     ]
    },
    {
     "name": "stdout",
     "output_type": "stream",
     "text": [
      "step = 50: Average Return = 64.0999984741211\n"
     ]
    },
    {
     "name": "stderr",
     "output_type": "stream",
     "text": [
      "[reverb/cc/client.cc:165] Sampler and server are owned by the same process (24514) so Table uniform_table is accessed directly without gRPC.\n"
     ]
    },
    {
     "name": "stdout",
     "output_type": "stream",
     "text": [
      "step = 75: loss = 1.5301165580749512\n"
     ]
    },
    {
     "name": "stdout",
     "output_type": "stream",
     "text": [
      "step = 100: loss = 1.4956693649291992\n"
     ]
    },
    {
     "name": "stdout",
     "output_type": "stream",
     "text": [
      "step = 100: Average Return = 65.5999984741211\n"
     ]
    },
    {
     "name": "stdout",
     "output_type": "stream",
     "text": [
      "step = 125: loss = 0.6575198173522949\n"
     ]
    },
    {
     "name": "stderr",
     "output_type": "stream",
     "text": [
      "[reverb/cc/client.cc:165] Sampler and server are owned by the same process (24514) so Table uniform_table is accessed directly without gRPC.\n"
     ]
    },
    {
     "name": "stdout",
     "output_type": "stream",
     "text": [
      "step = 150: loss = -0.28385305404663086\n"
     ]
    },
    {
     "name": "stdout",
     "output_type": "stream",
     "text": [
      "step = 150: Average Return = 64.69999694824219\n"
     ]
    },
    {
     "name": "stdout",
     "output_type": "stream",
     "text": [
      "step = 175: loss = 0.7194256782531738\n"
     ]
    },
    {
     "name": "stdout",
     "output_type": "stream",
     "text": [
      "step = 200: loss = 1.206587791442871\n"
     ]
    },
    {
     "name": "stdout",
     "output_type": "stream",
     "text": [
      "step = 200: Average Return = 157.8000030517578\n"
     ]
    },
    {
     "name": "stdout",
     "output_type": "stream",
     "text": [
      "step = 225: loss = 0.21189308166503906\n"
     ]
    },
    {
     "name": "stdout",
     "output_type": "stream",
     "text": [
      "step = 250: loss = -3.2292251586914062\n"
     ]
    },
    {
     "name": "stdout",
     "output_type": "stream",
     "text": [
      "step = 250: Average Return = 200.0\n"
     ]
    }
   ],
   "source": [
    "#@test {\"skip\": true}\n",
    "try:\n",
    "  %%time\n",
    "except:\n",
    "  pass\n",
    "\n",
    "# (Optional) Optimize by wrapping some of the code in a graph using TF function.\n",
    "tf_agent.train = common.function(tf_agent.train)\n",
    "\n",
    "# Reset the train step\n",
    "tf_agent.train_step_counter.assign(0)\n",
    "\n",
    "# Evaluate the agent's policy once before training.\n",
    "avg_return = compute_avg_return(eval_env, tf_agent.policy, num_eval_episodes)\n",
    "returns = [avg_return]\n",
    "\n",
    "for _ in range(num_iterations):\n",
    "\n",
    "  # Collect a few episodes using collect_policy and save to the replay buffer.\n",
    "  collect_episode(\n",
    "      train_py_env, tf_agent.collect_policy, collect_episodes_per_iteration)\n",
    "\n",
    "  # Use data from the buffer and update the agent's network.\n",
    "  iterator = iter(replay_buffer.as_dataset(sample_batch_size=1))\n",
    "  trajectories, _ = next(iterator)\n",
    "  train_loss = tf_agent.train(experience=trajectories)  \n",
    "\n",
    "  replay_buffer.clear()\n",
    "\n",
    "  step = tf_agent.train_step_counter.numpy()\n",
    "\n",
    "  if step % log_interval == 0:\n",
    "    print('step = {0}: loss = {1}'.format(step, train_loss.loss))\n",
    "\n",
    "  if step % eval_interval == 0:\n",
    "    avg_return = compute_avg_return(eval_env, tf_agent.policy, num_eval_episodes)\n",
    "    print('step = {0}: Average Return = {1}'.format(step, avg_return))\n",
    "    returns.append(avg_return)"
   ]
  },
  {
   "cell_type": "markdown",
   "metadata": {
    "id": "68jNcA_TiJDq"
   },
   "source": [
    "## Visualization\n"
   ]
  },
  {
   "cell_type": "markdown",
   "metadata": {
    "id": "aO-LWCdbbOIC"
   },
   "source": [
    "### Plots\n",
    "\n",
    "We can plot return vs global steps to see the performance of our agent. In `Cartpole-v0`, the environment gives a reward of +1 for every time step the pole stays up, and since the maximum number of steps is 200, the maximum possible return is also 200."
   ]
  },
  {
   "cell_type": "code",
   "execution_count": 17,
   "metadata": {
    "execution": {
     "iopub.execute_input": "2023-02-16T13:40:38.879439Z",
     "iopub.status.busy": "2023-02-16T13:40:38.878967Z",
     "iopub.status.idle": "2023-02-16T13:40:39.101094Z",
     "shell.execute_reply": "2023-02-16T13:40:39.100469Z"
    },
    "id": "NxtL1mbOYCVO"
   },
   "outputs": [
    {
     "data": {
      "text/plain": [
       "(54.36499919891357, 250.0)"
      ]
     },
     "execution_count": 17,
     "metadata": {},
     "output_type": "execute_result"
    },
    {
     "data": {
      "image/png": "[encoded data removed]",
      "text/plain": [
       "<Figure size 640x480 with 1 Axes>"
      ]
     },
     "metadata": {},
     "output_type": "display_data"
    }
   ],
   "source": [
    "#@test {\"skip\": true}\n",
    "\n",
    "steps = range(0, num_iterations + 1, eval_interval)\n",
    "plt.plot(steps, returns)\n",
    "plt.ylabel('Average Return')\n",
    "plt.xlabel('Step')\n",
    "plt.ylim(top=250)"
   ]
  },
  {
   "cell_type": "markdown",
   "metadata": {
    "id": "M7-XpPP99Cy7"
   },
   "source": [
    "### Videos"
   ]
  },
  {
   "cell_type": "markdown",
   "metadata": {
    "id": "9pGfGxSH32gn"
   },
   "source": [
    "It is helpful to visualize the performance of an agent by rendering the environment at each step. Before we do that, let us first create a function to embed videos in this colab."
   ]
  },
  {
   "cell_type": "code",
   "execution_count": 18,
   "metadata": {
    "execution": {
     "iopub.execute_input": "2023-02-16T13:40:39.104389Z",
     "iopub.status.busy": "2023-02-16T13:40:39.103811Z",
     "iopub.status.idle": "2023-02-16T13:40:39.107718Z",
     "shell.execute_reply": "2023-02-16T13:40:39.107159Z"
    },
    "id": "ULaGr8pvOKbl"
   },
   "outputs": [],
   "source": [
    "def embed_mp4(filename):\n",
    "  \"\"\"Embeds an mp4 file in the notebook.\"\"\"\n",
    "  video = open(filename,'rb').read()\n",
    "  b64 = base64.b64encode(video)\n",
    "  tag = '''\n",
    "  <video width=\"640\" height=\"480\" controls>\n",
    "    <source src=\"data:video/mp4;base64,{0}\" type=\"video/mp4\">\n",
    "  Your browser does not support the video tag.\n",
    "  </video>'''.format(b64.decode())\n",
    "\n",
    "  return IPython.display.HTML(tag)"
   ]
  },
  {
   "cell_type": "markdown",
   "metadata": {
    "id": "9c_PH-pX4Pr5"
   },
   "source": [
    "The following code visualizes the agent's policy for a few episodes:"
   ]
  },
  {
   "cell_type": "code",
   "execution_count": 19,
   "metadata": {
    "execution": {
     "iopub.execute_input": "2023-02-16T13:40:39.110843Z",
     "iopub.status.busy": "2023-02-16T13:40:39.110317Z",
     "iopub.status.idle": "2023-02-16T13:40:45.521090Z",
     "shell.execute_reply": "2023-02-16T13:40:45.520332Z"
    },
    "id": "owOVWB158NlF"
   },
   "outputs": [
    {
     "name": "stderr",
     "output_type": "stream",
     "text": [
      "WARNING:root:IMAGEIO FFMPEG_WRITER WARNING: input image is not divisible by macro_block_size=16, resizing from (400, 600) to (400, 608) to ensure video compatibility with most codecs and players. To prevent resizing, make your input image divisible by the macro_block_size or set the macro_block_size to None (risking incompatibility). You may also see a FFMPEG warning concerning speedloss due to data not being aligned.\n"
     ]
    },
    {
     "name": "stderr",
     "output_type": "stream",
     "text": [
      "[swscaler @ 0x564c350d9880] Warning: data is not aligned! This can lead to a speed loss\n"
     ]
    },
    {
     "data": {
      "text/html": [
       "\n",
       "  <video width=\"640\" height=\"480\" controls>\n",
       "    <source src=\"data:video/mp4;base64,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\" type=\"video/mp4\">\n",
       "  Your browser does not support the video tag.\n",
       "  </video>"
      ],
      "text/plain": [
       "<IPython.core.display.HTML object>"
      ]
     },
     "execution_count": 19,
     "metadata": {},
     "output_type": "execute_result"
    }
   ],
   "source": [
    "num_episodes = 3\n",
    "video_filename = 'imageio.mp4'\n",
    "with imageio.get_writer(video_filename, fps=60) as video:\n",
    "  for _ in range(num_episodes):\n",
    "    time_step = eval_env.reset()\n",
    "    video.append_data(eval_py_env.render())\n",
    "    while not time_step.is_last():\n",
    "      action_step = tf_agent.policy.action(time_step)\n",
    "      time_step = eval_env.step(action_step.action)\n",
    "      video.append_data(eval_py_env.render())\n",
    "\n",
    "embed_mp4(video_filename)"
   ]
  }
 ],
 "metadata": {
  "accelerator": "GPU",
  "colab": {
   "collapsed_sections": [],
   "name": "6_reinforce_tutorial.ipynb",
   "provenance": [],
   "toc_visible": true
  },
  "kernelspec": {
   "display_name": "Python 3",
   "name": "python3"
  },
  "language_info": {
   "codemirror_mode": {
    "name": "ipython",
    "version": 3
   },
   "file_extension": ".py",
   "mimetype": "text/x-python",
   "name": "python",
   "nbconvert_exporter": "python",
   "pygments_lexer": "ipython3",
   "version": "3.9.16"
  }
 },
 "nbformat": 4,
 "nbformat_minor": 0
}
