{
 "cells": [
  {
   "cell_type": "markdown",
   "metadata": {
    "id": "z2adOh0OtVRg"
   },
   "source": [
    "##### Copyright 2023 The TensorFlow Authors."
   ]
  },
  {
   "cell_type": "code",
   "execution_count": 1,
   "metadata": {
    "cellView": "form",
    "execution": {
     "iopub.execute_input": "2023-02-01T12:08:17.616154Z",
     "iopub.status.busy": "2023-02-01T12:08:17.615774Z",
     "iopub.status.idle": "2023-02-01T12:08:17.619221Z",
     "shell.execute_reply": "2023-02-01T12:08:17.618705Z"
    },
    "id": "cDKTycmGtZ84"
   },
   "outputs": [],
   "source": [
    "#@title Licensed under the Apache License, Version 2.0 (the \"License\");\n",
    "# you may not use this file except in compliance with the License.\n",
    "# You may obtain a copy of the License at\n",
    "#\n",
    "# https://www.apache.org/licenses/LICENSE-2.0\n",
    "#\n",
    "# Unless required by applicable law or agreed to in writing, software\n",
    "# distributed under the License is distributed on an \"AS IS\" BASIS,\n",
    "# WITHOUT WARRANTIES OR CONDITIONS OF ANY KIND, either express or implied.\n",
    "# See the License for the specific language governing permissions and\n",
    "# limitations under the License."
   ]
  },
  {
   "cell_type": "markdown",
   "metadata": {
    "id": "-60qQWZytc5P"
   },
   "source": [
    "# Automated hyper-parameter tuning\n",
    "\n",
    "<table class=\"tfo-notebook-buttons\" align=\"left\">\n",
    "  <td>\n",
    "    <a target=\"_blank\" href=\"https://www.tensorflow.org/decision_forests/tutorials/automatic_tuning_colab\"><img src=\"https://www.tensorflow.org/images/tf_logo_32px.png\" />View on TensorFlow.org</a>\n",
    "  </td>\n",
    "  <td>\n",
    "    <a target=\"_blank\" href=\"https://colab.research.google.com/github/tensorflow/decision-forests/blob/main/documentation/tutorials/automatic_tuning_colab.ipynb\"><img src=\"https://www.tensorflow.org/images/colab_logo_32px.png\" />Run in Google Colab</a>\n",
    "  </td>\n",
    "  <td>\n",
    "    <a target=\"_blank\" href=\"https://github.com/tensorflow/decision-forests/blob/main/documentation/tutorials/automatic_tuning_colab.ipynb\"><img src=\"https://www.tensorflow.org/images/GitHub-Mark-32px.png\" />View on GitHub</a>\n",
    "  </td>\n",
    "  <td>\n",
    "    <a href=\"https://storage.googleapis.com/tensorflow_docs/decision-forests/documentation/tutorials/automatic_tuning_colab.ipynb\"><img src=\"https://www.tensorflow.org/images/download_logo_32px.png\" />Download notebook</a>\n",
    "  </td>\n",
    "</table>"
   ]
  },
  {
   "cell_type": "markdown",
   "metadata": {
    "id": "6v3R0N_TxCru"
   },
   "source": [
    "Welcome to the **Automated hyper-parameter tuning** tutorial. In this colab, you\n",
    "will learn how to improve your models using automated hyper-parameter tuning\n",
    "with TensorFlow Decision Forests.\n",
    "\n",
    "More precicely we will:\n",
    "\n",
    "1.  Train a model **without hyper-parameter tuning**. This model will be used to\n",
    "    measure the quality improvement of hyper-parameter tuning.\n",
    "1.  Train a model **with hyper-parameter tuning** using **TF-DF's tuner**. The\n",
    "    hyper-parameters to optimize will be **defined manually**.\n",
    "1.  Train another model **with hyper-parameter tuning** using **TF-DF's tuner**.\n",
    "    But this time, the hyper-parameters to optimize will be **set\n",
    "    automatically**. **This is the recommanded first approach to try when using\n",
    "    hyper-parameter tuning**.\n",
    "1.  Finally, we will train a model **with hyper-parameter tuning** using\n",
    "    **Keras's tuner**.\n",
    "\n",
    "## Introduction\n",
    "\n",
    "A learning algorithm trains a machine learning model on a training dataset. The\n",
    "parameters of a learning algorithm&ndash;called \"hyper-parameters\"&ndash;control\n",
    "how the model is trained and impact its quality. Therefore, finding the best\n",
    "hyper-parameters is an important stage of modeling.\n",
    "\n",
    "Some hyper-parameters are simple to configure. For example, increasing the\n",
    "number of trees (`num_trees`) in a random forest increases the quality of the\n",
    "model until a plateau. Therefore, setting the largest value compatible with the\n",
    "serving constraints (more trees means a larger model) is a valid rule of thumb.\n",
    "However, other hyper-parameters have a more complex interaction with the model\n",
    "and cannot be chosen with such a simple rule. For example, increasing the\n",
    "maximum tree depth (`max_depth`) of a gradient boosted tree model can both\n",
    "increase or decrease the quality of the model. Furthermore, hyper-parameters can\n",
    "interact between each others, and the optimal value of a hyper-parameter cannot\n",
    "be found in isolation.\n",
    "\n",
    "There are three main approaches to select the hyper-parameter values:\n",
    "\n",
    "1.  **The default approach**: Learning algorithms come with default values.\n",
    "    While not ideal in all cases, those values produce reasonable results in\n",
    "    most situations. This approach is recommended as the first approach to use\n",
    "    in any modeling.\n",
    "    [This page](https://github.com/google/yggdrasil-decision-forests/blob/main/documentation/learners.md)\n",
    "    lists the default value of TF Decision Forests.\n",
    "\n",
    "2.  **The template hyper-parameter approach**: In addition to the default\n",
    "    values, TF Decision Forests also exposes the hyper-parameter templates.\n",
    "    Those are benchmark-tuned hyper-parameter values with excellent performance\n",
    "    but high training cost (e.g. `hyperparameter_template=\"benchmark_rank1\"`).\n",
    "\n",
    "3.  **The manual tuning approach:** You can manually test different\n",
    "    hyper-parameter values and select the one that performs best.\n",
    "    [The advanced users guide](https://github.com/google/yggdrasil-decision-forests/blob/main/documentation/user_manual.md#manual-tuning-of-hyper-parameters)\n",
    "    give some advice.\n",
    "\n",
    "4.  **The automated tuning approach:** A tuning algorithm can be used to find\n",
    "    automatically the best hyper-parameter values. This approach gives often the\n",
    "    best results and does not require expertise. The main downside of this\n",
    "    approach is the time it takes for large datasets.\n",
    "\n",
    "In this colab, we shows the **default** and **automated tuning** approaches with\n",
    "the TensorFlow Decision Forests library.\n",
    "\n",
    "## Hyper-parameter tuning algorithms\n",
    "\n",
    "Automated tuning algorithms work by generating and evaluating a large number of\n",
    "hyper-parameter values. Each of those iterations is called a \"trial\". The\n",
    "evaluation of a trial is expensive as it requires to train a new model each\n",
    "time. At the end of the tuning, the hyper-parameter with the best evaluation is\n",
    "used.\n",
    "\n",
    "Tuning algorithm are configured as follow:\n",
    "\n",
    "**The search space**\n",
    "\n",
    "The search space is the list of hyper-parameters to optimize and the values they\n",
    "can take. For example, the maximum depth of a tree could be optimized for values\n",
    "in between 1 and 32. Exploring more hyper-parameters and more possible values\n",
    "often leads to better models but also takes more time. The hyper-parameters\n",
    "listed in the\n",
    "[user manual](https://github.com/google/yggdrasil-decision-forests/blob/main/documentation/user_manual.md#manual-tuning-of-hyper-parameters)\n",
    "are the most impactful ones to tune. The other hyper-parameters are listed in\n",
    "the\n",
    "[documentation](https://github.com/google/yggdrasil-decision-forests/blob/main/documentation/learners.md).\n",
    "\n",
    "When the possible value of one hyper-parameter depends on the value of another\n",
    "hyper-parameter, the search space is said to be conditional.\n",
    "\n",
    "**The number of trials**\n",
    "\n",
    "The number of trials defines how many models will be trained and evaluated.\n",
    "Larger number of trials generally leads to better models, but takes more time.\n",
    "\n",
    "**The optimizer**\n",
    "\n",
    "The optimizer selects the next hyper-parameter to evaluate the past trial\n",
    "evaluations. The simplest and often reasonable optimizer is the one that selects\n",
    "the hyper-parameter at random.\n",
    "\n",
    "**The objective / trial score**\n",
    "\n",
    "The objective is the metric optimized by the tuner. Often, this metric is a\n",
    "measure of quality (e.g. accuracy, log loss) of the model evaluated on a\n",
    "validation dataset.\n",
    "\n",
    "*Train-valid-test*\n",
    "\n",
    "The validation dataset should be different from the training datasets: If the\n",
    "training and validation datasets are the same, the selected hyper-parameters\n",
    "will be irrelevant. The validation dataset should also be different from the\n",
    "testing dataset (also called holdout dataset): Because hyper-parameter tuning is\n",
    "a form of training, if the testing and validation datasets are the same, you are\n",
    "effectively training on the test dataset. In this case, you might overfit on\n",
    "your test dataset without a way to measure it.\n",
    "\n",
    "*Cross-validation*\n",
    "\n",
    "In the case of a small dataset, for example a dataset with less than 100k\n",
    "examples, hyper-parameter tuning can be coupled with\n",
    "[cross-validation](https://en.wikipedia.org/wiki/Cross-validation_\\(statistics\\)):\n",
    "Instead of being evaluated from a single training-test round, the\n",
    "objective/trial score is evaluated as the average of the metric over multiple\n",
    "cross-validation rounds.\n",
    "\n",
    "Similarly as to the train-valid-and-test datasets, the cross-validation used to\n",
    "evaluate the objective/score during hyper-parameter tuning should be different\n",
    "from the cross-validation used to evaluate the quality of the model.\n",
    "\n",
    "*Out-of-bag evaluation*\n",
    "\n",
    "Some models, like Random Forests, can be evaluated on the training datasets\n",
    "using the \"out-of-bag evaluation\" method. While not as accurate as\n",
    "cross-validation, the \"out-of-bag evaluation\" is much faster than\n",
    "cross-validation and does not require a separate validation datasets.\n",
    "\n",
    "*In tensorflow decision forests*\n",
    "\n",
    "In TF-DF, the model\n",
    "[\"self\" evaluation](https://www.tensorflow.org/decision_forests/tutorials/beginner_colab#model_self_evaluation)\n",
    "is always a fair way to evaluate a model. For example, an out-of-bag evaluation\n",
    "is used for Random Forest models while a validation dataset is used for Gradient\n",
    "Boosted models.\n",
    "\n",
    "## Hyper-parameter tuning with TF Decision Forests\n",
    "\n",
    "TF-DF supports automatic hyper-parameter tuning with minimal configuration. In\n",
    "the next example, we will train and compare two models: One trained with default\n",
    "hyper-parameters, and one trained with hyper-parameter tuning.\n",
    "\n",
    "**Note:** Hyper-parameters tuning can take a long time in the case of large\n",
    "datasets. In this case, it is recommended to use TF-DF with distributed training\n",
    "to drastically speed-up the hyper-parameter tuning."
   ]
  },
  {
   "cell_type": "markdown",
   "metadata": {
    "id": "ehdDZCgWti0H"
   },
   "source": [
    "## Setup"
   ]
  },
  {
   "cell_type": "code",
   "execution_count": 2,
   "metadata": {
    "execution": {
     "iopub.execute_input": "2023-02-01T12:08:17.622497Z",
     "iopub.status.busy": "2023-02-01T12:08:17.621951Z",
     "iopub.status.idle": "2023-02-01T12:08:20.015970Z",
     "shell.execute_reply": "2023-02-01T12:08:20.014855Z"
    },
    "id": "OeWh16r3sipp"
   },
   "outputs": [],
   "source": [
    "# Install TensorFlow Dececision Forests\n",
    "!pip install tensorflow_decision_forests -U -qq"
   ]
  },
  {
   "cell_type": "markdown",
   "metadata": {
    "id": "BQRnwsJDtm9v"
   },
   "source": [
    "Install [Wurlitzer](https://pypi.org/project/wurlitzer/). Wurlitzer is required to show the detailed training logs in colabs (with `verbose=2`)."
   ]
  },
  {
   "cell_type": "code",
   "execution_count": 3,
   "metadata": {
    "execution": {
     "iopub.execute_input": "2023-02-01T12:08:20.020069Z",
     "iopub.status.busy": "2023-02-01T12:08:20.019550Z",
     "iopub.status.idle": "2023-02-01T12:08:21.632108Z",
     "shell.execute_reply": "2023-02-01T12:08:21.630985Z"
    },
    "id": "lh0cM23rtlwm"
   },
   "outputs": [],
   "source": [
    "!pip install wurlitzer -U -qq"
   ]
  },
  {
   "cell_type": "markdown",
   "metadata": {
    "id": "MMtytrNvtpLk"
   },
   "source": [
    "Import the necessary libraries."
   ]
  },
  {
   "cell_type": "code",
   "execution_count": 4,
   "metadata": {
    "execution": {
     "iopub.execute_input": "2023-02-01T12:08:21.635818Z",
     "iopub.status.busy": "2023-02-01T12:08:21.635549Z",
     "iopub.status.idle": "2023-02-01T12:08:24.106601Z",
     "shell.execute_reply": "2023-02-01T12:08:24.105788Z"
    },
    "id": "usa_5pEGtq2o"
   },
   "outputs": [
    {
     "name": "stderr",
     "output_type": "stream",
     "text": [
      "2023-02-01 12:08:22.560223: W tensorflow/compiler/xla/stream_executor/platform/default/dso_loader.cc:64] Could not load dynamic library 'libnvinfer.so.7'; dlerror: libnvinfer.so.7: cannot open shared object file: No such file or directory\n",
      "2023-02-01 12:08:22.560311: W tensorflow/compiler/xla/stream_executor/platform/default/dso_loader.cc:64] Could not load dynamic library 'libnvinfer_plugin.so.7'; dlerror: libnvinfer_plugin.so.7: cannot open shared object file: No such file or directory\n",
      "2023-02-01 12:08:22.560320: W tensorflow/compiler/tf2tensorrt/utils/py_utils.cc:38] TF-TRT Warning: Cannot dlopen some TensorRT libraries. If you would like to use Nvidia GPU with TensorRT, please make sure the missing libraries mentioned above are installed properly.\n"
     ]
    }
   ],
   "source": [
    "import tensorflow_decision_forests as tfdf\n",
    "import matplotlib.pyplot as plt\n",
    "import pandas as pd\n",
    "import tensorflow as tf\n",
    "import numpy as np"
   ]
  },
  {
   "cell_type": "markdown",
   "metadata": {
    "id": "h1Uwb9Ov0RnF"
   },
   "source": [
    "The hidden code cell limits the output height in colab."
   ]
  },
  {
   "cell_type": "code",
   "execution_count": 5,
   "metadata": {
    "cellView": "form",
    "execution": {
     "iopub.execute_input": "2023-02-01T12:08:24.110664Z",
     "iopub.status.busy": "2023-02-01T12:08:24.110062Z",
     "iopub.status.idle": "2023-02-01T12:08:24.242514Z",
     "shell.execute_reply": "2023-02-01T12:08:24.241824Z"
    },
    "id": "SzxVn31c0S5w"
   },
   "outputs": [],
   "source": [
    "#@title Define \"set_cell_height\".\n",
    "\n",
    "from IPython.core.magic import register_line_magic\n",
    "from IPython.display import Javascript\n",
    "from IPython.display import display\n",
    "\n",
    "# Some of the model training logs can cover the full\n",
    "# screen if not compressed to a smaller viewport.\n",
    "# This magic allows setting a max height for a cell.\n",
    "@register_line_magic\n",
    "def set_cell_height(size):\n",
    "  display(\n",
    "      Javascript(\"google.colab.output.setIframeHeight(0, true, {maxHeight: \" +\n",
    "                 str(size) + \"})\"))"
   ]
  },
  {
   "cell_type": "markdown",
   "metadata": {
    "id": "Uz1E3qbZt96o"
   },
   "source": [
    "## Training a model **without** Automated hyper-parameter tuning\n",
    "\n",
    "We will train a model on the [Adult](https://archive.ics.uci.edu/ml/datasets/adult) dataset available on the [UCI](https://archive.ics.uci.edu/ml/datasets/adult). Let's download the dataset."
   ]
  },
  {
   "cell_type": "code",
   "execution_count": 6,
   "metadata": {
    "execution": {
     "iopub.execute_input": "2023-02-01T12:08:24.245345Z",
     "iopub.status.busy": "2023-02-01T12:08:24.245119Z",
     "iopub.status.idle": "2023-02-01T12:08:25.293279Z",
     "shell.execute_reply": "2023-02-01T12:08:25.292175Z"
    },
    "id": "WZZEvxJsIJwF"
   },
   "outputs": [],
   "source": [
    "# Download a copy of the adult dataset.\n",
    "!wget -q https://raw.githubusercontent.com/google/yggdrasil-decision-forests/main/yggdrasil_decision_forests/test_data/dataset/adult_train.csv -O /tmp/adult_train.csv\n",
    "!wget -q https://raw.githubusercontent.com/google/yggdrasil-decision-forests/main/yggdrasil_decision_forests/test_data/dataset/adult_test.csv -O /tmp/adult_test.csv"
   ]
  },
  {
   "cell_type": "markdown",
   "metadata": {
    "id": "j9iyC3MaRz3k"
   },
   "source": [
    "Split the dataset into a training and a testing dataset."
   ]
  },
  {
   "cell_type": "code",
   "execution_count": 7,
   "metadata": {
    "execution": {
     "iopub.execute_input": "2023-02-01T12:08:25.297397Z",
     "iopub.status.busy": "2023-02-01T12:08:25.297118Z",
     "iopub.status.idle": "2023-02-01T12:08:28.713603Z",
     "shell.execute_reply": "2023-02-01T12:08:28.712742Z"
    },
    "id": "Q428LI7zRUSp"
   },
   "outputs": [],
   "source": [
    "# Load the dataset in memory\n",
    "train_df = pd.read_csv(\"/tmp/adult_train.csv\")\n",
    "test_df = pd.read_csv(\"/tmp/adult_test.csv\")\n",
    "\n",
    "# , and convert it into a TensorFlow dataset.\n",
    "train_ds = tfdf.keras.pd_dataframe_to_tf_dataset(train_df, label=\"income\")\n",
    "test_ds = tfdf.keras.pd_dataframe_to_tf_dataset(test_df, label=\"income\")"
   ]
  },
  {
   "cell_type": "markdown",
   "metadata": {
    "id": "6H3r4wehxOrX"
   },
   "source": [
    "First, we train and evaluate the quality of a [Gradient Boosted Trees](https://www.tensorflow.org/decision_forests/api_docs/python/tfdf/keras/GradientBoostedTreesModel) model trained with the default hyper-parameters."
   ]
  },
  {
   "cell_type": "code",
   "execution_count": 8,
   "metadata": {
    "execution": {
     "iopub.execute_input": "2023-02-01T12:08:28.717386Z",
     "iopub.status.busy": "2023-02-01T12:08:28.717145Z",
     "iopub.status.idle": "2023-02-01T12:08:36.973770Z",
     "shell.execute_reply": "2023-02-01T12:08:36.973130Z"
    },
    "id": "8NzRvyQHxZsH"
   },
   "outputs": [
    {
     "name": "stdout",
     "output_type": "stream",
     "text": [
      "Warning: The `num_threads` constructor argument is not set and the number of CPU is os.cpu_count()=32 > 32. Setting num_threads to 32. Set num_threads manually to use more than 32 cpus.\n"
     ]
    },
    {
     "name": "stderr",
     "output_type": "stream",
     "text": [
      "WARNING:absl:The `num_threads` constructor argument is not set and the number of CPU is os.cpu_count()=32 > 32. Setting num_threads to 32. Set num_threads manually to use more than 32 cpus.\n"
     ]
    },
    {
     "name": "stdout",
     "output_type": "stream",
     "text": [
      "Use /tmpfs/tmp/tmpuk7pbkq8 as temporary training directory\n"
     ]
    },
    {
     "name": "stdout",
     "output_type": "stream",
     "text": [
      "Reading training dataset...\n"
     ]
    },
    {
     "name": "stdout",
     "output_type": "stream",
     "text": [
      "WARNING:tensorflow:From /tmpfs/src/tf_docs_env/lib/python3.9/site-packages/tensorflow/python/autograph/pyct/static_analysis/liveness.py:83: Analyzer.lamba_check (from tensorflow.python.autograph.pyct.static_analysis.liveness) is deprecated and will be removed after 2023-09-23.\n",
      "Instructions for updating:\n",
      "Lambda fuctions will be no more assumed to be used in the statement where they are used, or at least in the same block. https://github.com/tensorflow/tensorflow/issues/56089\n"
     ]
    },
    {
     "name": "stderr",
     "output_type": "stream",
     "text": [
      "WARNING:tensorflow:From /tmpfs/src/tf_docs_env/lib/python3.9/site-packages/tensorflow/python/autograph/pyct/static_analysis/liveness.py:83: Analyzer.lamba_check (from tensorflow.python.autograph.pyct.static_analysis.liveness) is deprecated and will be removed after 2023-09-23.\n",
      "Instructions for updating:\n",
      "Lambda fuctions will be no more assumed to be used in the statement where they are used, or at least in the same block. https://github.com/tensorflow/tensorflow/issues/56089\n"
     ]
    },
    {
     "name": "stdout",
     "output_type": "stream",
     "text": [
      "Training dataset read in 0:00:03.662891. Found 22792 examples.\n"
     ]
    },
    {
     "name": "stdout",
     "output_type": "stream",
     "text": [
      "Training model...\n"
     ]
    },
    {
     "name": "stderr",
     "output_type": "stream",
     "text": [
      "2023-02-01 12:08:32.432401: W external/ydf/yggdrasil_decision_forests/learner/gradient_boosted_trees/gradient_boosted_trees.cc:1790] \"goss_alpha\" set but \"sampling_method\" not equal to \"GOSS\".\n",
      "2023-02-01 12:08:32.432437: W external/ydf/yggdrasil_decision_forests/learner/gradient_boosted_trees/gradient_boosted_trees.cc:1800] \"goss_beta\" set but \"sampling_method\" not equal to \"GOSS\".\n",
      "2023-02-01 12:08:32.432444: W external/ydf/yggdrasil_decision_forests/learner/gradient_boosted_trees/gradient_boosted_trees.cc:1814] \"selective_gradient_boosting_ratio\" set but \"sampling_method\" not equal to \"SELGB\".\n"
     ]
    },
    {
     "name": "stdout",
     "output_type": "stream",
     "text": [
      "Model trained in 0:00:03.111172\n"
     ]
    },
    {
     "name": "stdout",
     "output_type": "stream",
     "text": [
      "Compiling model...\n"
     ]
    },
    {
     "name": "stderr",
     "output_type": "stream",
     "text": [
      "[INFO 2023-02-01T12:08:35.50196752+00:00 kernel.cc:1214] Loading model from path /tmpfs/tmp/tmpuk7pbkq8/model/ with prefix 951b90795cc74103\n",
      "[INFO 2023-02-01T12:08:35.524444264+00:00 abstract_model.cc:1311] Engine \"GradientBoostedTreesQuickScorerExtended\" built\n",
      "[INFO 2023-02-01T12:08:35.524475121+00:00 kernel.cc:1046] Use fast generic engine\n"
     ]
    },
    {
     "name": "stdout",
     "output_type": "stream",
     "text": [
      "WARNING:tensorflow:AutoGraph could not transform <function simple_ml_inference_op_with_handle at 0x7fc976a0cdc0> and will run it as-is.\n",
      "Please report this to the TensorFlow team. When filing the bug, set the verbosity to 10 (on Linux, `export AUTOGRAPH_VERBOSITY=10`) and attach the full output.\n",
      "Cause: could not get source code\n",
      "To silence this warning, decorate the function with @tf.autograph.experimental.do_not_convert\n"
     ]
    },
    {
     "name": "stderr",
     "output_type": "stream",
     "text": [
      "WARNING:tensorflow:AutoGraph could not transform <function simple_ml_inference_op_with_handle at 0x7fc976a0cdc0> and will run it as-is.\n",
      "Please report this to the TensorFlow team. When filing the bug, set the verbosity to 10 (on Linux, `export AUTOGRAPH_VERBOSITY=10`) and attach the full output.\n",
      "Cause: could not get source code\n",
      "To silence this warning, decorate the function with @tf.autograph.experimental.do_not_convert\n"
     ]
    },
    {
     "name": "stdout",
     "output_type": "stream",
     "text": [
      "WARNING: AutoGraph could not transform <function simple_ml_inference_op_with_handle at 0x7fc976a0cdc0> and will run it as-is.\n",
      "Please report this to the TensorFlow team. When filing the bug, set the verbosity to 10 (on Linux, `export AUTOGRAPH_VERBOSITY=10`) and attach the full output.\n",
      "Cause: could not get source code\n",
      "To silence this warning, decorate the function with @tf.autograph.experimental.do_not_convert\n"
     ]
    },
    {
     "name": "stdout",
     "output_type": "stream",
     "text": [
      "Model compiled.\n"
     ]
    },
    {
     "name": "stdout",
     "output_type": "stream",
     "text": [
      "CPU times: user 11.9 s, sys: 1.19 s, total: 13.1 s\n",
      "Wall time: 8.25 s\n"
     ]
    },
    {
     "data": {
      "text/plain": [
       "<keras.callbacks.History at 0x7fca5c56db80>"
      ]
     },
     "execution_count": 8,
     "metadata": {},
     "output_type": "execute_result"
    }
   ],
   "source": [
    "%%time\n",
    "# Train a model with default hyper-parameters\n",
    "model = tfdf.keras.GradientBoostedTreesModel()\n",
    "model.fit(train_ds)"
   ]
  },
  {
   "cell_type": "code",
   "execution_count": 9,
   "metadata": {
    "execution": {
     "iopub.execute_input": "2023-02-01T12:08:36.976910Z",
     "iopub.status.busy": "2023-02-01T12:08:36.976284Z",
     "iopub.status.idle": "2023-02-01T12:08:37.353162Z",
     "shell.execute_reply": "2023-02-01T12:08:37.352422Z"
    },
    "id": "VsLHJVgcyT9J"
   },
   "outputs": [
    {
     "name": "stdout",
     "output_type": "stream",
     "text": [
      "Test accuracy without hyper-parameter tuning: 0.8744\n"
     ]
    }
   ],
   "source": [
    "# Evaluate the model\n",
    "model.compile([\"accuracy\"])\n",
    "test_accuracy = model.evaluate(test_ds, return_dict=True, verbose=0)[\"accuracy\"]\n",
    "print(f\"Test accuracy without hyper-parameter tuning: {test_accuracy:.4f}\")"
   ]
  },
  {
   "cell_type": "markdown",
   "metadata": {
    "id": "Dm_lJxjkyatR"
   },
   "source": [
    "The default hyper-parameters of the model are available with the `learner_params` function. The definition of those parameters is available in the [documentation](https://github.com/google/yggdrasil-decision-forests/blob/main/documentation/learners.md)."
   ]
  },
  {
   "cell_type": "code",
   "execution_count": 10,
   "metadata": {
    "execution": {
     "iopub.execute_input": "2023-02-01T12:08:37.356423Z",
     "iopub.status.busy": "2023-02-01T12:08:37.355876Z",
     "iopub.status.idle": "2023-02-01T12:08:37.359599Z",
     "shell.execute_reply": "2023-02-01T12:08:37.359028Z"
    },
    "id": "r2UsHw2dyKfZ"
   },
   "outputs": [
    {
     "name": "stdout",
     "output_type": "stream",
     "text": [
      "Default hyper-parameters of the model:\n",
      " {'adapt_subsample_for_maximum_training_duration': False, 'allow_na_conditions': False, 'apply_link_function': True, 'categorical_algorithm': 'CART', 'categorical_set_split_greedy_sampling': 0.1, 'categorical_set_split_max_num_items': -1, 'categorical_set_split_min_item_frequency': 1, 'compute_permutation_variable_importance': False, 'dart_dropout': 0.01, 'early_stopping': 'LOSS_INCREASE', 'early_stopping_initial_iteration': 10, 'early_stopping_num_trees_look_ahead': 30, 'focal_loss_alpha': 0.5, 'focal_loss_gamma': 2.0, 'forest_extraction': 'MART', 'goss_alpha': 0.2, 'goss_beta': 0.1, 'growing_strategy': 'LOCAL', 'honest': False, 'honest_fixed_separation': False, 'honest_ratio_leaf_examples': 0.5, 'in_split_min_examples_check': True, 'keep_non_leaf_label_distribution': True, 'l1_regularization': 0.0, 'l2_categorical_regularization': 1.0, 'l2_regularization': 0.0, 'lambda_loss': 1.0, 'loss': 'DEFAULT', 'max_depth': 6, 'max_num_nodes': None, 'maximum_model_size_in_memory_in_bytes': -1.0, 'maximum_training_duration_seconds': -1.0, 'min_examples': 5, 'missing_value_policy': 'GLOBAL_IMPUTATION', 'num_candidate_attributes': -1, 'num_candidate_attributes_ratio': -1.0, 'num_trees': 300, 'pure_serving_model': False, 'random_seed': 123456, 'sampling_method': 'RANDOM', 'selective_gradient_boosting_ratio': 0.01, 'shrinkage': 0.1, 'sorting_strategy': 'PRESORT', 'sparse_oblique_normalization': None, 'sparse_oblique_num_projections_exponent': None, 'sparse_oblique_projection_density_factor': None, 'sparse_oblique_weights': None, 'split_axis': 'AXIS_ALIGNED', 'subsample': 1.0, 'uplift_min_examples_in_treatment': 5, 'uplift_split_score': 'KULLBACK_LEIBLER', 'use_hessian_gain': False, 'validation_interval_in_trees': 1, 'validation_ratio': 0.1}\n"
     ]
    }
   ],
   "source": [
    "print(\"Default hyper-parameters of the model:\\n\", model.learner_params)"
   ]
  },
  {
   "cell_type": "markdown",
   "metadata": {
    "id": "eGSv9fBRuKUH"
   },
   "source": [
    "## Training a model **with** automated hyper-parameter tuning and **manual** definition of the hyper-parameters\n",
    "\n",
    "Hyper-parameter tuning is enabled by specifying the `tuner` constructor argument of the model. The tuner object contains all the configuration of the tuner (search space, optimizer, trial and objective).\n",
    "\n",
    "**Note:** *In the next section, you will see how to automtically configure hyper-parameters values. However, setting the hyper-parameters manually as shown here is still valuable to understand.*"
   ]
  },
  {
   "cell_type": "code",
   "execution_count": 11,
   "metadata": {
    "execution": {
     "iopub.execute_input": "2023-02-01T12:08:37.362636Z",
     "iopub.status.busy": "2023-02-01T12:08:37.362151Z",
     "iopub.status.idle": "2023-02-01T12:08:37.369979Z",
     "shell.execute_reply": "2023-02-01T12:08:37.369403Z"
    },
    "id": "Xf2M0eVGzcwd"
   },
   "outputs": [
    {
     "data": {
      "text/plain": [
       "<tensorflow_decision_forests.component.tuner.tuner.SearchSpace at 0x7fc9702bd5e0>"
      ]
     },
     "execution_count": 11,
     "metadata": {},
     "output_type": "execute_result"
    }
   ],
   "source": [
    "# Configure the tuner.\n",
    "\n",
    "# Create a Random Search tuner with 50 trials.\n",
    "tuner = tfdf.tuner.RandomSearch(num_trials=50)\n",
    "\n",
    "# Define the search space.\n",
    "#\n",
    "# Adding more parameters generaly improve the quality of the model, but make\n",
    "# the tuning last longer.\n",
    "\n",
    "tuner.choice(\"min_examples\", [2, 5, 7, 10])\n",
    "tuner.choice(\"categorical_algorithm\", [\"CART\", \"RANDOM\"])\n",
    "\n",
    "# Some hyper-parameters are only valid for specific values of other\n",
    "# hyper-parameters. For example, the \"max_depth\" parameter is mostly useful when\n",
    "# \"growing_strategy=LOCAL\" while \"max_num_nodes\" is better suited when\n",
    "# \"growing_strategy=BEST_FIRST_GLOBAL\".\n",
    "\n",
    "local_search_space = tuner.choice(\"growing_strategy\", [\"LOCAL\"])\n",
    "local_search_space.choice(\"max_depth\", [3, 4, 5, 6, 8])\n",
    "\n",
    "# merge=True indicates that the parameter (here \"growing_strategy\") is already\n",
    "# defined, and that new values are added to it.\n",
    "global_search_space = tuner.choice(\"growing_strategy\", [\"BEST_FIRST_GLOBAL\"], merge=True)\n",
    "global_search_space.choice(\"max_num_nodes\", [16, 32, 64, 128, 256])\n",
    "\n",
    "tuner.choice(\"use_hessian_gain\", [True, False])\n",
    "tuner.choice(\"shrinkage\", [0.02, 0.05, 0.10, 0.15])\n",
    "tuner.choice(\"num_candidate_attributes_ratio\", [0.2, 0.5, 0.9, 1.0])\n",
    "\n",
    "# Uncomment some (or all) of the following hyper-parameters to increase the\n",
    "# quality of the search. The number of trial should be increased accordingly.\n",
    "\n",
    "# tuner.choice(\"split_axis\", [\"AXIS_ALIGNED\"])\n",
    "# oblique_space = tuner.choice(\"split_axis\", [\"SPARSE_OBLIQUE\"], merge=True)\n",
    "# oblique_space.choice(\"sparse_oblique_normalization\",\n",
    "#                      [\"NONE\", \"STANDARD_DEVIATION\", \"MIN_MAX\"])\n",
    "# oblique_space.choice(\"sparse_oblique_weights\", [\"BINARY\", \"CONTINUOUS\"])\n",
    "# oblique_space.choice(\"sparse_oblique_num_projections_exponent\", [1.0, 1.5])"
   ]
  },
  {
   "cell_type": "code",
   "execution_count": 12,
   "metadata": {
    "execution": {
     "iopub.execute_input": "2023-02-01T12:08:37.372806Z",
     "iopub.status.busy": "2023-02-01T12:08:37.372285Z",
     "iopub.status.idle": "2023-02-01T12:08:59.241666Z",
     "shell.execute_reply": "2023-02-01T12:08:59.240915Z"
    },
    "id": "f708dxUwFqRk"
   },
   "outputs": [
    {
     "data": {
      "application/javascript": [
       "google.colab.output.setIframeHeight(0, true, {maxHeight: 300})"
      ],
      "text/plain": [
       "<IPython.core.display.Javascript object>"
      ]
     },
     "metadata": {},
     "output_type": "display_data"
    },
    {
     "name": "stdout",
     "output_type": "stream",
     "text": [
      "Warning: The `num_threads` constructor argument is not set and the number of CPU is os.cpu_count()=32 > 32. Setting num_threads to 32. Set num_threads manually to use more than 32 cpus.\n"
     ]
    },
    {
     "name": "stderr",
     "output_type": "stream",
     "text": [
      "WARNING:absl:The `num_threads` constructor argument is not set and the number of CPU is os.cpu_count()=32 > 32. Setting num_threads to 32. Set num_threads manually to use more than 32 cpus.\n"
     ]
    },
    {
     "name": "stdout",
     "output_type": "stream",
     "text": [
      "Use /tmpfs/tmp/tmpgjhxwzpg as temporary training directory\n"
     ]
    },
    {
     "name": "stdout",
     "output_type": "stream",
     "text": [
      "Reading training dataset...\n"
     ]
    },
    {
     "name": "stdout",
     "output_type": "stream",
     "text": [
      "Training tensor examples:\n",
      "Features: {'age': <tf.Tensor 'data:0' shape=(None,) dtype=int64>, 'workclass': <tf.Tensor 'data_13:0' shape=(None,) dtype=string>, 'fnlwgt': <tf.Tensor 'data_5:0' shape=(None,) dtype=int64>, 'education': <tf.Tensor 'data_3:0' shape=(None,) dtype=string>, 'education_num': <tf.Tensor 'data_4:0' shape=(None,) dtype=int64>, 'marital_status': <tf.Tensor 'data_7:0' shape=(None,) dtype=string>, 'occupation': <tf.Tensor 'data_9:0' shape=(None,) dtype=string>, 'relationship': <tf.Tensor 'data_11:0' shape=(None,) dtype=string>, 'race': <tf.Tensor 'data_10:0' shape=(None,) dtype=string>, 'sex': <tf.Tensor 'data_12:0' shape=(None,) dtype=string>, 'capital_gain': <tf.Tensor 'data_1:0' shape=(None,) dtype=int64>, 'capital_loss': <tf.Tensor 'data_2:0' shape=(None,) dtype=int64>, 'hours_per_week': <tf.Tensor 'data_6:0' shape=(None,) dtype=int64>, 'native_country': <tf.Tensor 'data_8:0' shape=(None,) dtype=string>}\n",
      "Label: Tensor(\"data_14:0\", shape=(None,), dtype=int64)\n",
      "Weights: None\n"
     ]
    },
    {
     "name": "stdout",
     "output_type": "stream",
     "text": [
      "Normalized tensor features:\n",
      " {'age': SemanticTensor(semantic=<Semantic.NUMERICAL: 1>, tensor=<tf.Tensor 'Cast:0' shape=(None,) dtype=float32>), 'workclass': SemanticTensor(semantic=<Semantic.CATEGORICAL: 2>, tensor=<tf.Tensor 'data_13:0' shape=(None,) dtype=string>), 'fnlwgt': SemanticTensor(semantic=<Semantic.NUMERICAL: 1>, tensor=<tf.Tensor 'Cast_1:0' shape=(None,) dtype=float32>), 'education': SemanticTensor(semantic=<Semantic.CATEGORICAL: 2>, tensor=<tf.Tensor 'data_3:0' shape=(None,) dtype=string>), 'education_num': SemanticTensor(semantic=<Semantic.NUMERICAL: 1>, tensor=<tf.Tensor 'Cast_2:0' shape=(None,) dtype=float32>), 'marital_status': SemanticTensor(semantic=<Semantic.CATEGORICAL: 2>, tensor=<tf.Tensor 'data_7:0' shape=(None,) dtype=string>), 'occupation': SemanticTensor(semantic=<Semantic.CATEGORICAL: 2>, tensor=<tf.Tensor 'data_9:0' shape=(None,) dtype=string>), 'relationship': SemanticTensor(semantic=<Semantic.CATEGORICAL: 2>, tensor=<tf.Tensor 'data_11:0' shape=(None,) dtype=string>), 'race': SemanticTensor(semantic=<Semantic.CATEGORICAL: 2>, tensor=<tf.Tensor 'data_10:0' shape=(None,) dtype=string>), 'sex': SemanticTensor(semantic=<Semantic.CATEGORICAL: 2>, tensor=<tf.Tensor 'data_12:0' shape=(None,) dtype=string>), 'capital_gain': SemanticTensor(semantic=<Semantic.NUMERICAL: 1>, tensor=<tf.Tensor 'Cast_3:0' shape=(None,) dtype=float32>), 'capital_loss': SemanticTensor(semantic=<Semantic.NUMERICAL: 1>, tensor=<tf.Tensor 'Cast_4:0' shape=(None,) dtype=float32>), 'hours_per_week': SemanticTensor(semantic=<Semantic.NUMERICAL: 1>, tensor=<tf.Tensor 'Cast_5:0' shape=(None,) dtype=float32>), 'native_country': SemanticTensor(semantic=<Semantic.CATEGORICAL: 2>, tensor=<tf.Tensor 'data_8:0' shape=(None,) dtype=string>)}\n"
     ]
    },
    {
     "name": "stdout",
     "output_type": "stream",
     "text": [
      "Training dataset read in 0:00:00.385471. Found 22792 examples.\n"
     ]
    },
    {
     "name": "stdout",
     "output_type": "stream",
     "text": [
      "Training model...\n"
     ]
    },
    {
     "name": "stdout",
     "output_type": "stream",
     "text": [
      "Standard output detected as not visible to the user e.g. running in a notebook. Creating a training log redirection. If training gets stuck, try calling tfdf.keras.set_training_logs_redirection(False).\n"
     ]
    },
    {
     "name": "stderr",
     "output_type": "stream",
     "text": [
      "[INFO 2023-02-01T12:08:37.779610966+00:00 kernel.cc:756] Start Yggdrasil model training\n",
      "[INFO 2023-02-01T12:08:37.779679473+00:00 kernel.cc:757] Collect training examples\n",
      "[INFO 2023-02-01T12:08:37.77976402+00:00 kernel.cc:388] Number of batches: 23\n",
      "[INFO 2023-02-01T12:08:37.779779517+00:00 kernel.cc:389] Number of examples: 22792\n"
     ]
    },
    {
     "name": "stderr",
     "output_type": "stream",
     "text": [
      "[INFO 2023-02-01T12:08:37.787405763+00:00 data_spec_inference.cc:303] 1 item(s) have been pruned (i.e. they are considered out of dictionary) for the column native_country (40 item(s) left) because min_value_count=5 and max_number_of_unique_values=2000\n",
      "[INFO 2023-02-01T12:08:37.787447447+00:00 data_spec_inference.cc:303] 1 item(s) have been pruned (i.e. they are considered out of dictionary) for the column occupation (13 item(s) left) because min_value_count=5 and max_number_of_unique_values=2000\n",
      "[INFO 2023-02-01T12:08:37.787485818+00:00 data_spec_inference.cc:303] 1 item(s) have been pruned (i.e. they are considered out of dictionary) for the column workclass (7 item(s) left) because min_value_count=5 and max_number_of_unique_values=2000\n"
     ]
    },
    {
     "name": "stderr",
     "output_type": "stream",
     "text": [
      "[INFO 2023-02-01T12:08:37.792400377+00:00 kernel.cc:774] Training dataset:\n",
      "Number of records: 22792\n",
      "Number of columns: 15\n",
      "\n",
      "Number of columns by type:\n",
      "\tCATEGORICAL: 9 (60%)\n",
      "\tNUMERICAL: 6 (40%)\n",
      "\n",
      "Columns:\n",
      "\n",
      "CATEGORICAL: 9 (60%)\n",
      "\t0: \"__LABEL\" CATEGORICAL integerized vocab-size:3 no-ood-item\n",
      "\t4: \"education\" CATEGORICAL has-dict vocab-size:17 zero-ood-items most-frequent:\"HS-grad\" 7340 (32.2043%)\n",
      "\t8: \"marital_status\" CATEGORICAL has-dict vocab-size:8 zero-ood-items most-frequent:\"Married-civ-spouse\" 10431 (45.7661%)\n",
      "\t9: \"native_country\" CATEGORICAL num-nas:407 (1.78571%) has-dict vocab-size:41 num-oods:1 (0.00446728%) most-frequent:\"United-States\" 20436 (91.2933%)\n",
      "\t10: \"occupation\" CATEGORICAL num-nas:1260 (5.52826%) has-dict vocab-size:14 num-oods:1 (0.00464425%) most-frequent:\"Prof-specialty\" 2870 (13.329%)\n",
      "\t11: \"race\" CATEGORICAL has-dict vocab-size:6 zero-ood-items most-frequent:\"White\" 19467 (85.4115%)\n",
      "\t12: \"relationship\" CATEGORICAL has-dict vocab-size:7 zero-ood-items most-frequent:\"Husband\" 9191 (40.3256%)\n",
      "\t13: \"sex\" CATEGORICAL has-dict vocab-size:3 zero-ood-items most-frequent:\"Male\" 15165 (66.5365%)\n",
      "\t14: \"workclass\" CATEGORICAL num-nas:1257 (5.51509%) has-dict vocab-size:8 num-oods:1 (0.0046436%) most-frequent:\"Private\" 15879 (73.7358%)\n",
      "\n",
      "NUMERICAL: 6 (40%)\n",
      "\t1: \"age\" NUMERICAL mean:38.6153 min:17 max:90 sd:13.661\n",
      "\t2: \"capital_gain\" NUMERICAL mean:1081.9 min:0 max:99999 sd:7509.48\n",
      "\t3: \"capital_loss\" NUMERICAL mean:87.2806 min:0 max:4356 sd:403.01\n",
      "\t5: \"education_num\" NUMERICAL mean:10.0927 min:1 max:16 sd:2.56427\n",
      "\t6: \"fnlwgt\" NUMERICAL mean:189879 min:12285 max:1.4847e+06 sd:106423\n",
      "\t7: \"hours_per_week\" NUMERICAL mean:40.3955 min:1 max:99 sd:12.249\n",
      "\n",
      "Terminology:\n",
      "\tnas: Number of non-available (i.e. missing) values.\n",
      "\tood: Out of dictionary.\n",
      "\tmanually-defined: Attribute which type is manually defined by the user i.e. the type was not automatically inferred.\n",
      "\ttokenized: The attribute value is obtained through tokenization.\n",
      "\thas-dict: The attribute is attached to a string dictionary e.g. a categorical attribute stored as a string.\n",
      "\tvocab-size: Number of unique values.\n",
      "\n",
      "[INFO 2023-02-01T12:08:37.792452287+00:00 kernel.cc:790] Configure learner\n",
      "2023-02-01 12:08:37.792731: W external/ydf/yggdrasil_decision_forests/learner/gradient_boosted_trees/gradient_boosted_trees.cc:1790] \"goss_alpha\" set but \"sampling_method\" not equal to \"GOSS\".\n",
      "2023-02-01 12:08:37.792757: W external/ydf/yggdrasil_decision_forests/learner/gradient_boosted_trees/gradient_boosted_trees.cc:1800] \"goss_beta\" set but \"sampling_method\" not equal to \"GOSS\".\n",
      "2023-02-01 12:08:37.792764: W external/ydf/yggdrasil_decision_forests/learner/gradient_boosted_trees/gradient_boosted_trees.cc:1814] \"selective_gradient_boosting_ratio\" set but \"sampling_method\" not equal to \"SELGB\".\n",
      "[INFO 2023-02-01T12:08:37.792816689+00:00 kernel.cc:804] Training config:\n"
     ]
    },
    {
     "name": "stderr",
     "output_type": "stream",
     "text": [
      "learner: \"HYPERPARAMETER_OPTIMIZER\"\n",
      "features: \"^age$\"\n",
      "features: \"^capital_gain$\"\n",
      "features: \"^capital_loss$\"\n",
      "features: \"^education$\"\n",
      "features: \"^education_num$\"\n",
      "features: \"^fnlwgt$\"\n",
      "features: \"^hours_per_week$\"\n",
      "features: \"^marital_status$\"\n",
      "features: \"^native_country$\"\n",
      "features: \"^occupation$\"\n",
      "features: \"^race$\"\n",
      "features: \"^relationship$\"\n",
      "features: \"^sex$\"\n",
      "features: \"^workclass$\"\n",
      "label: \"^__LABEL$\"\n",
      "task: CLASSIFICATION\n",
      "metadata {\n",
      "  framework: \"TF Keras\"\n",
      "}\n",
      "[yggdrasil_decision_forests.model.hyperparameters_optimizer_v2.proto.hyperparameters_optimizer_config] {\n",
      "  base_learner {\n",
      "    learner: \"GRADIENT_BOOSTED_TREES\"\n",
      "    features: \"^age$\"\n",
      "    features: \"^capital_gain$\"\n",
      "    features: \"^capital_loss$\"\n",
      "    features: \"^education$\"\n",
      "    features: \"^education_num$\"\n",
      "    features: \"^fnlwgt$\"\n",
      "    features: \"^hours_per_week$\"\n",
      "    features: \"^marital_status$\"\n",
      "    features: \"^native_country$\"\n",
      "    features: \"^occupation$\"\n",
      "    features: \"^race$\"\n",
      "    features: \"^relationship$\"\n",
      "    features: \"^sex$\"\n",
      "    features: \"^workclass$\"\n",
      "    label: \"^__LABEL$\"\n",
      "    task: CLASSIFICATION\n",
      "    random_seed: 123456\n",
      "    pure_serving_model: false\n",
      "    [yggdrasil_decision_forests.model.gradient_boosted_trees.proto.gradient_boosted_trees_config] {\n",
      "      num_trees: 300\n",
      "      decision_tree {\n",
      "        max_depth: 6\n",
      "        min_examples: 5\n",
      "        in_split_min_examples_check: true\n",
      "        keep_non_leaf_label_distribution: true\n",
      "        num_candidate_attributes: -1\n",
      "        missing_value_policy: GLOBAL_IMPUTATION\n",
      "        allow_na_conditions: false\n",
      "        categorical_set_greedy_forward {\n",
      "          sampling: 0.1\n",
      "          max_num_items: -1\n",
      "          min_item_frequency: 1\n",
      "        }\n",
      "        growing_strategy_local {\n",
      "        }\n",
      "        categorical {\n",
      "          cart {\n",
      "          }\n",
      "        }\n",
      "        axis_aligned_split {\n",
      "        }\n",
      "        internal {\n",
      "          sorting_strategy: PRESORTED\n",
      "        }\n",
      "        uplift {\n",
      "          min_examples_in_treatment: 5\n",
      "          split_score: KULLBACK_LEIBLER\n",
      "        }\n",
      "      }\n",
      "      shrinkage: 0.1\n",
      "      loss: DEFAULT\n",
      "      validation_set_ratio: 0.1\n",
      "      validation_interval_in_trees: 1\n",
      "      early_stopping: VALIDATION_LOSS_INCREASE\n",
      "      early_stopping_num_trees_look_ahead: 30\n",
      "      l2_regularization: 0\n",
      "      lambda_loss: 1\n",
      "      mart {\n",
      "      }\n",
      "      adapt_subsample_for_maximum_training_duration: false\n",
      "      l1_regularization: 0\n",
      "      use_hessian_gain: false\n",
      "      l2_regularization_categorical: 1\n",
      "      stochastic_gradient_boosting {\n",
      "        ratio: 1\n",
      "      }\n",
      "      apply_link_function: true\n",
      "      compute_permutation_variable_importance: false\n",
      "      binary_focal_loss_options {\n",
      "        misprediction_exponent: 2\n",
      "        positive_sample_coefficient: 0.5\n",
      "      }\n",
      "      early_stopping_initial_iteration: 10\n",
      "    }\n",
      "  }\n",
      "  optimizer {\n",
      "    optimizer_key: \"RANDOM\"\n",
      "    [yggdrasil_decision_forests.model.hyperparameters_optimizer_v2.proto.random] {\n",
      "      num_trials: 50\n",
      "    }\n",
      "  }\n",
      "  search_space {\n",
      "    fields {\n",
      "      name: \"min_examples\"\n",
      "      discrete_candidates {\n",
      "        possible_values {\n",
      "          integer: 2\n",
      "        }\n",
      "        possible_values {\n",
      "          integer: 5\n",
      "        }\n",
      "        possible_values {\n",
      "          integer: 7\n",
      "        }\n",
      "        possible_values {\n",
      "          integer: 10\n",
      "        }\n",
      "      }\n",
      "    }\n",
      "    fields {\n",
      "      name: \"categorical_algorithm\"\n",
      "      discrete_candidates {\n",
      "        possible_values {\n",
      "          categorical: \"CART\"\n",
      "        }\n",
      "        possible_values {\n",
      "          categorical: \"RANDOM\"\n",
      "        }\n",
      "      }\n",
      "    }\n",
      "    fields {\n",
      "      name: \"growing_strategy\"\n",
      "      discrete_candidates {\n",
      "        possible_values {\n",
      "          categorical: \"LOCAL\"\n",
      "        }\n",
      "        possible_values {\n",
      "          categorical: \"BEST_FIRST_GLOBAL\"\n",
      "        }\n",
      "      }\n",
      "      children {\n",
      "        name: \"max_depth\"\n",
      "        discrete_candidates {\n",
      "          possible_values {\n",
      "            integer: 3\n",
      "          }\n",
      "          possible_values {\n",
      "            integer: 4\n",
      "          }\n",
      "          possible_values {\n",
      "            integer: 5\n",
      "          }\n",
      "          possible_values {\n",
      "            integer: 6\n",
      "          }\n",
      "          possible_values {\n",
      "            integer: 8\n",
      "          }\n",
      "        }\n",
      "        parent_discrete_values {\n",
      "          possible_values {\n",
      "            categorical: \"LOCAL\"\n",
      "          }\n",
      "        }\n",
      "      }\n",
      "      children {\n",
      "        name: \"max_num_nodes\"\n",
      "        discrete_candidates {\n",
      "          possible_values {\n",
      "            integer: 16\n",
      "          }\n",
      "          possible_values {\n",
      "            integer: 32\n",
      "          }\n",
      "          possible_values {\n",
      "            integer: 64\n",
      "          }\n",
      "          possible_values {\n",
      "            integer: 128\n",
      "          }\n",
      "          possible_values {\n",
      "            integer: 256\n",
      "          }\n",
      "        }\n",
      "        parent_discrete_values {\n",
      "          possible_values {\n",
      "            categorical: \"BEST_FIRST_GLOBAL\"\n",
      "          }\n",
      "        }\n",
      "      }\n",
      "    }\n",
      "    fields {\n",
      "      name: \"use_hessian_gain\"\n",
      "      discrete_candidates {\n",
      "        possible_values {\n",
      "          categorical: \"true\"\n",
      "        }\n",
      "        possible_values {\n",
      "          categorical: \"false\"\n",
      "        }\n",
      "      }\n",
      "    }\n",
      "    fields {\n",
      "      name: \"shrinkage\"\n",
      "      discrete_candidates {\n",
      "        possible_values {\n",
      "          real: 0.02\n",
      "        }\n",
      "        possible_values {\n",
      "          real: 0.05\n",
      "        }\n",
      "        possible_values {\n",
      "          real: 0.1\n",
      "        }\n",
      "        possible_values {\n",
      "          real: 0.15\n",
      "        }\n",
      "      }\n",
      "    }\n",
      "    fields {\n",
      "      name: \"num_candidate_attributes_ratio\"\n",
      "      discrete_candidates {\n",
      "        possible_values {\n",
      "          real: 0.2\n",
      "        }\n",
      "        possible_values {\n",
      "          real: 0.5\n",
      "        }\n",
      "        possible_values {\n",
      "          real: 0.9\n",
      "        }\n",
      "        possible_values {\n",
      "          real: 1\n",
      "        }\n",
      "      }\n",
      "    }\n",
      "  }\n",
      "  base_learner_deployment {\n",
      "    num_threads: 1\n",
      "  }\n",
      "}\n",
      "\n",
      "[INFO 2023-02-01T12:08:37.793220481+00:00 kernel.cc:807] Deployment config:\n",
      "cache_path: \"/tmpfs/tmp/tmpgjhxwzpg/working_cache\"\n",
      "num_threads: 32\n",
      "try_resume_training: true\n",
      "\n",
      "[INFO 2023-02-01T12:08:37.793376204+00:00 kernel.cc:868] Train model\n"
     ]
    },
    {
     "name": "stderr",
     "output_type": "stream",
     "text": [
      "[INFO 2023-02-01T12:08:39.851533704+00:00 early_stopping.cc:53] Early stop of the training because the validation loss does not decrease anymore. Best valid-loss: 0.583674\n"
     ]
    },
    {
     "name": "stderr",
     "output_type": "stream",
     "text": [
      "[INFO 2023-02-01T12:08:41.585165969+00:00 early_stopping.cc:53] Early stop of the training because the validation loss does not decrease anymore. Best valid-loss: 0.588227\n"
     ]
    },
    {
     "name": "stderr",
     "output_type": "stream",
     "text": [
      "[INFO 2023-02-01T12:08:42.092825385+00:00 early_stopping.cc:53] Early stop of the training because the validation loss does not decrease anymore. Best valid-loss: 0.569129\n"
     ]
    },
    {
     "name": "stderr",
     "output_type": "stream",
     "text": [
      "[INFO 2023-02-01T12:08:42.557544087+00:00 early_stopping.cc:53] Early stop of the training because the validation loss does not decrease anymore. Best valid-loss: 0.573016\n"
     ]
    },
    {
     "name": "stderr",
     "output_type": "stream",
     "text": [
      "[INFO 2023-02-01T12:08:42.602274077+00:00 early_stopping.cc:53] Early stop of the training because the validation loss does not decrease anymore. Best valid-loss: 0.575957\n"
     ]
    },
    {
     "name": "stderr",
     "output_type": "stream",
     "text": [
      "[INFO 2023-02-01T12:08:42.613803966+00:00 early_stopping.cc:53] Early stop of the training because the validation loss does not decrease anymore. Best valid-loss: 0.571689\n"
     ]
    },
    {
     "name": "stderr",
     "output_type": "stream",
     "text": [
      "[INFO 2023-02-01T12:08:43.519389753+00:00 early_stopping.cc:53] Early stop of the training because the validation loss does not decrease anymore. Best valid-loss: 0.575672\n"
     ]
    },
    {
     "name": "stderr",
     "output_type": "stream",
     "text": [
      "[INFO 2023-02-01T12:08:44.213780982+00:00 early_stopping.cc:53] Early stop of the training because the validation loss does not decrease anymore. Best valid-loss: 0.578549\n"
     ]
    },
    {
     "name": "stderr",
     "output_type": "stream",
     "text": [
      "[INFO 2023-02-01T12:08:44.759667214+00:00 early_stopping.cc:53] Early stop of the training because the validation loss does not decrease anymore. Best valid-loss: 0.573061\n"
     ]
    },
    {
     "name": "stderr",
     "output_type": "stream",
     "text": [
      "[INFO 2023-02-01T12:08:45.231593728+00:00 early_stopping.cc:53] Early stop of the training because the validation loss does not decrease anymore. Best valid-loss: 0.577748\n"
     ]
    },
    {
     "name": "stderr",
     "output_type": "stream",
     "text": [
      "[INFO 2023-02-01T12:08:45.479992055+00:00 early_stopping.cc:53] Early stop of the training because the validation loss does not decrease anymore. Best valid-loss: 0.578216\n"
     ]
    },
    {
     "name": "stderr",
     "output_type": "stream",
     "text": [
      "[INFO 2023-02-01T12:08:45.799623005+00:00 early_stopping.cc:53] Early stop of the training because the validation loss does not decrease anymore. Best valid-loss: 0.578669\n"
     ]
    },
    {
     "name": "stderr",
     "output_type": "stream",
     "text": [
      "[INFO 2023-02-01T12:08:45.964682066+00:00 early_stopping.cc:53] Early stop of the training because the validation loss does not decrease anymore. Best valid-loss: 0.586668\n"
     ]
    },
    {
     "name": "stderr",
     "output_type": "stream",
     "text": [
      "[INFO 2023-02-01T12:08:46.034461092+00:00 early_stopping.cc:53] Early stop of the training because the validation loss does not decrease anymore. Best valid-loss: 0.576506\n"
     ]
    },
    {
     "name": "stderr",
     "output_type": "stream",
     "text": [
      "[INFO 2023-02-01T12:08:47.555410961+00:00 early_stopping.cc:53] Early stop of the training because the validation loss does not decrease anymore. Best valid-loss: 0.578696\n"
     ]
    },
    {
     "name": "stderr",
     "output_type": "stream",
     "text": [
      "[INFO 2023-02-01T12:08:47.593686674+00:00 early_stopping.cc:53] Early stop of the training because the validation loss does not decrease anymore. Best valid-loss: 0.579464\n"
     ]
    },
    {
     "name": "stderr",
     "output_type": "stream",
     "text": [
      "[INFO 2023-02-01T12:08:47.838775628+00:00 early_stopping.cc:53] Early stop of the training because the validation loss does not decrease anymore. Best valid-loss: 0.574801\n"
     ]
    },
    {
     "name": "stderr",
     "output_type": "stream",
     "text": [
      "[INFO 2023-02-01T12:08:48.454877928+00:00 early_stopping.cc:53] Early stop of the training because the validation loss does not decrease anymore. Best valid-loss: 0.571936\n"
     ]
    },
    {
     "name": "stderr",
     "output_type": "stream",
     "text": [
      "[INFO 2023-02-01T12:08:48.711038125+00:00 early_stopping.cc:53] Early stop of the training because the validation loss does not decrease anymore. Best valid-loss: 0.587919\n"
     ]
    },
    {
     "name": "stderr",
     "output_type": "stream",
     "text": [
      "[INFO 2023-02-01T12:08:48.712049402+00:00 early_stopping.cc:53] Early stop of the training because the validation loss does not decrease anymore. Best valid-loss: 0.575719\n"
     ]
    },
    {
     "name": "stderr",
     "output_type": "stream",
     "text": [
      "[INFO 2023-02-01T12:08:48.946675629+00:00 early_stopping.cc:53] Early stop of the training because the validation loss does not decrease anymore. Best valid-loss: 0.578764\n"
     ]
    },
    {
     "name": "stderr",
     "output_type": "stream",
     "text": [
      "[INFO 2023-02-01T12:08:49.053943911+00:00 early_stopping.cc:53] Early stop of the training because the validation loss does not decrease anymore. Best valid-loss: 0.57629\n"
     ]
    },
    {
     "name": "stderr",
     "output_type": "stream",
     "text": [
      "[INFO 2023-02-01T12:08:49.315889807+00:00 early_stopping.cc:53] Early stop of the training because the validation loss does not decrease anymore. Best valid-loss: 0.581114\n"
     ]
    },
    {
     "name": "stderr",
     "output_type": "stream",
     "text": [
      "[INFO 2023-02-01T12:08:49.994744725+00:00 early_stopping.cc:53] Early stop of the training because the validation loss does not decrease anymore. Best valid-loss: 0.568287\n"
     ]
    },
    {
     "name": "stderr",
     "output_type": "stream",
     "text": [
      "[INFO 2023-02-01T12:08:52.573819212+00:00 early_stopping.cc:53] Early stop of the training because the validation loss does not decrease anymore. Best valid-loss: 0.570064\n"
     ]
    },
    {
     "name": "stderr",
     "output_type": "stream",
     "text": [
      "[INFO 2023-02-01T12:08:54.567070436+00:00 early_stopping.cc:53] Early stop of the training because the validation loss does not decrease anymore. Best valid-loss: 0.572158\n"
     ]
    },
    {
     "name": "stderr",
     "output_type": "stream",
     "text": [
      "[INFO 2023-02-01T12:08:58.961698295+00:00 early_stopping.cc:53] Early stop of the training because the validation loss does not decrease anymore. Best valid-loss: 0.573524\n"
     ]
    },
    {
     "name": "stderr",
     "output_type": "stream",
     "text": [
      "[INFO 2023-02-01T12:08:58.98892809+00:00 kernel.cc:905] Export model in log directory: /tmpfs/tmp/tmpgjhxwzpg with prefix 29a08c8a3f274273\n"
     ]
    },
    {
     "name": "stderr",
     "output_type": "stream",
     "text": [
      "[INFO 2023-02-01T12:08:58.995928198+00:00 kernel.cc:923] Save model in resources\n"
     ]
    },
    {
     "name": "stderr",
     "output_type": "stream",
     "text": [
      "[INFO 2023-02-01T12:08:58.998730119+00:00 abstract_model.cc:849] Model self evaluation:\n",
      "Task: CLASSIFICATION\n",
      "Label: __LABEL\n",
      "Loss (BINOMIAL_LOG_LIKELIHOOD): 0.568287\n",
      "\n",
      "Accuracy: 0.873395  CI95[W][0 1]\n",
      "ErrorRate: : 0.126605\n",
      "\n",
      "\n",
      "Confusion Table:\n",
      "truth\\prediction\n",
      "   0     1    2\n",
      "0  0     0    0\n",
      "1  0  1570   94\n",
      "2  0   192  403\n",
      "Total: 2259\n",
      "\n",
      "One vs other classes:\n",
      "\n"
     ]
    },
    {
     "name": "stderr",
     "output_type": "stream",
     "text": [
      "[INFO 2023-02-01T12:08:59.018306354+00:00 kernel.cc:1214] Loading model from path /tmpfs/tmp/tmpgjhxwzpg/model/ with prefix 29a08c8a3f274273\n"
     ]
    },
    {
     "name": "stderr",
     "output_type": "stream",
     "text": [
      "[INFO 2023-02-01T12:08:59.049560135+00:00 abstract_model.cc:1311] Engine \"GradientBoostedTreesQuickScorerExtended\" built\n",
      "[INFO 2023-02-01T12:08:59.0495917+00:00 kernel.cc:1046] Use fast generic engine\n"
     ]
    },
    {
     "name": "stdout",
     "output_type": "stream",
     "text": [
      "Model trained in 0:00:21.277256\n"
     ]
    },
    {
     "name": "stdout",
     "output_type": "stream",
     "text": [
      "Compiling model...\n"
     ]
    },
    {
     "name": "stdout",
     "output_type": "stream",
     "text": [
      "Model compiled.\n"
     ]
    },
    {
     "name": "stdout",
     "output_type": "stream",
     "text": [
      "CPU times: user 6min 57s, sys: 332 ms, total: 6min 57s\n",
      "Wall time: 21.9 s\n"
     ]
    },
    {
     "data": {
      "text/plain": [
       "<keras.callbacks.History at 0x7fca7c6ca100>"
      ]
     },
     "execution_count": 12,
     "metadata": {},
     "output_type": "execute_result"
    }
   ],
   "source": [
    "%%time\n",
    "%set_cell_height 300\n",
    "\n",
    "# Tune the model. Notice the `tuner=tuner`.\n",
    "tuned_model = tfdf.keras.GradientBoostedTreesModel(tuner=tuner)\n",
    "tuned_model.fit(train_ds, verbose=2)\n",
    "\n",
    "# The `num_threads` model constructor argument (not specified in the example\n",
    "# above) controls how many trials are run in parallel (one per thread). If\n",
    "# `num_threads` is not specified (like in the example above), one thread is\n",
    "# allocated for each available CPU core.\n",
    "#\n",
    "# If the training is interrupted (for example, by pressing on the \"stop\" button\n",
    "# on the top-left of the colab cell), the best model so-far will be returned.\n",
    "\n",
    "# In the training logs, you can see lines such as `[10/50] Score: -0.45 / -0.40\n",
    "# HParams: ...`. This indicates that 10 of the 50 trials have been completed.\n",
    "# And that the last trial returned a score of \"-0.45\" and that the best trial so\n",
    "# far has a score of \"-0.40\". In this example, the model is optimized by\n",
    "# logloss. Since scores are maximized and log loss should be minimized, the\n",
    "# score is effectively minus the log loss."
   ]
  },
  {
   "cell_type": "code",
   "execution_count": 13,
   "metadata": {
    "execution": {
     "iopub.execute_input": "2023-02-01T12:08:59.244408Z",
     "iopub.status.busy": "2023-02-01T12:08:59.244185Z",
     "iopub.status.idle": "2023-02-01T12:08:59.461536Z",
     "shell.execute_reply": "2023-02-01T12:08:59.460741Z"
    },
    "id": "mMfJS2FWz6tt"
   },
   "outputs": [
    {
     "name": "stdout",
     "output_type": "stream",
     "text": [
      "Test accuracy with the TF-DF hyper-parameter tuner: 0.8722\n"
     ]
    }
   ],
   "source": [
    "# Evaluate the model\n",
    "tuned_model.compile([\"accuracy\"])\n",
    "tuned_test_accuracy = tuned_model.evaluate(test_ds, return_dict=True, verbose=0)[\"accuracy\"]\n",
    "print(f\"Test accuracy with the TF-DF hyper-parameter tuner: {tuned_test_accuracy:.4f}\")"
   ]
  },
  {
   "cell_type": "markdown",
   "metadata": {
    "id": "FiQFjV_ab2YE"
   },
   "source": [
    "The hyper-parameters and objective scores of the trials are available in the model inspector. The `score` value is always maximized. In this example, the score is the negative log loss on the validation dataset (selected automatically)."
   ]
  },
  {
   "cell_type": "code",
   "execution_count": 14,
   "metadata": {
    "execution": {
     "iopub.execute_input": "2023-02-01T12:08:59.464779Z",
     "iopub.status.busy": "2023-02-01T12:08:59.464131Z",
     "iopub.status.idle": "2023-02-01T12:08:59.481816Z",
     "shell.execute_reply": "2023-02-01T12:08:59.480984Z"
    },
    "id": "tFn3AEykrlQ2"
   },
   "outputs": [
    {
     "data": {
      "text/html": [
       "<div>\n",
       "<style scoped>\n",
       "    .dataframe tbody tr th:only-of-type {\n",
       "        vertical-align: middle;\n",
       "    }\n",
       "\n",
       "    .dataframe tbody tr th {\n",
       "        vertical-align: top;\n",
       "    }\n",
       "\n",
       "    .dataframe thead th {\n",
       "        text-align: right;\n",
       "    }\n",
       "</style>\n",
       "<table border=\"1\" class=\"dataframe\">\n",
       "  <thead>\n",
       "    <tr style=\"text-align: right;\">\n",
       "      <th></th>\n",
       "      <th>score</th>\n",
       "      <th>evaluation_time</th>\n",
       "      <th>best</th>\n",
       "      <th>min_examples</th>\n",
       "      <th>categorical_algorithm</th>\n",
       "      <th>growing_strategy</th>\n",
       "      <th>max_depth</th>\n",
       "      <th>use_hessian_gain</th>\n",
       "      <th>shrinkage</th>\n",
       "      <th>num_candidate_attributes_ratio</th>\n",
       "      <th>max_num_nodes</th>\n",
       "    </tr>\n",
       "  </thead>\n",
       "  <tbody>\n",
       "    <tr>\n",
       "      <th>0</th>\n",
       "      <td>-0.590370</td>\n",
       "      <td>2.027866</td>\n",
       "      <td>False</td>\n",
       "      <td>7</td>\n",
       "      <td>CART</td>\n",
       "      <td>LOCAL</td>\n",
       "      <td>3.0</td>\n",
       "      <td>true</td>\n",
       "      <td>0.15</td>\n",
       "      <td>0.2</td>\n",
       "      <td>NaN</td>\n",
       "    </tr>\n",
       "    <tr>\n",
       "      <th>1</th>\n",
       "      <td>-0.583674</td>\n",
       "      <td>2.062493</td>\n",
       "      <td>False</td>\n",
       "      <td>5</td>\n",
       "      <td>CART</td>\n",
       "      <td>LOCAL</td>\n",
       "      <td>8.0</td>\n",
       "      <td>true</td>\n",
       "      <td>0.15</td>\n",
       "      <td>0.2</td>\n",
       "      <td>NaN</td>\n",
       "    </tr>\n",
       "    <tr>\n",
       "      <th>2</th>\n",
       "      <td>-0.584009</td>\n",
       "      <td>3.336132</td>\n",
       "      <td>False</td>\n",
       "      <td>10</td>\n",
       "      <td>RANDOM</td>\n",
       "      <td>LOCAL</td>\n",
       "      <td>3.0</td>\n",
       "      <td>true</td>\n",
       "      <td>0.15</td>\n",
       "      <td>0.5</td>\n",
       "      <td>NaN</td>\n",
       "    </tr>\n",
       "    <tr>\n",
       "      <th>3</th>\n",
       "      <td>-0.581734</td>\n",
       "      <td>3.453046</td>\n",
       "      <td>False</td>\n",
       "      <td>10</td>\n",
       "      <td>CART</td>\n",
       "      <td>LOCAL</td>\n",
       "      <td>3.0</td>\n",
       "      <td>true</td>\n",
       "      <td>0.15</td>\n",
       "      <td>1.0</td>\n",
       "      <td>NaN</td>\n",
       "    </tr>\n",
       "    <tr>\n",
       "      <th>4</th>\n",
       "      <td>-0.588227</td>\n",
       "      <td>3.796232</td>\n",
       "      <td>False</td>\n",
       "      <td>7</td>\n",
       "      <td>CART</td>\n",
       "      <td>BEST_FIRST_GLOBAL</td>\n",
       "      <td>NaN</td>\n",
       "      <td>false</td>\n",
       "      <td>0.10</td>\n",
       "      <td>0.2</td>\n",
       "      <td>64.0</td>\n",
       "    </tr>\n",
       "  </tbody>\n",
       "</table>\n",
       "</div>"
      ],
      "text/plain": [
       "      score  evaluation_time   best  min_examples categorical_algorithm  \\\n",
       "0 -0.590370         2.027866  False             7                  CART   \n",
       "1 -0.583674         2.062493  False             5                  CART   \n",
       "2 -0.584009         3.336132  False            10                RANDOM   \n",
       "3 -0.581734         3.453046  False            10                  CART   \n",
       "4 -0.588227         3.796232  False             7                  CART   \n",
       "\n",
       "    growing_strategy  max_depth use_hessian_gain  shrinkage  \\\n",
       "0              LOCAL        3.0             true       0.15   \n",
       "1              LOCAL        8.0             true       0.15   \n",
       "2              LOCAL        3.0             true       0.15   \n",
       "3              LOCAL        3.0             true       0.15   \n",
       "4  BEST_FIRST_GLOBAL        NaN            false       0.10   \n",
       "\n",
       "   num_candidate_attributes_ratio  max_num_nodes  \n",
       "0                             0.2            NaN  \n",
       "1                             0.2            NaN  \n",
       "2                             0.5            NaN  \n",
       "3                             1.0            NaN  \n",
       "4                             0.2           64.0  "
      ]
     },
     "execution_count": 14,
     "metadata": {},
     "output_type": "execute_result"
    }
   ],
   "source": [
    "# Display the tuning logs.\n",
    "tuning_logs = tuned_model.make_inspector().tuning_logs()\n",
    "tuning_logs.head()"
   ]
  },
  {
   "cell_type": "markdown",
   "metadata": {
    "id": "JXLXTBv9cOiG"
   },
   "source": [
    " The single rows with `best=True` is the one used in the final model."
   ]
  },
  {
   "cell_type": "code",
   "execution_count": 15,
   "metadata": {
    "execution": {
     "iopub.execute_input": "2023-02-01T12:08:59.484904Z",
     "iopub.status.busy": "2023-02-01T12:08:59.484323Z",
     "iopub.status.idle": "2023-02-01T12:08:59.490350Z",
     "shell.execute_reply": "2023-02-01T12:08:59.489665Z"
    },
    "id": "En6HzmTYEaRl"
   },
   "outputs": [
    {
     "data": {
      "text/plain": [
       "score                                     -0.568287\n",
       "evaluation_time                           12.203865\n",
       "best                                           True\n",
       "min_examples                                      5\n",
       "categorical_algorithm                          CART\n",
       "growing_strategy                  BEST_FIRST_GLOBAL\n",
       "max_depth                                       NaN\n",
       "use_hessian_gain                               true\n",
       "shrinkage                                       0.1\n",
       "num_candidate_attributes_ratio                  0.9\n",
       "max_num_nodes                                 256.0\n",
       "Name: 34, dtype: object"
      ]
     },
     "execution_count": 15,
     "metadata": {},
     "output_type": "execute_result"
    }
   ],
   "source": [
    "# Best hyper-parameters.\n",
    "tuning_logs[tuning_logs.best].iloc[0]"
   ]
  },
  {
   "cell_type": "markdown",
   "metadata": {
    "id": "DA-fcmgBcU__"
   },
   "source": [
    "**Note:** Parameters with NaN value are conditional parameters that are not set.\n",
    "\n",
    "Next, we plot the evaluation of the best score during the tuning."
   ]
  },
  {
   "cell_type": "code",
   "execution_count": 16,
   "metadata": {
    "execution": {
     "iopub.execute_input": "2023-02-01T12:08:59.493070Z",
     "iopub.status.busy": "2023-02-01T12:08:59.492860Z",
     "iopub.status.idle": "2023-02-01T12:08:59.705584Z",
     "shell.execute_reply": "2023-02-01T12:08:59.704557Z"
    },
    "id": "VVrJZ5qerzTF"
   },
   "outputs": [
    {
     "data": {
      "image/png": "[encoded data removed]",
      "text/plain": [
       "<Figure size 1000x500 with 1 Axes>"
      ]
     },
     "metadata": {},
     "output_type": "display_data"
    }
   ],
   "source": [
    "plt.figure(figsize=(10, 5))\n",
    "plt.plot(tuning_logs[\"score\"], label=\"current trial\")\n",
    "plt.plot(tuning_logs[\"score\"].cummax(), label=\"best trial\")\n",
    "plt.xlabel(\"Tuning step\")\n",
    "plt.ylabel(\"Tuning score\")\n",
    "plt.legend()\n",
    "plt.show()"
   ]
  },
  {
   "cell_type": "markdown",
   "metadata": {
    "id": "CLQggOs1Yr_y"
   },
   "source": [
    "## Training a model **with** automated hyper-parameter tuning and **automatic** definition of the hyper-parameters (*recommended approach*)\n",
    "\n",
    "As before, hyper-parameter tuning is enabled by specifying the `tuner` constructor argument of the model. Set `use_predefined_hps=True` to automatically configure the search space for the hyper-parameters.\n",
    "\n",
    "**Note:** The automatic hyper-parameter configuration explores some powerful but slow to train hyper-parameters. For example, oblique splits (commented/disabled in the previous section; see `SPARSE_OBLIQUE`) are tested. This mean the tuning will be slower, but hopefully give a result of significantly higher quality."
   ]
  },
  {
   "cell_type": "code",
   "execution_count": 17,
   "metadata": {
    "execution": {
     "iopub.execute_input": "2023-02-01T12:08:59.708749Z",
     "iopub.status.busy": "2023-02-01T12:08:59.708507Z",
     "iopub.status.idle": "2023-02-01T12:11:38.221875Z",
     "shell.execute_reply": "2023-02-01T12:11:38.220963Z"
    },
    "id": "8nfzv5siYrJ7"
   },
   "outputs": [
    {
     "data": {
      "application/javascript": [
       "google.colab.output.setIframeHeight(0, true, {maxHeight: 300})"
      ],
      "text/plain": [
       "<IPython.core.display.Javascript object>"
      ]
     },
     "metadata": {},
     "output_type": "display_data"
    },
    {
     "name": "stdout",
     "output_type": "stream",
     "text": [
      "Warning: The `num_threads` constructor argument is not set and the number of CPU is os.cpu_count()=32 > 32. Setting num_threads to 32. Set num_threads manually to use more than 32 cpus.\n"
     ]
    },
    {
     "name": "stderr",
     "output_type": "stream",
     "text": [
      "WARNING:absl:The `num_threads` constructor argument is not set and the number of CPU is os.cpu_count()=32 > 32. Setting num_threads to 32. Set num_threads manually to use more than 32 cpus.\n"
     ]
    },
    {
     "name": "stdout",
     "output_type": "stream",
     "text": [
      "Use /tmpfs/tmp/tmp7w1wg5fw as temporary training directory\n"
     ]
    },
    {
     "name": "stdout",
     "output_type": "stream",
     "text": [
      "Reading training dataset...\n"
     ]
    },
    {
     "name": "stdout",
     "output_type": "stream",
     "text": [
      "Training tensor examples:\n",
      "Features: {'age': <tf.Tensor 'data:0' shape=(None,) dtype=int64>, 'workclass': <tf.Tensor 'data_13:0' shape=(None,) dtype=string>, 'fnlwgt': <tf.Tensor 'data_5:0' shape=(None,) dtype=int64>, 'education': <tf.Tensor 'data_3:0' shape=(None,) dtype=string>, 'education_num': <tf.Tensor 'data_4:0' shape=(None,) dtype=int64>, 'marital_status': <tf.Tensor 'data_7:0' shape=(None,) dtype=string>, 'occupation': <tf.Tensor 'data_9:0' shape=(None,) dtype=string>, 'relationship': <tf.Tensor 'data_11:0' shape=(None,) dtype=string>, 'race': <tf.Tensor 'data_10:0' shape=(None,) dtype=string>, 'sex': <tf.Tensor 'data_12:0' shape=(None,) dtype=string>, 'capital_gain': <tf.Tensor 'data_1:0' shape=(None,) dtype=int64>, 'capital_loss': <tf.Tensor 'data_2:0' shape=(None,) dtype=int64>, 'hours_per_week': <tf.Tensor 'data_6:0' shape=(None,) dtype=int64>, 'native_country': <tf.Tensor 'data_8:0' shape=(None,) dtype=string>}\n",
      "Label: Tensor(\"data_14:0\", shape=(None,), dtype=int64)\n",
      "Weights: None\n"
     ]
    },
    {
     "name": "stdout",
     "output_type": "stream",
     "text": [
      "Normalized tensor features:\n",
      " {'age': SemanticTensor(semantic=<Semantic.NUMERICAL: 1>, tensor=<tf.Tensor 'Cast:0' shape=(None,) dtype=float32>), 'workclass': SemanticTensor(semantic=<Semantic.CATEGORICAL: 2>, tensor=<tf.Tensor 'data_13:0' shape=(None,) dtype=string>), 'fnlwgt': SemanticTensor(semantic=<Semantic.NUMERICAL: 1>, tensor=<tf.Tensor 'Cast_1:0' shape=(None,) dtype=float32>), 'education': SemanticTensor(semantic=<Semantic.CATEGORICAL: 2>, tensor=<tf.Tensor 'data_3:0' shape=(None,) dtype=string>), 'education_num': SemanticTensor(semantic=<Semantic.NUMERICAL: 1>, tensor=<tf.Tensor 'Cast_2:0' shape=(None,) dtype=float32>), 'marital_status': SemanticTensor(semantic=<Semantic.CATEGORICAL: 2>, tensor=<tf.Tensor 'data_7:0' shape=(None,) dtype=string>), 'occupation': SemanticTensor(semantic=<Semantic.CATEGORICAL: 2>, tensor=<tf.Tensor 'data_9:0' shape=(None,) dtype=string>), 'relationship': SemanticTensor(semantic=<Semantic.CATEGORICAL: 2>, tensor=<tf.Tensor 'data_11:0' shape=(None,) dtype=string>), 'race': SemanticTensor(semantic=<Semantic.CATEGORICAL: 2>, tensor=<tf.Tensor 'data_10:0' shape=(None,) dtype=string>), 'sex': SemanticTensor(semantic=<Semantic.CATEGORICAL: 2>, tensor=<tf.Tensor 'data_12:0' shape=(None,) dtype=string>), 'capital_gain': SemanticTensor(semantic=<Semantic.NUMERICAL: 1>, tensor=<tf.Tensor 'Cast_3:0' shape=(None,) dtype=float32>), 'capital_loss': SemanticTensor(semantic=<Semantic.NUMERICAL: 1>, tensor=<tf.Tensor 'Cast_4:0' shape=(None,) dtype=float32>), 'hours_per_week': SemanticTensor(semantic=<Semantic.NUMERICAL: 1>, tensor=<tf.Tensor 'Cast_5:0' shape=(None,) dtype=float32>), 'native_country': SemanticTensor(semantic=<Semantic.CATEGORICAL: 2>, tensor=<tf.Tensor 'data_8:0' shape=(None,) dtype=string>)}\n"
     ]
    },
    {
     "name": "stdout",
     "output_type": "stream",
     "text": [
      "Training dataset read in 0:00:00.369788. Found 22792 examples.\n"
     ]
    },
    {
     "name": "stdout",
     "output_type": "stream",
     "text": [
      "Training model...\n"
     ]
    },
    {
     "name": "stderr",
     "output_type": "stream",
     "text": [
      "[INFO 2023-02-01T12:09:00.101003542+00:00 kernel.cc:756] Start Yggdrasil model training\n",
      "[INFO 2023-02-01T12:09:00.101032435+00:00 kernel.cc:757] Collect training examples\n",
      "[INFO 2023-02-01T12:09:00.101119151+00:00 kernel.cc:388] Number of batches: 23\n",
      "[INFO 2023-02-01T12:09:00.101135203+00:00 kernel.cc:389] Number of examples: 22792\n"
     ]
    },
    {
     "name": "stderr",
     "output_type": "stream",
     "text": [
      "[INFO 2023-02-01T12:09:00.108672367+00:00 data_spec_inference.cc:303] 1 item(s) have been pruned (i.e. they are considered out of dictionary) for the column native_country (40 item(s) left) because min_value_count=5 and max_number_of_unique_values=2000\n",
      "[INFO 2023-02-01T12:09:00.108716013+00:00 data_spec_inference.cc:303] 1 item(s) have been pruned (i.e. they are considered out of dictionary) for the column occupation (13 item(s) left) because min_value_count=5 and max_number_of_unique_values=2000\n",
      "[INFO 2023-02-01T12:09:00.10875597+00:00 data_spec_inference.cc:303] 1 item(s) have been pruned (i.e. they are considered out of dictionary) for the column workclass (7 item(s) left) because min_value_count=5 and max_number_of_unique_values=2000\n"
     ]
    },
    {
     "name": "stderr",
     "output_type": "stream",
     "text": [
      "[INFO 2023-02-01T12:09:00.113672478+00:00 kernel.cc:774] Training dataset:\n",
      "Number of records: 22792\n",
      "Number of columns: 15\n",
      "\n",
      "Number of columns by type:\n",
      "\tCATEGORICAL: 9 (60%)\n",
      "\tNUMERICAL: 6 (40%)\n",
      "\n",
      "Columns:\n",
      "\n",
      "CATEGORICAL: 9 (60%)\n",
      "\t0: \"__LABEL\" CATEGORICAL integerized vocab-size:3 no-ood-item\n",
      "\t4: \"education\" CATEGORICAL has-dict vocab-size:17 zero-ood-items most-frequent:\"HS-grad\" 7340 (32.2043%)\n",
      "\t8: \"marital_status\" CATEGORICAL has-dict vocab-size:8 zero-ood-items most-frequent:\"Married-civ-spouse\" 10431 (45.7661%)\n",
      "\t9: \"native_country\" CATEGORICAL num-nas:407 (1.78571%) has-dict vocab-size:41 num-oods:1 (0.00446728%) most-frequent:\"United-States\" 20436 (91.2933%)\n",
      "\t10: \"occupation\" CATEGORICAL num-nas:1260 (5.52826%) has-dict vocab-size:14 num-oods:1 (0.00464425%) most-frequent:\"Prof-specialty\" 2870 (13.329%)\n",
      "\t11: \"race\" CATEGORICAL has-dict vocab-size:6 zero-ood-items most-frequent:\"White\" 19467 (85.4115%)\n",
      "\t12: \"relationship\" CATEGORICAL has-dict vocab-size:7 zero-ood-items most-frequent:\"Husband\" 9191 (40.3256%)\n",
      "\t13: \"sex\" CATEGORICAL has-dict vocab-size:3 zero-ood-items most-frequent:\"Male\" 15165 (66.5365%)\n",
      "\t14: \"workclass\" CATEGORICAL num-nas:1257 (5.51509%) has-dict vocab-size:8 num-oods:1 (0.0046436%) most-frequent:\"Private\" 15879 (73.7358%)\n",
      "\n",
      "NUMERICAL: 6 (40%)\n",
      "\t1: \"age\" NUMERICAL mean:38.6153 min:17 max:90 sd:13.661\n",
      "\t2: \"capital_gain\" NUMERICAL mean:1081.9 min:0 max:99999 sd:7509.48\n",
      "\t3: \"capital_loss\" NUMERICAL mean:87.2806 min:0 max:4356 sd:403.01\n",
      "\t5: \"education_num\" NUMERICAL mean:10.0927 min:1 max:16 sd:2.56427\n",
      "\t6: \"fnlwgt\" NUMERICAL mean:189879 min:12285 max:1.4847e+06 sd:106423\n",
      "\t7: \"hours_per_week\" NUMERICAL mean:40.3955 min:1 max:99 sd:12.249\n",
      "\n",
      "Terminology:\n",
      "\tnas: Number of non-available (i.e. missing) values.\n",
      "\tood: Out of dictionary.\n",
      "\tmanually-defined: Attribute which type is manually defined by the user i.e. the type was not automatically inferred.\n",
      "\ttokenized: The attribute value is obtained through tokenization.\n",
      "\thas-dict: The attribute is attached to a string dictionary e.g. a categorical attribute stored as a string.\n",
      "\tvocab-size: Number of unique values.\n",
      "\n",
      "[INFO 2023-02-01T12:09:00.113731136+00:00 kernel.cc:790] Configure learner\n",
      "2023-02-01 12:09:00.114002: W external/ydf/yggdrasil_decision_forests/learner/gradient_boosted_trees/gradient_boosted_trees.cc:1790] \"goss_alpha\" set but \"sampling_method\" not equal to \"GOSS\".\n",
      "2023-02-01 12:09:00.114032: W external/ydf/yggdrasil_decision_forests/learner/gradient_boosted_trees/gradient_boosted_trees.cc:1800] \"goss_beta\" set but \"sampling_method\" not equal to \"GOSS\".\n",
      "2023-02-01 12:09:00.114039: W external/ydf/yggdrasil_decision_forests/learner/gradient_boosted_trees/gradient_boosted_trees.cc:1814] \"selective_gradient_boosting_ratio\" set but \"sampling_method\" not equal to \"SELGB\".\n",
      "[INFO 2023-02-01T12:09:00.114092836+00:00 kernel.cc:804] Training config:\n"
     ]
    },
    {
     "name": "stderr",
     "output_type": "stream",
     "text": [
      "learner: \"HYPERPARAMETER_OPTIMIZER\"\n",
      "features: \"^age$\"\n",
      "features: \"^capital_gain$\"\n",
      "features: \"^capital_loss$\"\n",
      "features: \"^education$\"\n",
      "features: \"^education_num$\"\n",
      "features: \"^fnlwgt$\"\n",
      "features: \"^hours_per_week$\"\n",
      "features: \"^marital_status$\"\n",
      "features: \"^native_country$\"\n",
      "features: \"^occupation$\"\n",
      "features: \"^race$\"\n",
      "features: \"^relationship$\"\n",
      "features: \"^sex$\"\n",
      "features: \"^workclass$\"\n",
      "label: \"^__LABEL$\"\n",
      "task: CLASSIFICATION\n",
      "metadata {\n",
      "  framework: \"TF Keras\"\n",
      "}\n",
      "[yggdrasil_decision_forests.model.hyperparameters_optimizer_v2.proto.hyperparameters_optimizer_config] {\n",
      "  base_learner {\n",
      "    learner: \"GRADIENT_BOOSTED_TREES\"\n",
      "    features: \"^age$\"\n",
      "    features: \"^capital_gain$\"\n",
      "    features: \"^capital_loss$\"\n",
      "    features: \"^education$\"\n",
      "    features: \"^education_num$\"\n",
      "    features: \"^fnlwgt$\"\n",
      "    features: \"^hours_per_week$\"\n",
      "    features: \"^marital_status$\"\n",
      "    features: \"^native_country$\"\n",
      "    features: \"^occupation$\"\n",
      "    features: \"^race$\"\n",
      "    features: \"^relationship$\"\n",
      "    features: \"^sex$\"\n",
      "    features: \"^workclass$\"\n",
      "    label: \"^__LABEL$\"\n",
      "    task: CLASSIFICATION\n",
      "    random_seed: 123456\n",
      "    pure_serving_model: false\n",
      "    [yggdrasil_decision_forests.model.gradient_boosted_trees.proto.gradient_boosted_trees_config] {\n",
      "      num_trees: 300\n",
      "      decision_tree {\n",
      "        max_depth: 6\n",
      "        min_examples: 5\n",
      "        in_split_min_examples_check: true\n",
      "        keep_non_leaf_label_distribution: true\n",
      "        num_candidate_attributes: -1\n",
      "        missing_value_policy: GLOBAL_IMPUTATION\n",
      "        allow_na_conditions: false\n",
      "        categorical_set_greedy_forward {\n",
      "          sampling: 0.1\n",
      "          max_num_items: -1\n",
      "          min_item_frequency: 1\n",
      "        }\n",
      "        growing_strategy_local {\n",
      "        }\n",
      "        categorical {\n",
      "          cart {\n",
      "          }\n",
      "        }\n",
      "        axis_aligned_split {\n",
      "        }\n",
      "        internal {\n",
      "          sorting_strategy: PRESORTED\n",
      "        }\n",
      "        uplift {\n",
      "          min_examples_in_treatment: 5\n",
      "          split_score: KULLBACK_LEIBLER\n",
      "        }\n",
      "      }\n",
      "      shrinkage: 0.1\n",
      "      loss: DEFAULT\n",
      "      validation_set_ratio: 0.1\n",
      "      validation_interval_in_trees: 1\n",
      "      early_stopping: VALIDATION_LOSS_INCREASE\n",
      "      early_stopping_num_trees_look_ahead: 30\n",
      "      l2_regularization: 0\n",
      "      lambda_loss: 1\n",
      "      mart {\n",
      "      }\n",
      "      adapt_subsample_for_maximum_training_duration: false\n",
      "      l1_regularization: 0\n",
      "      use_hessian_gain: false\n",
      "      l2_regularization_categorical: 1\n",
      "      stochastic_gradient_boosting {\n",
      "        ratio: 1\n",
      "      }\n",
      "      apply_link_function: true\n",
      "      compute_permutation_variable_importance: false\n",
      "      binary_focal_loss_options {\n",
      "        misprediction_exponent: 2\n",
      "        positive_sample_coefficient: 0.5\n",
      "      }\n",
      "      early_stopping_initial_iteration: 10\n",
      "    }\n",
      "  }\n",
      "  optimizer {\n",
      "    optimizer_key: \"RANDOM\"\n",
      "    [yggdrasil_decision_forests.model.hyperparameters_optimizer_v2.proto.random] {\n",
      "      num_trials: 50\n",
      "    }\n",
      "  }\n",
      "  base_learner_deployment {\n",
      "    num_threads: 1\n",
      "  }\n",
      "  predefined_search_space {\n",
      "  }\n",
      "}\n",
      "\n",
      "[INFO 2023-02-01T12:09:00.114222565+00:00 kernel.cc:807] Deployment config:\n",
      "cache_path: \"/tmpfs/tmp/tmp7w1wg5fw/working_cache\"\n",
      "num_threads: 32\n",
      "try_resume_training: true\n",
      "\n",
      "[INFO 2023-02-01T12:09:00.114451643+00:00 kernel.cc:868] Train model\n"
     ]
    },
    {
     "name": "stderr",
     "output_type": "stream",
     "text": [
      "[INFO 2023-02-01T12:09:27.673901013+00:00 early_stopping.cc:53] Early stop of the training because the validation loss does not decrease anymore. Best valid-loss: 0.617247\n"
     ]
    },
    {
     "name": "stderr",
     "output_type": "stream",
     "text": [
      "[INFO 2023-02-01T12:09:32.801753903+00:00 early_stopping.cc:53] Early stop of the training because the validation loss does not decrease anymore. Best valid-loss: 0.587795\n"
     ]
    },
    {
     "name": "stderr",
     "output_type": "stream",
     "text": [
      "[INFO 2023-02-01T12:09:38.108731583+00:00 early_stopping.cc:53] Early stop of the training because the validation loss does not decrease anymore. Best valid-loss: 0.579144\n"
     ]
    },
    {
     "name": "stderr",
     "output_type": "stream",
     "text": [
      "[INFO 2023-02-01T12:09:40.718985441+00:00 early_stopping.cc:53] Early stop of the training because the validation loss does not decrease anymore. Best valid-loss: 0.604322\n"
     ]
    },
    {
     "name": "stderr",
     "output_type": "stream",
     "text": [
      "[INFO 2023-02-01T12:09:48.519083808+00:00 early_stopping.cc:53] Early stop of the training because the validation loss does not decrease anymore. Best valid-loss: 0.601315\n"
     ]
    },
    {
     "name": "stderr",
     "output_type": "stream",
     "text": [
      "[INFO 2023-02-01T12:09:50.955101001+00:00 early_stopping.cc:53] Early stop of the training because the validation loss does not decrease anymore. Best valid-loss: 0.609047\n"
     ]
    },
    {
     "name": "stderr",
     "output_type": "stream",
     "text": [
      "[INFO 2023-02-01T12:09:51.305896716+00:00 early_stopping.cc:53] Early stop of the training because the validation loss does not decrease anymore. Best valid-loss: 0.576761\n"
     ]
    },
    {
     "name": "stderr",
     "output_type": "stream",
     "text": [
      "[INFO 2023-02-01T12:09:51.866282407+00:00 early_stopping.cc:53] Early stop of the training because the validation loss does not decrease anymore. Best valid-loss: 0.585247\n"
     ]
    },
    {
     "name": "stderr",
     "output_type": "stream",
     "text": [
      "[INFO 2023-02-01T12:09:52.639168731+00:00 early_stopping.cc:53] Early stop of the training because the validation loss does not decrease anymore. Best valid-loss: 0.574235\n"
     ]
    },
    {
     "name": "stderr",
     "output_type": "stream",
     "text": [
      "[INFO 2023-02-01T12:09:52.904800172+00:00 early_stopping.cc:53] Early stop of the training because the validation loss does not decrease anymore. Best valid-loss: 0.575853\n"
     ]
    },
    {
     "name": "stderr",
     "output_type": "stream",
     "text": [
      "[INFO 2023-02-01T12:09:57.049231376+00:00 early_stopping.cc:53] Early stop of the training because the validation loss does not decrease anymore. Best valid-loss: 0.634505\n"
     ]
    },
    {
     "name": "stderr",
     "output_type": "stream",
     "text": [
      "[INFO 2023-02-01T12:10:07.732286395+00:00 early_stopping.cc:53] Early stop of the training because the validation loss does not decrease anymore. Best valid-loss: 0.599006\n"
     ]
    },
    {
     "name": "stderr",
     "output_type": "stream",
     "text": [
      "[INFO 2023-02-01T12:10:13.226015779+00:00 early_stopping.cc:53] Early stop of the training because the validation loss does not decrease anymore. Best valid-loss: 0.57462\n"
     ]
    },
    {
     "name": "stderr",
     "output_type": "stream",
     "text": [
      "[INFO 2023-02-01T12:10:17.27092083+00:00 early_stopping.cc:53] Early stop of the training because the validation loss does not decrease anymore. Best valid-loss: 0.585657\n"
     ]
    },
    {
     "name": "stderr",
     "output_type": "stream",
     "text": [
      "[INFO 2023-02-01T12:10:17.867169081+00:00 early_stopping.cc:53] Early stop of the training because the validation loss does not decrease anymore. Best valid-loss: 0.575868\n"
     ]
    },
    {
     "name": "stderr",
     "output_type": "stream",
     "text": [
      "[INFO 2023-02-01T12:10:25.791623077+00:00 early_stopping.cc:53] Early stop of the training because the validation loss does not decrease anymore. Best valid-loss: 0.57937\n"
     ]
    },
    {
     "name": "stderr",
     "output_type": "stream",
     "text": [
      "[INFO 2023-02-01T12:10:36.666482972+00:00 early_stopping.cc:53] Early stop of the training because the validation loss does not decrease anymore. Best valid-loss: 0.593538\n"
     ]
    },
    {
     "name": "stderr",
     "output_type": "stream",
     "text": [
      "[INFO 2023-02-01T12:10:37.469933095+00:00 early_stopping.cc:53] Early stop of the training because the validation loss does not decrease anymore. Best valid-loss: 0.642896\n"
     ]
    },
    {
     "name": "stderr",
     "output_type": "stream",
     "text": [
      "[INFO 2023-02-01T12:10:37.708165541+00:00 early_stopping.cc:53] Early stop of the training because the validation loss does not decrease anymore. Best valid-loss: 0.580436\n"
     ]
    },
    {
     "name": "stderr",
     "output_type": "stream",
     "text": [
      "[INFO 2023-02-01T12:10:39.081284721+00:00 early_stopping.cc:53] Early stop of the training because the validation loss does not decrease anymore. Best valid-loss: 0.582612\n"
     ]
    },
    {
     "name": "stderr",
     "output_type": "stream",
     "text": [
      "[INFO 2023-02-01T12:10:39.402097572+00:00 early_stopping.cc:53] Early stop of the training because the validation loss does not decrease anymore. Best valid-loss: 0.623461\n"
     ]
    },
    {
     "name": "stderr",
     "output_type": "stream",
     "text": [
      "[INFO 2023-02-01T12:10:58.224513829+00:00 early_stopping.cc:53] Early stop of the training because the validation loss does not decrease anymore. Best valid-loss: 0.622613\n"
     ]
    },
    {
     "name": "stderr",
     "output_type": "stream",
     "text": [
      "[INFO 2023-02-01T12:11:03.082495092+00:00 early_stopping.cc:53] Early stop of the training because the validation loss does not decrease anymore. Best valid-loss: 0.636921\n"
     ]
    },
    {
     "name": "stderr",
     "output_type": "stream",
     "text": [
      "[INFO 2023-02-01T12:11:21.550245546+00:00 early_stopping.cc:53] Early stop of the training because the validation loss does not decrease anymore. Best valid-loss: 0.575538\n"
     ]
    },
    {
     "name": "stderr",
     "output_type": "stream",
     "text": [
      "[INFO 2023-02-01T12:11:37.764394969+00:00 kernel.cc:905] Export model in log directory: /tmpfs/tmp/tmp7w1wg5fw with prefix 5ba965b1f2a24c22\n"
     ]
    },
    {
     "name": "stderr",
     "output_type": "stream",
     "text": [
      "[INFO 2023-02-01T12:11:37.79468272+00:00 kernel.cc:923] Save model in resources\n"
     ]
    },
    {
     "name": "stderr",
     "output_type": "stream",
     "text": [
      "[INFO 2023-02-01T12:11:37.79904483+00:00 abstract_model.cc:849] Model self evaluation:\n",
      "Task: CLASSIFICATION\n",
      "Label: __LABEL\n",
      "Loss (BINOMIAL_LOG_LIKELIHOOD): 0.573336\n",
      "\n",
      "Accuracy: 0.867198  CI95[W][0 1]\n",
      "ErrorRate: : 0.132802\n",
      "\n",
      "\n",
      "Confusion Table:\n",
      "truth\\prediction\n",
      "   0     1    2\n",
      "0  0     0    0\n",
      "1  0  1578   86\n",
      "2  0   214  381\n",
      "Total: 2259\n",
      "\n",
      "One vs other classes:\n",
      "\n"
     ]
    },
    {
     "name": "stderr",
     "output_type": "stream",
     "text": [
      "[INFO 2023-02-01T12:11:37.823530826+00:00 kernel.cc:1214] Loading model from path /tmpfs/tmp/tmp7w1wg5fw/model/ with prefix 5ba965b1f2a24c22\n"
     ]
    },
    {
     "name": "stderr",
     "output_type": "stream",
     "text": [
      "[INFO 2023-02-01T12:11:37.981384124+00:00 decision_forest.cc:661] Model loaded with 284 root(s), 48262 node(s), and 14 input feature(s).\n",
      "[INFO 2023-02-01T12:11:37.981421401+00:00 abstract_model.cc:1311] Engine \"GradientBoostedTreesGeneric\" built\n",
      "[INFO 2023-02-01T12:11:37.981443494+00:00 kernel.cc:1046] Use fast generic engine\n"
     ]
    },
    {
     "name": "stdout",
     "output_type": "stream",
     "text": [
      "Model trained in 0:02:37.891659\n"
     ]
    },
    {
     "name": "stdout",
     "output_type": "stream",
     "text": [
      "Compiling model...\n"
     ]
    },
    {
     "name": "stdout",
     "output_type": "stream",
     "text": [
      "Model compiled.\n"
     ]
    },
    {
     "name": "stdout",
     "output_type": "stream",
     "text": [
      "CPU times: user 57min, sys: 1 s, total: 57min 1s\n",
      "Wall time: 2min 38s\n"
     ]
    },
    {
     "data": {
      "text/plain": [
       "<keras.callbacks.History at 0x7fc9a37aea30>"
      ]
     },
     "execution_count": 17,
     "metadata": {},
     "output_type": "execute_result"
    }
   ],
   "source": [
    "%%time\n",
    "%set_cell_height 300\n",
    "\n",
    "# Create a Random Search tuner with 50 trials and automatic hp configuration.\n",
    "tuner = tfdf.tuner.RandomSearch(num_trials=50, use_predefined_hps=True)\n",
    "\n",
    "# Define and train the model.\n",
    "tuned_model = tfdf.keras.GradientBoostedTreesModel(tuner=tuner)\n",
    "tuned_model.fit(train_ds, verbose=2)"
   ]
  },
  {
   "cell_type": "code",
   "execution_count": 18,
   "metadata": {
    "execution": {
     "iopub.execute_input": "2023-02-01T12:11:38.224835Z",
     "iopub.status.busy": "2023-02-01T12:11:38.224510Z",
     "iopub.status.idle": "2023-02-01T12:11:38.806618Z",
     "shell.execute_reply": "2023-02-01T12:11:38.805831Z"
    },
    "id": "U0g8e3inf8Ef"
   },
   "outputs": [
    {
     "name": "stdout",
     "output_type": "stream",
     "text": [
      "Test accuracy with the TF-DF hyper-parameter tuner: 0.8741\n"
     ]
    }
   ],
   "source": [
    "# Evaluate the model\n",
    "tuned_model.compile([\"accuracy\"])\n",
    "tuned_test_accuracy = tuned_model.evaluate(test_ds, return_dict=True, verbose=0)[\"accuracy\"]\n",
    "print(f\"Test accuracy with the TF-DF hyper-parameter tuner: {tuned_test_accuracy:.4f}\")"
   ]
  },
  {
   "cell_type": "markdown",
   "metadata": {
    "id": "PgdSseACZD4x"
   },
   "source": [
    "Same as before, display the tuning logs."
   ]
  },
  {
   "cell_type": "code",
   "execution_count": 19,
   "metadata": {
    "execution": {
     "iopub.execute_input": "2023-02-01T12:11:38.810468Z",
     "iopub.status.busy": "2023-02-01T12:11:38.809758Z",
     "iopub.status.idle": "2023-02-01T12:11:38.831617Z",
     "shell.execute_reply": "2023-02-01T12:11:38.831012Z"
    },
    "id": "GFGQvXxZZAiU"
   },
   "outputs": [
    {
     "data": {
      "text/html": [
       "<div>\n",
       "<style scoped>\n",
       "    .dataframe tbody tr th:only-of-type {\n",
       "        vertical-align: middle;\n",
       "    }\n",
       "\n",
       "    .dataframe tbody tr th {\n",
       "        vertical-align: top;\n",
       "    }\n",
       "\n",
       "    .dataframe thead th {\n",
       "        text-align: right;\n",
       "    }\n",
       "</style>\n",
       "<table border=\"1\" class=\"dataframe\">\n",
       "  <thead>\n",
       "    <tr style=\"text-align: right;\">\n",
       "      <th></th>\n",
       "      <th>score</th>\n",
       "      <th>evaluation_time</th>\n",
       "      <th>best</th>\n",
       "      <th>split_axis</th>\n",
       "      <th>sparse_oblique_projection_density_factor</th>\n",
       "      <th>sparse_oblique_normalization</th>\n",
       "      <th>sparse_oblique_weights</th>\n",
       "      <th>categorical_algorithm</th>\n",
       "      <th>growing_strategy</th>\n",
       "      <th>max_num_nodes</th>\n",
       "      <th>sampling_method</th>\n",
       "      <th>subsample</th>\n",
       "      <th>shrinkage</th>\n",
       "      <th>min_examples</th>\n",
       "      <th>use_hessian_gain</th>\n",
       "      <th>num_candidate_attributes_ratio</th>\n",
       "      <th>max_depth</th>\n",
       "    </tr>\n",
       "  </thead>\n",
       "  <tbody>\n",
       "    <tr>\n",
       "      <th>0</th>\n",
       "      <td>-0.617247</td>\n",
       "      <td>27.561037</td>\n",
       "      <td>False</td>\n",
       "      <td>SPARSE_OBLIQUE</td>\n",
       "      <td>5.0</td>\n",
       "      <td>STANDARD_DEVIATION</td>\n",
       "      <td>CONTINUOUS</td>\n",
       "      <td>RANDOM</td>\n",
       "      <td>BEST_FIRST_GLOBAL</td>\n",
       "      <td>32.0</td>\n",
       "      <td>RANDOM</td>\n",
       "      <td>0.6</td>\n",
       "      <td>0.10</td>\n",
       "      <td>5</td>\n",
       "      <td>true</td>\n",
       "      <td>1.0</td>\n",
       "      <td>NaN</td>\n",
       "    </tr>\n",
       "    <tr>\n",
       "      <th>1</th>\n",
       "      <td>-0.587795</td>\n",
       "      <td>32.688892</td>\n",
       "      <td>False</td>\n",
       "      <td>SPARSE_OBLIQUE</td>\n",
       "      <td>1.0</td>\n",
       "      <td>MIN_MAX</td>\n",
       "      <td>BINARY</td>\n",
       "      <td>CART</td>\n",
       "      <td>BEST_FIRST_GLOBAL</td>\n",
       "      <td>16.0</td>\n",
       "      <td>RANDOM</td>\n",
       "      <td>0.6</td>\n",
       "      <td>0.10</td>\n",
       "      <td>10</td>\n",
       "      <td>true</td>\n",
       "      <td>0.2</td>\n",
       "      <td>NaN</td>\n",
       "    </tr>\n",
       "    <tr>\n",
       "      <th>2</th>\n",
       "      <td>-0.592873</td>\n",
       "      <td>36.449740</td>\n",
       "      <td>False</td>\n",
       "      <td>SPARSE_OBLIQUE</td>\n",
       "      <td>2.0</td>\n",
       "      <td>NONE</td>\n",
       "      <td>BINARY</td>\n",
       "      <td>RANDOM</td>\n",
       "      <td>LOCAL</td>\n",
       "      <td>NaN</td>\n",
       "      <td>RANDOM</td>\n",
       "      <td>0.6</td>\n",
       "      <td>0.05</td>\n",
       "      <td>20</td>\n",
       "      <td>false</td>\n",
       "      <td>1.0</td>\n",
       "      <td>4.0</td>\n",
       "    </tr>\n",
       "    <tr>\n",
       "      <th>3</th>\n",
       "      <td>-0.579144</td>\n",
       "      <td>37.998014</td>\n",
       "      <td>False</td>\n",
       "      <td>SPARSE_OBLIQUE</td>\n",
       "      <td>1.0</td>\n",
       "      <td>MIN_MAX</td>\n",
       "      <td>CONTINUOUS</td>\n",
       "      <td>CART</td>\n",
       "      <td>BEST_FIRST_GLOBAL</td>\n",
       "      <td>512.0</td>\n",
       "      <td>RANDOM</td>\n",
       "      <td>1.0</td>\n",
       "      <td>0.10</td>\n",
       "      <td>5</td>\n",
       "      <td>false</td>\n",
       "      <td>0.5</td>\n",
       "      <td>NaN</td>\n",
       "    </tr>\n",
       "    <tr>\n",
       "      <th>4</th>\n",
       "      <td>-0.604322</td>\n",
       "      <td>40.606637</td>\n",
       "      <td>False</td>\n",
       "      <td>SPARSE_OBLIQUE</td>\n",
       "      <td>4.0</td>\n",
       "      <td>STANDARD_DEVIATION</td>\n",
       "      <td>CONTINUOUS</td>\n",
       "      <td>CART</td>\n",
       "      <td>LOCAL</td>\n",
       "      <td>NaN</td>\n",
       "      <td>RANDOM</td>\n",
       "      <td>0.8</td>\n",
       "      <td>0.10</td>\n",
       "      <td>5</td>\n",
       "      <td>false</td>\n",
       "      <td>0.5</td>\n",
       "      <td>6.0</td>\n",
       "    </tr>\n",
       "  </tbody>\n",
       "</table>\n",
       "</div>"
      ],
      "text/plain": [
       "      score  evaluation_time   best      split_axis  \\\n",
       "0 -0.617247        27.561037  False  SPARSE_OBLIQUE   \n",
       "1 -0.587795        32.688892  False  SPARSE_OBLIQUE   \n",
       "2 -0.592873        36.449740  False  SPARSE_OBLIQUE   \n",
       "3 -0.579144        37.998014  False  SPARSE_OBLIQUE   \n",
       "4 -0.604322        40.606637  False  SPARSE_OBLIQUE   \n",
       "\n",
       "   sparse_oblique_projection_density_factor sparse_oblique_normalization  \\\n",
       "0                                       5.0           STANDARD_DEVIATION   \n",
       "1                                       1.0                      MIN_MAX   \n",
       "2                                       2.0                         NONE   \n",
       "3                                       1.0                      MIN_MAX   \n",
       "4                                       4.0           STANDARD_DEVIATION   \n",
       "\n",
       "  sparse_oblique_weights categorical_algorithm   growing_strategy  \\\n",
       "0             CONTINUOUS                RANDOM  BEST_FIRST_GLOBAL   \n",
       "1                 BINARY                  CART  BEST_FIRST_GLOBAL   \n",
       "2                 BINARY                RANDOM              LOCAL   \n",
       "3             CONTINUOUS                  CART  BEST_FIRST_GLOBAL   \n",
       "4             CONTINUOUS                  CART              LOCAL   \n",
       "\n",
       "   max_num_nodes sampling_method  subsample  shrinkage  min_examples  \\\n",
       "0           32.0          RANDOM        0.6       0.10             5   \n",
       "1           16.0          RANDOM        0.6       0.10            10   \n",
       "2            NaN          RANDOM        0.6       0.05            20   \n",
       "3          512.0          RANDOM        1.0       0.10             5   \n",
       "4            NaN          RANDOM        0.8       0.10             5   \n",
       "\n",
       "  use_hessian_gain  num_candidate_attributes_ratio  max_depth  \n",
       "0             true                             1.0        NaN  \n",
       "1             true                             0.2        NaN  \n",
       "2            false                             1.0        4.0  \n",
       "3            false                             0.5        NaN  \n",
       "4            false                             0.5        6.0  "
      ]
     },
     "execution_count": 19,
     "metadata": {},
     "output_type": "execute_result"
    }
   ],
   "source": [
    "# Display the tuning logs.\n",
    "tuning_logs = tuned_model.make_inspector().tuning_logs()\n",
    "tuning_logs.head()"
   ]
  },
  {
   "cell_type": "markdown",
   "metadata": {
    "id": "80k6nTULZKEb"
   },
   "source": [
    "Same as before, shows the best hyper-parameters."
   ]
  },
  {
   "cell_type": "code",
   "execution_count": 20,
   "metadata": {
    "execution": {
     "iopub.execute_input": "2023-02-01T12:11:38.834380Z",
     "iopub.status.busy": "2023-02-01T12:11:38.834154Z",
     "iopub.status.idle": "2023-02-01T12:11:38.839768Z",
     "shell.execute_reply": "2023-02-01T12:11:38.839152Z"
    },
    "id": "n5HN4_n9ZA1l"
   },
   "outputs": [
    {
     "data": {
      "text/plain": [
       "score                                            -0.573336\n",
       "evaluation_time                                  124.74388\n",
       "best                                                  True\n",
       "split_axis                                  SPARSE_OBLIQUE\n",
       "sparse_oblique_projection_density_factor               4.0\n",
       "sparse_oblique_normalization                          NONE\n",
       "sparse_oblique_weights                          CONTINUOUS\n",
       "categorical_algorithm                                 CART\n",
       "growing_strategy                                     LOCAL\n",
       "max_num_nodes                                          NaN\n",
       "sampling_method                                     RANDOM\n",
       "subsample                                              0.9\n",
       "shrinkage                                             0.02\n",
       "min_examples                                             5\n",
       "use_hessian_gain                                      true\n",
       "num_candidate_attributes_ratio                         0.2\n",
       "max_depth                                              8.0\n",
       "Name: 41, dtype: object"
      ]
     },
     "execution_count": 20,
     "metadata": {},
     "output_type": "execute_result"
    }
   ],
   "source": [
    "# Best hyper-parameters.\n",
    "tuning_logs[tuning_logs.best].iloc[0]"
   ]
  },
  {
   "cell_type": "markdown",
   "metadata": {
    "id": "P21MkKxgZQjm"
   },
   "source": [
    "Finally, plots the evolution of the quality of the model during tuning:"
   ]
  },
  {
   "cell_type": "code",
   "execution_count": 21,
   "metadata": {
    "execution": {
     "iopub.execute_input": "2023-02-01T12:11:38.842887Z",
     "iopub.status.busy": "2023-02-01T12:11:38.842324Z",
     "iopub.status.idle": "2023-02-01T12:11:39.024915Z",
     "shell.execute_reply": "2023-02-01T12:11:39.024286Z"
    },
    "id": "1DPZjHrKZVNO"
   },
   "outputs": [
    {
     "data": {
      "image/png": "[encoded data removed]",
      "text/plain": [
       "<Figure size 1000x500 with 1 Axes>"
      ]
     },
     "metadata": {},
     "output_type": "display_data"
    }
   ],
   "source": [
    "plt.figure(figsize=(10, 5))\n",
    "plt.plot(tuning_logs[\"score\"], label=\"current trial\")\n",
    "plt.plot(tuning_logs[\"score\"].cummax(), label=\"best trial\")\n",
    "plt.xlabel(\"Tuning step\")\n",
    "plt.ylabel(\"Tuning score\")\n",
    "plt.legend()\n",
    "plt.show()"
   ]
  },
  {
   "cell_type": "markdown",
   "metadata": {
    "id": "N6U8DwBddCT8"
   },
   "source": [
    "## Training a model with Keras Tuner *(Alternative approach)* \n",
    "\n",
    "TensorFlow Decision Forests is based on the Keras framework, and it is compatible with the [Keras tuner](https://keras.io/keras_tuner/#quick-introduction).\n",
    "\n",
    "Currently, the **TF-DF Tuner** and the **Keras Tuner** are complementary.\n",
    "\n",
    "*TF-DF Tuner*\n",
    "\n",
    "- Automatic configuration of the objective.\n",
    "- Automatic extraction of validation dataset (if needed).\n",
    "- Support model self evaluation (e.g. out-of-bag evaluation).\n",
    "- Distributed hyper-parameter tuning.\n",
    "- Shared dataset access in between the trials: The tensorflow dataset is read only once, speeding-up tuning significantly on small datasets.\n",
    "\n",
    "*Keras Tuner*\n",
    "\n",
    "- Support tuning of the pre-processing parameters.\n",
    "- Support hyper-band optimizer.\n",
    "- Support custom objectives.\n",
    "\n",
    "Let's tune a TF-DF model using the Keras tuner."
   ]
  },
  {
   "cell_type": "code",
   "execution_count": 22,
   "metadata": {
    "execution": {
     "iopub.execute_input": "2023-02-01T12:11:39.028003Z",
     "iopub.status.busy": "2023-02-01T12:11:39.027531Z",
     "iopub.status.idle": "2023-02-01T12:11:41.572439Z",
     "shell.execute_reply": "2023-02-01T12:11:41.571712Z"
    },
    "id": "rjKRFlGSBJ-O"
   },
   "outputs": [],
   "source": [
    "# Install the Keras tuner\n",
    "!pip install keras-tuner -U -qq\n",
    "import keras_tuner as kt"
   ]
  },
  {
   "cell_type": "code",
   "execution_count": 23,
   "metadata": {
    "execution": {
     "iopub.execute_input": "2023-02-01T12:11:41.575886Z",
     "iopub.status.busy": "2023-02-01T12:11:41.575633Z",
     "iopub.status.idle": "2023-02-01T12:16:09.749621Z",
     "shell.execute_reply": "2023-02-01T12:16:09.748933Z"
    },
    "id": "8crUJKg_CDFG"
   },
   "outputs": [
    {
     "name": "stdout",
     "output_type": "stream",
     "text": [
      "Trial 50 Complete [00h 00m 05s]\n",
      "val_accuracy: 0.8727272748947144\n",
      "\n",
      "Best val_accuracy So Far: 0.8779433965682983\n",
      "Total elapsed time: 00h 04m 28s\n",
      "INFO:tensorflow:Oracle triggered exit\n"
     ]
    },
    {
     "name": "stderr",
     "output_type": "stream",
     "text": [
      "INFO:tensorflow:Oracle triggered exit\n"
     ]
    },
    {
     "name": "stdout",
     "output_type": "stream",
     "text": [
      "CPU times: user 7min 52s, sys: 1min 22s, total: 9min 14s\n",
      "Wall time: 4min 28s\n"
     ]
    }
   ],
   "source": [
    "%%time\n",
    "\n",
    "def build_model(hp):\n",
    "  \"\"\"Creates a model.\"\"\"\n",
    "\n",
    "  model = tfdf.keras.GradientBoostedTreesModel(\n",
    "      min_examples=hp.Choice(\"min_examples\", [2, 5, 7, 10]),\n",
    "      categorical_algorithm=hp.Choice(\"categorical_algorithm\", [\"CART\", \"RANDOM\"]),\n",
    "      max_depth=hp.Choice(\"max_depth\", [4, 5, 6, 7]),\n",
    "      # The keras tuner convert automaticall boolean parameters to integers.\n",
    "      use_hessian_gain=bool(hp.Choice(\"use_hessian_gain\", [True, False])),\n",
    "      shrinkage=hp.Choice(\"shrinkage\", [0.02, 0.05, 0.10, 0.15]),\n",
    "      num_candidate_attributes_ratio=hp.Choice(\"num_candidate_attributes_ratio\", [0.2, 0.5, 0.9, 1.0]),\n",
    "  )\n",
    "\n",
    "  # Optimize the model accuracy as computed on the validation dataset.\n",
    "  model.compile(metrics=[\"accuracy\"])\n",
    "  return model\n",
    "\n",
    "keras_tuner = kt.RandomSearch(\n",
    "    build_model,\n",
    "    objective=\"val_accuracy\",\n",
    "    max_trials=50,\n",
    "    overwrite=True,\n",
    "    directory=\"/tmp/keras_tuning\")\n",
    "\n",
    "# Important: The tuning should not be done on the test dataset.\n",
    "\n",
    "# Extract a validation dataset from the training dataset. The new training\n",
    "# dataset is called the \"sub-training-dataset\".\n",
    "\n",
    "def split_dataset(dataset, test_ratio=0.30):\n",
    "  \"\"\"Splits a panda dataframe in two.\"\"\"\n",
    "  test_indices = np.random.rand(len(dataset)) < test_ratio\n",
    "  return dataset[~test_indices], dataset[test_indices]\n",
    "\n",
    "sub_train_df, sub_valid_df = split_dataset(train_df)\n",
    "sub_train_ds = tfdf.keras.pd_dataframe_to_tf_dataset(sub_train_df, label=\"income\")\n",
    "sub_valid_ds = tfdf.keras.pd_dataframe_to_tf_dataset(sub_valid_df, label=\"income\")\n",
    "\n",
    "# Tune the model\n",
    "keras_tuner.search(sub_train_ds, validation_data=sub_valid_ds)"
   ]
  },
  {
   "cell_type": "markdown",
   "metadata": {
    "id": "xmh00lVlm3ko"
   },
   "source": [
    "The best hyper-parameter are available with `get_best_hyperparameters`:\n"
   ]
  },
  {
   "cell_type": "code",
   "execution_count": 24,
   "metadata": {
    "execution": {
     "iopub.execute_input": "2023-02-01T12:16:09.752803Z",
     "iopub.status.busy": "2023-02-01T12:16:09.752508Z",
     "iopub.status.idle": "2023-02-01T12:16:09.756699Z",
     "shell.execute_reply": "2023-02-01T12:16:09.756023Z"
    },
    "id": "9TVvu3YUm8va"
   },
   "outputs": [
    {
     "name": "stdout",
     "output_type": "stream",
     "text": [
      "Best hyper-parameters: {'min_examples': 7, 'categorical_algorithm': 'CART', 'max_depth': 7, 'use_hessian_gain': 0, 'shrinkage': 0.15, 'num_candidate_attributes_ratio': 0.9}\n"
     ]
    }
   ],
   "source": [
    "# Tune the model\n",
    "best_hyper_parameters = keras_tuner.get_best_hyperparameters()[0].values\n",
    "print(\"Best hyper-parameters:\", keras_tuner.get_best_hyperparameters()[0].values)"
   ]
  },
  {
   "cell_type": "markdown",
   "metadata": {
    "id": "4gHVX50tokH2"
   },
   "source": [
    "The model should be re-trained with the best hyper-parameters:"
   ]
  },
  {
   "cell_type": "code",
   "execution_count": 25,
   "metadata": {
    "execution": {
     "iopub.execute_input": "2023-02-01T12:16:09.759376Z",
     "iopub.status.busy": "2023-02-01T12:16:09.759174Z",
     "iopub.status.idle": "2023-02-01T12:16:12.355528Z",
     "shell.execute_reply": "2023-02-01T12:16:12.354914Z"
    },
    "id": "yO0cDwO2opGt"
   },
   "outputs": [
    {
     "data": {
      "application/javascript": [
       "google.colab.output.setIframeHeight(0, true, {maxHeight: 300})"
      ],
      "text/plain": [
       "<IPython.core.display.Javascript object>"
      ]
     },
     "metadata": {},
     "output_type": "display_data"
    },
    {
     "name": "stdout",
     "output_type": "stream",
     "text": [
      "Warning: The `num_threads` constructor argument is not set and the number of CPU is os.cpu_count()=32 > 32. Setting num_threads to 32. Set num_threads manually to use more than 32 cpus.\n"
     ]
    },
    {
     "name": "stderr",
     "output_type": "stream",
     "text": [
      "WARNING:absl:The `num_threads` constructor argument is not set and the number of CPU is os.cpu_count()=32 > 32. Setting num_threads to 32. Set num_threads manually to use more than 32 cpus.\n"
     ]
    },
    {
     "name": "stdout",
     "output_type": "stream",
     "text": [
      "Use /tmpfs/tmp/tmpau6vzbt0 as temporary training directory\n"
     ]
    },
    {
     "name": "stdout",
     "output_type": "stream",
     "text": [
      "Reading training dataset...\n"
     ]
    },
    {
     "name": "stdout",
     "output_type": "stream",
     "text": [
      "Training tensor examples:\n",
      "Features: {'age': <tf.Tensor 'data:0' shape=(None,) dtype=int64>, 'workclass': <tf.Tensor 'data_13:0' shape=(None,) dtype=string>, 'fnlwgt': <tf.Tensor 'data_5:0' shape=(None,) dtype=int64>, 'education': <tf.Tensor 'data_3:0' shape=(None,) dtype=string>, 'education_num': <tf.Tensor 'data_4:0' shape=(None,) dtype=int64>, 'marital_status': <tf.Tensor 'data_7:0' shape=(None,) dtype=string>, 'occupation': <tf.Tensor 'data_9:0' shape=(None,) dtype=string>, 'relationship': <tf.Tensor 'data_11:0' shape=(None,) dtype=string>, 'race': <tf.Tensor 'data_10:0' shape=(None,) dtype=string>, 'sex': <tf.Tensor 'data_12:0' shape=(None,) dtype=string>, 'capital_gain': <tf.Tensor 'data_1:0' shape=(None,) dtype=int64>, 'capital_loss': <tf.Tensor 'data_2:0' shape=(None,) dtype=int64>, 'hours_per_week': <tf.Tensor 'data_6:0' shape=(None,) dtype=int64>, 'native_country': <tf.Tensor 'data_8:0' shape=(None,) dtype=string>}\n",
      "Label: Tensor(\"data_14:0\", shape=(None,), dtype=int64)\n",
      "Weights: None\n"
     ]
    },
    {
     "name": "stdout",
     "output_type": "stream",
     "text": [
      "Normalized tensor features:\n",
      " {'age': SemanticTensor(semantic=<Semantic.NUMERICAL: 1>, tensor=<tf.Tensor 'Cast:0' shape=(None,) dtype=float32>), 'workclass': SemanticTensor(semantic=<Semantic.CATEGORICAL: 2>, tensor=<tf.Tensor 'data_13:0' shape=(None,) dtype=string>), 'fnlwgt': SemanticTensor(semantic=<Semantic.NUMERICAL: 1>, tensor=<tf.Tensor 'Cast_1:0' shape=(None,) dtype=float32>), 'education': SemanticTensor(semantic=<Semantic.CATEGORICAL: 2>, tensor=<tf.Tensor 'data_3:0' shape=(None,) dtype=string>), 'education_num': SemanticTensor(semantic=<Semantic.NUMERICAL: 1>, tensor=<tf.Tensor 'Cast_2:0' shape=(None,) dtype=float32>), 'marital_status': SemanticTensor(semantic=<Semantic.CATEGORICAL: 2>, tensor=<tf.Tensor 'data_7:0' shape=(None,) dtype=string>), 'occupation': SemanticTensor(semantic=<Semantic.CATEGORICAL: 2>, tensor=<tf.Tensor 'data_9:0' shape=(None,) dtype=string>), 'relationship': SemanticTensor(semantic=<Semantic.CATEGORICAL: 2>, tensor=<tf.Tensor 'data_11:0' shape=(None,) dtype=string>), 'race': SemanticTensor(semantic=<Semantic.CATEGORICAL: 2>, tensor=<tf.Tensor 'data_10:0' shape=(None,) dtype=string>), 'sex': SemanticTensor(semantic=<Semantic.CATEGORICAL: 2>, tensor=<tf.Tensor 'data_12:0' shape=(None,) dtype=string>), 'capital_gain': SemanticTensor(semantic=<Semantic.NUMERICAL: 1>, tensor=<tf.Tensor 'Cast_3:0' shape=(None,) dtype=float32>), 'capital_loss': SemanticTensor(semantic=<Semantic.NUMERICAL: 1>, tensor=<tf.Tensor 'Cast_4:0' shape=(None,) dtype=float32>), 'hours_per_week': SemanticTensor(semantic=<Semantic.NUMERICAL: 1>, tensor=<tf.Tensor 'Cast_5:0' shape=(None,) dtype=float32>), 'native_country': SemanticTensor(semantic=<Semantic.CATEGORICAL: 2>, tensor=<tf.Tensor 'data_8:0' shape=(None,) dtype=string>)}\n"
     ]
    },
    {
     "name": "stdout",
     "output_type": "stream",
     "text": [
      "Training dataset read in 0:00:00.372057. Found 22792 examples.\n"
     ]
    },
    {
     "name": "stdout",
     "output_type": "stream",
     "text": [
      "Training model...\n"
     ]
    },
    {
     "name": "stderr",
     "output_type": "stream",
     "text": [
      "[INFO 2023-02-01T12:16:10.151802063+00:00 kernel.cc:756] Start Yggdrasil model training\n",
      "[INFO 2023-02-01T12:16:10.15183364+00:00 kernel.cc:757] Collect training examples\n",
      "[INFO 2023-02-01T12:16:10.151922389+00:00 kernel.cc:388] Number of batches: 23\n",
      "[INFO 2023-02-01T12:16:10.151938239+00:00 kernel.cc:389] Number of examples: 22792\n"
     ]
    },
    {
     "name": "stderr",
     "output_type": "stream",
     "text": [
      "[INFO 2023-02-01T12:16:10.159359793+00:00 data_spec_inference.cc:303] 1 item(s) have been pruned (i.e. they are considered out of dictionary) for the column native_country (40 item(s) left) because min_value_count=5 and max_number_of_unique_values=2000\n",
      "[INFO 2023-02-01T12:16:10.15940551+00:00 data_spec_inference.cc:303] 1 item(s) have been pruned (i.e. they are considered out of dictionary) for the column occupation (13 item(s) left) because min_value_count=5 and max_number_of_unique_values=2000\n",
      "[INFO 2023-02-01T12:16:10.159448183+00:00 data_spec_inference.cc:303] 1 item(s) have been pruned (i.e. they are considered out of dictionary) for the column workclass (7 item(s) left) because min_value_count=5 and max_number_of_unique_values=2000\n"
     ]
    },
    {
     "name": "stderr",
     "output_type": "stream",
     "text": [
      "[INFO 2023-02-01T12:16:10.16406424+00:00 kernel.cc:774] Training dataset:\n",
      "Number of records: 22792\n",
      "Number of columns: 15\n",
      "\n",
      "Number of columns by type:\n",
      "\tCATEGORICAL: 9 (60%)\n",
      "\tNUMERICAL: 6 (40%)\n",
      "\n",
      "Columns:\n",
      "\n",
      "CATEGORICAL: 9 (60%)\n",
      "\t0: \"__LABEL\" CATEGORICAL integerized vocab-size:3 no-ood-item\n",
      "\t4: \"education\" CATEGORICAL has-dict vocab-size:17 zero-ood-items most-frequent:\"HS-grad\" 7340 (32.2043%)\n",
      "\t8: \"marital_status\" CATEGORICAL has-dict vocab-size:8 zero-ood-items most-frequent:\"Married-civ-spouse\" 10431 (45.7661%)\n",
      "\t9: \"native_country\" CATEGORICAL num-nas:407 (1.78571%) has-dict vocab-size:41 num-oods:1 (0.00446728%) most-frequent:\"United-States\" 20436 (91.2933%)\n",
      "\t10: \"occupation\" CATEGORICAL num-nas:1260 (5.52826%) has-dict vocab-size:14 num-oods:1 (0.00464425%) most-frequent:\"Prof-specialty\" 2870 (13.329%)\n",
      "\t11: \"race\" CATEGORICAL has-dict vocab-size:6 zero-ood-items most-frequent:\"White\" 19467 (85.4115%)\n",
      "\t12: \"relationship\" CATEGORICAL has-dict vocab-size:7 zero-ood-items most-frequent:\"Husband\" 9191 (40.3256%)\n",
      "\t13: \"sex\" CATEGORICAL has-dict vocab-size:3 zero-ood-items most-frequent:\"Male\" 15165 (66.5365%)\n",
      "\t14: \"workclass\" CATEGORICAL num-nas:1257 (5.51509%) has-dict vocab-size:8 num-oods:1 (0.0046436%) most-frequent:\"Private\" 15879 (73.7358%)\n",
      "\n",
      "NUMERICAL: 6 (40%)\n",
      "\t1: \"age\" NUMERICAL mean:38.6153 min:17 max:90 sd:13.661\n",
      "\t2: \"capital_gain\" NUMERICAL mean:1081.9 min:0 max:99999 sd:7509.48\n",
      "\t3: \"capital_loss\" NUMERICAL mean:87.2806 min:0 max:4356 sd:403.01\n",
      "\t5: \"education_num\" NUMERICAL mean:10.0927 min:1 max:16 sd:2.56427\n",
      "\t6: \"fnlwgt\" NUMERICAL mean:189879 min:12285 max:1.4847e+06 sd:106423\n",
      "\t7: \"hours_per_week\" NUMERICAL mean:40.3955 min:1 max:99 sd:12.249\n",
      "\n",
      "Terminology:\n",
      "\tnas: Number of non-available (i.e. missing) values.\n",
      "\tood: Out of dictionary.\n",
      "\tmanually-defined: Attribute which type is manually defined by the user i.e. the type was not automatically inferred.\n",
      "\ttokenized: The attribute value is obtained through tokenization.\n",
      "\thas-dict: The attribute is attached to a string dictionary e.g. a categorical attribute stored as a string.\n",
      "\tvocab-size: Number of unique values.\n",
      "\n",
      "[INFO 2023-02-01T12:16:10.164120332+00:00 kernel.cc:790] Configure learner\n",
      "2023-02-01 12:16:10.164338: W external/ydf/yggdrasil_decision_forests/learner/gradient_boosted_trees/gradient_boosted_trees.cc:1790] \"goss_alpha\" set but \"sampling_method\" not equal to \"GOSS\".\n",
      "2023-02-01 12:16:10.164367: W external/ydf/yggdrasil_decision_forests/learner/gradient_boosted_trees/gradient_boosted_trees.cc:1800] \"goss_beta\" set but \"sampling_method\" not equal to \"GOSS\".\n",
      "2023-02-01 12:16:10.164374: W external/ydf/yggdrasil_decision_forests/learner/gradient_boosted_trees/gradient_boosted_trees.cc:1814] \"selective_gradient_boosting_ratio\" set but \"sampling_method\" not equal to \"SELGB\".\n",
      "[INFO 2023-02-01T12:16:10.164413528+00:00 kernel.cc:804] Training config:\n",
      "learner: \"GRADIENT_BOOSTED_TREES\"\n",
      "features: \"^age$\"\n",
      "features: \"^capital_gain$\"\n",
      "features: \"^capital_loss$\"\n",
      "features: \"^education$\"\n",
      "features: \"^education_num$\"\n",
      "features: \"^fnlwgt$\"\n",
      "features: \"^hours_per_week$\"\n",
      "features: \"^marital_status$\"\n",
      "features: \"^native_country$\"\n",
      "features: \"^occupation$\"\n",
      "features: \"^race$\"\n",
      "features: \"^relationship$\"\n",
      "features: \"^sex$\"\n",
      "features: \"^workclass$\"\n",
      "label: \"^__LABEL$\"\n",
      "task: CLASSIFICATION\n",
      "random_seed: 123456\n",
      "metadata {\n",
      "  framework: \"TF Keras\"\n",
      "}\n",
      "pure_serving_model: false\n",
      "[yggdrasil_decision_forests.model.gradient_boosted_trees.proto.gradient_boosted_trees_config] {\n",
      "  num_trees: 300\n",
      "  decision_tree {\n",
      "    max_depth: 7\n",
      "    min_examples: 7\n",
      "    in_split_min_examples_check: true\n",
      "    keep_non_leaf_label_distribution: true\n",
      "    missing_value_policy: GLOBAL_IMPUTATION\n",
      "    allow_na_conditions: false\n",
      "    categorical_set_greedy_forward {\n",
      "      sampling: 0.1\n",
      "      max_num_items: -1\n",
      "      min_item_frequency: 1\n",
      "    }\n",
      "    growing_strategy_local {\n",
      "    }\n",
      "    categorical {\n",
      "      cart {\n",
      "      }\n",
      "    }\n",
      "    num_candidate_attributes_ratio: 0.9\n",
      "    axis_aligned_split {\n",
      "    }\n",
      "    internal {\n",
      "      sorting_strategy: PRESORTED\n",
      "    }\n",
      "    uplift {\n",
      "      min_examples_in_treatment: 5\n",
      "      split_score: KULLBACK_LEIBLER\n",
      "    }\n",
      "  }\n",
      "  shrinkage: 0.15\n",
      "  loss: DEFAULT\n",
      "  validation_set_ratio: 0.1\n",
      "  validation_interval_in_trees: 1\n",
      "  early_stopping: VALIDATION_LOSS_INCREASE\n",
      "  early_stopping_num_trees_look_ahead: 30\n",
      "  l2_regularization: 0\n",
      "  lambda_loss: 1\n",
      "  mart {\n",
      "  }\n",
      "  adapt_subsample_for_maximum_training_duration: false\n",
      "  l1_regularization: 0\n",
      "  use_hessian_gain: false\n",
      "  l2_regularization_categorical: 1\n",
      "  stochastic_gradient_boosting {\n",
      "    ratio: 1\n",
      "  }\n",
      "  apply_link_function: true\n",
      "  compute_permutation_variable_importance: false\n",
      "  binary_focal_loss_options {\n",
      "    misprediction_exponent: 2\n",
      "    positive_sample_coefficient: 0.5\n",
      "  }\n",
      "  early_stopping_initial_iteration: 10\n",
      "}\n",
      "\n",
      "[INFO 2023-02-01T12:16:10.164528213+00:00 kernel.cc:807] Deployment config:\n",
      "cache_path: \"/tmpfs/tmp/tmpau6vzbt0/working_cache\"\n",
      "num_threads: 32\n",
      "try_resume_training: true\n",
      "\n",
      "[INFO 2023-02-01T12:16:10.164745793+00:00 kernel.cc:868] Train model\n"
     ]
    },
    {
     "name": "stderr",
     "output_type": "stream",
     "text": [
      "[INFO 2023-02-01T12:16:12.125174473+00:00 early_stopping.cc:53] Early stop of the training because the validation loss does not decrease anymore. Best valid-loss: 0.580282\n"
     ]
    },
    {
     "name": "stderr",
     "output_type": "stream",
     "text": [
      "[INFO 2023-02-01T12:16:12.132791707+00:00 kernel.cc:905] Export model in log directory: /tmpfs/tmp/tmpau6vzbt0 with prefix d9f51fa1e24f4e5a\n"
     ]
    },
    {
     "name": "stderr",
     "output_type": "stream",
     "text": [
      "[INFO 2023-02-01T12:16:12.136270135+00:00 kernel.cc:923] Save model in resources\n"
     ]
    },
    {
     "name": "stderr",
     "output_type": "stream",
     "text": [
      "[INFO 2023-02-01T12:16:12.138808984+00:00 abstract_model.cc:849] Model self evaluation:\n",
      "Task: CLASSIFICATION\n",
      "Label: __LABEL\n",
      "Loss (BINOMIAL_LOG_LIKELIHOOD): 0.580282\n",
      "\n",
      "Accuracy: 0.872067  CI95[W][0 1]\n",
      "ErrorRate: : 0.127933\n",
      "\n",
      "\n",
      "Confusion Table:\n",
      "truth\\prediction\n",
      "   0     1    2\n",
      "0  0     0    0\n",
      "1  0  1572   92\n",
      "2  0   197  398\n",
      "Total: 2259\n",
      "\n",
      "One vs other classes:\n",
      "\n"
     ]
    },
    {
     "name": "stderr",
     "output_type": "stream",
     "text": [
      "[INFO 2023-02-01T12:16:12.156739509+00:00 kernel.cc:1214] Loading model from path /tmpfs/tmp/tmpau6vzbt0/model/ with prefix d9f51fa1e24f4e5a\n"
     ]
    },
    {
     "name": "stderr",
     "output_type": "stream",
     "text": [
      "[INFO 2023-02-01T12:16:12.172480351+00:00 abstract_model.cc:1311] Engine \"GradientBoostedTreesQuickScorerExtended\" built\n",
      "[INFO 2023-02-01T12:16:12.172513629+00:00 kernel.cc:1046] Use fast generic engine\n"
     ]
    },
    {
     "name": "stdout",
     "output_type": "stream",
     "text": [
      "Model trained in 0:00:02.027041\n"
     ]
    },
    {
     "name": "stdout",
     "output_type": "stream",
     "text": [
      "Compiling model...\n"
     ]
    },
    {
     "name": "stdout",
     "output_type": "stream",
     "text": [
      "Model compiled.\n"
     ]
    },
    {
     "data": {
      "text/plain": [
       "<keras.callbacks.History at 0x7fc9acac0130>"
      ]
     },
     "execution_count": 25,
     "metadata": {},
     "output_type": "execute_result"
    }
   ],
   "source": [
    "%set_cell_height 300\n",
    "# Train the model\n",
    "# The keras tuner convert automaticall boolean parameters to integers.\n",
    "best_hyper_parameters[\"use_hessian_gain\"] = bool(best_hyper_parameters[\"use_hessian_gain\"])\n",
    "best_model = tfdf.keras.GradientBoostedTreesModel(**best_hyper_parameters)\n",
    "best_model.fit(train_ds, verbose=2)"
   ]
  },
  {
   "cell_type": "markdown",
   "metadata": {
    "id": "0yDSeZ_ho3rw"
   },
   "source": [
    "We can then evaluate the tuned model:"
   ]
  },
  {
   "cell_type": "code",
   "execution_count": 26,
   "metadata": {
    "execution": {
     "iopub.execute_input": "2023-02-01T12:16:12.358773Z",
     "iopub.status.busy": "2023-02-01T12:16:12.358549Z",
     "iopub.status.idle": "2023-02-01T12:16:12.571071Z",
     "shell.execute_reply": "2023-02-01T12:16:12.570375Z"
    },
    "id": "AhI0gHMMo7-O"
   },
   "outputs": [
    {
     "name": "stdout",
     "output_type": "stream",
     "text": [
      "Test accuracy with the Keras Tuner: 0.8747\n"
     ]
    }
   ],
   "source": [
    "# Evaluate the model\n",
    "best_model.compile([\"accuracy\"])\n",
    "tuned_test_accuracy = best_model.evaluate(test_ds, return_dict=True, verbose=0)[\"accuracy\"]\n",
    "print(f\"Test accuracy with the Keras Tuner: {tuned_test_accuracy:.4f}\")"
   ]
  }
 ],
 "metadata": {
  "colab": {
   "collapsed_sections": [],
   "name": "Automated hyper-parameter tuning",
   "provenance": [
    {
     "file_id": "1iIftewut1alGR8OZntBKNK5g1xKl2KV2",
     "timestamp": 1652168623502
    }
   ],
   "toc_visible": true
  },
  "kernelspec": {
   "display_name": "Python 3",
   "name": "python3"
  },
  "language_info": {
   "codemirror_mode": {
    "name": "ipython",
    "version": 3
   },
   "file_extension": ".py",
   "mimetype": "text/x-python",
   "name": "python",
   "nbconvert_exporter": "python",
   "pygments_lexer": "ipython3",
   "version": "3.9.16"
  }
 },
 "nbformat": 4,
 "nbformat_minor": 0
}
