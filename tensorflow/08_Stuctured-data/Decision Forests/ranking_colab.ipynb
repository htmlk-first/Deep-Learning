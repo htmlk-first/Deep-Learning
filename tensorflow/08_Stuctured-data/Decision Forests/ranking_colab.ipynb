{
 "cells": [
  {
   "cell_type": "markdown",
   "metadata": {
    "id": "Tce3stUlHN0L"
   },
   "source": [
    "##### Copyright 2022 The TensorFlow Authors."
   ]
  },
  {
   "cell_type": "code",
   "execution_count": 1,
   "metadata": {
    "cellView": "form",
    "execution": {
     "iopub.execute_input": "2023-01-25T12:35:21.885245Z",
     "iopub.status.busy": "2023-01-25T12:35:21.885026Z",
     "iopub.status.idle": "2023-01-25T12:35:21.888505Z",
     "shell.execute_reply": "2023-01-25T12:35:21.887936Z"
    },
    "id": "tuOe1ymfHZPu"
   },
   "outputs": [],
   "source": [
    "#@title Licensed under the Apache License, Version 2.0 (the \"License\");\n",
    "# you may not use this file except in compliance with the License.\n",
    "# You may obtain a copy of the License at\n",
    "#\n",
    "# https://www.apache.org/licenses/LICENSE-2.0\n",
    "#\n",
    "# Unless required by applicable law or agreed to in writing, software\n",
    "# distributed under the License is distributed on an \"AS IS\" BASIS,\n",
    "# WITHOUT WARRANTIES OR CONDITIONS OF ANY KIND, either express or implied.\n",
    "# See the License for the specific language governing permissions and\n",
    "# limitations under the License."
   ]
  },
  {
   "cell_type": "markdown",
   "metadata": {
    "id": "36EdAGhThQov"
   },
   "source": [
    "# Learning to Rank with Decision Forests\n",
    "\n",
    "<table class=\"tfo-notebook-buttons\" align=\"left\">\n",
    "  <td>\n",
    "    <a target=\"_blank\" href=\"https://www.tensorflow.org/decision_forests/tutorials/ranking_colab\"><img src=\"https://www.tensorflow.org/images/tf_logo_32px.png\" />View on TensorFlow.org</a>\n",
    "  </td>\n",
    "  <td>\n",
    "    <a target=\"_blank\" href=\"https://colab.research.google.com/github/tensorflow/decision-forests/blob/main/documentation/tutorials/ranking_colab.ipynb\"><img src=\"https://www.tensorflow.org/images/colab_logo_32px.png\" />Run in Google Colab</a>\n",
    "  </td>\n",
    "  <td>\n",
    "    <a target=\"_blank\" href=\"https://github.com/tensorflow/decision-forests/blob/main/documentation/tutorials/ranking_colab.ipynb\"><img src=\"https://www.tensorflow.org/images/GitHub-Mark-32px.png\" />View on GitHub</a>\n",
    "  </td>\n",
    "  <td>\n",
    "    <a href=\"https://storage.googleapis.com/tensorflow_docs/decision-forests/documentation/tutorials/ranking_colab.ipynb\"><img src=\"https://www.tensorflow.org/images/download_logo_32px.png\" />Download notebook</a>\n",
    "  </td>\n",
    "</table>\n"
   ]
  },
  {
   "cell_type": "markdown",
   "metadata": {
    "id": "kvvDY0LVhuaW"
   },
   "source": [
    "Welcome to the **Learning to Rank Colab** for **TensorFlow Decision Forests** (**TF-DF**).\n",
    "In this colab, you will learn how to use **TF-DF** for ranking.\n",
    "\n",
    "This colab assumes you are familiar with the concepts presented the [Beginner colab](beginner_colab.ipynb), notably about the installation about TF-DF.\n",
    "\n",
    "In this colab, you will:\n",
    "\n",
    "1. Learn what a ranking model is.\n",
    "1. Train a Gradient Boosted Trees models on the LETOR3 dataset.\n",
    "1. Evaluate the quality of this model."
   ]
  },
  {
   "cell_type": "markdown",
   "metadata": {
    "id": "jK9tCTcwqq4k"
   },
   "source": [
    "## Installing TensorFlow Decision Forests\n",
    "\n",
    "Install TF-DF by running the following cell."
   ]
  },
  {
   "cell_type": "code",
   "execution_count": 2,
   "metadata": {
    "execution": {
     "iopub.execute_input": "2023-01-25T12:35:21.892034Z",
     "iopub.status.busy": "2023-01-25T12:35:21.891557Z",
     "iopub.status.idle": "2023-01-25T12:35:24.290903Z",
     "shell.execute_reply": "2023-01-25T12:35:24.290119Z"
    },
    "id": "Pa1Pf37RhEYN"
   },
   "outputs": [
    {
     "name": "stdout",
     "output_type": "stream",
     "text": [
      "Collecting tensorflow_decision_forests\r\n"
     ]
    },
    {
     "name": "stdout",
     "output_type": "stream",
     "text": [
      "  Using cached tensorflow_decision_forests-1.2.0-cp39-cp39-manylinux_2_17_x86_64.manylinux2014_x86_64.whl (16.5 MB)\r\n"
     ]
    },
    {
     "name": "stdout",
     "output_type": "stream",
     "text": [
      "Requirement already satisfied: numpy in /tmpfs/src/tf_docs_env/lib/python3.9/site-packages (from tensorflow_decision_forests) (1.24.1)\r\n",
      "Requirement already satisfied: pandas in /tmpfs/src/tf_docs_env/lib/python3.9/site-packages (from tensorflow_decision_forests) (1.5.3)\r\n",
      "Requirement already satisfied: wheel in /tmpfs/src/tf_docs_env/lib/python3.9/site-packages (from tensorflow_decision_forests) (0.38.4)\r\n",
      "Requirement already satisfied: six in /tmpfs/src/tf_docs_env/lib/python3.9/site-packages (from tensorflow_decision_forests) (1.16.0)\r\n",
      "Requirement already satisfied: tensorflow~=2.11.0 in /tmpfs/src/tf_docs_env/lib/python3.9/site-packages (from tensorflow_decision_forests) (2.11.0)\r\n",
      "Requirement already satisfied: absl-py in /tmpfs/src/tf_docs_env/lib/python3.9/site-packages (from tensorflow_decision_forests) (1.4.0)\r\n"
     ]
    },
    {
     "name": "stdout",
     "output_type": "stream",
     "text": [
      "Collecting wurlitzer\r\n",
      "  Using cached wurlitzer-3.0.3-py3-none-any.whl (7.3 kB)\r\n",
      "Requirement already satisfied: setuptools in /tmpfs/src/tf_docs_env/lib/python3.9/site-packages (from tensorflow~=2.11.0->tensorflow_decision_forests) (66.1.1)\r\n",
      "Requirement already satisfied: termcolor>=1.1.0 in /tmpfs/src/tf_docs_env/lib/python3.9/site-packages (from tensorflow~=2.11.0->tensorflow_decision_forests) (2.2.0)\r\n",
      "Requirement already satisfied: grpcio<2.0,>=1.24.3 in /tmpfs/src/tf_docs_env/lib/python3.9/site-packages (from tensorflow~=2.11.0->tensorflow_decision_forests) (1.52.0rc1)\r\n",
      "Requirement already satisfied: astunparse>=1.6.0 in /tmpfs/src/tf_docs_env/lib/python3.9/site-packages (from tensorflow~=2.11.0->tensorflow_decision_forests) (1.6.3)\r\n",
      "Requirement already satisfied: tensorboard<2.12,>=2.11 in /tmpfs/src/tf_docs_env/lib/python3.9/site-packages (from tensorflow~=2.11.0->tensorflow_decision_forests) (2.11.2)\r\n",
      "Requirement already satisfied: keras<2.12,>=2.11.0 in /tmpfs/src/tf_docs_env/lib/python3.9/site-packages (from tensorflow~=2.11.0->tensorflow_decision_forests) (2.11.0)\r\n",
      "Requirement already satisfied: flatbuffers>=2.0 in /tmpfs/src/tf_docs_env/lib/python3.9/site-packages (from tensorflow~=2.11.0->tensorflow_decision_forests) (23.1.21)\r\n",
      "Requirement already satisfied: libclang>=13.0.0 in /tmpfs/src/tf_docs_env/lib/python3.9/site-packages (from tensorflow~=2.11.0->tensorflow_decision_forests) (15.0.6.1)\r\n",
      "Requirement already satisfied: packaging in /tmpfs/src/tf_docs_env/lib/python3.9/site-packages (from tensorflow~=2.11.0->tensorflow_decision_forests) (23.0)\r\n",
      "Requirement already satisfied: h5py>=2.9.0 in /tmpfs/src/tf_docs_env/lib/python3.9/site-packages (from tensorflow~=2.11.0->tensorflow_decision_forests) (3.8.0)\r\n",
      "Requirement already satisfied: opt-einsum>=2.3.2 in /tmpfs/src/tf_docs_env/lib/python3.9/site-packages (from tensorflow~=2.11.0->tensorflow_decision_forests) (3.3.0)\r\n",
      "Requirement already satisfied: typing-extensions>=3.6.6 in /tmpfs/src/tf_docs_env/lib/python3.9/site-packages (from tensorflow~=2.11.0->tensorflow_decision_forests) (4.4.0)\r\n",
      "Requirement already satisfied: google-pasta>=0.1.1 in /tmpfs/src/tf_docs_env/lib/python3.9/site-packages (from tensorflow~=2.11.0->tensorflow_decision_forests) (0.2.0)\r\n",
      "Requirement already satisfied: tensorflow-io-gcs-filesystem>=0.23.1 in /tmpfs/src/tf_docs_env/lib/python3.9/site-packages (from tensorflow~=2.11.0->tensorflow_decision_forests) (0.30.0)\r\n",
      "Requirement already satisfied: protobuf<3.20,>=3.9.2 in /tmpfs/src/tf_docs_env/lib/python3.9/site-packages (from tensorflow~=2.11.0->tensorflow_decision_forests) (3.19.6)\r\n",
      "Requirement already satisfied: gast<=0.4.0,>=0.2.1 in /tmpfs/src/tf_docs_env/lib/python3.9/site-packages (from tensorflow~=2.11.0->tensorflow_decision_forests) (0.4.0)\r\n",
      "Requirement already satisfied: wrapt>=1.11.0 in /tmpfs/src/tf_docs_env/lib/python3.9/site-packages (from tensorflow~=2.11.0->tensorflow_decision_forests) (1.15.0rc1)\r\n",
      "Requirement already satisfied: tensorflow-estimator<2.12,>=2.11.0 in /tmpfs/src/tf_docs_env/lib/python3.9/site-packages (from tensorflow~=2.11.0->tensorflow_decision_forests) (2.11.0)\r\n"
     ]
    },
    {
     "name": "stdout",
     "output_type": "stream",
     "text": [
      "Requirement already satisfied: python-dateutil>=2.8.1 in /tmpfs/src/tf_docs_env/lib/python3.9/site-packages (from pandas->tensorflow_decision_forests) (2.8.2)\r\n",
      "Requirement already satisfied: pytz>=2020.1 in /tmpfs/src/tf_docs_env/lib/python3.9/site-packages (from pandas->tensorflow_decision_forests) (2022.7.1)\r\n",
      "Requirement already satisfied: google-auth<3,>=1.6.3 in /tmpfs/src/tf_docs_env/lib/python3.9/site-packages (from tensorboard<2.12,>=2.11->tensorflow~=2.11.0->tensorflow_decision_forests) (2.16.0)\r\n",
      "Requirement already satisfied: requests<3,>=2.21.0 in /tmpfs/src/tf_docs_env/lib/python3.9/site-packages (from tensorboard<2.12,>=2.11->tensorflow~=2.11.0->tensorflow_decision_forests) (2.28.2)\r\n",
      "Requirement already satisfied: tensorboard-plugin-wit>=1.6.0 in /tmpfs/src/tf_docs_env/lib/python3.9/site-packages (from tensorboard<2.12,>=2.11->tensorflow~=2.11.0->tensorflow_decision_forests) (1.8.1)\r\n",
      "Requirement already satisfied: werkzeug>=1.0.1 in /tmpfs/src/tf_docs_env/lib/python3.9/site-packages (from tensorboard<2.12,>=2.11->tensorflow~=2.11.0->tensorflow_decision_forests) (2.2.2)\r\n",
      "Requirement already satisfied: google-auth-oauthlib<0.5,>=0.4.1 in /tmpfs/src/tf_docs_env/lib/python3.9/site-packages (from tensorboard<2.12,>=2.11->tensorflow~=2.11.0->tensorflow_decision_forests) (0.4.6)\r\n",
      "Requirement already satisfied: tensorboard-data-server<0.7.0,>=0.6.0 in /tmpfs/src/tf_docs_env/lib/python3.9/site-packages (from tensorboard<2.12,>=2.11->tensorflow~=2.11.0->tensorflow_decision_forests) (0.6.1)\r\n",
      "Requirement already satisfied: markdown>=2.6.8 in /tmpfs/src/tf_docs_env/lib/python3.9/site-packages (from tensorboard<2.12,>=2.11->tensorflow~=2.11.0->tensorflow_decision_forests) (3.4.1)\r\n"
     ]
    },
    {
     "name": "stdout",
     "output_type": "stream",
     "text": [
      "Requirement already satisfied: cachetools<6.0,>=2.0.0 in /tmpfs/src/tf_docs_env/lib/python3.9/site-packages (from google-auth<3,>=1.6.3->tensorboard<2.12,>=2.11->tensorflow~=2.11.0->tensorflow_decision_forests) (5.3.0)\r\n",
      "Requirement already satisfied: rsa<5,>=3.1.4 in /tmpfs/src/tf_docs_env/lib/python3.9/site-packages (from google-auth<3,>=1.6.3->tensorboard<2.12,>=2.11->tensorflow~=2.11.0->tensorflow_decision_forests) (4.9)\r\n",
      "Requirement already satisfied: pyasn1-modules>=0.2.1 in /tmpfs/src/tf_docs_env/lib/python3.9/site-packages (from google-auth<3,>=1.6.3->tensorboard<2.12,>=2.11->tensorflow~=2.11.0->tensorflow_decision_forests) (0.3.0rc1)\r\n",
      "Requirement already satisfied: requests-oauthlib>=0.7.0 in /tmpfs/src/tf_docs_env/lib/python3.9/site-packages (from google-auth-oauthlib<0.5,>=0.4.1->tensorboard<2.12,>=2.11->tensorflow~=2.11.0->tensorflow_decision_forests) (1.3.1)\r\n",
      "Requirement already satisfied: importlib-metadata>=4.4 in /tmpfs/src/tf_docs_env/lib/python3.9/site-packages (from markdown>=2.6.8->tensorboard<2.12,>=2.11->tensorflow~=2.11.0->tensorflow_decision_forests) (6.0.0)\r\n",
      "Requirement already satisfied: certifi>=2017.4.17 in /tmpfs/src/tf_docs_env/lib/python3.9/site-packages (from requests<3,>=2.21.0->tensorboard<2.12,>=2.11->tensorflow~=2.11.0->tensorflow_decision_forests) (2022.12.7)\r\n",
      "Requirement already satisfied: charset-normalizer<4,>=2 in /tmpfs/src/tf_docs_env/lib/python3.9/site-packages (from requests<3,>=2.21.0->tensorboard<2.12,>=2.11->tensorflow~=2.11.0->tensorflow_decision_forests) (3.0.1)\r\n",
      "Requirement already satisfied: urllib3<1.27,>=1.21.1 in /tmpfs/src/tf_docs_env/lib/python3.9/site-packages (from requests<3,>=2.21.0->tensorboard<2.12,>=2.11->tensorflow~=2.11.0->tensorflow_decision_forests) (1.26.14)\r\n",
      "Requirement already satisfied: idna<4,>=2.5 in /tmpfs/src/tf_docs_env/lib/python3.9/site-packages (from requests<3,>=2.21.0->tensorboard<2.12,>=2.11->tensorflow~=2.11.0->tensorflow_decision_forests) (3.4)\r\n"
     ]
    },
    {
     "name": "stdout",
     "output_type": "stream",
     "text": [
      "Requirement already satisfied: MarkupSafe>=2.1.1 in /tmpfs/src/tf_docs_env/lib/python3.9/site-packages (from werkzeug>=1.0.1->tensorboard<2.12,>=2.11->tensorflow~=2.11.0->tensorflow_decision_forests) (2.1.2)\r\n",
      "Requirement already satisfied: zipp>=0.5 in /tmpfs/src/tf_docs_env/lib/python3.9/site-packages (from importlib-metadata>=4.4->markdown>=2.6.8->tensorboard<2.12,>=2.11->tensorflow~=2.11.0->tensorflow_decision_forests) (3.11.0)\r\n",
      "Requirement already satisfied: pyasn1<0.6.0,>=0.4.6 in /tmpfs/src/tf_docs_env/lib/python3.9/site-packages (from pyasn1-modules>=0.2.1->google-auth<3,>=1.6.3->tensorboard<2.12,>=2.11->tensorflow~=2.11.0->tensorflow_decision_forests) (0.5.0rc2)\r\n",
      "Requirement already satisfied: oauthlib>=3.0.0 in /tmpfs/src/tf_docs_env/lib/python3.9/site-packages (from requests-oauthlib>=0.7.0->google-auth-oauthlib<0.5,>=0.4.1->tensorboard<2.12,>=2.11->tensorflow~=2.11.0->tensorflow_decision_forests) (3.2.2)\r\n"
     ]
    },
    {
     "name": "stdout",
     "output_type": "stream",
     "text": [
      "Installing collected packages: wurlitzer, tensorflow_decision_forests\r\n"
     ]
    },
    {
     "name": "stdout",
     "output_type": "stream",
     "text": [
      "Successfully installed tensorflow_decision_forests-1.2.0 wurlitzer-3.0.3\r\n"
     ]
    }
   ],
   "source": [
    "!pip install tensorflow_decision_forests"
   ]
  },
  {
   "cell_type": "markdown",
   "metadata": {
    "id": "vZGda2dOe-hH"
   },
   "source": [
    "[Wurlitzer](https://pypi.org/project/wurlitzer/) is needed to display the detailed training logs in Colabs (when using `verbose=2` in the model constructor)."
   ]
  },
  {
   "cell_type": "code",
   "execution_count": 3,
   "metadata": {
    "execution": {
     "iopub.execute_input": "2023-01-25T12:35:24.295689Z",
     "iopub.status.busy": "2023-01-25T12:35:24.294986Z",
     "iopub.status.idle": "2023-01-25T12:35:25.807161Z",
     "shell.execute_reply": "2023-01-25T12:35:25.806326Z"
    },
    "id": "lk26uBSCe8Du"
   },
   "outputs": [
    {
     "name": "stdout",
     "output_type": "stream",
     "text": [
      "Requirement already satisfied: wurlitzer in /tmpfs/src/tf_docs_env/lib/python3.9/site-packages (3.0.3)\r\n"
     ]
    }
   ],
   "source": [
    "!pip install wurlitzer"
   ]
  },
  {
   "cell_type": "markdown",
   "metadata": {
    "id": "3oinwbhXlggd"
   },
   "source": [
    "## Importing libraries"
   ]
  },
  {
   "cell_type": "code",
   "execution_count": 4,
   "metadata": {
    "execution": {
     "iopub.execute_input": "2023-01-25T12:35:25.811649Z",
     "iopub.status.busy": "2023-01-25T12:35:25.811408Z",
     "iopub.status.idle": "2023-01-25T12:35:27.779908Z",
     "shell.execute_reply": "2023-01-25T12:35:27.779226Z"
    },
    "id": "52W45tmDjD64"
   },
   "outputs": [
    {
     "name": "stderr",
     "output_type": "stream",
     "text": [
      "2023-01-25 12:35:26.737144: W tensorflow/compiler/xla/stream_executor/platform/default/dso_loader.cc:64] Could not load dynamic library 'libnvinfer.so.7'; dlerror: libnvinfer.so.7: cannot open shared object file: No such file or directory\n",
      "2023-01-25 12:35:26.737222: W tensorflow/compiler/xla/stream_executor/platform/default/dso_loader.cc:64] Could not load dynamic library 'libnvinfer_plugin.so.7'; dlerror: libnvinfer_plugin.so.7: cannot open shared object file: No such file or directory\n",
      "2023-01-25 12:35:26.737231: W tensorflow/compiler/tf2tensorrt/utils/py_utils.cc:38] TF-TRT Warning: Cannot dlopen some TensorRT libraries. If you would like to use Nvidia GPU with TensorRT, please make sure the missing libraries mentioned above are installed properly.\n"
     ]
    }
   ],
   "source": [
    "import tensorflow_decision_forests as tfdf\n",
    "\n",
    "import os\n",
    "import numpy as np\n",
    "import pandas as pd\n",
    "import tensorflow as tf\n",
    "import math"
   ]
  },
  {
   "cell_type": "markdown",
   "metadata": {
    "id": "0LPPwWxYxtDM"
   },
   "source": [
    "The hidden code cell limits the output height in colab.\n"
   ]
  },
  {
   "cell_type": "code",
   "execution_count": 5,
   "metadata": {
    "cellView": "form",
    "execution": {
     "iopub.execute_input": "2023-01-25T12:35:27.783943Z",
     "iopub.status.busy": "2023-01-25T12:35:27.783568Z",
     "iopub.status.idle": "2023-01-25T12:35:27.787785Z",
     "shell.execute_reply": "2023-01-25T12:35:27.787242Z"
    },
    "id": "2AhqJz3VmQM-"
   },
   "outputs": [],
   "source": [
    "#@title\n",
    "\n",
    "from IPython.core.magic import register_line_magic\n",
    "from IPython.display import Javascript\n",
    "from IPython.display import display as ipy_display\n",
    "\n",
    "# Some of the model training logs can cover the full\n",
    "# screen if not compressed to a smaller viewport.\n",
    "# This magic allows setting a max height for a cell.\n",
    "@register_line_magic\n",
    "def set_cell_height(size):\n",
    "  ipy_display(\n",
    "      Javascript(\"google.colab.output.setIframeHeight(0, true, {maxHeight: \" +\n",
    "                 str(size) + \"})\"))"
   ]
  },
  {
   "cell_type": "code",
   "execution_count": 6,
   "metadata": {
    "execution": {
     "iopub.execute_input": "2023-01-25T12:35:27.790879Z",
     "iopub.status.busy": "2023-01-25T12:35:27.790458Z",
     "iopub.status.idle": "2023-01-25T12:35:27.793660Z",
     "shell.execute_reply": "2023-01-25T12:35:27.793118Z"
    },
    "id": "8gVQ-txtjFU4"
   },
   "outputs": [
    {
     "name": "stdout",
     "output_type": "stream",
     "text": [
      "Found TensorFlow Decision Forests v1.2.0\n"
     ]
    }
   ],
   "source": [
    "# Check the version of TensorFlow Decision Forests\n",
    "print(\"Found TensorFlow Decision Forests v\" + tfdf.__version__)"
   ]
  },
  {
   "cell_type": "markdown",
   "metadata": {
    "id": "S54mR6i9jkhp"
   },
   "source": [
    "## What is a ranking model?\n",
    "\n",
    "The goal of a [ranking](https://en.wikipedia.org/wiki/Learning_to_rank) model is to **correctly order** items. For example, ranking can be used to select the best *documents* to retrieve following a user *query*.\n",
    "\n",
    "A common way to represent a Ranking dataset is with a \"relevance\" score: The order of the elements is defined by their relevance: Items of greater relevance should be before lower relevance items. The cost of a mistake is defined by the difference between the relevance of the predicted item with the relevance of the correct item. For example, miss-ordering two items with respective relevance 3 and 4 is not as bad as miss-ordering two items with respective relevance 1 and 5.\n",
    "\n",
    "TF-DF expects for ranking datasets to be presented in a \"flat\" format. A\n",
    "document+query dataset might look like that:\n",
    "\n",
    "query | document_id | feature_1 | feature_2 | relevance/label\n",
    "----- | ----------- | --------- | --------- | ---------------\n",
    "cat   | 1           | 0.1       | blue      | 4\n",
    "cat   | 2           | 0.5       | green     | 1\n",
    "cat   | 3           | 0.2       | red       | 2\n",
    "dog   | 4           | NA        | red       | 0\n",
    "dog   | 5           | 0.2       | red       | 0\n",
    "dog   | 6           | 0.6       | green     | 1\n",
    "\n",
    "The *relevance/label* is a floating point numerical value between 0 and 5\n",
    "(generally between 0 and 4) where 0 means \"completely unrelated\", 4 means \"very\n",
    "relevant\" and 5 means \"same as the query\".\n",
    "\n",
    "In this example, Document 1 is very relevant to the query \"cat\", while document 2 is only \"related\" to cats. There are no documents is really talking about \"dog\" (the highest relevance is 1 for the document 6). However, the dog query is still expecting to return document 6 (since this is the document that talks the \"most\" about dogs).\n",
    "\n",
    "Interestingly, decision forests are often good rankers, and many\n",
    "state-of-the-art ranking models are decision forests."
   ]
  },
  {
   "cell_type": "markdown",
   "metadata": {
    "id": "QvcRIhFF0BoN"
   },
   "source": [
    "## Let's train a Ranking model\n",
    "\n",
    "In this example, use a sample of the\n",
    "[LETOR3](https://www.microsoft.com/en-us/research/project/letor-learning-rank-information-retrieval/#!letor-3-0)\n",
    "dataset. More precisely, we want to download the `OHSUMED.zip` from [the LETOR3 repo](https://onedrive.live.com/?authkey=%21ACnoZZSZVfHPJd0&id=8FEADC23D838BDA8%21107&cid=8FEADC23D838BDA8). This dataset is stored in the\n",
    "libsvm format, so we will need to convert it to csv."
   ]
  },
  {
   "cell_type": "code",
   "execution_count": 7,
   "metadata": {
    "execution": {
     "iopub.execute_input": "2023-01-25T12:35:27.796796Z",
     "iopub.status.busy": "2023-01-25T12:35:27.796373Z",
     "iopub.status.idle": "2023-01-25T12:35:31.481871Z",
     "shell.execute_reply": "2023-01-25T12:35:31.481168Z"
    },
    "id": "axD6x1ZivHCS"
   },
   "outputs": [
    {
     "name": "stdout",
     "output_type": "stream",
     "text": [
      "Downloading data from https://download.microsoft.com/download/E/7/E/E7EABEF1-4C7B-4E31-ACE5-73927950ED5E/Letor.zip\n"
     ]
    },
    {
     "name": "stdout",
     "output_type": "stream",
     "text": [
      "\r",
      "    8192/61824018 [..............................] - ETA: 0s"
     ]
    },
    {
     "name": "stdout",
     "output_type": "stream",
     "text": [
      "\b\b\b\b\b\b\b\b\b\b\b\b\b\b\b\b\b\b\b\b\b\b\b\b\b\b\b\b\b\b\b\b\b\b\b\b\b\b\b\b\b\b\b\b\b\b\b\b\b\b\b\b\b\b\b\b\b\b\b\b\r",
      "   98304/61824018 [..............................] - ETA: 31s"
     ]
    },
    {
     "name": "stdout",
     "output_type": "stream",
     "text": [
      "\b\b\b\b\b\b\b\b\b\b\b\b\b\b\b\b\b\b\b\b\b\b\b\b\b\b\b\b\b\b\b\b\b\b\b\b\b\b\b\b\b\b\b\b\b\b\b\b\b\b\b\b\b\b\b\b\b\b\b\b\b\r",
      "  565248/61824018 [..............................] - ETA: 11s"
     ]
    },
    {
     "name": "stdout",
     "output_type": "stream",
     "text": [
      "\b\b\b\b\b\b\b\b\b\b\b\b\b\b\b\b\b\b\b\b\b\b\b\b\b\b\b\b\b\b\b\b\b\b\b\b\b\b\b\b\b\b\b\b\b\b\b\b\b\b\b\b\b\b\b\b\b\b\b\b\b\r",
      " 2015232/61824018 [..............................] - ETA: 4s "
     ]
    },
    {
     "name": "stdout",
     "output_type": "stream",
     "text": [
      "\b\b\b\b\b\b\b\b\b\b\b\b\b\b\b\b\b\b\b\b\b\b\b\b\b\b\b\b\b\b\b\b\b\b\b\b\b\b\b\b\b\b\b\b\b\b\b\b\b\b\b\b\b\b\b\b\b\b\b\b\r",
      " 2105344/61824018 [>.............................] - ETA: 5s"
     ]
    },
    {
     "name": "stdout",
     "output_type": "stream",
     "text": [
      "\b\b\b\b\b\b\b\b\b\b\b\b\b\b\b\b\b\b\b\b\b\b\b\b\b\b\b\b\b\b\b\b\b\b\b\b\b\b\b\b\b\b\b\b\b\b\b\b\b\b\b\b\b\b\b\b\b\b\b\b\r",
      " 2203648/61824018 [>.............................] - ETA: 7s"
     ]
    },
    {
     "name": "stdout",
     "output_type": "stream",
     "text": [
      "\b\b\b\b\b\b\b\b\b\b\b\b\b\b\b\b\b\b\b\b\b\b\b\b\b\b\b\b\b\b\b\b\b\b\b\b\b\b\b\b\b\b\b\b\b\b\b\b\b\b\b\b\b\b\b\b\b\b\b\b\r",
      " 2768896/61824018 [>.............................] - ETA: 6s"
     ]
    },
    {
     "name": "stdout",
     "output_type": "stream",
     "text": [
      "\b\b\b\b\b\b\b\b\b\b\b\b\b\b\b\b\b\b\b\b\b\b\b\b\b\b\b\b\b\b\b\b\b\b\b\b\b\b\b\b\b\b\b\b\b\b\b\b\b\b\b\b\b\b\b\b\b\b\b\b\r",
      " 4202496/61824018 [=>............................] - ETA: 5s"
     ]
    },
    {
     "name": "stdout",
     "output_type": "stream",
     "text": [
      "\b\b\b\b\b\b\b\b\b\b\b\b\b\b\b\b\b\b\b\b\b\b\b\b\b\b\b\b\b\b\b\b\b\b\b\b\b\b\b\b\b\b\b\b\b\b\b\b\b\b\b\b\b\b\b\b\b\b\b\b\r",
      " 6750208/61824018 [==>...........................] - ETA: 3s"
     ]
    },
    {
     "name": "stdout",
     "output_type": "stream",
     "text": [
      "\b\b\b\b\b\b\b\b\b\b\b\b\b\b\b\b\b\b\b\b\b\b\b\b\b\b\b\b\b\b\b\b\b\b\b\b\b\b\b\b\b\b\b\b\b\b\b\b\b\b\b\b\b\b\b\b\b\b\b\b\r",
      " 9756672/61824018 [===>..........................] - ETA: 2s"
     ]
    },
    {
     "name": "stdout",
     "output_type": "stream",
     "text": [
      "\b\b\b\b\b\b\b\b\b\b\b\b\b\b\b\b\b\b\b\b\b\b\b\b\b\b\b\b\b\b\b\b\b\b\b\b\b\b\b\b\b\b\b\b\b\b\b\b\b\b\b\b\b\b\b\b\b\b\b\b\r",
      "12591104/61824018 [=====>........................] - ETA: 2s"
     ]
    },
    {
     "name": "stdout",
     "output_type": "stream",
     "text": [
      "\b\b\b\b\b\b\b\b\b\b\b\b\b\b\b\b\b\b\b\b\b\b\b\b\b\b\b\b\b\b\b\b\b\b\b\b\b\b\b\b\b\b\b\b\b\b\b\b\b\b\b\b\b\b\b\b\b\b\b\b\r",
      "15532032/61824018 [======>.......................] - ETA: 1s"
     ]
    },
    {
     "name": "stdout",
     "output_type": "stream",
     "text": [
      "\b\b\b\b\b\b\b\b\b\b\b\b\b\b\b\b\b\b\b\b\b\b\b\b\b\b\b\b\b\b\b\b\b\b\b\b\b\b\b\b\b\b\b\b\b\b\b\b\b\b\b\b\b\b\b\b\b\b\b\b\r",
      "17645568/61824018 [=======>......................] - ETA: 1s"
     ]
    },
    {
     "name": "stdout",
     "output_type": "stream",
     "text": [
      "\b\b\b\b\b\b\b\b\b\b\b\b\b\b\b\b\b\b\b\b\b\b\b\b\b\b\b\b\b\b\b\b\b\b\b\b\b\b\b\b\b\b\b\b\b\b\b\b\b\b\b\b\b\b\b\b\b\b\b\b\r",
      "20979712/61824018 [=========>....................] - ETA: 1s"
     ]
    },
    {
     "name": "stdout",
     "output_type": "stream",
     "text": [
      "\b\b\b\b\b\b\b\b\b\b\b\b\b\b\b\b\b\b\b\b\b\b\b\b\b\b\b\b\b\b\b\b\b\b\b\b\b\b\b\b\b\b\b\b\b\b\b\b\b\b\b\b\b\b\b\b\b\b\b\b\r",
      "24133632/61824018 [==========>...................] - ETA: 1s"
     ]
    },
    {
     "name": "stdout",
     "output_type": "stream",
     "text": [
      "\b\b\b\b\b\b\b\b\b\b\b\b\b\b\b\b\b\b\b\b\b\b\b\b\b\b\b\b\b\b\b\b\b\b\b\b\b\b\b\b\b\b\b\b\b\b\b\b\b\b\b\b\b\b\b\b\b\b\b\b\r",
      "27271168/61824018 [============>.................] - ETA: 1s"
     ]
    },
    {
     "name": "stdout",
     "output_type": "stream",
     "text": [
      "\b\b\b\b\b\b\b\b\b\b\b\b\b\b\b\b\b\b\b\b\b\b\b\b\b\b\b\b\b\b\b\b\b\b\b\b\b\b\b\b\b\b\b\b\b\b\b\b\b\b\b\b\b\b\b\b\b\b\b\b\r",
      "30416896/61824018 [=============>................] - ETA: 0s"
     ]
    },
    {
     "name": "stdout",
     "output_type": "stream",
     "text": [
      "\b\b\b\b\b\b\b\b\b\b\b\b\b\b\b\b\b\b\b\b\b\b\b\b\b\b\b\b\b\b\b\b\b\b\b\b\b\b\b\b\b\b\b\b\b\b\b\b\b\b\b\b\b\b\b\b\b\b\b\b\r",
      "33562624/61824018 [===============>..............] - ETA: 0s"
     ]
    },
    {
     "name": "stdout",
     "output_type": "stream",
     "text": [
      "\b\b\b\b\b\b\b\b\b\b\b\b\b\b\b\b\b\b\b\b\b\b\b\b\b\b\b\b\b\b\b\b\b\b\b\b\b\b\b\b\b\b\b\b\b\b\b\b\b\b\b\b\b\b\b\b\b\b\b\b\r",
      "36806656/61824018 [================>.............] - ETA: 0s"
     ]
    },
    {
     "name": "stdout",
     "output_type": "stream",
     "text": [
      "\b\b\b\b\b\b\b\b\b\b\b\b\b\b\b\b\b\b\b\b\b\b\b\b\b\b\b\b\b\b\b\b\b\b\b\b\b\b\b\b\b\b\b\b\b\b\b\b\b\b\b\b\b\b\b\b\b\b\b\b\r",
      "39854080/61824018 [==================>...........] - ETA: 0s"
     ]
    },
    {
     "name": "stdout",
     "output_type": "stream",
     "text": [
      "\b\b\b\b\b\b\b\b\b\b\b\b\b\b\b\b\b\b\b\b\b\b\b\b\b\b\b\b\b\b\b\b\b\b\b\b\b\b\b\b\b\b\b\b\b\b\b\b\b\b\b\b\b\b\b\b\b\b\b\b\r",
      "43311104/61824018 [====================>.........] - ETA: 0s"
     ]
    },
    {
     "name": "stdout",
     "output_type": "stream",
     "text": [
      "\b\b\b\b\b\b\b\b\b\b\b\b\b\b\b\b\b\b\b\b\b\b\b\b\b\b\b\b\b\b\b\b\b\b\b\b\b\b\b\b\b\b\b\b\b\b\b\b\b\b\b\b\b\b\b\b\b\b\b\b\r",
      "46145536/61824018 [=====================>........] - ETA: 0s"
     ]
    },
    {
     "name": "stdout",
     "output_type": "stream",
     "text": [
      "\b\b\b\b\b\b\b\b\b\b\b\b\b\b\b\b\b\b\b\b\b\b\b\b\b\b\b\b\b\b\b\b\b\b\b\b\b\b\b\b\b\b\b\b\b\b\b\b\b\b\b\b\b\b\b\b\b\b\b\b\r",
      "49299456/61824018 [======================>.......] - ETA: 0s"
     ]
    },
    {
     "name": "stdout",
     "output_type": "stream",
     "text": [
      "\b\b\b\b\b\b\b\b\b\b\b\b\b\b\b\b\b\b\b\b\b\b\b\b\b\b\b\b\b\b\b\b\b\b\b\b\b\b\b\b\b\b\b\b\b\b\b\b\b\b\b\b\b\b\b\b\b\b\b\b\r",
      "52396032/61824018 [========================>.....] - ETA: 0s"
     ]
    },
    {
     "name": "stdout",
     "output_type": "stream",
     "text": [
      "\b\b\b\b\b\b\b\b\b\b\b\b\b\b\b\b\b\b\b\b\b\b\b\b\b\b\b\b\b\b\b\b\b\b\b\b\b\b\b\b\b\b\b\b\b\b\b\b\b\b\b\b\b\b\b\b\b\b\b\b\r",
      "54534144/61824018 [=========================>....] - ETA: 0s"
     ]
    },
    {
     "name": "stdout",
     "output_type": "stream",
     "text": [
      "\b\b\b\b\b\b\b\b\b\b\b\b\b\b\b\b\b\b\b\b\b\b\b\b\b\b\b\b\b\b\b\b\b\b\b\b\b\b\b\b\b\b\b\b\b\b\b\b\b\b\b\b\b\b\b\b\b\b\b\b\r",
      "57589760/61824018 [==========================>...] - ETA: 0s"
     ]
    },
    {
     "name": "stdout",
     "output_type": "stream",
     "text": [
      "\b\b\b\b\b\b\b\b\b\b\b\b\b\b\b\b\b\b\b\b\b\b\b\b\b\b\b\b\b\b\b\b\b\b\b\b\b\b\b\b\b\b\b\b\b\b\b\b\b\b\b\b\b\b\b\b\b\b\b\b\r",
      "60825600/61824018 [============================>.] - ETA: 0s"
     ]
    },
    {
     "name": "stdout",
     "output_type": "stream",
     "text": [
      "\b\b\b\b\b\b\b\b\b\b\b\b\b\b\b\b\b\b\b\b\b\b\b\b\b\b\b\b\b\b\b\b\b\b\b\b\b\b\b\b\b\b\b\b\b\b\b\b\b\b\b\b\b\b\b\b\b\b\b\b\r",
      "61824018/61824018 [==============================] - 1s 0us/step\n"
     ]
    }
   ],
   "source": [
    "archive_path = tf.keras.utils.get_file(\"letor.zip\",\n",
    "  \"https://download.microsoft.com/download/E/7/E/E7EABEF1-4C7B-4E31-ACE5-73927950ED5E/Letor.zip\",\n",
    "  extract=True)\n",
    "\n",
    "# Path to the train and test dataset using libsvm format.\n",
    "raw_dataset_path = os.path.join(os.path.dirname(archive_path),\"OHSUMED/Data/All/OHSUMED.txt\")"
   ]
  },
  {
   "cell_type": "markdown",
   "metadata": {
    "id": "f5UB-Kwn6JKK"
   },
   "source": [
    "Here are the first lines of the dataset:"
   ]
  },
  {
   "cell_type": "code",
   "execution_count": 8,
   "metadata": {
    "execution": {
     "iopub.execute_input": "2023-01-25T12:35:31.485801Z",
     "iopub.status.busy": "2023-01-25T12:35:31.485558Z",
     "iopub.status.idle": "2023-01-25T12:35:31.608213Z",
     "shell.execute_reply": "2023-01-25T12:35:31.607515Z"
    },
    "id": "pDjamyHv6K7B"
   },
   "outputs": [
    {
     "name": "stdout",
     "output_type": "stream",
     "text": [
      "2 qid:1 1:3.00000000 2:2.07944154 3:0.27272727 4:0.26103413 5:37.33056511 6:11.43124125 7:37.29975005 8:1.13865735 9:15.52428944 10:8.83129655 11:12.00000000 12:5.37527841 13:0.08759124 14:0.08649364 15:28.30306459 16:9.34002375 17:24.80878473 18:0.39309068 19:57.41651698 20:3.29489291 21:25.02310000 22:3.21979940 23:-3.87098000 24:-3.90273000 25:-3.87512000 #docid = 40626\r",
      "\r\n",
      "0 qid:1 1:3.00000000 2:2.07944154 3:0.42857143 4:0.40059418 5:37.33056511 6:11.43124125 7:37.29975005 8:1.81447983 9:17.45499227 10:11.61793065 11:10.00000000 12:5.19295685 13:0.08547009 14:0.08453711 15:28.30306459 16:9.34002375 17:24.80878473 18:0.34920457 19:43.24062605 20:2.65472417 21:23.49030000 22:3.15658757 23:-3.96838000 24:-4.00865000 25:-3.98670000 #docid = 11852\r",
      "\r\n",
      "2 qid:1 1:0.00000000 2:0.00000000 3:0.00000000 4:0.00000000 5:37.33056511 6:11.43124125 7:37.29975005 8:0.00000000 9:0.00000000 10:0.00000000 11:8.00000000 12:4.38202663 13:0.07692308 14:0.07601813 15:28.30306459 16:9.34002375 17:24.80878473 18:0.24031887 19:25.81698944 20:1.55134225 21:15.86500000 22:2.76411543 23:-4.28166000 24:-4.33313000 25:-4.44161000 #docid = 12693\r",
      "\r\n",
      "2 qid:1 1:4.00000000 2:2.77258872 3:0.33333333 4:0.32017083 5:37.33056511 6:11.43124125 7:37.29975005 8:1.26080803 9:17.97524177 10:8.86378153 11:3.00000000 12:1.79175947 13:0.03409091 14:0.03377241 15:28.30306459 16:9.34002375 17:24.80878473 18:0.11149640 19:10.09242586 20:0.64975836 21:14.27780000 22:2.65870588 23:-4.77772000 24:-4.73563000 25:-4.86759000 #docid = 12694\r",
      "\r\n",
      "0 qid:1 1:0.00000000 2:0.00000000 3:0.00000000 4:0.00000000 5:37.33056511 6:11.43124125 7:37.29975005 8:0.00000000 9:0.00000000 10:0.00000000 11:6.00000000 12:3.87120101 13:0.04761905 14:0.04736907 15:28.30306459 16:9.34002375 17:24.80878473 18:0.18210403 19:23.54629629 20:1.62139253 21:15.27640000 22:2.72630915 23:-4.43073000 24:-4.45985000 25:-4.57053000 #docid = 15450\r",
      "\r\n",
      "1 qid:1 1:1.00000000 2:0.69314718 3:0.14285714 4:0.13353139 5:37.33056511 6:11.43124125 7:37.29975005 8:0.62835774 9:6.12170704 10:4.15689134 11:10.00000000 12:4.43081680 13:0.08333333 14:0.08191707 15:28.30306459 16:9.34002375 17:24.80878473 18:0.32796715 19:43.13226482 20:2.12249256 21:16.33990000 22:2.79360997 23:-4.75652000 24:-4.66814000 25:-4.82965000 #docid = 17665\r",
      "\r\n",
      "0 qid:1 1:0.00000000 2:0.00000000 3:0.00000000 4:0.00000000 5:37.33056511 6:11.43124125 7:37.29975005 8:0.00000000 9:0.00000000 10:0.00000000 11:3.00000000 12:2.07944154 13:0.05357143 14:0.05309873 15:28.30306459 16:9.34002375 17:24.80878473 18:0.25524876 19:14.92698785 20:2.59607100 21:16.00510000 22:2.77290742 23:-4.54349000 24:-4.52334000 25:-4.69865000 #docid = 18432\r",
      "\r\n",
      "0 qid:1 1:1.00000000 2:0.69314718 3:0.50000000 4:0.40546511 5:37.33056511 6:11.43124125 7:37.29975005 8:1.07964603 9:3.88727484 10:3.22375250 11:14.00000000 12:5.19295685 13:0.10000000 14:0.09779062 15:28.30306459 16:9.34002375 17:24.80878473 18:0.41939944 19:65.74099134 20:2.81316484 21:20.37810000 22:3.01446079 23:-4.25087000 24:-4.18235000 25:-4.21824000 #docid = 18540\r",
      "\r\n",
      "0 qid:1 1:3.00000000 2:2.07944154 3:0.60000000 4:0.54696467 5:37.33056511 6:11.43124125 7:37.29975005 8:2.13084866 9:15.65986863 10:10.90521468 11:9.00000000 12:4.68213123 13:0.13043478 14:0.12827973 15:28.30306459 16:9.34002375 17:24.80878473 18:0.44756051 19:33.23097043 20:2.69791902 21:21.26510000 22:3.05706723 23:-4.18472000 24:-4.18399000 25:-4.03491000 #docid = 44695\r",
      "\r\n",
      "0 qid:1 1:0.00000000 2:0.00000000 3:0.00000000 4:0.00000000 5:37.33056511 6:11.43124125 7:37.29975005 8:0.00000000 9:0.00000000 10:0.00000000 11:16.00000000 12:6.10479323 13:0.11510791 14:0.11289797 15:28.30306459 16:9.34002375 17:24.80878473 18:0.37130060 19:55.42216381 20:2.33077909 21:19.21490000 22:2.95568602 23:-4.09988000 24:-4.15679000 25:-4.17349000 #docid = 18541\r",
      "\r\n"
     ]
    }
   ],
   "source": [
    "!head {raw_dataset_path}"
   ]
  },
  {
   "cell_type": "markdown",
   "metadata": {
    "id": "rcManr98ZGID"
   },
   "source": [
    "The first step is to convert this dataset to the \"flat\" format mentioned above."
   ]
  },
  {
   "cell_type": "code",
   "execution_count": 9,
   "metadata": {
    "execution": {
     "iopub.execute_input": "2023-01-25T12:35:31.611682Z",
     "iopub.status.busy": "2023-01-25T12:35:31.611447Z",
     "iopub.status.idle": "2023-01-25T12:35:31.800861Z",
     "shell.execute_reply": "2023-01-25T12:35:31.800299Z"
    },
    "id": "mkiM9HJox-e8"
   },
   "outputs": [
    {
     "data": {
      "text/html": [
       "<div>\n",
       "<style scoped>\n",
       "    .dataframe tbody tr th:only-of-type {\n",
       "        vertical-align: middle;\n",
       "    }\n",
       "\n",
       "    .dataframe tbody tr th {\n",
       "        vertical-align: top;\n",
       "    }\n",
       "\n",
       "    .dataframe thead th {\n",
       "        text-align: right;\n",
       "    }\n",
       "</style>\n",
       "<table border=\"1\" class=\"dataframe\">\n",
       "  <thead>\n",
       "    <tr style=\"text-align: right;\">\n",
       "      <th></th>\n",
       "      <th>relevance</th>\n",
       "      <th>group</th>\n",
       "      <th>f_1</th>\n",
       "      <th>f_2</th>\n",
       "      <th>f_3</th>\n",
       "      <th>f_4</th>\n",
       "      <th>f_5</th>\n",
       "      <th>f_6</th>\n",
       "      <th>f_7</th>\n",
       "      <th>f_8</th>\n",
       "      <th>...</th>\n",
       "      <th>f_16</th>\n",
       "      <th>f_17</th>\n",
       "      <th>f_18</th>\n",
       "      <th>f_19</th>\n",
       "      <th>f_20</th>\n",
       "      <th>f_21</th>\n",
       "      <th>f_22</th>\n",
       "      <th>f_23</th>\n",
       "      <th>f_24</th>\n",
       "      <th>f_25</th>\n",
       "    </tr>\n",
       "  </thead>\n",
       "  <tbody>\n",
       "    <tr>\n",
       "      <th>0</th>\n",
       "      <td>2</td>\n",
       "      <td>g_1</td>\n",
       "      <td>3.0</td>\n",
       "      <td>2.079442</td>\n",
       "      <td>0.272727</td>\n",
       "      <td>0.261034</td>\n",
       "      <td>37.330565</td>\n",
       "      <td>11.431241</td>\n",
       "      <td>37.29975</td>\n",
       "      <td>1.138657</td>\n",
       "      <td>...</td>\n",
       "      <td>9.340024</td>\n",
       "      <td>24.808785</td>\n",
       "      <td>0.393091</td>\n",
       "      <td>57.416517</td>\n",
       "      <td>3.294893</td>\n",
       "      <td>25.0231</td>\n",
       "      <td>3.219799</td>\n",
       "      <td>-3.87098</td>\n",
       "      <td>-3.90273</td>\n",
       "      <td>-3.87512</td>\n",
       "    </tr>\n",
       "    <tr>\n",
       "      <th>1</th>\n",
       "      <td>0</td>\n",
       "      <td>g_1</td>\n",
       "      <td>3.0</td>\n",
       "      <td>2.079442</td>\n",
       "      <td>0.428571</td>\n",
       "      <td>0.400594</td>\n",
       "      <td>37.330565</td>\n",
       "      <td>11.431241</td>\n",
       "      <td>37.29975</td>\n",
       "      <td>1.814480</td>\n",
       "      <td>...</td>\n",
       "      <td>9.340024</td>\n",
       "      <td>24.808785</td>\n",
       "      <td>0.349205</td>\n",
       "      <td>43.240626</td>\n",
       "      <td>2.654724</td>\n",
       "      <td>23.4903</td>\n",
       "      <td>3.156588</td>\n",
       "      <td>-3.96838</td>\n",
       "      <td>-4.00865</td>\n",
       "      <td>-3.98670</td>\n",
       "    </tr>\n",
       "    <tr>\n",
       "      <th>2</th>\n",
       "      <td>2</td>\n",
       "      <td>g_1</td>\n",
       "      <td>0.0</td>\n",
       "      <td>0.000000</td>\n",
       "      <td>0.000000</td>\n",
       "      <td>0.000000</td>\n",
       "      <td>37.330565</td>\n",
       "      <td>11.431241</td>\n",
       "      <td>37.29975</td>\n",
       "      <td>0.000000</td>\n",
       "      <td>...</td>\n",
       "      <td>9.340024</td>\n",
       "      <td>24.808785</td>\n",
       "      <td>0.240319</td>\n",
       "      <td>25.816989</td>\n",
       "      <td>1.551342</td>\n",
       "      <td>15.8650</td>\n",
       "      <td>2.764115</td>\n",
       "      <td>-4.28166</td>\n",
       "      <td>-4.33313</td>\n",
       "      <td>-4.44161</td>\n",
       "    </tr>\n",
       "  </tbody>\n",
       "</table>\n",
       "<p>3 rows × 27 columns</p>\n",
       "</div>"
      ],
      "text/plain": [
       "   relevance group  f_1       f_2       f_3       f_4        f_5        f_6  \\\n",
       "0          2   g_1  3.0  2.079442  0.272727  0.261034  37.330565  11.431241   \n",
       "1          0   g_1  3.0  2.079442  0.428571  0.400594  37.330565  11.431241   \n",
       "2          2   g_1  0.0  0.000000  0.000000  0.000000  37.330565  11.431241   \n",
       "\n",
       "        f_7       f_8  ...      f_16       f_17      f_18       f_19  \\\n",
       "0  37.29975  1.138657  ...  9.340024  24.808785  0.393091  57.416517   \n",
       "1  37.29975  1.814480  ...  9.340024  24.808785  0.349205  43.240626   \n",
       "2  37.29975  0.000000  ...  9.340024  24.808785  0.240319  25.816989   \n",
       "\n",
       "       f_20     f_21      f_22     f_23     f_24     f_25  \n",
       "0  3.294893  25.0231  3.219799 -3.87098 -3.90273 -3.87512  \n",
       "1  2.654724  23.4903  3.156588 -3.96838 -4.00865 -3.98670  \n",
       "2  1.551342  15.8650  2.764115 -4.28166 -4.33313 -4.44161  \n",
       "\n",
       "[3 rows x 27 columns]"
      ]
     },
     "execution_count": 9,
     "metadata": {},
     "output_type": "execute_result"
    }
   ],
   "source": [
    "def convert_libsvm_to_csv(src_path, dst_path):\n",
    "  \"\"\"Converts a libsvm ranking dataset into a flat csv file.\n",
    "  \n",
    "  Note: This code is specific to the LETOR3 dataset.\n",
    "  \"\"\"\n",
    "  dst_handle = open(dst_path, \"w\")\n",
    "  first_line = True\n",
    "  for src_line in open(src_path,\"r\"):\n",
    "    # Note: The last 3 items are comments.\n",
    "    items = src_line.split(\" \")[:-3]\n",
    "    relevance = items[0]\n",
    "    group = items[1].split(\":\")[1]\n",
    "    features = [ item.split(\":\") for item in items[2:]]\n",
    "\n",
    "    if first_line:\n",
    "      # Csv header\n",
    "      dst_handle.write(\"relevance,group,\" + \",\".join([\"f_\" + feature[0] for feature in features]) + \"\\n\")\n",
    "      first_line = False\n",
    "    dst_handle.write(relevance + \",g_\" + group + \",\" + (\",\".join([feature[1] for feature in features])) + \"\\n\")\n",
    "  dst_handle.close()\n",
    "\n",
    "# Convert the dataset.\n",
    "csv_dataset_path=\"/tmp/ohsumed.csv\"\n",
    "convert_libsvm_to_csv(raw_dataset_path, csv_dataset_path)\n",
    "\n",
    "# Load a dataset into a Pandas Dataframe.\n",
    "dataset_df = pd.read_csv(csv_dataset_path)\n",
    "\n",
    "# Display the first 3 examples.\n",
    "dataset_df.head(3)"
   ]
  },
  {
   "cell_type": "markdown",
   "metadata": {
    "id": "jdelXEgw6bsq"
   },
   "source": [
    "In this dataset, each row represents a pair of query/document (called \"group\"). The \"relevance\" tells how much the query matches the document.\n",
    "\n",
    "The features of the query and the document are merged together in \"f1-25\". The exact definition of the features is not known, but it would be omething like:\n",
    "\n",
    "- Number of words in queries\n",
    "- Number of common words between the query and the document\n",
    "- Cosinus similarity between an embedding of the query and an embedding of the document.\n",
    "- ...\n",
    "\n",
    "Let's convert the Pandas Dataframe into a TensorFlow Dataset:"
   ]
  },
  {
   "cell_type": "code",
   "execution_count": 10,
   "metadata": {
    "execution": {
     "iopub.execute_input": "2023-01-25T12:35:31.804452Z",
     "iopub.status.busy": "2023-01-25T12:35:31.803874Z",
     "iopub.status.idle": "2023-01-25T12:35:35.069661Z",
     "shell.execute_reply": "2023-01-25T12:35:35.068965Z"
    },
    "id": "5QMbBkCEXxu_"
   },
   "outputs": [],
   "source": [
    "dataset_ds = tfdf.keras.pd_dataframe_to_tf_dataset(dataset_df, label=\"relevance\", task=tfdf.keras.Task.RANKING)"
   ]
  },
  {
   "cell_type": "markdown",
   "metadata": {
    "id": "sOPVcfs_7xxf"
   },
   "source": [
    "Let's configure and train our Ranking model."
   ]
  },
  {
   "cell_type": "code",
   "execution_count": 11,
   "metadata": {
    "execution": {
     "iopub.execute_input": "2023-01-25T12:35:35.073568Z",
     "iopub.status.busy": "2023-01-25T12:35:35.073085Z",
     "iopub.status.idle": "2023-01-25T12:35:41.514025Z",
     "shell.execute_reply": "2023-01-25T12:35:41.513337Z"
    },
    "id": "Ba1gb75SX1rr"
   },
   "outputs": [
    {
     "data": {
      "application/javascript": [
       "google.colab.output.setIframeHeight(0, true, {maxHeight: 400})"
      ],
      "text/plain": [
       "<IPython.core.display.Javascript object>"
      ]
     },
     "metadata": {},
     "output_type": "display_data"
    },
    {
     "name": "stdout",
     "output_type": "stream",
     "text": [
      "Warning: The `num_threads` constructor argument is not set and the number of CPU is os.cpu_count()=32 > 32. Setting num_threads to 32. Set num_threads manually to use more than 32 cpus.\n"
     ]
    },
    {
     "name": "stderr",
     "output_type": "stream",
     "text": [
      "WARNING:absl:The `num_threads` constructor argument is not set and the number of CPU is os.cpu_count()=32 > 32. Setting num_threads to 32. Set num_threads manually to use more than 32 cpus.\n"
     ]
    },
    {
     "name": "stdout",
     "output_type": "stream",
     "text": [
      "Use /tmpfs/tmp/tmpaa6rg4wm as temporary training directory\n"
     ]
    },
    {
     "name": "stdout",
     "output_type": "stream",
     "text": [
      "Reading training dataset...\n"
     ]
    },
    {
     "name": "stdout",
     "output_type": "stream",
     "text": [
      "WARNING:tensorflow:From /tmpfs/src/tf_docs_env/lib/python3.9/site-packages/tensorflow/python/autograph/pyct/static_analysis/liveness.py:83: Analyzer.lamba_check (from tensorflow.python.autograph.pyct.static_analysis.liveness) is deprecated and will be removed after 2023-09-23.\n",
      "Instructions for updating:\n",
      "Lambda fuctions will be no more assumed to be used in the statement where they are used, or at least in the same block. https://github.com/tensorflow/tensorflow/issues/56089\n"
     ]
    },
    {
     "name": "stderr",
     "output_type": "stream",
     "text": [
      "WARNING:tensorflow:From /tmpfs/src/tf_docs_env/lib/python3.9/site-packages/tensorflow/python/autograph/pyct/static_analysis/liveness.py:83: Analyzer.lamba_check (from tensorflow.python.autograph.pyct.static_analysis.liveness) is deprecated and will be removed after 2023-09-23.\n",
      "Instructions for updating:\n",
      "Lambda fuctions will be no more assumed to be used in the statement where they are used, or at least in the same block. https://github.com/tensorflow/tensorflow/issues/56089\n"
     ]
    },
    {
     "name": "stdout",
     "output_type": "stream",
     "text": [
      "Training dataset read in 0:00:03.843809. Found 16140 examples.\n"
     ]
    },
    {
     "name": "stdout",
     "output_type": "stream",
     "text": [
      "Training model...\n"
     ]
    },
    {
     "name": "stderr",
     "output_type": "stream",
     "text": [
      "2023-01-25 12:35:38.963248: W external/ydf/yggdrasil_decision_forests/learner/gradient_boosted_trees/gradient_boosted_trees.cc:1790] \"goss_alpha\" set but \"sampling_method\" not equal to \"GOSS\".\n",
      "2023-01-25 12:35:38.963282: W external/ydf/yggdrasil_decision_forests/learner/gradient_boosted_trees/gradient_boosted_trees.cc:1800] \"goss_beta\" set but \"sampling_method\" not equal to \"GOSS\".\n",
      "2023-01-25 12:35:38.963290: W external/ydf/yggdrasil_decision_forests/learner/gradient_boosted_trees/gradient_boosted_trees.cc:1814] \"selective_gradient_boosting_ratio\" set but \"sampling_method\" not equal to \"SELGB\".\n"
     ]
    },
    {
     "name": "stdout",
     "output_type": "stream",
     "text": [
      "Model trained in 0:00:01.250392\n"
     ]
    },
    {
     "name": "stdout",
     "output_type": "stream",
     "text": [
      "Compiling model...\n"
     ]
    },
    {
     "name": "stderr",
     "output_type": "stream",
     "text": [
      "[INFO 2023-01-25T12:35:40.201484308+00:00 kernel.cc:1214] Loading model from path /tmpfs/tmp/tmpaa6rg4wm/model/ with prefix d5b1d93f74a54c40\n",
      "[INFO 2023-01-25T12:35:40.203931047+00:00 abstract_model.cc:1311] Engine \"GradientBoostedTreesQuickScorerExtended\" built\n",
      "[INFO 2023-01-25T12:35:40.20395708+00:00 kernel.cc:1046] Use fast generic engine\n"
     ]
    },
    {
     "name": "stdout",
     "output_type": "stream",
     "text": [
      "WARNING:tensorflow:AutoGraph could not transform <function simple_ml_inference_op_with_handle at 0x7f5c78e17af0> and will run it as-is.\n",
      "Please report this to the TensorFlow team. When filing the bug, set the verbosity to 10 (on Linux, `export AUTOGRAPH_VERBOSITY=10`) and attach the full output.\n",
      "Cause: could not get source code\n",
      "To silence this warning, decorate the function with @tf.autograph.experimental.do_not_convert\n"
     ]
    },
    {
     "name": "stderr",
     "output_type": "stream",
     "text": [
      "WARNING:tensorflow:AutoGraph could not transform <function simple_ml_inference_op_with_handle at 0x7f5c78e17af0> and will run it as-is.\n",
      "Please report this to the TensorFlow team. When filing the bug, set the verbosity to 10 (on Linux, `export AUTOGRAPH_VERBOSITY=10`) and attach the full output.\n",
      "Cause: could not get source code\n",
      "To silence this warning, decorate the function with @tf.autograph.experimental.do_not_convert\n"
     ]
    },
    {
     "name": "stdout",
     "output_type": "stream",
     "text": [
      "WARNING: AutoGraph could not transform <function simple_ml_inference_op_with_handle at 0x7f5c78e17af0> and will run it as-is.\n",
      "Please report this to the TensorFlow team. When filing the bug, set the verbosity to 10 (on Linux, `export AUTOGRAPH_VERBOSITY=10`) and attach the full output.\n",
      "Cause: could not get source code\n",
      "To silence this warning, decorate the function with @tf.autograph.experimental.do_not_convert\n"
     ]
    },
    {
     "name": "stdout",
     "output_type": "stream",
     "text": [
      "Model compiled.\n"
     ]
    },
    {
     "data": {
      "text/plain": [
       "<keras.callbacks.History at 0x7f5c78471820>"
      ]
     },
     "execution_count": 11,
     "metadata": {},
     "output_type": "execute_result"
    }
   ],
   "source": [
    "%set_cell_height 400\n",
    "\n",
    "model = tfdf.keras.GradientBoostedTreesModel(\n",
    "    task=tfdf.keras.Task.RANKING,\n",
    "    ranking_group=\"group\",\n",
    "    num_trees=50)\n",
    "\n",
    "model.fit(dataset_ds)"
   ]
  },
  {
   "cell_type": "markdown",
   "metadata": {
    "id": "kz9kdege8T_y"
   },
   "source": [
    "We can now look at the quality of the model on the validation dataset. By default, TF-DF trains ranking models to optimize the [NDCG](https://en.wikipedia.org/wiki/Discounted_cumulative_gain). The NDCG is a value between 0 and 1, where 1 is the perfect score. For this reason, -NDCG is the model loss."
   ]
  },
  {
   "cell_type": "code",
   "execution_count": 12,
   "metadata": {
    "execution": {
     "iopub.execute_input": "2023-01-25T12:35:41.517846Z",
     "iopub.status.busy": "2023-01-25T12:35:41.517291Z",
     "iopub.status.idle": "2023-01-25T12:35:42.034486Z",
     "shell.execute_reply": "2023-01-25T12:35:42.033873Z"
    },
    "id": "lt5qysPs8zex"
   },
   "outputs": [
    {
     "data": {
      "image/png": "[encoded data removed]",
      "text/plain": [
       "<Figure size 1200x400 with 2 Axes>"
      ]
     },
     "metadata": {},
     "output_type": "display_data"
    }
   ],
   "source": [
    "import matplotlib.pyplot as plt\n",
    "\n",
    "logs = model.make_inspector().training_logs()\n",
    "\n",
    "plt.figure(figsize=(12, 4))\n",
    "\n",
    "plt.subplot(1, 2, 1)\n",
    "plt.plot([log.num_trees for log in logs], [log.evaluation.ndcg for log in logs])\n",
    "plt.xlabel(\"Number of trees\")\n",
    "plt.ylabel(\"NDCG (validation)\")\n",
    "\n",
    "plt.subplot(1, 2, 2)\n",
    "plt.plot([log.num_trees for log in logs], [log.evaluation.loss for log in logs])\n",
    "plt.xlabel(\"Number of trees\")\n",
    "plt.ylabel(\"Loss (validation)\")\n",
    "\n",
    "plt.show()"
   ]
  },
  {
   "cell_type": "markdown",
   "metadata": {
    "id": "eq1E_26Y8rtQ"
   },
   "source": [
    "As for all TF-DF models, you can also look at the model report (Note: The model report also contains the training logs):"
   ]
  },
  {
   "cell_type": "code",
   "execution_count": 13,
   "metadata": {
    "execution": {
     "iopub.execute_input": "2023-01-25T12:35:42.038045Z",
     "iopub.status.busy": "2023-01-25T12:35:42.037818Z",
     "iopub.status.idle": "2023-01-25T12:35:42.047321Z",
     "shell.execute_reply": "2023-01-25T12:35:42.046752Z"
    },
    "id": "L4N1R8fM4jFh"
   },
   "outputs": [
    {
     "data": {
      "application/javascript": [
       "google.colab.output.setIframeHeight(0, true, {maxHeight: 400})"
      ],
      "text/plain": [
       "<IPython.core.display.Javascript object>"
      ]
     },
     "metadata": {},
     "output_type": "display_data"
    },
    {
     "name": "stdout",
     "output_type": "stream",
     "text": [
      "Model: \"gradient_boosted_trees_model\"\n"
     ]
    },
    {
     "name": "stdout",
     "output_type": "stream",
     "text": [
      "_________________________________________________________________\n"
     ]
    },
    {
     "name": "stdout",
     "output_type": "stream",
     "text": [
      " Layer (type)                Output Shape              Param #   \n"
     ]
    },
    {
     "name": "stdout",
     "output_type": "stream",
     "text": [
      "=================================================================\n"
     ]
    },
    {
     "name": "stdout",
     "output_type": "stream",
     "text": [
      "=================================================================\n"
     ]
    },
    {
     "name": "stdout",
     "output_type": "stream",
     "text": [
      "Total params: 1\n"
     ]
    },
    {
     "name": "stdout",
     "output_type": "stream",
     "text": [
      "Trainable params: 0\n"
     ]
    },
    {
     "name": "stdout",
     "output_type": "stream",
     "text": [
      "Non-trainable params: 1\n"
     ]
    },
    {
     "name": "stdout",
     "output_type": "stream",
     "text": [
      "_________________________________________________________________\n"
     ]
    },
    {
     "name": "stdout",
     "output_type": "stream",
     "text": [
      "Type: \"GRADIENT_BOOSTED_TREES\"\n",
      "Task: RANKING\n",
      "Label: \"__LABEL\"\n",
      "Rank group: \"group\"\n",
      "\n",
      "Input Features (25):\n",
      "\tf_1\n",
      "\tf_10\n",
      "\tf_11\n",
      "\tf_12\n",
      "\tf_13\n",
      "\tf_14\n",
      "\tf_15\n",
      "\tf_16\n",
      "\tf_17\n",
      "\tf_18\n",
      "\tf_19\n",
      "\tf_2\n",
      "\tf_20\n",
      "\tf_21\n",
      "\tf_22\n",
      "\tf_23\n",
      "\tf_24\n",
      "\tf_25\n",
      "\tf_3\n",
      "\tf_4\n",
      "\tf_5\n",
      "\tf_6\n",
      "\tf_7\n",
      "\tf_8\n",
      "\tf_9\n",
      "\n",
      "No weights\n",
      "\n",
      "Variable Importance: INV_MEAN_MIN_DEPTH:\n",
      "    1.  \"f_8\"  0.311113 ################\n",
      "    2. \"f_23\"  0.284303 ############\n",
      "    3. \"f_10\"  0.247219 #######\n",
      "    4. \"f_22\"  0.214545 ###\n",
      "    5. \"f_19\"  0.211207 ###\n",
      "    6.  \"f_4\"  0.210856 ###\n",
      "    7.  \"f_9\"  0.209961 ###\n",
      "    8. \"f_18\"  0.199238 #\n",
      "    9. \"f_25\"  0.198938 #\n",
      "   10. \"f_12\"  0.198423 #\n",
      "   11. \"f_21\"  0.195928 #\n",
      "   12. \"f_16\"  0.193692 #\n",
      "   13.  \"f_3\"  0.193429 #\n",
      "   14. \"f_15\"  0.192216 #\n",
      "   15. \"f_17\"  0.189157 \n",
      "   16. \"f_24\"  0.188368 \n",
      "   17. \"f_13\"  0.187556 \n",
      "   18. \"f_20\"  0.186636 \n",
      "   19.  \"f_5\"  0.186452 \n",
      "   20. \"f_11\"  0.185561 \n",
      "   21.  \"f_6\"  0.185416 \n",
      "   22.  \"f_7\"  0.184998 \n",
      "   23. \"f_14\"  0.184604 \n",
      "   24.  \"f_2\"  0.184333 \n",
      "   25.  \"f_1\"  0.183540 \n",
      "\n",
      "Variable Importance: NUM_AS_ROOT:\n",
      "    1.  \"f_8\"  9.000000 ################\n",
      "    2. \"f_23\"  4.000000 ######\n",
      "    3. \"f_10\"  3.000000 ####\n",
      "    4.  \"f_4\"  3.000000 ####\n",
      "    5. \"f_22\"  2.000000 ##\n",
      "    6. \"f_21\"  1.000000 \n",
      "\n",
      "Variable Importance: NUM_NODES:\n",
      "    1. \"f_23\" 40.000000 ################\n",
      "    2.  \"f_8\" 35.000000 #############\n",
      "    3. \"f_12\" 29.000000 ###########\n",
      "    4. \"f_10\" 28.000000 ###########\n",
      "    5.  \"f_9\" 24.000000 #########\n",
      "    6. \"f_19\" 22.000000 ########\n",
      "    7. \"f_18\" 17.000000 ######\n",
      "    8.  \"f_4\" 17.000000 ######\n",
      "    9. \"f_22\" 16.000000 ######\n",
      "   10. \"f_25\" 16.000000 ######\n",
      "   11.  \"f_3\" 15.000000 #####\n",
      "   12. \"f_17\" 13.000000 ####\n",
      "   13. \"f_21\" 13.000000 ####\n",
      "   14. \"f_20\" 12.000000 ####\n",
      "   15. \"f_24\" 12.000000 ####\n",
      "   16.  \"f_6\"  9.000000 ###\n",
      "   17. \"f_15\"  8.000000 ##\n",
      "   18. \"f_16\"  8.000000 ##\n",
      "   19.  \"f_5\"  8.000000 ##\n",
      "   20. \"f_11\"  6.000000 ##\n",
      "   21. \"f_14\"  5.000000 #\n",
      "   22. \"f_13\"  4.000000 #\n",
      "   23.  \"f_7\"  4.000000 #\n",
      "   24.  \"f_2\"  2.000000 \n",
      "   25.  \"f_1\"  1.000000 \n",
      "\n",
      "Variable Importance: SUM_SCORE:\n",
      "    1. \"f_23\" 6859.062590 ################\n",
      "    2. \"f_10\" 6698.763366 ###############\n",
      "    3.  \"f_8\" 6365.590639 ##############\n",
      "    4. \"f_21\" 4096.529465 #########\n",
      "    5. \"f_12\" 3326.910723 #######\n",
      "    6. \"f_22\" 2725.687365 ######\n",
      "    7. \"f_19\" 2688.910183 ######\n",
      "    8. \"f_20\" 2640.447831 #####\n",
      "    9.  \"f_4\" 2628.952250 #####\n",
      "   10.  \"f_3\" 2300.223027 #####\n",
      "   11. \"f_25\" 2018.750049 ####\n",
      "   12.  \"f_9\" 1412.682213 ###\n",
      "   13. \"f_17\" 1235.369343 ##\n",
      "   14. \"f_18\" 1223.908925 ##\n",
      "   15. \"f_24\" 1070.657767 ##\n",
      "   16. \"f_16\" 1044.042723 ##\n",
      "   17.  \"f_6\" 1028.179407 ##\n",
      "   18. \"f_15\" 867.121698 #\n",
      "   19.  \"f_5\" 676.352868 #\n",
      "   20. \"f_13\" 579.923333 #\n",
      "   21. \"f_14\" 501.284151 \n",
      "   22. \"f_11\" 394.150571 \n",
      "   23.  \"f_7\" 318.085692 \n",
      "   24.  \"f_2\" 275.789339 \n",
      "   25.  \"f_1\" 112.925649 \n",
      "\n",
      "\n",
      "\n",
      "Loss: LAMBDA_MART_NDCG5\n",
      "Validation loss value: -0.466316\n",
      "Number of trees per iteration: 1\n",
      "Node format: NOT_SET\n",
      "Number of trees: 22\n",
      "Total number of nodes: 750\n",
      "\n",
      "Number of nodes by tree:\n",
      "Count: 22 Average: 34.0909 StdDev: 5.17783\n",
      "Min: 25 Max: 49 Ignored: 0\n",
      "----------------------------------------------\n",
      "[ 25, 26) 1   4.55%   4.55% ##\n",
      "[ 26, 27) 0   0.00%   4.55%\n",
      "[ 27, 28) 2   9.09%  13.64% ###\n",
      "[ 28, 30) 2   9.09%  22.73% ###\n",
      "[ 30, 31) 0   0.00%  22.73%\n",
      "[ 31, 32) 3  13.64%  36.36% #####\n",
      "[ 32, 33) 0   0.00%  36.36%\n",
      "[ 33, 35) 1   4.55%  40.91% ##\n",
      "[ 35, 36) 5  22.73%  63.64% ########\n",
      "[ 36, 37) 0   0.00%  63.64%\n",
      "[ 37, 38) 6  27.27%  90.91% ##########\n",
      "[ 38, 40) 0   0.00%  90.91%\n",
      "[ 40, 41) 0   0.00%  90.91%\n",
      "[ 41, 42) 1   4.55%  95.45% ##\n",
      "[ 42, 43) 0   0.00%  95.45%\n",
      "[ 43, 45) 0   0.00%  95.45%\n",
      "[ 45, 46) 0   0.00%  95.45%\n",
      "[ 46, 47) 0   0.00%  95.45%\n",
      "[ 47, 48) 0   0.00%  95.45%\n",
      "[ 48, 49] 1   4.55% 100.00% ##\n",
      "\n",
      "Depth by leafs:\n",
      "Count: 386 Average: 4.46891 StdDev: 0.857951\n",
      "Min: 2 Max: 5 Ignored: 0\n",
      "----------------------------------------------\n",
      "[ 2, 3)  19   4.92%   4.92% #\n",
      "[ 3, 4)  37   9.59%  14.51% #\n",
      "[ 4, 5)  74  19.17%  33.68% ###\n",
      "[ 5, 5] 256  66.32% 100.00% ##########\n",
      "\n",
      "Number of training obs by leaf:\n",
      "Count: 386 Average: 835.088 StdDev: 2935.02\n",
      "Min: 5 Max: 14050 Ignored: 0\n",
      "----------------------------------------------\n",
      "[     5,   707) 347  89.90%  89.90% ##########\n",
      "[   707,  1409)  11   2.85%  92.75%\n",
      "[  1409,  2111)   1   0.26%  93.01%\n",
      "[  2111,  2814)   0   0.00%  93.01%\n",
      "[  2814,  3516)   0   0.00%  93.01%\n",
      "[  3516,  4218)   4   1.04%  94.04%\n",
      "[  4218,  4921)   1   0.26%  94.30%\n",
      "[  4921,  5623)   0   0.00%  94.30%\n",
      "[  5623,  6325)   0   0.00%  94.30%\n",
      "[  6325,  7028)   0   0.00%  94.30%\n",
      "[  7028,  7730)   1   0.26%  94.56%\n",
      "[  7730,  8432)   0   0.00%  94.56%\n",
      "[  8432,  9134)   0   0.00%  94.56%\n",
      "[  9134,  9837)   1   0.26%  94.82%\n",
      "[  9837, 10539)   3   0.78%  95.60%\n",
      "[ 10539, 11241)   0   0.00%  95.60%\n",
      "[ 11241, 11944)   0   0.00%  95.60%\n",
      "[ 11944, 12646)   0   0.00%  95.60%\n",
      "[ 12646, 13348)   9   2.33%  97.93%\n",
      "[ 13348, 14050]   8   2.07% 100.00%\n",
      "\n",
      "Attribute in nodes:\n",
      "\t40 : f_23 [NUMERICAL]\n",
      "\t35 : f_8 [NUMERICAL]\n",
      "\t29 : f_12 [NUMERICAL]\n",
      "\t28 : f_10 [NUMERICAL]\n",
      "\t24 : f_9 [NUMERICAL]\n",
      "\t22 : f_19 [NUMERICAL]\n",
      "\t17 : f_4 [NUMERICAL]\n",
      "\t17 : f_18 [NUMERICAL]\n",
      "\t16 : f_25 [NUMERICAL]\n",
      "\t16 : f_22 [NUMERICAL]\n",
      "\t15 : f_3 [NUMERICAL]\n",
      "\t13 : f_21 [NUMERICAL]\n",
      "\t13 : f_17 [NUMERICAL]\n",
      "\t12 : f_24 [NUMERICAL]\n",
      "\t12 : f_20 [NUMERICAL]\n",
      "\t9 : f_6 [NUMERICAL]\n",
      "\t8 : f_5 [NUMERICAL]\n",
      "\t8 : f_16 [NUMERICAL]\n",
      "\t8 : f_15 [NUMERICAL]\n",
      "\t6 : f_11 [NUMERICAL]\n",
      "\t5 : f_14 [NUMERICAL]\n",
      "\t4 : f_7 [NUMERICAL]\n",
      "\t4 : f_13 [NUMERICAL]\n",
      "\t2 : f_2 [NUMERICAL]\n",
      "\t1 : f_1 [NUMERICAL]\n",
      "\n",
      "Attribute in nodes with depth <= 0:\n",
      "\t9 : f_8 [NUMERICAL]\n",
      "\t4 : f_23 [NUMERICAL]\n",
      "\t3 : f_4 [NUMERICAL]\n",
      "\t3 : f_10 [NUMERICAL]\n",
      "\t2 : f_22 [NUMERICAL]\n",
      "\t1 : f_21 [NUMERICAL]\n",
      "\n",
      "Attribute in nodes with depth <= 1:\n",
      "\t14 : f_8 [NUMERICAL]\n",
      "\t9 : f_23 [NUMERICAL]\n",
      "\t9 : f_10 [NUMERICAL]\n",
      "\t6 : f_9 [NUMERICAL]\n",
      "\t5 : f_22 [NUMERICAL]\n",
      "\t5 : f_19 [NUMERICAL]\n",
      "\t3 : f_4 [NUMERICAL]\n",
      "\t3 : f_18 [NUMERICAL]\n",
      "\t3 : f_16 [NUMERICAL]\n",
      "\t3 : f_15 [NUMERICAL]\n",
      "\t1 : f_3 [NUMERICAL]\n",
      "\t1 : f_25 [NUMERICAL]\n",
      "\t1 : f_21 [NUMERICAL]\n",
      "\t1 : f_13 [NUMERICAL]\n",
      "\t1 : f_12 [NUMERICAL]\n",
      "\t1 : f_11 [NUMERICAL]\n",
      "\n",
      "Attribute in nodes with depth <= 2:\n",
      "\t22 : f_23 [NUMERICAL]\n",
      "\t21 : f_8 [NUMERICAL]\n",
      "\t12 : f_10 [NUMERICAL]\n",
      "\t11 : f_19 [NUMERICAL]\n",
      "\t10 : f_9 [NUMERICAL]\n",
      "\t9 : f_18 [NUMERICAL]\n",
      "\t8 : f_22 [NUMERICAL]\n",
      "\t8 : f_12 [NUMERICAL]\n",
      "\t6 : f_25 [NUMERICAL]\n",
      "\t4 : f_4 [NUMERICAL]\n",
      "\t4 : f_16 [NUMERICAL]\n",
      "\t4 : f_15 [NUMERICAL]\n",
      "\t3 : f_3 [NUMERICAL]\n",
      "\t3 : f_20 [NUMERICAL]\n",
      "\t2 : f_24 [NUMERICAL]\n",
      "\t2 : f_21 [NUMERICAL]\n",
      "\t2 : f_17 [NUMERICAL]\n",
      "\t2 : f_13 [NUMERICAL]\n",
      "\t2 : f_11 [NUMERICAL]\n",
      "\n",
      "Attribute in nodes with depth <= 3:\n",
      "\t32 : f_8 [NUMERICAL]\n",
      "\t32 : f_23 [NUMERICAL]\n",
      "\t18 : f_10 [NUMERICAL]\n",
      "\t15 : f_19 [NUMERICAL]\n",
      "\t15 : f_18 [NUMERICAL]\n",
      "\t15 : f_12 [NUMERICAL]\n",
      "\t14 : f_22 [NUMERICAL]\n",
      "\t13 : f_9 [NUMERICAL]\n",
      "\t11 : f_21 [NUMERICAL]\n",
      "\t10 : f_25 [NUMERICAL]\n",
      "\t8 : f_4 [NUMERICAL]\n",
      "\t8 : f_20 [NUMERICAL]\n",
      "\t7 : f_17 [NUMERICAL]\n",
      "\t6 : f_16 [NUMERICAL]\n",
      "\t5 : f_5 [NUMERICAL]\n",
      "\t4 : f_3 [NUMERICAL]\n",
      "\t4 : f_24 [NUMERICAL]\n",
      "\t4 : f_15 [NUMERICAL]\n",
      "\t4 : f_11 [NUMERICAL]\n",
      "\t3 : f_7 [NUMERICAL]\n",
      "\t3 : f_13 [NUMERICAL]\n",
      "\t2 : f_6 [NUMERICAL]\n",
      "\t2 : f_2 [NUMERICAL]\n",
      "\t1 : f_14 [NUMERICAL]\n",
      "\n",
      "Attribute in nodes with depth <= 5:\n",
      "\t40 : f_23 [NUMERICAL]\n",
      "\t35 : f_8 [NUMERICAL]\n",
      "\t29 : f_12 [NUMERICAL]\n",
      "\t28 : f_10 [NUMERICAL]\n",
      "\t24 : f_9 [NUMERICAL]\n",
      "\t22 : f_19 [NUMERICAL]\n",
      "\t17 : f_4 [NUMERICAL]\n",
      "\t17 : f_18 [NUMERICAL]\n",
      "\t16 : f_25 [NUMERICAL]\n",
      "\t16 : f_22 [NUMERICAL]\n",
      "\t15 : f_3 [NUMERICAL]\n",
      "\t13 : f_21 [NUMERICAL]\n",
      "\t13 : f_17 [NUMERICAL]\n",
      "\t12 : f_24 [NUMERICAL]\n",
      "\t12 : f_20 [NUMERICAL]\n",
      "\t9 : f_6 [NUMERICAL]\n",
      "\t8 : f_5 [NUMERICAL]\n",
      "\t8 : f_16 [NUMERICAL]\n",
      "\t8 : f_15 [NUMERICAL]\n",
      "\t6 : f_11 [NUMERICAL]\n",
      "\t5 : f_14 [NUMERICAL]\n",
      "\t4 : f_7 [NUMERICAL]\n",
      "\t4 : f_13 [NUMERICAL]\n",
      "\t2 : f_2 [NUMERICAL]\n",
      "\t1 : f_1 [NUMERICAL]\n",
      "\n",
      "Condition type in nodes:\n",
      "\t364 : HigherCondition\n",
      "Condition type in nodes with depth <= 0:\n",
      "\t22 : HigherCondition\n",
      "Condition type in nodes with depth <= 1:\n",
      "\t66 : HigherCondition\n",
      "Condition type in nodes with depth <= 2:\n",
      "\t135 : HigherCondition\n",
      "Condition type in nodes with depth <= 3:\n",
      "\t236 : HigherCondition\n",
      "Condition type in nodes with depth <= 5:\n",
      "\t364 : HigherCondition\n",
      "\n",
      "Training logs:\n",
      "Number of iteration to final model: 22\n",
      "\tIter:1 train-loss:-0.346253 valid-loss:-0.321922  train-NDCG@5:0.346253 valid-NDCG@5:0.321922\n",
      "\tIter:2 train-loss:-0.405369 valid-loss:-0.324959  train-NDCG@5:0.405369 valid-NDCG@5:0.324959\n",
      "\tIter:3 train-loss:-0.409570 valid-loss:-0.375519  train-NDCG@5:0.409570 valid-NDCG@5:0.375519\n",
      "\tIter:4 train-loss:-0.422281 valid-loss:-0.365376  train-NDCG@5:0.422281 valid-NDCG@5:0.365376\n",
      "\tIter:5 train-loss:-0.458536 valid-loss:-0.303891  train-NDCG@5:0.458536 valid-NDCG@5:0.303891\n",
      "\tIter:6 train-loss:-0.457078 valid-loss:-0.312787  train-NDCG@5:0.457078 valid-NDCG@5:0.312787\n",
      "\tIter:16 train-loss:-0.520730 valid-loss:-0.420741  train-NDCG@5:0.520730 valid-NDCG@5:0.420741\n",
      "\tIter:26 train-loss:-0.550882 valid-loss:-0.456523  train-NDCG@5:0.550882 valid-NDCG@5:0.456523\n",
      "\tIter:36 train-loss:-0.574290 valid-loss:-0.423685  train-NDCG@5:0.574290 valid-NDCG@5:0.423685\n",
      "\tIter:46 train-loss:-0.610965 valid-loss:-0.395845  train-NDCG@5:0.610965 valid-NDCG@5:0.395845\n",
      "\n"
     ]
    }
   ],
   "source": [
    "%set_cell_height 400\n",
    "model.summary()"
   ]
  },
  {
   "cell_type": "markdown",
   "metadata": {
    "id": "gCWwJwkw9aHB"
   },
   "source": [
    "And if you are curious, you can also plot the model:"
   ]
  },
  {
   "cell_type": "code",
   "execution_count": 14,
   "metadata": {
    "execution": {
     "iopub.execute_input": "2023-01-25T12:35:42.052515Z",
     "iopub.status.busy": "2023-01-25T12:35:42.052306Z",
     "iopub.status.idle": "2023-01-25T12:35:42.058993Z",
     "shell.execute_reply": "2023-01-25T12:35:42.058452Z"
    },
    "id": "8wdUhz9X9cbI"
   },
   "outputs": [
    {
     "data": {
      "text/html": [
       "\n",
       "<script src=\"https://d3js.org/d3.v6.min.js\"></script>\n",
       "<div id=\"tree_plot_bfe739ff80ef425ab72d593ada430356\"></div>\n",
       "<script>\n",
       "/*\n",
       " * Copyright 2021 Google LLC.\n",
       " * Licensed under the Apache License, Version 2.0 (the \"License\");\n",
       " * you may not use this file except in compliance with the License.\n",
       " * You may obtain a copy of the License at\n",
       " *\n",
       " *     https://www.apache.org/licenses/LICENSE-2.0\n",
       " *\n",
       " * Unless required by applicable law or agreed to in writing, software\n",
       " * distributed under the License is distributed on an \"AS IS\" BASIS,\n",
       " * WITHOUT WARRANTIES OR CONDITIONS OF ANY KIND, either express or implied.\n",
       " * See the License for the specific language governing permissions and\n",
       " * limitations under the License.\n",
       " */\n",
       "\n",
       "/**\n",
       " *  Plotting of decision trees generated by TF-DF.\n",
       " *\n",
       " *  A tree is a recursive structure of node objects.\n",
       " *  A node contains one or more of the following components:\n",
       " *\n",
       " *    - A value: Representing the output of the node. If the node is not a leaf,\n",
       " *      the value is only present for analysis i.e. it is not used for\n",
       " *      predictions.\n",
       " *\n",
       " *    - A condition : For non-leaf nodes, the condition (also known as split)\n",
       " *      defines a binary test to branch to the positive or negative child.\n",
       " *\n",
       " *    - An explanation: Generally a plot showing the relation between the label\n",
       " *      and the condition to give insights about the effect of the condition.\n",
       " *\n",
       " *    - Two children : For non-leaf nodes, the children nodes. The first\n",
       " *      children (i.e. \"node.children[0]\") is the negative children (drawn in\n",
       " *      red). The second children is the positive one (drawn in green).\n",
       " *\n",
       " */\n",
       "\n",
       "/**\n",
       " * Plots a single decision tree into a DOM element.\n",
       " * @param {!options} options Dictionary of configurations.\n",
       " * @param {!tree} raw_tree Recursive tree structure.\n",
       " * @param {string} canvas_id Id of the output dom element.\n",
       " */\n",
       "function display_tree(options, raw_tree, canvas_id) {\n",
       "  console.log(options);\n",
       "\n",
       "  // Determine the node placement.\n",
       "  const tree_struct = d3.tree().nodeSize(\n",
       "      [options.node_y_offset, options.node_x_offset])(d3.hierarchy(raw_tree));\n",
       "\n",
       "  // Boundaries of the node placement.\n",
       "  let x_min = Infinity;\n",
       "  let x_max = -x_min;\n",
       "  let y_min = Infinity;\n",
       "  let y_max = -x_min;\n",
       "\n",
       "  tree_struct.each(d => {\n",
       "    if (d.x > x_max) x_max = d.x;\n",
       "    if (d.x < x_min) x_min = d.x;\n",
       "    if (d.y > y_max) y_max = d.y;\n",
       "    if (d.y < y_min) y_min = d.y;\n",
       "  });\n",
       "\n",
       "  // Size of the plot.\n",
       "  const width = y_max - y_min + options.node_x_size + options.margin * 2;\n",
       "  const height = x_max - x_min + options.node_y_size + options.margin * 2 +\n",
       "      options.node_y_offset - options.node_y_size;\n",
       "\n",
       "  const plot = d3.select(canvas_id);\n",
       "\n",
       "  // Tool tip\n",
       "  options.tooltip = plot.append('div')\n",
       "                        .attr('width', 100)\n",
       "                        .attr('height', 100)\n",
       "                        .style('padding', '4px')\n",
       "                        .style('background', '#fff')\n",
       "                        .style('box-shadow', '4px 4px 0px rgba(0,0,0,0.1)')\n",
       "                        .style('border', '1px solid black')\n",
       "                        .style('font-family', 'sans-serif')\n",
       "                        .style('font-size', options.font_size)\n",
       "                        .style('position', 'absolute')\n",
       "                        .style('z-index', '10')\n",
       "                        .attr('pointer-events', 'none')\n",
       "                        .style('display', 'none');\n",
       "\n",
       "  // Create canvas\n",
       "  const svg = plot.append('svg').attr('width', width).attr('height', height);\n",
       "  const graph =\n",
       "      svg.style('overflow', 'visible')\n",
       "          .append('g')\n",
       "          .attr('font-family', 'sans-serif')\n",
       "          .attr('font-size', options.font_size)\n",
       "          .attr(\n",
       "              'transform',\n",
       "              () => `translate(${options.margin},${\n",
       "                  - x_min + options.node_y_offset / 2 + options.margin})`);\n",
       "\n",
       "  // Plot bounding box.\n",
       "  if (options.show_plot_bounding_box) {\n",
       "    svg.append('rect')\n",
       "        .attr('width', width)\n",
       "        .attr('height', height)\n",
       "        .attr('fill', 'none')\n",
       "        .attr('stroke-width', 1.0)\n",
       "        .attr('stroke', 'black');\n",
       "  }\n",
       "\n",
       "  // Draw the edges.\n",
       "  display_edges(options, graph, tree_struct);\n",
       "\n",
       "  // Draw the nodes.\n",
       "  display_nodes(options, graph, tree_struct);\n",
       "}\n",
       "\n",
       "/**\n",
       " * Draw the nodes of the tree.\n",
       " * @param {!options} options Dictionary of configurations.\n",
       " * @param {!graph} graph D3 search handle containing the graph.\n",
       " * @param {!tree_struct} tree_struct Structure of the tree (node placement,\n",
       " *     data, etc.).\n",
       " */\n",
       "function display_nodes(options, graph, tree_struct) {\n",
       "  const nodes = graph.append('g')\n",
       "                    .selectAll('g')\n",
       "                    .data(tree_struct.descendants())\n",
       "                    .join('g')\n",
       "                    .attr('transform', d => `translate(${d.y},${d.x})`);\n",
       "\n",
       "  nodes.append('rect')\n",
       "      .attr('x', 0.5)\n",
       "      .attr('y', 0.5)\n",
       "      .attr('width', options.node_x_size)\n",
       "      .attr('height', options.node_y_size)\n",
       "      .attr('stroke', 'lightgrey')\n",
       "      .attr('stroke-width', 1)\n",
       "      .attr('fill', 'white')\n",
       "      .attr('y', -options.node_y_size / 2);\n",
       "\n",
       "  // Brackets on the right of condition nodes without children.\n",
       "  non_leaf_node_without_children =\n",
       "      nodes.filter(node => node.data.condition != null && node.children == null)\n",
       "          .append('g')\n",
       "          .attr('transform', `translate(${options.node_x_size},0)`);\n",
       "\n",
       "  non_leaf_node_without_children.append('path')\n",
       "      .attr('d', 'M0,0 C 10,0 0,10 10,10')\n",
       "      .attr('fill', 'none')\n",
       "      .attr('stroke-width', 1.0)\n",
       "      .attr('stroke', '#F00');\n",
       "\n",
       "  non_leaf_node_without_children.append('path')\n",
       "      .attr('d', 'M0,0 C 10,0 0,-10 10,-10')\n",
       "      .attr('fill', 'none')\n",
       "      .attr('stroke-width', 1.0)\n",
       "      .attr('stroke', '#0F0');\n",
       "\n",
       "  const node_content = nodes.append('g').attr(\n",
       "      'transform',\n",
       "      `translate(0,${options.node_padding - options.node_y_size / 2})`);\n",
       "\n",
       "  node_content.append(node => create_node_element(options, node));\n",
       "}\n",
       "\n",
       "/**\n",
       " * Creates the D3 content for a single node.\n",
       " * @param {!options} options Dictionary of configurations.\n",
       " * @param {!node} node Node to draw.\n",
       " * @return {!d3} D3 content.\n",
       " */\n",
       "function create_node_element(options, node) {\n",
       "  // Output accumulator.\n",
       "  let output = {\n",
       "    // Content to draw.\n",
       "    content: d3.create('svg:g'),\n",
       "    // Vertical offset to the next element to draw.\n",
       "    vertical_offset: 0\n",
       "  };\n",
       "\n",
       "  // Conditions.\n",
       "  if (node.data.condition != null) {\n",
       "    display_condition(options, node.data.condition, output);\n",
       "  }\n",
       "\n",
       "  // Values.\n",
       "  if (node.data.value != null) {\n",
       "    display_value(options, node.data.value, output);\n",
       "  }\n",
       "\n",
       "  // Explanations.\n",
       "  if (node.data.explanation != null) {\n",
       "    display_explanation(options, node.data.explanation, output);\n",
       "  }\n",
       "\n",
       "  return output.content.node();\n",
       "}\n",
       "\n",
       "\n",
       "/**\n",
       " * Adds a single line of text inside of a node.\n",
       " * @param {!options} options Dictionary of configurations.\n",
       " * @param {string} text Text to display.\n",
       " * @param {!output} output Output display accumulator.\n",
       " */\n",
       "function display_node_text(options, text, output) {\n",
       "  output.content.append('text')\n",
       "      .attr('x', options.node_padding)\n",
       "      .attr('y', output.vertical_offset)\n",
       "      .attr('alignment-baseline', 'hanging')\n",
       "      .text(text);\n",
       "  output.vertical_offset += 10;\n",
       "}\n",
       "\n",
       "/**\n",
       " * Adds a single line of text inside of a node with a tooltip.\n",
       " * @param {!options} options Dictionary of configurations.\n",
       " * @param {string} text Text to display.\n",
       " * @param {string} tooltip Text in the Tooltip.\n",
       " * @param {!output} output Output display accumulator.\n",
       " */\n",
       "function display_node_text_with_tooltip(options, text, tooltip, output) {\n",
       "  const item = output.content.append('text')\n",
       "                   .attr('x', options.node_padding)\n",
       "                   .attr('alignment-baseline', 'hanging')\n",
       "                   .text(text);\n",
       "\n",
       "  add_tooltip(options, item, () => tooltip);\n",
       "  output.vertical_offset += 10;\n",
       "}\n",
       "\n",
       "/**\n",
       " * Adds a tooltip to a dom element.\n",
       " * @param {!options} options Dictionary of configurations.\n",
       " * @param {!dom} target Dom element to equip with a tooltip.\n",
       " * @param {!func} get_content Generates the html content of the tooltip.\n",
       " */\n",
       "function add_tooltip(options, target, get_content) {\n",
       "  function show(d) {\n",
       "    options.tooltip.style('display', 'block');\n",
       "    options.tooltip.html(get_content());\n",
       "  }\n",
       "\n",
       "  function hide(d) {\n",
       "    options.tooltip.style('display', 'none');\n",
       "  }\n",
       "\n",
       "  function move(d) {\n",
       "    options.tooltip.style('display', 'block');\n",
       "    options.tooltip.style('left', (d.pageX + 5) + 'px');\n",
       "    options.tooltip.style('top', d.pageY + 'px');\n",
       "  }\n",
       "\n",
       "  target.on('mouseover', show);\n",
       "  target.on('mouseout', hide);\n",
       "  target.on('mousemove', move);\n",
       "}\n",
       "\n",
       "/**\n",
       " * Adds a condition inside of a node.\n",
       " * @param {!options} options Dictionary of configurations.\n",
       " * @param {!condition} condition Condition to display.\n",
       " * @param {!output} output Output display accumulator.\n",
       " */\n",
       "function display_condition(options, condition, output) {\n",
       "  threshold_format = d3.format('r');\n",
       "\n",
       "  if (condition.type === 'IS_MISSING') {\n",
       "    display_node_text(options, `${condition.attribute} is missing`, output);\n",
       "    return;\n",
       "  }\n",
       "\n",
       "  if (condition.type === 'IS_TRUE') {\n",
       "    display_node_text(options, `${condition.attribute} is true`, output);\n",
       "    return;\n",
       "  }\n",
       "\n",
       "  if (condition.type === 'NUMERICAL_IS_HIGHER_THAN') {\n",
       "    format = d3.format('r');\n",
       "    display_node_text(\n",
       "        options,\n",
       "        `${condition.attribute} >= ${threshold_format(condition.threshold)}`,\n",
       "        output);\n",
       "    return;\n",
       "  }\n",
       "\n",
       "  if (condition.type === 'CATEGORICAL_IS_IN') {\n",
       "    display_node_text_with_tooltip(\n",
       "        options, `${condition.attribute} in [...]`,\n",
       "        `${condition.attribute} in [${condition.mask}]`, output);\n",
       "    return;\n",
       "  }\n",
       "\n",
       "  if (condition.type === 'CATEGORICAL_SET_CONTAINS') {\n",
       "    display_node_text_with_tooltip(\n",
       "        options, `${condition.attribute} intersect [...]`,\n",
       "        `${condition.attribute} intersect [${condition.mask}]`, output);\n",
       "    return;\n",
       "  }\n",
       "\n",
       "  if (condition.type === 'NUMERICAL_SPARSE_OBLIQUE') {\n",
       "    display_node_text_with_tooltip(\n",
       "        options, `Sparse oblique split...`,\n",
       "        `[${condition.attributes}]*[${condition.weights}]>=${\n",
       "            threshold_format(condition.threshold)}`,\n",
       "        output);\n",
       "    return;\n",
       "  }\n",
       "\n",
       "  display_node_text(\n",
       "      options, `Non supported condition ${condition.type}`, output);\n",
       "}\n",
       "\n",
       "/**\n",
       " * Adds a value inside of a node.\n",
       " * @param {!options} options Dictionary of configurations.\n",
       " * @param {!value} value Value to display.\n",
       " * @param {!output} output Output display accumulator.\n",
       " */\n",
       "function display_value(options, value, output) {\n",
       "  if (value.type === 'PROBABILITY') {\n",
       "    const left_margin = 0;\n",
       "    const right_margin = 50;\n",
       "    const plot_width = options.node_x_size - options.node_padding * 2 -\n",
       "        left_margin - right_margin;\n",
       "\n",
       "    let cusum = Array.from(d3.cumsum(value.distribution));\n",
       "    cusum.unshift(0);\n",
       "    const distribution_plot = output.content.append('g').attr(\n",
       "        'transform', `translate(0,${output.vertical_offset + 0.5})`);\n",
       "\n",
       "    distribution_plot.selectAll('rect')\n",
       "        .data(value.distribution)\n",
       "        .join('rect')\n",
       "        .attr('height', 10)\n",
       "        .attr(\n",
       "            'x',\n",
       "            (d, i) =>\n",
       "                (cusum[i] * plot_width + left_margin + options.node_padding))\n",
       "        .attr('width', (d, i) => d * plot_width)\n",
       "        .style('fill', (d, i) => d3.schemeSet1[i]);\n",
       "\n",
       "    const num_examples =\n",
       "        output.content.append('g')\n",
       "            .attr('transform', `translate(0,${output.vertical_offset})`)\n",
       "            .append('text')\n",
       "            .attr('x', options.node_x_size - options.node_padding)\n",
       "            .attr('alignment-baseline', 'hanging')\n",
       "            .attr('text-anchor', 'end')\n",
       "            .text(`(${value.num_examples})`);\n",
       "\n",
       "    const distribution_details = d3.create('ul');\n",
       "    distribution_details.selectAll('li')\n",
       "        .data(value.distribution)\n",
       "        .join('li')\n",
       "        .append('span')\n",
       "        .text(\n",
       "            (d, i) =>\n",
       "                'class ' + i + ': ' + d3.format('.3%')(value.distribution[i]));\n",
       "\n",
       "    add_tooltip(options, distribution_plot, () => distribution_details.html());\n",
       "    add_tooltip(options, num_examples, () => 'Number of examples');\n",
       "\n",
       "    output.vertical_offset += 10;\n",
       "    return;\n",
       "  }\n",
       "\n",
       "  if (value.type === 'REGRESSION') {\n",
       "    display_node_text(\n",
       "        options,\n",
       "        'value: ' + d3.format('r')(value.value) + ` (` +\n",
       "            d3.format('.6')(value.num_examples) + `)`,\n",
       "        output);\n",
       "    return;\n",
       "  }\n",
       "\n",
       "  display_node_text(options, `Non supported value ${value.type}`, output);\n",
       "}\n",
       "\n",
       "/**\n",
       " * Adds an explanation inside of a node.\n",
       " * @param {!options} options Dictionary of configurations.\n",
       " * @param {!explanation} explanation Explanation to display.\n",
       " * @param {!output} output Output display accumulator.\n",
       " */\n",
       "function display_explanation(options, explanation, output) {\n",
       "  // Margin before the explanation.\n",
       "  output.vertical_offset += 10;\n",
       "\n",
       "  display_node_text(\n",
       "      options, `Non supported explanation ${explanation.type}`, output);\n",
       "}\n",
       "\n",
       "\n",
       "/**\n",
       " * Draw the edges of the tree.\n",
       " * @param {!options} options Dictionary of configurations.\n",
       " * @param {!graph} graph D3 search handle containing the graph.\n",
       " * @param {!tree_struct} tree_struct Structure of the tree (node placement,\n",
       " *     data, etc.).\n",
       " */\n",
       "function display_edges(options, graph, tree_struct) {\n",
       "  // Draw an edge between a parent and a child node with a bezier.\n",
       "  function draw_single_edge(d) {\n",
       "    return 'M' + (d.source.y + options.node_x_size) + ',' + d.source.x + ' C' +\n",
       "        (d.source.y + options.node_x_size + options.edge_rounding) + ',' +\n",
       "        d.source.x + ' ' + (d.target.y - options.edge_rounding) + ',' +\n",
       "        d.target.x + ' ' + d.target.y + ',' + d.target.x;\n",
       "  }\n",
       "\n",
       "  graph.append('g')\n",
       "      .attr('fill', 'none')\n",
       "      .attr('stroke-width', 1.2)\n",
       "      .selectAll('path')\n",
       "      .data(tree_struct.links())\n",
       "      .join('path')\n",
       "      .attr('d', draw_single_edge)\n",
       "      .attr(\n",
       "          'stroke', d => (d.target === d.source.children[0]) ? '#0F0' : '#F00');\n",
       "}\n",
       "\n",
       "display_tree({\"margin\": 10, \"node_x_size\": 160, \"node_y_size\": 28, \"node_x_offset\": 180, \"node_y_offset\": 33, \"font_size\": 10, \"edge_rounding\": 20, \"node_padding\": 2, \"show_plot_bounding_box\": false}, {\"value\": {\"type\": \"REGRESSION\", \"value\": 9.917594745445513e-09, \"num_examples\": 14652.0, \"standard_deviation\": 0.9945892327436529}, \"condition\": {\"type\": \"NUMERICAL_IS_HIGHER_THAN\", \"attribute\": \"f_22\", \"threshold\": 3.7139534950256348}, \"children\": [{\"value\": {\"type\": \"REGRESSION\", \"value\": 0.19086410105228424, \"num_examples\": 12.0, \"standard_deviation\": 5.5904917444181725}, \"condition\": {\"type\": \"NUMERICAL_IS_HIGHER_THAN\", \"attribute\": \"f_11\", \"threshold\": 13.5}, \"children\": [{\"value\": {\"type\": \"REGRESSION\", \"value\": 0.19848965108394623, \"num_examples\": 5.0, \"standard_deviation\": 7.360514112714771}}, {\"value\": {\"type\": \"REGRESSION\", \"value\": 0.06438419222831726, \"num_examples\": 7.0, \"standard_deviation\": 0.2416504203407082}}]}, {\"value\": {\"type\": \"REGRESSION\", \"value\": -0.0017232653917744756, \"num_examples\": 14640.0, \"standard_deviation\": 0.9792775250367268}, \"condition\": {\"type\": \"NUMERICAL_IS_HIGHER_THAN\", \"attribute\": \"f_10\", \"threshold\": 5.778615951538086}, \"children\": [{\"value\": {\"type\": \"REGRESSION\", \"value\": 0.05429728329181671, \"num_examples\": 4611.0, \"standard_deviation\": 1.3276927539201628}, \"condition\": {\"type\": \"NUMERICAL_IS_HIGHER_THAN\", \"attribute\": \"f_23\", \"threshold\": -3.0173001289367676}, \"children\": [{\"value\": {\"type\": \"REGRESSION\", \"value\": 0.15286970138549805, \"num_examples\": 204.0, \"standard_deviation\": 2.8079979669090487}, \"condition\": {\"type\": \"NUMERICAL_IS_HIGHER_THAN\", \"attribute\": \"f_8\", \"threshold\": 0.8230571746826172}}, {\"value\": {\"type\": \"REGRESSION\", \"value\": 0.04297270625829697, \"num_examples\": 4407.0, \"standard_deviation\": 1.2114437515215137}, \"condition\": {\"type\": \"NUMERICAL_IS_HIGHER_THAN\", \"attribute\": \"f_10\", \"threshold\": 5.790204048156738}}]}, {\"value\": {\"type\": \"REGRESSION\", \"value\": -0.04248633608222008, \"num_examples\": 10029.0, \"standard_deviation\": 0.7641284085139393}, \"condition\": {\"type\": \"NUMERICAL_IS_HIGHER_THAN\", \"attribute\": \"f_25\", \"threshold\": -3.5562949180603027}, \"children\": [{\"value\": {\"type\": \"REGRESSION\", \"value\": 0.05617285519838333, \"num_examples\": 475.0, \"standard_deviation\": 0.9082325938565097}, \"condition\": {\"type\": \"NUMERICAL_IS_HIGHER_THAN\", \"attribute\": \"f_24\", \"threshold\": -3.797060012817383}}, {\"value\": {\"type\": \"REGRESSION\", \"value\": -0.04807015508413315, \"num_examples\": 9554.0, \"standard_deviation\": 0.7558340201557954}, \"condition\": {\"type\": \"NUMERICAL_IS_HIGHER_THAN\", \"attribute\": \"f_19\", \"threshold\": 27.160228729248047}}]}]}]}, \"#tree_plot_bfe739ff80ef425ab72d593ada430356\")\n",
       "</script>\n"
      ],
      "text/plain": [
       "<IPython.core.display.HTML object>"
      ]
     },
     "execution_count": 14,
     "metadata": {},
     "output_type": "execute_result"
    }
   ],
   "source": [
    "tfdf.model_plotter.plot_model_in_colab(model, tree_idx=0, max_depth=3)"
   ]
  }
 ],
 "metadata": {
  "colab": {
   "name": "ranking_colab.ipynb",
   "provenance": [],
   "toc_visible": true
  },
  "kernelspec": {
   "display_name": "Python 3",
   "name": "python3"
  },
  "language_info": {
   "codemirror_mode": {
    "name": "ipython",
    "version": 3
   },
   "file_extension": ".py",
   "mimetype": "text/x-python",
   "name": "python",
   "nbconvert_exporter": "python",
   "pygments_lexer": "ipython3",
   "version": "3.9.16"
  }
 },
 "nbformat": 4,
 "nbformat_minor": 0
}
