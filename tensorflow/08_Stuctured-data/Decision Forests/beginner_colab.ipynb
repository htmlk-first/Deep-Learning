{
 "cells": [
  {
   "cell_type": "markdown",
   "metadata": {
    "id": "Tce3stUlHN0L"
   },
   "source": [
    "##### Copyright 2022 The TensorFlow Authors."
   ]
  },
  {
   "cell_type": "code",
   "execution_count": 1,
   "metadata": {
    "cellView": "form",
    "execution": {
     "iopub.execute_input": "2023-01-25T12:07:56.981839Z",
     "iopub.status.busy": "2023-01-25T12:07:56.981476Z",
     "iopub.status.idle": "2023-01-25T12:07:56.984956Z",
     "shell.execute_reply": "2023-01-25T12:07:56.984412Z"
    },
    "id": "tuOe1ymfHZPu"
   },
   "outputs": [],
   "source": [
    "#@title Licensed under the Apache License, Version 2.0 (the \"License\");\n",
    "# you may not use this file except in compliance with the License.\n",
    "# You may obtain a copy of the License at\n",
    "#\n",
    "# https://www.apache.org/licenses/LICENSE-2.0\n",
    "#\n",
    "# Unless required by applicable law or agreed to in writing, software\n",
    "# distributed under the License is distributed on an \"AS IS\" BASIS,\n",
    "# WITHOUT WARRANTIES OR CONDITIONS OF ANY KIND, either express or implied.\n",
    "# See the License for the specific language governing permissions and\n",
    "# limitations under the License."
   ]
  },
  {
   "cell_type": "markdown",
   "metadata": {
    "id": "36EdAGhThQov"
   },
   "source": [
    "# Build, train and evaluate models with TensorFlow Decision Forests\n",
    "\n",
    "<table class=\"tfo-notebook-buttons\" align=\"left\">\n",
    "  <td>\n",
    "    <a target=\"_blank\" href=\"https://www.tensorflow.org/decision_forests/tutorials/beginner_colab\"><img src=\"https://www.tensorflow.org/images/tf_logo_32px.png\" />View on TensorFlow.org</a>\n",
    "  </td>\n",
    "  <td>\n",
    "    <a target=\"_blank\" href=\"https://colab.research.google.com/github/tensorflow/decision-forests/blob/main/documentation/tutorials/beginner_colab.ipynb\"><img src=\"https://www.tensorflow.org/images/colab_logo_32px.png\" />Run in Google Colab</a>\n",
    "  </td>\n",
    "  <td>\n",
    "    <a target=\"_blank\" href=\"https://github.com/tensorflow/decision-forests/blob/main/documentation/tutorials/beginner_colab.ipynb\"><img src=\"https://www.tensorflow.org/images/GitHub-Mark-32px.png\" />View on GitHub</a>\n",
    "  </td>\n",
    "  <td>\n",
    "    <a href=\"https://storage.googleapis.com/tensorflow_docs/decision-forests/documentation/tutorials/beginner_colab.ipynb\"><img src=\"https://www.tensorflow.org/images/download_logo_32px.png\" />Download notebook</a>\n",
    "  </td>\n",
    "</table>\n"
   ]
  },
  {
   "cell_type": "markdown",
   "metadata": {
    "id": "kvvDY0LVhuaW"
   },
   "source": [
    "## Introduction\n",
    "\n",
    "Decision Forests (DF) are a family of Machine Learning algorithms for\n",
    "supervised classification, regression and ranking. As the name suggests, DFs use\n",
    "decision trees as a building block. Today, the two most popular DF training\n",
    "algorithms are [Random Forests](https://en.wikipedia.org/wiki/Random_forest) and\n",
    "[Gradient Boosted Decision Trees](https://en.wikipedia.org/wiki/Gradient_boosting).\n",
    "\n",
    "TensorFlow Decision Forests (TF-DF) is a library for the training,\n",
    "evaluation, interpretation and inference of Decision Forest models.\n",
    "\n",
    "In this tutorial, you will learn how to:\n",
    "\n",
    "1.  Train a binary classification Random Forest on a dataset containing numerical, categorical and missing features.\n",
    "1.  Evaluate the model on a test dataset.\n",
    "1.  Prepare the model for\n",
    "    [TensorFlow Serving](https://www.tensorflow.org/tfx/guide/serving).\n",
    "1.  Examine the overall structure of the model and the importance of each feature.\n",
    "1.  Re-train the model with a different learning algorithm (Gradient Boosted Decision Trees).\n",
    "1.  Use a different set of input features.\n",
    "1.  Change the hyperparameters of the model.\n",
    "1.  Preprocess the features.\n",
    "1.  Train a model for regression.\n",
    "\n",
    "Detailed documentation is available in the [user manual](https://github.com/tensorflow/decision-forests/tree/main/documentation).\n",
    "The [example directory](https://github.com/tensorflow/decision-forests/tree/main/examples) contains other end-to-end examples."
   ]
  },
  {
   "cell_type": "markdown",
   "metadata": {
    "id": "jK9tCTcwqq4k"
   },
   "source": [
    "## Installing TensorFlow Decision Forests\n",
    "\n",
    "Install TF-DF by running the following cell."
   ]
  },
  {
   "cell_type": "code",
   "execution_count": 2,
   "metadata": {
    "execution": {
     "iopub.execute_input": "2023-01-25T12:07:56.988400Z",
     "iopub.status.busy": "2023-01-25T12:07:56.987957Z",
     "iopub.status.idle": "2023-01-25T12:07:59.369668Z",
     "shell.execute_reply": "2023-01-25T12:07:59.368916Z"
    },
    "id": "Pa1Pf37RhEYN"
   },
   "outputs": [
    {
     "name": "stdout",
     "output_type": "stream",
     "text": [
      "Collecting tensorflow_decision_forests\r\n"
     ]
    },
    {
     "name": "stdout",
     "output_type": "stream",
     "text": [
      "  Using cached tensorflow_decision_forests-1.2.0-cp39-cp39-manylinux_2_17_x86_64.manylinux2014_x86_64.whl (16.5 MB)\r\n"
     ]
    },
    {
     "name": "stdout",
     "output_type": "stream",
     "text": [
      "Requirement already satisfied: tensorflow~=2.11.0 in /tmpfs/src/tf_docs_env/lib/python3.9/site-packages (from tensorflow_decision_forests) (2.11.0)\r\n",
      "Requirement already satisfied: pandas in /tmpfs/src/tf_docs_env/lib/python3.9/site-packages (from tensorflow_decision_forests) (1.5.3)\r\n",
      "Requirement already satisfied: numpy in /tmpfs/src/tf_docs_env/lib/python3.9/site-packages (from tensorflow_decision_forests) (1.24.1)\r\n"
     ]
    },
    {
     "name": "stdout",
     "output_type": "stream",
     "text": [
      "Collecting wurlitzer\r\n",
      "  Using cached wurlitzer-3.0.3-py3-none-any.whl (7.3 kB)\r\n",
      "Requirement already satisfied: wheel in /tmpfs/src/tf_docs_env/lib/python3.9/site-packages (from tensorflow_decision_forests) (0.38.4)\r\n",
      "Requirement already satisfied: absl-py in /tmpfs/src/tf_docs_env/lib/python3.9/site-packages (from tensorflow_decision_forests) (1.4.0)\r\n",
      "Requirement already satisfied: six in /tmpfs/src/tf_docs_env/lib/python3.9/site-packages (from tensorflow_decision_forests) (1.16.0)\r\n",
      "Requirement already satisfied: termcolor>=1.1.0 in /tmpfs/src/tf_docs_env/lib/python3.9/site-packages (from tensorflow~=2.11.0->tensorflow_decision_forests) (2.2.0)\r\n",
      "Requirement already satisfied: grpcio<2.0,>=1.24.3 in /tmpfs/src/tf_docs_env/lib/python3.9/site-packages (from tensorflow~=2.11.0->tensorflow_decision_forests) (1.52.0rc1)\r\n",
      "Requirement already satisfied: gast<=0.4.0,>=0.2.1 in /tmpfs/src/tf_docs_env/lib/python3.9/site-packages (from tensorflow~=2.11.0->tensorflow_decision_forests) (0.4.0)\r\n",
      "Requirement already satisfied: google-pasta>=0.1.1 in /tmpfs/src/tf_docs_env/lib/python3.9/site-packages (from tensorflow~=2.11.0->tensorflow_decision_forests) (0.2.0)\r\n",
      "Requirement already satisfied: typing-extensions>=3.6.6 in /tmpfs/src/tf_docs_env/lib/python3.9/site-packages (from tensorflow~=2.11.0->tensorflow_decision_forests) (4.4.0)\r\n",
      "Requirement already satisfied: h5py>=2.9.0 in /tmpfs/src/tf_docs_env/lib/python3.9/site-packages (from tensorflow~=2.11.0->tensorflow_decision_forests) (3.8.0)\r\n",
      "Requirement already satisfied: tensorflow-io-gcs-filesystem>=0.23.1 in /tmpfs/src/tf_docs_env/lib/python3.9/site-packages (from tensorflow~=2.11.0->tensorflow_decision_forests) (0.30.0)\r\n",
      "Requirement already satisfied: tensorflow-estimator<2.12,>=2.11.0 in /tmpfs/src/tf_docs_env/lib/python3.9/site-packages (from tensorflow~=2.11.0->tensorflow_decision_forests) (2.11.0)\r\n",
      "Requirement already satisfied: tensorboard<2.12,>=2.11 in /tmpfs/src/tf_docs_env/lib/python3.9/site-packages (from tensorflow~=2.11.0->tensorflow_decision_forests) (2.11.2)\r\n",
      "Requirement already satisfied: libclang>=13.0.0 in /tmpfs/src/tf_docs_env/lib/python3.9/site-packages (from tensorflow~=2.11.0->tensorflow_decision_forests) (15.0.6.1)\r\n",
      "Requirement already satisfied: flatbuffers>=2.0 in /tmpfs/src/tf_docs_env/lib/python3.9/site-packages (from tensorflow~=2.11.0->tensorflow_decision_forests) (23.1.21)\r\n",
      "Requirement already satisfied: protobuf<3.20,>=3.9.2 in /tmpfs/src/tf_docs_env/lib/python3.9/site-packages (from tensorflow~=2.11.0->tensorflow_decision_forests) (3.19.6)\r\n",
      "Requirement already satisfied: opt-einsum>=2.3.2 in /tmpfs/src/tf_docs_env/lib/python3.9/site-packages (from tensorflow~=2.11.0->tensorflow_decision_forests) (3.3.0)\r\n",
      "Requirement already satisfied: astunparse>=1.6.0 in /tmpfs/src/tf_docs_env/lib/python3.9/site-packages (from tensorflow~=2.11.0->tensorflow_decision_forests) (1.6.3)\r\n",
      "Requirement already satisfied: keras<2.12,>=2.11.0 in /tmpfs/src/tf_docs_env/lib/python3.9/site-packages (from tensorflow~=2.11.0->tensorflow_decision_forests) (2.11.0)\r\n",
      "Requirement already satisfied: setuptools in /tmpfs/src/tf_docs_env/lib/python3.9/site-packages (from tensorflow~=2.11.0->tensorflow_decision_forests) (66.1.1)\r\n",
      "Requirement already satisfied: packaging in /tmpfs/src/tf_docs_env/lib/python3.9/site-packages (from tensorflow~=2.11.0->tensorflow_decision_forests) (23.0)\r\n",
      "Requirement already satisfied: wrapt>=1.11.0 in /tmpfs/src/tf_docs_env/lib/python3.9/site-packages (from tensorflow~=2.11.0->tensorflow_decision_forests) (1.15.0rc1)\r\n",
      "Requirement already satisfied: pytz>=2020.1 in /tmpfs/src/tf_docs_env/lib/python3.9/site-packages (from pandas->tensorflow_decision_forests) (2022.7.1)\r\n",
      "Requirement already satisfied: python-dateutil>=2.8.1 in /tmpfs/src/tf_docs_env/lib/python3.9/site-packages (from pandas->tensorflow_decision_forests) (2.8.2)\r\n"
     ]
    },
    {
     "name": "stdout",
     "output_type": "stream",
     "text": [
      "Requirement already satisfied: tensorboard-plugin-wit>=1.6.0 in /tmpfs/src/tf_docs_env/lib/python3.9/site-packages (from tensorboard<2.12,>=2.11->tensorflow~=2.11.0->tensorflow_decision_forests) (1.8.1)\r\n",
      "Requirement already satisfied: markdown>=2.6.8 in /tmpfs/src/tf_docs_env/lib/python3.9/site-packages (from tensorboard<2.12,>=2.11->tensorflow~=2.11.0->tensorflow_decision_forests) (3.4.1)\r\n",
      "Requirement already satisfied: requests<3,>=2.21.0 in /tmpfs/src/tf_docs_env/lib/python3.9/site-packages (from tensorboard<2.12,>=2.11->tensorflow~=2.11.0->tensorflow_decision_forests) (2.28.2)\r\n",
      "Requirement already satisfied: tensorboard-data-server<0.7.0,>=0.6.0 in /tmpfs/src/tf_docs_env/lib/python3.9/site-packages (from tensorboard<2.12,>=2.11->tensorflow~=2.11.0->tensorflow_decision_forests) (0.6.1)\r\n",
      "Requirement already satisfied: werkzeug>=1.0.1 in /tmpfs/src/tf_docs_env/lib/python3.9/site-packages (from tensorboard<2.12,>=2.11->tensorflow~=2.11.0->tensorflow_decision_forests) (2.2.2)\r\n",
      "Requirement already satisfied: google-auth<3,>=1.6.3 in /tmpfs/src/tf_docs_env/lib/python3.9/site-packages (from tensorboard<2.12,>=2.11->tensorflow~=2.11.0->tensorflow_decision_forests) (2.16.0)\r\n",
      "Requirement already satisfied: google-auth-oauthlib<0.5,>=0.4.1 in /tmpfs/src/tf_docs_env/lib/python3.9/site-packages (from tensorboard<2.12,>=2.11->tensorflow~=2.11.0->tensorflow_decision_forests) (0.4.6)\r\n"
     ]
    },
    {
     "name": "stdout",
     "output_type": "stream",
     "text": [
      "Requirement already satisfied: pyasn1-modules>=0.2.1 in /tmpfs/src/tf_docs_env/lib/python3.9/site-packages (from google-auth<3,>=1.6.3->tensorboard<2.12,>=2.11->tensorflow~=2.11.0->tensorflow_decision_forests) (0.3.0rc1)\r\n",
      "Requirement already satisfied: cachetools<6.0,>=2.0.0 in /tmpfs/src/tf_docs_env/lib/python3.9/site-packages (from google-auth<3,>=1.6.3->tensorboard<2.12,>=2.11->tensorflow~=2.11.0->tensorflow_decision_forests) (5.3.0)\r\n",
      "Requirement already satisfied: rsa<5,>=3.1.4 in /tmpfs/src/tf_docs_env/lib/python3.9/site-packages (from google-auth<3,>=1.6.3->tensorboard<2.12,>=2.11->tensorflow~=2.11.0->tensorflow_decision_forests) (4.9)\r\n",
      "Requirement already satisfied: requests-oauthlib>=0.7.0 in /tmpfs/src/tf_docs_env/lib/python3.9/site-packages (from google-auth-oauthlib<0.5,>=0.4.1->tensorboard<2.12,>=2.11->tensorflow~=2.11.0->tensorflow_decision_forests) (1.3.1)\r\n",
      "Requirement already satisfied: importlib-metadata>=4.4 in /tmpfs/src/tf_docs_env/lib/python3.9/site-packages (from markdown>=2.6.8->tensorboard<2.12,>=2.11->tensorflow~=2.11.0->tensorflow_decision_forests) (6.0.0)\r\n",
      "Requirement already satisfied: charset-normalizer<4,>=2 in /tmpfs/src/tf_docs_env/lib/python3.9/site-packages (from requests<3,>=2.21.0->tensorboard<2.12,>=2.11->tensorflow~=2.11.0->tensorflow_decision_forests) (3.0.1)\r\n",
      "Requirement already satisfied: certifi>=2017.4.17 in /tmpfs/src/tf_docs_env/lib/python3.9/site-packages (from requests<3,>=2.21.0->tensorboard<2.12,>=2.11->tensorflow~=2.11.0->tensorflow_decision_forests) (2022.12.7)\r\n",
      "Requirement already satisfied: urllib3<1.27,>=1.21.1 in /tmpfs/src/tf_docs_env/lib/python3.9/site-packages (from requests<3,>=2.21.0->tensorboard<2.12,>=2.11->tensorflow~=2.11.0->tensorflow_decision_forests) (1.26.14)\r\n",
      "Requirement already satisfied: idna<4,>=2.5 in /tmpfs/src/tf_docs_env/lib/python3.9/site-packages (from requests<3,>=2.21.0->tensorboard<2.12,>=2.11->tensorflow~=2.11.0->tensorflow_decision_forests) (3.4)\r\n",
      "Requirement already satisfied: MarkupSafe>=2.1.1 in /tmpfs/src/tf_docs_env/lib/python3.9/site-packages (from werkzeug>=1.0.1->tensorboard<2.12,>=2.11->tensorflow~=2.11.0->tensorflow_decision_forests) (2.1.2)\r\n"
     ]
    },
    {
     "name": "stdout",
     "output_type": "stream",
     "text": [
      "Requirement already satisfied: zipp>=0.5 in /tmpfs/src/tf_docs_env/lib/python3.9/site-packages (from importlib-metadata>=4.4->markdown>=2.6.8->tensorboard<2.12,>=2.11->tensorflow~=2.11.0->tensorflow_decision_forests) (3.11.0)\r\n",
      "Requirement already satisfied: pyasn1<0.6.0,>=0.4.6 in /tmpfs/src/tf_docs_env/lib/python3.9/site-packages (from pyasn1-modules>=0.2.1->google-auth<3,>=1.6.3->tensorboard<2.12,>=2.11->tensorflow~=2.11.0->tensorflow_decision_forests) (0.5.0rc2)\r\n",
      "Requirement already satisfied: oauthlib>=3.0.0 in /tmpfs/src/tf_docs_env/lib/python3.9/site-packages (from requests-oauthlib>=0.7.0->google-auth-oauthlib<0.5,>=0.4.1->tensorboard<2.12,>=2.11->tensorflow~=2.11.0->tensorflow_decision_forests) (3.2.2)\r\n"
     ]
    },
    {
     "name": "stdout",
     "output_type": "stream",
     "text": [
      "Installing collected packages: wurlitzer, tensorflow_decision_forests\r\n"
     ]
    },
    {
     "name": "stdout",
     "output_type": "stream",
     "text": [
      "Successfully installed tensorflow_decision_forests-1.2.0 wurlitzer-3.0.3\r\n"
     ]
    }
   ],
   "source": [
    "!pip install tensorflow_decision_forests"
   ]
  },
  {
   "cell_type": "markdown",
   "metadata": {
    "id": "vZGda2dOe-hH"
   },
   "source": [
    "[Wurlitzer](https://pypi.org/project/wurlitzer/) is needed to display the detailed training logs in Colabs (when using `verbose=2` in the model constructor)."
   ]
  },
  {
   "cell_type": "code",
   "execution_count": 3,
   "metadata": {
    "execution": {
     "iopub.execute_input": "2023-01-25T12:07:59.373997Z",
     "iopub.status.busy": "2023-01-25T12:07:59.373752Z",
     "iopub.status.idle": "2023-01-25T12:08:00.909199Z",
     "shell.execute_reply": "2023-01-25T12:08:00.908370Z"
    },
    "id": "lk26uBSCe8Du"
   },
   "outputs": [
    {
     "name": "stdout",
     "output_type": "stream",
     "text": [
      "Requirement already satisfied: wurlitzer in /tmpfs/src/tf_docs_env/lib/python3.9/site-packages (3.0.3)\r\n"
     ]
    }
   ],
   "source": [
    "!pip install wurlitzer"
   ]
  },
  {
   "cell_type": "markdown",
   "metadata": {
    "id": "3oinwbhXlggd"
   },
   "source": [
    "## Importing libraries"
   ]
  },
  {
   "cell_type": "code",
   "execution_count": 4,
   "metadata": {
    "execution": {
     "iopub.execute_input": "2023-01-25T12:08:00.913435Z",
     "iopub.status.busy": "2023-01-25T12:08:00.913172Z",
     "iopub.status.idle": "2023-01-25T12:08:02.846876Z",
     "shell.execute_reply": "2023-01-25T12:08:02.846237Z"
    },
    "id": "52W45tmDjD64"
   },
   "outputs": [
    {
     "name": "stderr",
     "output_type": "stream",
     "text": [
      "2023-01-25 12:08:01.833237: W tensorflow/compiler/xla/stream_executor/platform/default/dso_loader.cc:64] Could not load dynamic library 'libnvinfer.so.7'; dlerror: libnvinfer.so.7: cannot open shared object file: No such file or directory\n",
      "2023-01-25 12:08:01.833345: W tensorflow/compiler/xla/stream_executor/platform/default/dso_loader.cc:64] Could not load dynamic library 'libnvinfer_plugin.so.7'; dlerror: libnvinfer_plugin.so.7: cannot open shared object file: No such file or directory\n",
      "2023-01-25 12:08:01.833355: W tensorflow/compiler/tf2tensorrt/utils/py_utils.cc:38] TF-TRT Warning: Cannot dlopen some TensorRT libraries. If you would like to use Nvidia GPU with TensorRT, please make sure the missing libraries mentioned above are installed properly.\n"
     ]
    }
   ],
   "source": [
    "import tensorflow_decision_forests as tfdf\n",
    "\n",
    "import os\n",
    "import numpy as np\n",
    "import pandas as pd\n",
    "import tensorflow as tf\n",
    "import math"
   ]
  },
  {
   "cell_type": "markdown",
   "metadata": {
    "id": "0LPPwWxYxtDM"
   },
   "source": [
    "The hidden code cell limits the output height in colab.\n"
   ]
  },
  {
   "cell_type": "code",
   "execution_count": 5,
   "metadata": {
    "cellView": "form",
    "execution": {
     "iopub.execute_input": "2023-01-25T12:08:02.851064Z",
     "iopub.status.busy": "2023-01-25T12:08:02.850704Z",
     "iopub.status.idle": "2023-01-25T12:08:02.854698Z",
     "shell.execute_reply": "2023-01-25T12:08:02.854177Z"
    },
    "id": "2AhqJz3VmQM-"
   },
   "outputs": [],
   "source": [
    "#@title\n",
    "\n",
    "from IPython.core.magic import register_line_magic\n",
    "from IPython.display import Javascript\n",
    "from IPython.display import display as ipy_display\n",
    "\n",
    "# Some of the model training logs can cover the full\n",
    "# screen if not compressed to a smaller viewport.\n",
    "# This magic allows setting a max height for a cell.\n",
    "@register_line_magic\n",
    "def set_cell_height(size):\n",
    "  ipy_display(\n",
    "      Javascript(\"google.colab.output.setIframeHeight(0, true, {maxHeight: \" +\n",
    "                 str(size) + \"})\"))"
   ]
  },
  {
   "cell_type": "code",
   "execution_count": 6,
   "metadata": {
    "execution": {
     "iopub.execute_input": "2023-01-25T12:08:02.857734Z",
     "iopub.status.busy": "2023-01-25T12:08:02.857250Z",
     "iopub.status.idle": "2023-01-25T12:08:02.861264Z",
     "shell.execute_reply": "2023-01-25T12:08:02.860638Z"
    },
    "id": "8gVQ-txtjFU4"
   },
   "outputs": [
    {
     "name": "stdout",
     "output_type": "stream",
     "text": [
      "Found TensorFlow Decision Forests v1.2.0\n"
     ]
    }
   ],
   "source": [
    "# Check the version of TensorFlow Decision Forests\n",
    "print(\"Found TensorFlow Decision Forests v\" + tfdf.__version__)"
   ]
  },
  {
   "cell_type": "markdown",
   "metadata": {
    "id": "QGRtRECujKeu"
   },
   "source": [
    "## Training a Random Forest model\n",
    "\n",
    "In this section, we train, evaluate, analyse and export a binary classification Random Forest trained on the [Palmer's Penguins](https://allisonhorst.github.io/palmerpenguins/articles/intro.html) dataset.\n",
    "\n",
    "<center>\n",
    "<img src=\"https://allisonhorst.github.io/palmerpenguins/reference/figures/lter_penguins.png\" width=\"150\"/></center>\n",
    "\n",
    "**Note:** The dataset was exported to a csv file without pre-processing: `library(palmerpenguins); write.csv(penguins, file=\"penguins.csv\", quote=F, row.names=F)`. "
   ]
  },
  {
   "cell_type": "markdown",
   "metadata": {
    "id": "3qsSU1RfmNiP"
   },
   "source": [
    "### Load the dataset and convert it in a tf.Dataset"
   ]
  },
  {
   "cell_type": "markdown",
   "metadata": {
    "id": "9nJ5igfElg2I"
   },
   "source": [
    "This dataset is very small (300 examples) and stored as a .csv-like file. Therefore, use Pandas to load it.\n",
    "\n",
    "**Note:** Pandas is practical as you don't have to type in name of the input features to load them. For larger datasets (>1M examples), using the\n",
    "[TensorFlow Dataset](https://www.tensorflow.org/api_docs/python/tf/data/Dataset) to read the files may be better suited.\n",
    "\n",
    "Let's assemble the dataset into a csv file (i.e. add the header), and load it:"
   ]
  },
  {
   "cell_type": "code",
   "execution_count": 7,
   "metadata": {
    "execution": {
     "iopub.execute_input": "2023-01-25T12:08:02.864483Z",
     "iopub.status.busy": "2023-01-25T12:08:02.864084Z",
     "iopub.status.idle": "2023-01-25T12:08:03.111751Z",
     "shell.execute_reply": "2023-01-25T12:08:03.111043Z"
    },
    "id": "44Jq6g_mJFmj"
   },
   "outputs": [
    {
     "data": {
      "text/html": [
       "<div>\n",
       "<style scoped>\n",
       "    .dataframe tbody tr th:only-of-type {\n",
       "        vertical-align: middle;\n",
       "    }\n",
       "\n",
       "    .dataframe tbody tr th {\n",
       "        vertical-align: top;\n",
       "    }\n",
       "\n",
       "    .dataframe thead th {\n",
       "        text-align: right;\n",
       "    }\n",
       "</style>\n",
       "<table border=\"1\" class=\"dataframe\">\n",
       "  <thead>\n",
       "    <tr style=\"text-align: right;\">\n",
       "      <th></th>\n",
       "      <th>species</th>\n",
       "      <th>island</th>\n",
       "      <th>bill_length_mm</th>\n",
       "      <th>bill_depth_mm</th>\n",
       "      <th>flipper_length_mm</th>\n",
       "      <th>body_mass_g</th>\n",
       "      <th>sex</th>\n",
       "      <th>year</th>\n",
       "    </tr>\n",
       "  </thead>\n",
       "  <tbody>\n",
       "    <tr>\n",
       "      <th>0</th>\n",
       "      <td>Adelie</td>\n",
       "      <td>Torgersen</td>\n",
       "      <td>39.1</td>\n",
       "      <td>18.7</td>\n",
       "      <td>181.0</td>\n",
       "      <td>3750.0</td>\n",
       "      <td>male</td>\n",
       "      <td>2007</td>\n",
       "    </tr>\n",
       "    <tr>\n",
       "      <th>1</th>\n",
       "      <td>Adelie</td>\n",
       "      <td>Torgersen</td>\n",
       "      <td>39.5</td>\n",
       "      <td>17.4</td>\n",
       "      <td>186.0</td>\n",
       "      <td>3800.0</td>\n",
       "      <td>female</td>\n",
       "      <td>2007</td>\n",
       "    </tr>\n",
       "    <tr>\n",
       "      <th>2</th>\n",
       "      <td>Adelie</td>\n",
       "      <td>Torgersen</td>\n",
       "      <td>40.3</td>\n",
       "      <td>18.0</td>\n",
       "      <td>195.0</td>\n",
       "      <td>3250.0</td>\n",
       "      <td>female</td>\n",
       "      <td>2007</td>\n",
       "    </tr>\n",
       "  </tbody>\n",
       "</table>\n",
       "</div>"
      ],
      "text/plain": [
       "  species     island  bill_length_mm  bill_depth_mm  flipper_length_mm  \\\n",
       "0  Adelie  Torgersen            39.1           18.7              181.0   \n",
       "1  Adelie  Torgersen            39.5           17.4              186.0   \n",
       "2  Adelie  Torgersen            40.3           18.0              195.0   \n",
       "\n",
       "   body_mass_g     sex  year  \n",
       "0       3750.0    male  2007  \n",
       "1       3800.0  female  2007  \n",
       "2       3250.0  female  2007  "
      ]
     },
     "execution_count": 7,
     "metadata": {},
     "output_type": "execute_result"
    }
   ],
   "source": [
    "# Download the dataset\n",
    "!wget -q https://storage.googleapis.com/download.tensorflow.org/data/palmer_penguins/penguins.csv -O /tmp/penguins.csv\n",
    "\n",
    "# Load a dataset into a Pandas Dataframe.\n",
    "dataset_df = pd.read_csv(\"/tmp/penguins.csv\")\n",
    "\n",
    "# Display the first 3 examples.\n",
    "dataset_df.head(3)"
   ]
  },
  {
   "cell_type": "markdown",
   "metadata": {
    "id": "23AewWT1lkIK"
   },
   "source": [
    "The dataset contains a mix of numerical (e.g. `bill_depth_mm`), categorical\n",
    "(e.g. `island`) and missing features. TF-DF supports all these feature types natively (differently than NN based models), therefore there is no need for preprocessing in the form of one-hot encoding, normalization or extra `is_present` feature.\n",
    "\n",
    "Labels are a bit different: Keras metrics expect integers. The label (`species`) is stored as a string, so let's convert it into an integer."
   ]
  },
  {
   "cell_type": "code",
   "execution_count": 8,
   "metadata": {
    "execution": {
     "iopub.execute_input": "2023-01-25T12:08:03.115619Z",
     "iopub.status.busy": "2023-01-25T12:08:03.115039Z",
     "iopub.status.idle": "2023-01-25T12:08:03.119830Z",
     "shell.execute_reply": "2023-01-25T12:08:03.119304Z"
    },
    "id": "uO_jz2sj0IBZ"
   },
   "outputs": [
    {
     "name": "stdout",
     "output_type": "stream",
     "text": [
      "Label classes: ['Adelie', 'Gentoo', 'Chinstrap']\n"
     ]
    }
   ],
   "source": [
    "# Encode the categorical labels as integers.\n",
    "#\n",
    "# Details:\n",
    "# This stage is necessary if your classification label is represented as a\n",
    "# string since Keras expects integer classification labels.\n",
    "# When using `pd_dataframe_to_tf_dataset` (see below), this step can be skipped.\n",
    "\n",
    "# Name of the label column.\n",
    "label = \"species\"\n",
    "\n",
    "classes = dataset_df[label].unique().tolist()\n",
    "print(f\"Label classes: {classes}\")\n",
    "\n",
    "dataset_df[label] = dataset_df[label].map(classes.index)"
   ]
  },
  {
   "cell_type": "markdown",
   "metadata": {
    "id": "vwJjLFhbtozI"
   },
   "source": [
    "Next split the dataset into training and testing:"
   ]
  },
  {
   "cell_type": "code",
   "execution_count": 9,
   "metadata": {
    "execution": {
     "iopub.execute_input": "2023-01-25T12:08:03.122968Z",
     "iopub.status.busy": "2023-01-25T12:08:03.122764Z",
     "iopub.status.idle": "2023-01-25T12:08:03.128084Z",
     "shell.execute_reply": "2023-01-25T12:08:03.127541Z"
    },
    "id": "u7DEIxn2oB3U"
   },
   "outputs": [
    {
     "name": "stdout",
     "output_type": "stream",
     "text": [
      "237 examples in training, 107 examples for testing.\n"
     ]
    }
   ],
   "source": [
    "# Split the dataset into a training and a testing dataset.\n",
    "\n",
    "def split_dataset(dataset, test_ratio=0.30):\n",
    "  \"\"\"Splits a panda dataframe in two.\"\"\"\n",
    "  test_indices = np.random.rand(len(dataset)) < test_ratio\n",
    "  return dataset[~test_indices], dataset[test_indices]\n",
    "\n",
    "\n",
    "train_ds_pd, test_ds_pd = split_dataset(dataset_df)\n",
    "print(\"{} examples in training, {} examples for testing.\".format(\n",
    "    len(train_ds_pd), len(test_ds_pd)))"
   ]
  },
  {
   "cell_type": "markdown",
   "metadata": {
    "id": "uWq7uQcCuBzO"
   },
   "source": [
    "And finally, convert the pandas dataframe (`pd.Dataframe`) into tensorflow datasets (`tf.data.Dataset`):"
   ]
  },
  {
   "cell_type": "code",
   "execution_count": 10,
   "metadata": {
    "execution": {
     "iopub.execute_input": "2023-01-25T12:08:03.131419Z",
     "iopub.status.busy": "2023-01-25T12:08:03.130890Z",
     "iopub.status.idle": "2023-01-25T12:08:06.393920Z",
     "shell.execute_reply": "2023-01-25T12:08:06.392959Z"
    },
    "id": "qtXgUBKluTX0"
   },
   "outputs": [],
   "source": [
    "train_ds = tfdf.keras.pd_dataframe_to_tf_dataset(train_ds_pd, label=label)\n",
    "test_ds = tfdf.keras.pd_dataframe_to_tf_dataset(test_ds_pd, label=label)"
   ]
  },
  {
   "cell_type": "markdown",
   "metadata": {
    "id": "BRKLWIWNuOZ1"
   },
   "source": [
    "**Notes:** Recall that `pd_dataframe_to_tf_dataset` converts string labels to integers if necessary.\n",
    "\n",
    "If you want to create the `tf.data.Dataset` yourself, there are a couple of things to remember:\n",
    "\n",
    "- The learning algorithms work with a one-epoch dataset and without shuffling.\n",
    "- The batch size does not impact the training algorithm, but a small value might slow down reading the dataset.\n"
   ]
  },
  {
   "cell_type": "markdown",
   "metadata": {
    "id": "mYAoyfYtqHG4"
   },
   "source": [
    "### Train the model"
   ]
  },
  {
   "cell_type": "code",
   "execution_count": 11,
   "metadata": {
    "execution": {
     "iopub.execute_input": "2023-01-25T12:08:06.398277Z",
     "iopub.status.busy": "2023-01-25T12:08:06.397742Z",
     "iopub.status.idle": "2023-01-25T12:08:11.330732Z",
     "shell.execute_reply": "2023-01-25T12:08:11.330104Z"
    },
    "id": "xete-FbuqJCV"
   },
   "outputs": [
    {
     "data": {
      "application/javascript": [
       "google.colab.output.setIframeHeight(0, true, {maxHeight: 300})"
      ],
      "text/plain": [
       "<IPython.core.display.Javascript object>"
      ]
     },
     "metadata": {},
     "output_type": "display_data"
    },
    {
     "name": "stdout",
     "output_type": "stream",
     "text": [
      "Warning: The `num_threads` constructor argument is not set and the number of CPU is os.cpu_count()=32 > 32. Setting num_threads to 32. Set num_threads manually to use more than 32 cpus.\n"
     ]
    },
    {
     "name": "stderr",
     "output_type": "stream",
     "text": [
      "WARNING:absl:The `num_threads` constructor argument is not set and the number of CPU is os.cpu_count()=32 > 32. Setting num_threads to 32. Set num_threads manually to use more than 32 cpus.\n"
     ]
    },
    {
     "name": "stdout",
     "output_type": "stream",
     "text": [
      "Use /tmpfs/tmp/tmpozj1nqqw as temporary training directory\n"
     ]
    },
    {
     "name": "stdout",
     "output_type": "stream",
     "text": [
      "Reading training dataset...\n"
     ]
    },
    {
     "name": "stdout",
     "output_type": "stream",
     "text": [
      "Training tensor examples:\n",
      "Features: {'island': <tf.Tensor 'data_4:0' shape=(None,) dtype=string>, 'bill_length_mm': <tf.Tensor 'data_1:0' shape=(None,) dtype=float64>, 'bill_depth_mm': <tf.Tensor 'data:0' shape=(None,) dtype=float64>, 'flipper_length_mm': <tf.Tensor 'data_3:0' shape=(None,) dtype=float64>, 'body_mass_g': <tf.Tensor 'data_2:0' shape=(None,) dtype=float64>, 'sex': <tf.Tensor 'data_5:0' shape=(None,) dtype=string>, 'year': <tf.Tensor 'data_6:0' shape=(None,) dtype=int64>}\n",
      "Label: Tensor(\"data_7:0\", shape=(None,), dtype=int64)\n",
      "Weights: None\n"
     ]
    },
    {
     "name": "stdout",
     "output_type": "stream",
     "text": [
      "WARNING:tensorflow:From /tmpfs/src/tf_docs_env/lib/python3.9/site-packages/tensorflow/python/autograph/pyct/static_analysis/liveness.py:83: Analyzer.lamba_check (from tensorflow.python.autograph.pyct.static_analysis.liveness) is deprecated and will be removed after 2023-09-23.\n",
      "Instructions for updating:\n",
      "Lambda fuctions will be no more assumed to be used in the statement where they are used, or at least in the same block. https://github.com/tensorflow/tensorflow/issues/56089\n"
     ]
    },
    {
     "name": "stderr",
     "output_type": "stream",
     "text": [
      "WARNING:tensorflow:From /tmpfs/src/tf_docs_env/lib/python3.9/site-packages/tensorflow/python/autograph/pyct/static_analysis/liveness.py:83: Analyzer.lamba_check (from tensorflow.python.autograph.pyct.static_analysis.liveness) is deprecated and will be removed after 2023-09-23.\n",
      "Instructions for updating:\n",
      "Lambda fuctions will be no more assumed to be used in the statement where they are used, or at least in the same block. https://github.com/tensorflow/tensorflow/issues/56089\n"
     ]
    },
    {
     "name": "stdout",
     "output_type": "stream",
     "text": [
      "Normalized tensor features:\n",
      " {'island': SemanticTensor(semantic=<Semantic.CATEGORICAL: 2>, tensor=<tf.Tensor 'data_4:0' shape=(None,) dtype=string>), 'bill_length_mm': SemanticTensor(semantic=<Semantic.NUMERICAL: 1>, tensor=<tf.Tensor 'Cast:0' shape=(None,) dtype=float32>), 'bill_depth_mm': SemanticTensor(semantic=<Semantic.NUMERICAL: 1>, tensor=<tf.Tensor 'Cast_1:0' shape=(None,) dtype=float32>), 'flipper_length_mm': SemanticTensor(semantic=<Semantic.NUMERICAL: 1>, tensor=<tf.Tensor 'Cast_2:0' shape=(None,) dtype=float32>), 'body_mass_g': SemanticTensor(semantic=<Semantic.NUMERICAL: 1>, tensor=<tf.Tensor 'Cast_3:0' shape=(None,) dtype=float32>), 'sex': SemanticTensor(semantic=<Semantic.CATEGORICAL: 2>, tensor=<tf.Tensor 'data_5:0' shape=(None,) dtype=string>), 'year': SemanticTensor(semantic=<Semantic.NUMERICAL: 1>, tensor=<tf.Tensor 'Cast_4:0' shape=(None,) dtype=float32>)}\n"
     ]
    },
    {
     "name": "stdout",
     "output_type": "stream",
     "text": [
      "Training dataset read in 0:00:03.504921. Found 237 examples.\n"
     ]
    },
    {
     "name": "stdout",
     "output_type": "stream",
     "text": [
      "Training model...\n"
     ]
    },
    {
     "name": "stdout",
     "output_type": "stream",
     "text": [
      "Standard output detected as not visible to the user e.g. running in a notebook. Creating a training log redirection. If training gets stuck, try calling tfdf.keras.set_training_logs_redirection(False).\n"
     ]
    },
    {
     "name": "stderr",
     "output_type": "stream",
     "text": [
      "[INFO 2023-01-25T12:08:09.945661181+00:00 kernel.cc:756] Start Yggdrasil model training\n",
      "[INFO 2023-01-25T12:08:09.945735446+00:00 kernel.cc:757] Collect training examples\n",
      "[INFO 2023-01-25T12:08:09.945834637+00:00 kernel.cc:388] Number of batches: 1\n",
      "[INFO 2023-01-25T12:08:09.945854315+00:00 kernel.cc:389] Number of examples: 237\n",
      "[INFO 2023-01-25T12:08:09.945982323+00:00 kernel.cc:774] Training dataset:\n"
     ]
    },
    {
     "name": "stderr",
     "output_type": "stream",
     "text": [
      "Number of records: 237\n",
      "Number of columns: 8\n",
      "\n",
      "Number of columns by type:\n",
      "\tNUMERICAL: 5 (62.5%)\n",
      "\tCATEGORICAL: 3 (37.5%)\n",
      "\n",
      "Columns:\n",
      "\n",
      "NUMERICAL: 5 (62.5%)\n",
      "\t1: \"bill_depth_mm\" NUMERICAL num-nas:1 (0.421941%) mean:17.1627 min:13.1 max:21.5 sd:1.99182\n",
      "\t2: \"bill_length_mm\" NUMERICAL num-nas:1 (0.421941%) mean:43.4708 min:32.1 max:55.1 sd:5.27611\n",
      "\t3: \"body_mass_g\" NUMERICAL num-nas:1 (0.421941%) mean:4163.24 min:2700 max:6300 sd:785.213\n",
      "\t4: \"flipper_length_mm\" NUMERICAL num-nas:1 (0.421941%) mean:200.581 min:176 max:230 sd:13.6921\n",
      "\t7: \"year\" NUMERICAL mean:2008 min:2007 max:2009 sd:0.816497\n",
      "\n",
      "CATEGORICAL: 3 (37.5%)\n",
      "\t0: \"__LABEL\" CATEGORICAL integerized vocab-size:4 no-ood-item\n",
      "\t5: \"island\" CATEGORICAL has-dict vocab-size:4 zero-ood-items most-frequent:\"Biscoe\" 111 (46.8354%)\n",
      "\t6: \"sex\" CATEGORICAL num-nas:8 (3.37553%) has-dict vocab-size:3 zero-ood-items most-frequent:\"female\" 117 (51.0917%)\n",
      "\n",
      "Terminology:\n",
      "\tnas: Number of non-available (i.e. missing) values.\n",
      "\tood: Out of dictionary.\n",
      "\tmanually-defined: Attribute which type is manually defined by the user i.e. the type was not automatically inferred.\n",
      "\ttokenized: The attribute value is obtained through tokenization.\n",
      "\thas-dict: The attribute is attached to a string dictionary e.g. a categorical attribute stored as a string.\n",
      "\tvocab-size: Number of unique values.\n",
      "\n",
      "[INFO 2023-01-25T12:08:09.946511911+00:00 kernel.cc:790] Configure learner\n",
      "[INFO 2023-01-25T12:08:09.947157175+00:00 kernel.cc:804] Training config:\n"
     ]
    },
    {
     "name": "stderr",
     "output_type": "stream",
     "text": [
      "learner: \"RANDOM_FOREST\"\n",
      "features: \"^bill_depth_mm$\"\n",
      "features: \"^bill_length_mm$\"\n",
      "features: \"^body_mass_g$\"\n",
      "features: \"^flipper_length_mm$\"\n",
      "features: \"^island$\"\n",
      "features: \"^sex$\"\n",
      "features: \"^year$\"\n",
      "label: \"^__LABEL$\"\n",
      "task: CLASSIFICATION\n",
      "random_seed: 123456\n",
      "metadata {\n",
      "  framework: \"TF Keras\"\n",
      "}\n",
      "pure_serving_model: false\n",
      "[yggdrasil_decision_forests.model.random_forest.proto.random_forest_config] {\n",
      "  num_trees: 300\n",
      "  decision_tree {\n",
      "    max_depth: 16\n",
      "    min_examples: 5\n",
      "    in_split_min_examples_check: true\n",
      "    keep_non_leaf_label_distribution: true\n",
      "    num_candidate_attributes: 0\n",
      "    missing_value_policy: GLOBAL_IMPUTATION\n",
      "    allow_na_conditions: false\n",
      "    categorical_set_greedy_forward {\n",
      "      sampling: 0.1\n",
      "      max_num_items: -1\n",
      "      min_item_frequency: 1\n",
      "    }\n",
      "    growing_strategy_local {\n",
      "    }\n",
      "    categorical {\n",
      "      cart {\n",
      "      }\n",
      "    }\n",
      "    axis_aligned_split {\n",
      "    }\n",
      "    internal {\n",
      "      sorting_strategy: PRESORTED\n",
      "    }\n",
      "    uplift {\n",
      "      min_examples_in_treatment: 5\n",
      "      split_score: KULLBACK_LEIBLER\n",
      "    }\n",
      "  }\n",
      "  winner_take_all_inference: true\n",
      "  compute_oob_performances: true\n",
      "  compute_oob_variable_importances: false\n",
      "  num_oob_variable_importances_permutations: 1\n",
      "  bootstrap_training_dataset: true\n",
      "  bootstrap_size_ratio: 1\n",
      "  adapt_bootstrap_size_ratio_for_maximum_training_duration: false\n",
      "  sampling_with_replacement: true\n",
      "}\n",
      "\n",
      "[INFO 2023-01-25T12:08:09.947710679+00:00 kernel.cc:807] Deployment config:\n",
      "cache_path: \"/tmpfs/tmp/tmpozj1nqqw/working_cache\"\n",
      "num_threads: 32\n",
      "try_resume_training: true\n",
      "\n",
      "[INFO 2023-01-25T12:08:09.947976525+00:00 kernel.cc:868] Train model\n",
      "[INFO 2023-01-25T12:08:09.948127126+00:00 random_forest.cc:415] Training random forest on 237 example(s) and 7 feature(s).\n"
     ]
    },
    {
     "name": "stderr",
     "output_type": "stream",
     "text": [
      "[INFO 2023-01-25T12:08:09.953578706+00:00 random_forest.cc:804] Training of tree  1/300 (tree index:2) done accuracy:0.901099 logloss:3.56476\n"
     ]
    },
    {
     "name": "stderr",
     "output_type": "stream",
     "text": [
      "[INFO 2023-01-25T12:08:09.954686896+00:00 random_forest.cc:804] Training of tree  11/300 (tree index:33) done accuracy:0.965368 logloss:0.54449\n",
      "[INFO 2023-01-25T12:08:09.955293616+00:00 random_forest.cc:804] Training of tree  21/300 (tree index:49) done accuracy:0.957806 logloss:0.252622\n",
      "[INFO 2023-01-25T12:08:09.955468227+00:00 random_forest.cc:804] Training of tree  31/300 (tree index:25) done accuracy:0.962025 logloss:0.244048\n"
     ]
    },
    {
     "name": "stderr",
     "output_type": "stream",
     "text": [
      "[INFO 2023-01-25T12:08:09.955655106+00:00 random_forest.cc:804] Training of tree  42/300 (tree index:29) done accuracy:0.953587 logloss:0.242628\n",
      "[INFO 2023-01-25T12:08:09.955759118+00:00 random_forest.cc:804] Training of tree  53/300 (tree index:31) done accuracy:0.957806 logloss:0.241187\n",
      "[INFO 2023-01-25T12:08:09.955987096+00:00 random_forest.cc:804] Training of tree  63/300 (tree index:62) done accuracy:0.970464 logloss:0.239073\n",
      "[INFO 2023-01-25T12:08:09.956325671+00:00 random_forest.cc:804] Training of tree  73/300 (tree index:72) done accuracy:0.978903 logloss:0.233146\n",
      "[INFO 2023-01-25T12:08:09.956679489+00:00 random_forest.cc:804] Training of tree  84/300 (tree index:83) done accuracy:0.978903 logloss:0.227646\n"
     ]
    },
    {
     "name": "stderr",
     "output_type": "stream",
     "text": [
      "[INFO 2023-01-25T12:08:09.957011526+00:00 random_forest.cc:804] Training of tree  94/300 (tree index:92) done accuracy:0.974684 logloss:0.226604\n",
      "[INFO 2023-01-25T12:08:09.957414594+00:00 random_forest.cc:804] Training of tree  105/300 (tree index:103) done accuracy:0.974684 logloss:0.226708\n",
      "[INFO 2023-01-25T12:08:09.957625546+00:00 random_forest.cc:804] Training of tree  115/300 (tree index:114) done accuracy:0.978903 logloss:0.225063\n"
     ]
    },
    {
     "name": "stderr",
     "output_type": "stream",
     "text": [
      "[INFO 2023-01-25T12:08:09.957980451+00:00 random_forest.cc:804] Training of tree  126/300 (tree index:125) done accuracy:0.978903 logloss:0.223856\n",
      "[INFO 2023-01-25T12:08:09.95829932+00:00 random_forest.cc:804] Training of tree  137/300 (tree index:139) done accuracy:0.978903 logloss:0.22474\n",
      "[INFO 2023-01-25T12:08:09.958661155+00:00 random_forest.cc:804] Training of tree  148/300 (tree index:146) done accuracy:0.970464 logloss:0.227393\n"
     ]
    },
    {
     "name": "stderr",
     "output_type": "stream",
     "text": [
      "[INFO 2023-01-25T12:08:09.959016396+00:00 random_forest.cc:804] Training of tree  159/300 (tree index:158) done accuracy:0.978903 logloss:0.22771\n",
      "[INFO 2023-01-25T12:08:09.959393069+00:00 random_forest.cc:804] Training of tree  170/300 (tree index:170) done accuracy:0.974684 logloss:0.0931108\n",
      "[INFO 2023-01-25T12:08:09.959756156+00:00 random_forest.cc:804] Training of tree  182/300 (tree index:182) done accuracy:0.974684 logloss:0.0945836\n",
      "[INFO 2023-01-25T12:08:09.960166016+00:00 random_forest.cc:804] Training of tree  193/300 (tree index:193) done accuracy:0.983122 logloss:0.0954853\n"
     ]
    },
    {
     "name": "stderr",
     "output_type": "stream",
     "text": [
      "[INFO 2023-01-25T12:08:09.96047348+00:00 random_forest.cc:804] Training of tree  204/300 (tree index:203) done accuracy:0.978903 logloss:0.0952433\n",
      "[INFO 2023-01-25T12:08:09.960817026+00:00 random_forest.cc:804] Training of tree  214/300 (tree index:215) done accuracy:0.974684 logloss:0.0968419\n",
      "[INFO 2023-01-25T12:08:09.961160983+00:00 random_forest.cc:804] Training of tree  224/300 (tree index:221) done accuracy:0.974684 logloss:0.0963968\n"
     ]
    },
    {
     "name": "stderr",
     "output_type": "stream",
     "text": [
      "[INFO 2023-01-25T12:08:09.961555056+00:00 random_forest.cc:804] Training of tree  234/300 (tree index:231) done accuracy:0.978903 logloss:0.0964259\n",
      "[INFO 2023-01-25T12:08:09.961840557+00:00 random_forest.cc:804] Training of tree  245/300 (tree index:243) done accuracy:0.974684 logloss:0.096763\n",
      "[INFO 2023-01-25T12:08:09.962238719+00:00 random_forest.cc:804] Training of tree  256/300 (tree index:254) done accuracy:0.974684 logloss:0.0982132\n",
      "[INFO 2023-01-25T12:08:09.962555196+00:00 random_forest.cc:804] Training of tree  266/300 (tree index:267) done accuracy:0.974684 logloss:0.0983008\n"
     ]
    },
    {
     "name": "stderr",
     "output_type": "stream",
     "text": [
      "[INFO 2023-01-25T12:08:09.96283562+00:00 random_forest.cc:804] Training of tree  276/300 (tree index:274) done accuracy:0.978903 logloss:0.0976595\n",
      "[INFO 2023-01-25T12:08:09.963084336+00:00 random_forest.cc:804] Training of tree  287/300 (tree index:287) done accuracy:0.974684 logloss:0.097573\n",
      "[INFO 2023-01-25T12:08:09.96334974+00:00 random_forest.cc:804] Training of tree  297/300 (tree index:296) done accuracy:0.970464 logloss:0.0977524\n"
     ]
    },
    {
     "name": "stderr",
     "output_type": "stream",
     "text": [
      "[INFO 2023-01-25T12:08:09.96446373+00:00 random_forest.cc:804] Training of tree  300/300 (tree index:298) done accuracy:0.966245 logloss:0.0941596\n",
      "[INFO 2023-01-25T12:08:09.964954857+00:00 random_forest.cc:884] Final OOB metrics: accuracy:0.966245 logloss:0.0941596\n"
     ]
    },
    {
     "name": "stderr",
     "output_type": "stream",
     "text": [
      "[INFO 2023-01-25T12:08:09.966078595+00:00 kernel.cc:905] Export model in log directory: /tmpfs/tmp/tmpozj1nqqw with prefix eabde883e52e436e\n"
     ]
    },
    {
     "name": "stderr",
     "output_type": "stream",
     "text": [
      "[INFO 2023-01-25T12:08:09.971282152+00:00 kernel.cc:923] Save model in resources\n"
     ]
    },
    {
     "name": "stderr",
     "output_type": "stream",
     "text": [
      "[INFO 2023-01-25T12:08:09.974431212+00:00 abstract_model.cc:849] Model self evaluation:\n",
      "Number of predictions (without weights): 237\n",
      "Number of predictions (with weights): 237\n",
      "Task: CLASSIFICATION\n",
      "Label: __LABEL\n",
      "\n",
      "Accuracy: 0.966245  CI95[W][0.93992 0.983095]\n",
      "LogLoss: : 0.0941596\n",
      "ErrorRate: : 0.0337553\n",
      "\n",
      "Default Accuracy: : 0.476793\n",
      "Default LogLoss: : 1.02976\n",
      "Default ErrorRate: : 0.523207\n",
      "\n",
      "Confusion Table:\n",
      "truth\\prediction\n",
      "   0    1   2   3\n",
      "0  0    0   0   0\n",
      "1  0  109   1   3\n",
      "2  0    0  80   1\n",
      "3  0    3   0  40\n",
      "Total: 237\n",
      "\n",
      "One vs other classes:\n",
      "\n"
     ]
    },
    {
     "name": "stderr",
     "output_type": "stream",
     "text": [
      "[INFO 2023-01-25T12:08:09.984964304+00:00 kernel.cc:1214] Loading model from path /tmpfs/tmp/tmpozj1nqqw/model/ with prefix eabde883e52e436e\n"
     ]
    },
    {
     "name": "stderr",
     "output_type": "stream",
     "text": [
      "[INFO 2023-01-25T12:08:09.999113133+00:00 decision_forest.cc:661] Model loaded with 300 root(s), 4514 node(s), and 7 input feature(s).\n",
      "[INFO 2023-01-25T12:08:09.999157314+00:00 abstract_model.cc:1311] Engine \"RandomForestGeneric\" built\n",
      "[INFO 2023-01-25T12:08:09.999178584+00:00 kernel.cc:1046] Use fast generic engine\n"
     ]
    },
    {
     "name": "stdout",
     "output_type": "stream",
     "text": [
      "Model trained in 0:00:00.062055\n"
     ]
    },
    {
     "name": "stdout",
     "output_type": "stream",
     "text": [
      "Compiling model...\n"
     ]
    },
    {
     "name": "stdout",
     "output_type": "stream",
     "text": [
      "WARNING:tensorflow:AutoGraph could not transform <function simple_ml_inference_op_with_handle at 0x7fda03b26af0> and will run it as-is.\n",
      "Please report this to the TensorFlow team. When filing the bug, set the verbosity to 10 (on Linux, `export AUTOGRAPH_VERBOSITY=10`) and attach the full output.\n",
      "Cause: could not get source code\n",
      "To silence this warning, decorate the function with @tf.autograph.experimental.do_not_convert\n"
     ]
    },
    {
     "name": "stderr",
     "output_type": "stream",
     "text": [
      "WARNING:tensorflow:AutoGraph could not transform <function simple_ml_inference_op_with_handle at 0x7fda03b26af0> and will run it as-is.\n",
      "Please report this to the TensorFlow team. When filing the bug, set the verbosity to 10 (on Linux, `export AUTOGRAPH_VERBOSITY=10`) and attach the full output.\n",
      "Cause: could not get source code\n",
      "To silence this warning, decorate the function with @tf.autograph.experimental.do_not_convert\n"
     ]
    },
    {
     "name": "stdout",
     "output_type": "stream",
     "text": [
      "WARNING: AutoGraph could not transform <function simple_ml_inference_op_with_handle at 0x7fda03b26af0> and will run it as-is.\n",
      "Please report this to the TensorFlow team. When filing the bug, set the verbosity to 10 (on Linux, `export AUTOGRAPH_VERBOSITY=10`) and attach the full output.\n",
      "Cause: could not get source code\n",
      "To silence this warning, decorate the function with @tf.autograph.experimental.do_not_convert\n"
     ]
    },
    {
     "name": "stdout",
     "output_type": "stream",
     "text": [
      "Model compiled.\n"
     ]
    },
    {
     "data": {
      "text/plain": [
       "<keras.callbacks.History at 0x7fda01c41790>"
      ]
     },
     "execution_count": 11,
     "metadata": {},
     "output_type": "execute_result"
    }
   ],
   "source": [
    "%set_cell_height 300\n",
    "\n",
    "# Specify the model.\n",
    "model_1 = tfdf.keras.RandomForestModel(verbose=2)\n",
    "\n",
    "# Train the model.\n",
    "model_1.fit(train_ds)"
   ]
  },
  {
   "cell_type": "markdown",
   "metadata": {
    "id": "OBnjxdip-MC0"
   },
   "source": [
    "### Remarks\n",
    "\n",
    "-   No input features are specified. Therefore, all the columns will be used as\n",
    "    input features except for the label. The feature used by the model are shown\n",
    "    in the training logs and in the `model.summary()`.\n",
    "-   DFs consume natively numerical, categorical, categorical-set features and\n",
    "    missing-values. Numerical features do not need to be normalized. Categorical\n",
    "    string values do not need to be encoded in a dictionary.\n",
    "-   No training hyper-parameters are specified. Therefore the default\n",
    "    hyper-parameters will be used. Default hyper-parameters provide\n",
    "    reasonable results in most situations.\n",
    "-   Calling `compile` on the model before the `fit` is optional. Compile can be\n",
    "    used to provide extra evaluation metrics.\n",
    "-   Training algorithms do not need validation datasets. If a validation dataset\n",
    "    is provided, it will only be used to show metrics.\n",
    "-   Tweak the `verbose` argument to `RandomForestModel` to control the amount of\n",
    "    displayed training logs. Set `verbose=0` to hide most of the logs. Set\n",
    "    `verbose=2` to show all the logs.\n",
    "\n",
    "**Note:** A *Categorical-Set* feature is composed of a set of categorical values (while a *Categorical* is only one value). More details and examples are given later."
   ]
  },
  {
   "cell_type": "markdown",
   "metadata": {
    "id": "tSdtNJUArBpl"
   },
   "source": [
    "## Evaluate the model"
   ]
  },
  {
   "cell_type": "markdown",
   "metadata": {
    "id": "Udtu_uS1paSu"
   },
   "source": [
    "Let's evaluate our model on the test dataset."
   ]
  },
  {
   "cell_type": "code",
   "execution_count": 12,
   "metadata": {
    "execution": {
     "iopub.execute_input": "2023-01-25T12:08:11.334444Z",
     "iopub.status.busy": "2023-01-25T12:08:11.333858Z",
     "iopub.status.idle": "2023-01-25T12:08:11.625755Z",
     "shell.execute_reply": "2023-01-25T12:08:11.624901Z"
    },
    "id": "xUy4ULEMtDXB"
   },
   "outputs": [
    {
     "name": "stdout",
     "output_type": "stream",
     "text": [
      "\r",
      "1/1 [==============================] - ETA: 0s - loss: 0.0000e+00 - accuracy: 0.9907"
     ]
    },
    {
     "name": "stdout",
     "output_type": "stream",
     "text": [
      "\b\b\b\b\b\b\b\b\b\b\b\b\b\b\b\b\b\b\b\b\b\b\b\b\b\b\b\b\b\b\b\b\b\b\b\b\b\b\b\b\b\b\b\b\b\b\b\b\b\b\b\b\b\b\b\b\b\b\b\b\b\b\b\b\b\b\b\b\b\b\b\b\b\b\b\b\b\b\b\b\b\b\b\b\r",
      "1/1 [==============================] - 0s 276ms/step - loss: 0.0000e+00 - accuracy: 0.9907\n"
     ]
    },
    {
     "name": "stdout",
     "output_type": "stream",
     "text": [
      "\n",
      "loss: 0.0000\n",
      "accuracy: 0.9907\n"
     ]
    }
   ],
   "source": [
    "model_1.compile(metrics=[\"accuracy\"])\n",
    "evaluation = model_1.evaluate(test_ds, return_dict=True)\n",
    "print()\n",
    "\n",
    "for name, value in evaluation.items():\n",
    "  print(f\"{name}: {value:.4f}\")"
   ]
  },
  {
   "cell_type": "markdown",
   "metadata": {
    "id": "tlhfzZ34pfO4"
   },
   "source": [
    "**Remark:** The test accuracy is close to the Out-of-bag accuracy\n",
    "shown in the training logs.\n",
    "\n",
    "See the **Model Self Evaluation** section below for more evaluation methods."
   ]
  },
  {
   "cell_type": "markdown",
   "metadata": {
    "id": "mHBFtUeElRYz"
   },
   "source": [
    "## Prepare this model for TensorFlow Serving."
   ]
  },
  {
   "cell_type": "markdown",
   "metadata": {
    "id": "JbC4lmgfr5Sm"
   },
   "source": [
    "Export the model to the SavedModel format for later re-use e.g.\n",
    "[TensorFlow Serving](https://www.tensorflow.org/tfx/guide/serving).\n"
   ]
  },
  {
   "cell_type": "code",
   "execution_count": 13,
   "metadata": {
    "execution": {
     "iopub.execute_input": "2023-01-25T12:08:11.629569Z",
     "iopub.status.busy": "2023-01-25T12:08:11.629056Z",
     "iopub.status.idle": "2023-01-25T12:08:12.301348Z",
     "shell.execute_reply": "2023-01-25T12:08:12.300447Z"
    },
    "id": "08YWGr9U2fza"
   },
   "outputs": [
    {
     "name": "stderr",
     "output_type": "stream",
     "text": [
      "WARNING:absl:Found untraced functions such as call_get_leaves, _update_step_xla while saving (showing 2 of 2). These functions will not be directly callable after loading.\n"
     ]
    },
    {
     "name": "stdout",
     "output_type": "stream",
     "text": [
      "INFO:tensorflow:Assets written to: /tmp/my_saved_model/assets\n"
     ]
    },
    {
     "name": "stderr",
     "output_type": "stream",
     "text": [
      "INFO:tensorflow:Assets written to: /tmp/my_saved_model/assets\n"
     ]
    }
   ],
   "source": [
    "model_1.save(\"/tmp/my_saved_model\")"
   ]
  },
  {
   "cell_type": "markdown",
   "metadata": {
    "id": "6-8R02_SXpbq"
   },
   "source": [
    "## Plot the model\n",
    "\n",
    "Plotting a decision tree and following the first branches helps learning about decision forests. In some cases, plotting a model can even be used for debugging.\n",
    "\n",
    "Because of the difference in the way they are trained, some models are more interesting to plan than others. Because of the noise injected during training and the depth of the trees, plotting Random Forest is less informative than plotting a CART or the first tree of a Gradient Boosted Tree.\n",
    "\n",
    "Never the less, let's plot the first tree of our Random Forest model:"
   ]
  },
  {
   "cell_type": "code",
   "execution_count": 14,
   "metadata": {
    "execution": {
     "iopub.execute_input": "2023-01-25T12:08:12.305238Z",
     "iopub.status.busy": "2023-01-25T12:08:12.304619Z",
     "iopub.status.idle": "2023-01-25T12:08:12.312004Z",
     "shell.execute_reply": "2023-01-25T12:08:12.311217Z"
    },
    "id": "KUIxf8N6Yjl0"
   },
   "outputs": [
    {
     "data": {
      "text/html": [
       "\n",
       "<script src=\"https://d3js.org/d3.v6.min.js\"></script>\n",
       "<div id=\"tree_plot_8a8fcce199824c609d21f06c9e336bba\"></div>\n",
       "<script>\n",
       "/*\n",
       " * Copyright 2021 Google LLC.\n",
       " * Licensed under the Apache License, Version 2.0 (the \"License\");\n",
       " * you may not use this file except in compliance with the License.\n",
       " * You may obtain a copy of the License at\n",
       " *\n",
       " *     https://www.apache.org/licenses/LICENSE-2.0\n",
       " *\n",
       " * Unless required by applicable law or agreed to in writing, software\n",
       " * distributed under the License is distributed on an \"AS IS\" BASIS,\n",
       " * WITHOUT WARRANTIES OR CONDITIONS OF ANY KIND, either express or implied.\n",
       " * See the License for the specific language governing permissions and\n",
       " * limitations under the License.\n",
       " */\n",
       "\n",
       "/**\n",
       " *  Plotting of decision trees generated by TF-DF.\n",
       " *\n",
       " *  A tree is a recursive structure of node objects.\n",
       " *  A node contains one or more of the following components:\n",
       " *\n",
       " *    - A value: Representing the output of the node. If the node is not a leaf,\n",
       " *      the value is only present for analysis i.e. it is not used for\n",
       " *      predictions.\n",
       " *\n",
       " *    - A condition : For non-leaf nodes, the condition (also known as split)\n",
       " *      defines a binary test to branch to the positive or negative child.\n",
       " *\n",
       " *    - An explanation: Generally a plot showing the relation between the label\n",
       " *      and the condition to give insights about the effect of the condition.\n",
       " *\n",
       " *    - Two children : For non-leaf nodes, the children nodes. The first\n",
       " *      children (i.e. \"node.children[0]\") is the negative children (drawn in\n",
       " *      red). The second children is the positive one (drawn in green).\n",
       " *\n",
       " */\n",
       "\n",
       "/**\n",
       " * Plots a single decision tree into a DOM element.\n",
       " * @param {!options} options Dictionary of configurations.\n",
       " * @param {!tree} raw_tree Recursive tree structure.\n",
       " * @param {string} canvas_id Id of the output dom element.\n",
       " */\n",
       "function display_tree(options, raw_tree, canvas_id) {\n",
       "  console.log(options);\n",
       "\n",
       "  // Determine the node placement.\n",
       "  const tree_struct = d3.tree().nodeSize(\n",
       "      [options.node_y_offset, options.node_x_offset])(d3.hierarchy(raw_tree));\n",
       "\n",
       "  // Boundaries of the node placement.\n",
       "  let x_min = Infinity;\n",
       "  let x_max = -x_min;\n",
       "  let y_min = Infinity;\n",
       "  let y_max = -x_min;\n",
       "\n",
       "  tree_struct.each(d => {\n",
       "    if (d.x > x_max) x_max = d.x;\n",
       "    if (d.x < x_min) x_min = d.x;\n",
       "    if (d.y > y_max) y_max = d.y;\n",
       "    if (d.y < y_min) y_min = d.y;\n",
       "  });\n",
       "\n",
       "  // Size of the plot.\n",
       "  const width = y_max - y_min + options.node_x_size + options.margin * 2;\n",
       "  const height = x_max - x_min + options.node_y_size + options.margin * 2 +\n",
       "      options.node_y_offset - options.node_y_size;\n",
       "\n",
       "  const plot = d3.select(canvas_id);\n",
       "\n",
       "  // Tool tip\n",
       "  options.tooltip = plot.append('div')\n",
       "                        .attr('width', 100)\n",
       "                        .attr('height', 100)\n",
       "                        .style('padding', '4px')\n",
       "                        .style('background', '#fff')\n",
       "                        .style('box-shadow', '4px 4px 0px rgba(0,0,0,0.1)')\n",
       "                        .style('border', '1px solid black')\n",
       "                        .style('font-family', 'sans-serif')\n",
       "                        .style('font-size', options.font_size)\n",
       "                        .style('position', 'absolute')\n",
       "                        .style('z-index', '10')\n",
       "                        .attr('pointer-events', 'none')\n",
       "                        .style('display', 'none');\n",
       "\n",
       "  // Create canvas\n",
       "  const svg = plot.append('svg').attr('width', width).attr('height', height);\n",
       "  const graph =\n",
       "      svg.style('overflow', 'visible')\n",
       "          .append('g')\n",
       "          .attr('font-family', 'sans-serif')\n",
       "          .attr('font-size', options.font_size)\n",
       "          .attr(\n",
       "              'transform',\n",
       "              () => `translate(${options.margin},${\n",
       "                  - x_min + options.node_y_offset / 2 + options.margin})`);\n",
       "\n",
       "  // Plot bounding box.\n",
       "  if (options.show_plot_bounding_box) {\n",
       "    svg.append('rect')\n",
       "        .attr('width', width)\n",
       "        .attr('height', height)\n",
       "        .attr('fill', 'none')\n",
       "        .attr('stroke-width', 1.0)\n",
       "        .attr('stroke', 'black');\n",
       "  }\n",
       "\n",
       "  // Draw the edges.\n",
       "  display_edges(options, graph, tree_struct);\n",
       "\n",
       "  // Draw the nodes.\n",
       "  display_nodes(options, graph, tree_struct);\n",
       "}\n",
       "\n",
       "/**\n",
       " * Draw the nodes of the tree.\n",
       " * @param {!options} options Dictionary of configurations.\n",
       " * @param {!graph} graph D3 search handle containing the graph.\n",
       " * @param {!tree_struct} tree_struct Structure of the tree (node placement,\n",
       " *     data, etc.).\n",
       " */\n",
       "function display_nodes(options, graph, tree_struct) {\n",
       "  const nodes = graph.append('g')\n",
       "                    .selectAll('g')\n",
       "                    .data(tree_struct.descendants())\n",
       "                    .join('g')\n",
       "                    .attr('transform', d => `translate(${d.y},${d.x})`);\n",
       "\n",
       "  nodes.append('rect')\n",
       "      .attr('x', 0.5)\n",
       "      .attr('y', 0.5)\n",
       "      .attr('width', options.node_x_size)\n",
       "      .attr('height', options.node_y_size)\n",
       "      .attr('stroke', 'lightgrey')\n",
       "      .attr('stroke-width', 1)\n",
       "      .attr('fill', 'white')\n",
       "      .attr('y', -options.node_y_size / 2);\n",
       "\n",
       "  // Brackets on the right of condition nodes without children.\n",
       "  non_leaf_node_without_children =\n",
       "      nodes.filter(node => node.data.condition != null && node.children == null)\n",
       "          .append('g')\n",
       "          .attr('transform', `translate(${options.node_x_size},0)`);\n",
       "\n",
       "  non_leaf_node_without_children.append('path')\n",
       "      .attr('d', 'M0,0 C 10,0 0,10 10,10')\n",
       "      .attr('fill', 'none')\n",
       "      .attr('stroke-width', 1.0)\n",
       "      .attr('stroke', '#F00');\n",
       "\n",
       "  non_leaf_node_without_children.append('path')\n",
       "      .attr('d', 'M0,0 C 10,0 0,-10 10,-10')\n",
       "      .attr('fill', 'none')\n",
       "      .attr('stroke-width', 1.0)\n",
       "      .attr('stroke', '#0F0');\n",
       "\n",
       "  const node_content = nodes.append('g').attr(\n",
       "      'transform',\n",
       "      `translate(0,${options.node_padding - options.node_y_size / 2})`);\n",
       "\n",
       "  node_content.append(node => create_node_element(options, node));\n",
       "}\n",
       "\n",
       "/**\n",
       " * Creates the D3 content for a single node.\n",
       " * @param {!options} options Dictionary of configurations.\n",
       " * @param {!node} node Node to draw.\n",
       " * @return {!d3} D3 content.\n",
       " */\n",
       "function create_node_element(options, node) {\n",
       "  // Output accumulator.\n",
       "  let output = {\n",
       "    // Content to draw.\n",
       "    content: d3.create('svg:g'),\n",
       "    // Vertical offset to the next element to draw.\n",
       "    vertical_offset: 0\n",
       "  };\n",
       "\n",
       "  // Conditions.\n",
       "  if (node.data.condition != null) {\n",
       "    display_condition(options, node.data.condition, output);\n",
       "  }\n",
       "\n",
       "  // Values.\n",
       "  if (node.data.value != null) {\n",
       "    display_value(options, node.data.value, output);\n",
       "  }\n",
       "\n",
       "  // Explanations.\n",
       "  if (node.data.explanation != null) {\n",
       "    display_explanation(options, node.data.explanation, output);\n",
       "  }\n",
       "\n",
       "  return output.content.node();\n",
       "}\n",
       "\n",
       "\n",
       "/**\n",
       " * Adds a single line of text inside of a node.\n",
       " * @param {!options} options Dictionary of configurations.\n",
       " * @param {string} text Text to display.\n",
       " * @param {!output} output Output display accumulator.\n",
       " */\n",
       "function display_node_text(options, text, output) {\n",
       "  output.content.append('text')\n",
       "      .attr('x', options.node_padding)\n",
       "      .attr('y', output.vertical_offset)\n",
       "      .attr('alignment-baseline', 'hanging')\n",
       "      .text(text);\n",
       "  output.vertical_offset += 10;\n",
       "}\n",
       "\n",
       "/**\n",
       " * Adds a single line of text inside of a node with a tooltip.\n",
       " * @param {!options} options Dictionary of configurations.\n",
       " * @param {string} text Text to display.\n",
       " * @param {string} tooltip Text in the Tooltip.\n",
       " * @param {!output} output Output display accumulator.\n",
       " */\n",
       "function display_node_text_with_tooltip(options, text, tooltip, output) {\n",
       "  const item = output.content.append('text')\n",
       "                   .attr('x', options.node_padding)\n",
       "                   .attr('alignment-baseline', 'hanging')\n",
       "                   .text(text);\n",
       "\n",
       "  add_tooltip(options, item, () => tooltip);\n",
       "  output.vertical_offset += 10;\n",
       "}\n",
       "\n",
       "/**\n",
       " * Adds a tooltip to a dom element.\n",
       " * @param {!options} options Dictionary of configurations.\n",
       " * @param {!dom} target Dom element to equip with a tooltip.\n",
       " * @param {!func} get_content Generates the html content of the tooltip.\n",
       " */\n",
       "function add_tooltip(options, target, get_content) {\n",
       "  function show(d) {\n",
       "    options.tooltip.style('display', 'block');\n",
       "    options.tooltip.html(get_content());\n",
       "  }\n",
       "\n",
       "  function hide(d) {\n",
       "    options.tooltip.style('display', 'none');\n",
       "  }\n",
       "\n",
       "  function move(d) {\n",
       "    options.tooltip.style('display', 'block');\n",
       "    options.tooltip.style('left', (d.pageX + 5) + 'px');\n",
       "    options.tooltip.style('top', d.pageY + 'px');\n",
       "  }\n",
       "\n",
       "  target.on('mouseover', show);\n",
       "  target.on('mouseout', hide);\n",
       "  target.on('mousemove', move);\n",
       "}\n",
       "\n",
       "/**\n",
       " * Adds a condition inside of a node.\n",
       " * @param {!options} options Dictionary of configurations.\n",
       " * @param {!condition} condition Condition to display.\n",
       " * @param {!output} output Output display accumulator.\n",
       " */\n",
       "function display_condition(options, condition, output) {\n",
       "  threshold_format = d3.format('r');\n",
       "\n",
       "  if (condition.type === 'IS_MISSING') {\n",
       "    display_node_text(options, `${condition.attribute} is missing`, output);\n",
       "    return;\n",
       "  }\n",
       "\n",
       "  if (condition.type === 'IS_TRUE') {\n",
       "    display_node_text(options, `${condition.attribute} is true`, output);\n",
       "    return;\n",
       "  }\n",
       "\n",
       "  if (condition.type === 'NUMERICAL_IS_HIGHER_THAN') {\n",
       "    format = d3.format('r');\n",
       "    display_node_text(\n",
       "        options,\n",
       "        `${condition.attribute} >= ${threshold_format(condition.threshold)}`,\n",
       "        output);\n",
       "    return;\n",
       "  }\n",
       "\n",
       "  if (condition.type === 'CATEGORICAL_IS_IN') {\n",
       "    display_node_text_with_tooltip(\n",
       "        options, `${condition.attribute} in [...]`,\n",
       "        `${condition.attribute} in [${condition.mask}]`, output);\n",
       "    return;\n",
       "  }\n",
       "\n",
       "  if (condition.type === 'CATEGORICAL_SET_CONTAINS') {\n",
       "    display_node_text_with_tooltip(\n",
       "        options, `${condition.attribute} intersect [...]`,\n",
       "        `${condition.attribute} intersect [${condition.mask}]`, output);\n",
       "    return;\n",
       "  }\n",
       "\n",
       "  if (condition.type === 'NUMERICAL_SPARSE_OBLIQUE') {\n",
       "    display_node_text_with_tooltip(\n",
       "        options, `Sparse oblique split...`,\n",
       "        `[${condition.attributes}]*[${condition.weights}]>=${\n",
       "            threshold_format(condition.threshold)}`,\n",
       "        output);\n",
       "    return;\n",
       "  }\n",
       "\n",
       "  display_node_text(\n",
       "      options, `Non supported condition ${condition.type}`, output);\n",
       "}\n",
       "\n",
       "/**\n",
       " * Adds a value inside of a node.\n",
       " * @param {!options} options Dictionary of configurations.\n",
       " * @param {!value} value Value to display.\n",
       " * @param {!output} output Output display accumulator.\n",
       " */\n",
       "function display_value(options, value, output) {\n",
       "  if (value.type === 'PROBABILITY') {\n",
       "    const left_margin = 0;\n",
       "    const right_margin = 50;\n",
       "    const plot_width = options.node_x_size - options.node_padding * 2 -\n",
       "        left_margin - right_margin;\n",
       "\n",
       "    let cusum = Array.from(d3.cumsum(value.distribution));\n",
       "    cusum.unshift(0);\n",
       "    const distribution_plot = output.content.append('g').attr(\n",
       "        'transform', `translate(0,${output.vertical_offset + 0.5})`);\n",
       "\n",
       "    distribution_plot.selectAll('rect')\n",
       "        .data(value.distribution)\n",
       "        .join('rect')\n",
       "        .attr('height', 10)\n",
       "        .attr(\n",
       "            'x',\n",
       "            (d, i) =>\n",
       "                (cusum[i] * plot_width + left_margin + options.node_padding))\n",
       "        .attr('width', (d, i) => d * plot_width)\n",
       "        .style('fill', (d, i) => d3.schemeSet1[i]);\n",
       "\n",
       "    const num_examples =\n",
       "        output.content.append('g')\n",
       "            .attr('transform', `translate(0,${output.vertical_offset})`)\n",
       "            .append('text')\n",
       "            .attr('x', options.node_x_size - options.node_padding)\n",
       "            .attr('alignment-baseline', 'hanging')\n",
       "            .attr('text-anchor', 'end')\n",
       "            .text(`(${value.num_examples})`);\n",
       "\n",
       "    const distribution_details = d3.create('ul');\n",
       "    distribution_details.selectAll('li')\n",
       "        .data(value.distribution)\n",
       "        .join('li')\n",
       "        .append('span')\n",
       "        .text(\n",
       "            (d, i) =>\n",
       "                'class ' + i + ': ' + d3.format('.3%')(value.distribution[i]));\n",
       "\n",
       "    add_tooltip(options, distribution_plot, () => distribution_details.html());\n",
       "    add_tooltip(options, num_examples, () => 'Number of examples');\n",
       "\n",
       "    output.vertical_offset += 10;\n",
       "    return;\n",
       "  }\n",
       "\n",
       "  if (value.type === 'REGRESSION') {\n",
       "    display_node_text(\n",
       "        options,\n",
       "        'value: ' + d3.format('r')(value.value) + ` (` +\n",
       "            d3.format('.6')(value.num_examples) + `)`,\n",
       "        output);\n",
       "    return;\n",
       "  }\n",
       "\n",
       "  display_node_text(options, `Non supported value ${value.type}`, output);\n",
       "}\n",
       "\n",
       "/**\n",
       " * Adds an explanation inside of a node.\n",
       " * @param {!options} options Dictionary of configurations.\n",
       " * @param {!explanation} explanation Explanation to display.\n",
       " * @param {!output} output Output display accumulator.\n",
       " */\n",
       "function display_explanation(options, explanation, output) {\n",
       "  // Margin before the explanation.\n",
       "  output.vertical_offset += 10;\n",
       "\n",
       "  display_node_text(\n",
       "      options, `Non supported explanation ${explanation.type}`, output);\n",
       "}\n",
       "\n",
       "\n",
       "/**\n",
       " * Draw the edges of the tree.\n",
       " * @param {!options} options Dictionary of configurations.\n",
       " * @param {!graph} graph D3 search handle containing the graph.\n",
       " * @param {!tree_struct} tree_struct Structure of the tree (node placement,\n",
       " *     data, etc.).\n",
       " */\n",
       "function display_edges(options, graph, tree_struct) {\n",
       "  // Draw an edge between a parent and a child node with a bezier.\n",
       "  function draw_single_edge(d) {\n",
       "    return 'M' + (d.source.y + options.node_x_size) + ',' + d.source.x + ' C' +\n",
       "        (d.source.y + options.node_x_size + options.edge_rounding) + ',' +\n",
       "        d.source.x + ' ' + (d.target.y - options.edge_rounding) + ',' +\n",
       "        d.target.x + ' ' + d.target.y + ',' + d.target.x;\n",
       "  }\n",
       "\n",
       "  graph.append('g')\n",
       "      .attr('fill', 'none')\n",
       "      .attr('stroke-width', 1.2)\n",
       "      .selectAll('path')\n",
       "      .data(tree_struct.links())\n",
       "      .join('path')\n",
       "      .attr('d', draw_single_edge)\n",
       "      .attr(\n",
       "          'stroke', d => (d.target === d.source.children[0]) ? '#0F0' : '#F00');\n",
       "}\n",
       "\n",
       "display_tree({\"margin\": 10, \"node_x_size\": 160, \"node_y_size\": 28, \"node_x_offset\": 180, \"node_y_offset\": 33, \"font_size\": 10, \"edge_rounding\": 20, \"node_padding\": 2, \"show_plot_bounding_box\": false}, {\"value\": {\"type\": \"PROBABILITY\", \"distribution\": [0.4978902953586498, 0.29535864978902954, 0.20675105485232068], \"num_examples\": 237.0}, \"condition\": {\"type\": \"NUMERICAL_IS_HIGHER_THAN\", \"attribute\": \"bill_depth_mm\", \"threshold\": 16.450000762939453}, \"children\": [{\"value\": {\"type\": \"PROBABILITY\", \"distribution\": [0.6981132075471698, 0.0, 0.3018867924528302], \"num_examples\": 159.0}, \"condition\": {\"type\": \"NUMERICAL_IS_HIGHER_THAN\", \"attribute\": \"flipper_length_mm\", \"threshold\": 194.5}, \"children\": [{\"value\": {\"type\": \"PROBABILITY\", \"distribution\": [0.453125, 0.0, 0.546875], \"num_examples\": 64.0}, \"condition\": {\"type\": \"CATEGORICAL_IS_IN\", \"attribute\": \"island\", \"mask\": [\"Biscoe\", \"Torgersen\"]}, \"children\": [{\"value\": {\"type\": \"PROBABILITY\", \"distribution\": [1.0, 0.0, 0.0], \"num_examples\": 21.0}}, {\"value\": {\"type\": \"PROBABILITY\", \"distribution\": [0.18604651162790697, 0.0, 0.813953488372093], \"num_examples\": 43.0}, \"condition\": {\"type\": \"NUMERICAL_IS_HIGHER_THAN\", \"attribute\": \"bill_length_mm\", \"threshold\": 42.5}}]}, {\"value\": {\"type\": \"PROBABILITY\", \"distribution\": [0.8631578947368421, 0.0, 0.1368421052631579], \"num_examples\": 95.0}, \"condition\": {\"type\": \"NUMERICAL_IS_HIGHER_THAN\", \"attribute\": \"bill_length_mm\", \"threshold\": 40.80000305175781}, \"children\": [{\"value\": {\"type\": \"PROBABILITY\", \"distribution\": [0.38095238095238093, 0.0, 0.6190476190476191], \"num_examples\": 21.0}, \"condition\": {\"type\": \"CATEGORICAL_IS_IN\", \"attribute\": \"sex\", \"mask\": [\"female\"]}}, {\"value\": {\"type\": \"PROBABILITY\", \"distribution\": [1.0, 0.0, 0.0], \"num_examples\": 74.0}}]}]}, {\"value\": {\"type\": \"PROBABILITY\", \"distribution\": [0.08974358974358974, 0.8974358974358975, 0.01282051282051282], \"num_examples\": 78.0}, \"condition\": {\"type\": \"NUMERICAL_IS_HIGHER_THAN\", \"attribute\": \"flipper_length_mm\", \"threshold\": 201.0}, \"children\": [{\"value\": {\"type\": \"PROBABILITY\", \"distribution\": [0.0, 1.0, 0.0], \"num_examples\": 70.0}}, {\"value\": {\"type\": \"PROBABILITY\", \"distribution\": [0.875, 0.0, 0.125], \"num_examples\": 8.0}}]}]}, \"#tree_plot_8a8fcce199824c609d21f06c9e336bba\")\n",
       "</script>\n"
      ],
      "text/plain": [
       "<IPython.core.display.HTML object>"
      ]
     },
     "execution_count": 14,
     "metadata": {},
     "output_type": "execute_result"
    }
   ],
   "source": [
    "tfdf.model_plotter.plot_model_in_colab(model_1, tree_idx=0, max_depth=3)"
   ]
  },
  {
   "cell_type": "markdown",
   "metadata": {
    "id": "cPcL_hDnY7Zy"
   },
   "source": [
    "The root node on the left contains the first condition (`bill_depth_mm >= 16.55`), number of examples (240) and label distribution (the red-blue-green bar).\n",
    "\n",
    "Examples that evaluates true to `bill_depth_mm >= 16.55` are branched to the green path. The other ones are branched to the red path.\n",
    "\n",
    "The deeper the node, the more `pure` they become i.e. the label distribution is biased toward a subset of classes. \n",
    "\n",
    "**Note:** Over the mouse on top of the plot for details."
   ]
  },
  {
   "cell_type": "markdown",
   "metadata": {
    "id": "-ob3ovQ2seVY"
   },
   "source": [
    "## Model structure and feature importance\n",
    "\n",
    "The overall structure of the model is show with `.summary()`. You will see:\n",
    "\n",
    "-   **Type**: The learning algorithm used to train the model (`Random Forest` in\n",
    "    our case).\n",
    "-   **Task**: The problem solved by the model (`Classification` in our case).\n",
    "-   **Input Features**: The input features of the model.\n",
    "-   **Variable Importance**: Different measures of the importance of each\n",
    "    feature for the model.\n",
    "-   **Out-of-bag evaluation**: The out-of-bag evaluation of the model. This is a\n",
    "    cheap and efficient alternative to cross-validation.\n",
    "-   **Number of {trees, nodes} and other metrics**: Statistics about the\n",
    "    structure of the decisions forests.\n",
    "\n",
    "**Remark:** The summary's content depends on the learning algorithm (e.g.\n",
    "Out-of-bag is only available for Random Forest) and the hyper-parameters (e.g.\n",
    "the *mean-decrease-in-accuracy* variable importance can be disabled in the\n",
    "hyper-parameters)."
   ]
  },
  {
   "cell_type": "code",
   "execution_count": 15,
   "metadata": {
    "execution": {
     "iopub.execute_input": "2023-01-25T12:08:12.315322Z",
     "iopub.status.busy": "2023-01-25T12:08:12.314930Z",
     "iopub.status.idle": "2023-01-25T12:08:12.327099Z",
     "shell.execute_reply": "2023-01-25T12:08:12.326330Z"
    },
    "id": "kzXME28Lq7Il"
   },
   "outputs": [
    {
     "data": {
      "application/javascript": [
       "google.colab.output.setIframeHeight(0, true, {maxHeight: 300})"
      ],
      "text/plain": [
       "<IPython.core.display.Javascript object>"
      ]
     },
     "metadata": {},
     "output_type": "display_data"
    },
    {
     "name": "stdout",
     "output_type": "stream",
     "text": [
      "Model: \"random_forest_model\"\n"
     ]
    },
    {
     "name": "stdout",
     "output_type": "stream",
     "text": [
      "_________________________________________________________________\n"
     ]
    },
    {
     "name": "stdout",
     "output_type": "stream",
     "text": [
      " Layer (type)                Output Shape              Param #   \n"
     ]
    },
    {
     "name": "stdout",
     "output_type": "stream",
     "text": [
      "=================================================================\n"
     ]
    },
    {
     "name": "stdout",
     "output_type": "stream",
     "text": [
      "=================================================================\n"
     ]
    },
    {
     "name": "stdout",
     "output_type": "stream",
     "text": [
      "Total params: 1\n"
     ]
    },
    {
     "name": "stdout",
     "output_type": "stream",
     "text": [
      "Trainable params: 0\n"
     ]
    },
    {
     "name": "stdout",
     "output_type": "stream",
     "text": [
      "Non-trainable params: 1\n"
     ]
    },
    {
     "name": "stdout",
     "output_type": "stream",
     "text": [
      "_________________________________________________________________\n"
     ]
    },
    {
     "name": "stdout",
     "output_type": "stream",
     "text": [
      "Type: \"RANDOM_FOREST\"\n",
      "Task: CLASSIFICATION\n",
      "Label: \"__LABEL\"\n",
      "\n",
      "Input Features (7):\n",
      "\tbill_depth_mm\n",
      "\tbill_length_mm\n",
      "\tbody_mass_g\n",
      "\tflipper_length_mm\n",
      "\tisland\n",
      "\tsex\n",
      "\tyear\n",
      "\n",
      "No weights\n",
      "\n",
      "Variable Importance: INV_MEAN_MIN_DEPTH:\n",
      "    1. \"flipper_length_mm\"  0.425482 ################\n",
      "    2.    \"bill_length_mm\"  0.412682 ##############\n",
      "    3.     \"bill_depth_mm\"  0.327906 #######\n",
      "    4.            \"island\"  0.303162 #####\n",
      "    5.       \"body_mass_g\"  0.266132 ##\n",
      "    6.               \"sex\"  0.234910 \n",
      "    7.              \"year\"  0.233537 \n",
      "\n",
      "Variable Importance: NUM_AS_ROOT:\n",
      "    1. \"flipper_length_mm\" 151.000000 ################\n",
      "    2.     \"bill_depth_mm\" 70.000000 #######\n",
      "    3.    \"bill_length_mm\" 65.000000 ######\n",
      "    4.       \"body_mass_g\"  8.000000 \n",
      "    5.            \"island\"  6.000000 \n",
      "\n",
      "Variable Importance: NUM_NODES:\n",
      "    1.    \"bill_length_mm\" 721.000000 ################\n",
      "    2.     \"bill_depth_mm\" 408.000000 ########\n",
      "    3. \"flipper_length_mm\" 361.000000 #######\n",
      "    4.       \"body_mass_g\" 296.000000 ######\n",
      "    5.            \"island\" 269.000000 #####\n",
      "    6.               \"sex\" 34.000000 \n",
      "    7.              \"year\" 18.000000 \n",
      "\n",
      "Variable Importance: SUM_SCORE:\n",
      "    1.    \"bill_length_mm\" 23466.171626 ################\n",
      "    2. \"flipper_length_mm\" 22061.904065 ###############\n",
      "    3.     \"bill_depth_mm\" 12645.433814 ########\n",
      "    4.            \"island\" 8817.196900 #####\n",
      "    5.       \"body_mass_g\" 2836.277054 #\n",
      "    6.               \"sex\" 258.195324 \n",
      "    7.              \"year\" 37.423151 \n",
      "\n",
      "\n",
      "\n",
      "Winner takes all: true\n",
      "Out-of-bag evaluation: accuracy:0.966245 logloss:0.0941596\n",
      "Number of trees: 300\n",
      "Total number of nodes: 4514\n",
      "\n",
      "Number of nodes by tree:\n",
      "Count: 300 Average: 15.0467 StdDev: 2.96836\n",
      "Min: 9 Max: 33 Ignored: 0\n",
      "----------------------------------------------\n",
      "[  9, 10)  2   0.67%   0.67%\n",
      "[ 10, 11)  0   0.00%   0.67%\n",
      "[ 11, 12) 31  10.33%  11.00% ###\n",
      "[ 12, 14) 83  27.67%  38.67% #########\n",
      "[ 14, 15)  0   0.00%  38.67%\n",
      "[ 15, 16) 94  31.33%  70.00% ##########\n",
      "[ 16, 17)  0   0.00%  70.00%\n",
      "[ 17, 19) 57  19.00%  89.00% ######\n",
      "[ 19, 20) 16   5.33%  94.33% ##\n",
      "[ 20, 21)  0   0.00%  94.33%\n",
      "[ 21, 22)  7   2.33%  96.67% #\n",
      "[ 22, 24)  6   2.00%  98.67% #\n",
      "[ 24, 25)  0   0.00%  98.67%\n",
      "[ 25, 26)  3   1.00%  99.67%\n",
      "[ 26, 27)  0   0.00%  99.67%\n",
      "[ 27, 29)  0   0.00%  99.67%\n",
      "[ 29, 30)  0   0.00%  99.67%\n",
      "[ 30, 31)  0   0.00%  99.67%\n",
      "[ 31, 32)  0   0.00%  99.67%\n",
      "[ 32, 33]  1   0.33% 100.00%\n",
      "\n",
      "Depth by leafs:\n",
      "Count: 2407 Average: 3.36394 StdDev: 1.09218\n",
      "Min: 1 Max: 7 Ignored: 0\n",
      "----------------------------------------------\n",
      "[ 1, 2)   5   0.21%   0.21%\n",
      "[ 2, 3) 594  24.68%  24.89% ########\n",
      "[ 3, 4) 779  32.36%  57.25% ##########\n",
      "[ 4, 5) 661  27.46%  84.71% ########\n",
      "[ 5, 6) 299  12.42%  97.13% ####\n",
      "[ 6, 7)  55   2.29%  99.42% #\n",
      "[ 7, 7]  14   0.58% 100.00%\n",
      "\n",
      "Number of training obs by leaf:\n",
      "Count: 2407 Average: 29.5388 StdDev: 31.0893\n",
      "Min: 5 Max: 121 Ignored: 0\n",
      "----------------------------------------------\n",
      "[   5,  10) 1199  49.81%  49.81% ##########\n",
      "[  10,  16)  125   5.19%  55.01% #\n",
      "[  16,  22)   79   3.28%  58.29% #\n",
      "[  22,  28)  105   4.36%  62.65% #\n",
      "[  28,  34)  131   5.44%  68.09% #\n",
      "[  34,  40)   94   3.91%  72.00% #\n",
      "[  40,  45)   51   2.12%  74.12%\n",
      "[  45,  51)   22   0.91%  75.03%\n",
      "[  51,  57)   14   0.58%  75.61%\n",
      "[  57,  63)   36   1.50%  77.11%\n",
      "[  63,  69)   71   2.95%  80.06% #\n",
      "[  69,  75)  112   4.65%  84.71% #\n",
      "[  75,  81)  110   4.57%  89.28% #\n",
      "[  81,  86)   89   3.70%  92.98% #\n",
      "[  86,  92)   64   2.66%  95.64% #\n",
      "[  92,  98)   40   1.66%  97.30%\n",
      "[  98, 104)   37   1.54%  98.84%\n",
      "[ 104, 110)   18   0.75%  99.58%\n",
      "[ 110, 116)    8   0.33%  99.92%\n",
      "[ 116, 121]    2   0.08% 100.00%\n",
      "\n",
      "Attribute in nodes:\n",
      "\t721 : bill_length_mm [NUMERICAL]\n",
      "\t408 : bill_depth_mm [NUMERICAL]\n",
      "\t361 : flipper_length_mm [NUMERICAL]\n",
      "\t296 : body_mass_g [NUMERICAL]\n",
      "\t269 : island [CATEGORICAL]\n",
      "\t34 : sex [CATEGORICAL]\n",
      "\t18 : year [NUMERICAL]\n",
      "\n",
      "Attribute in nodes with depth <= 0:\n",
      "\t151 : flipper_length_mm [NUMERICAL]\n",
      "\t70 : bill_depth_mm [NUMERICAL]\n",
      "\t65 : bill_length_mm [NUMERICAL]\n",
      "\t8 : body_mass_g [NUMERICAL]\n",
      "\t6 : island [CATEGORICAL]\n",
      "\n",
      "Attribute in nodes with depth <= 1:\n",
      "\t246 : bill_length_mm [NUMERICAL]\n",
      "\t237 : flipper_length_mm [NUMERICAL]\n",
      "\t188 : bill_depth_mm [NUMERICAL]\n",
      "\t167 : island [CATEGORICAL]\n",
      "\t57 : body_mass_g [NUMERICAL]\n",
      "\n",
      "Attribute in nodes with depth <= 2:\n",
      "\t475 : bill_length_mm [NUMERICAL]\n",
      "\t303 : bill_depth_mm [NUMERICAL]\n",
      "\t299 : flipper_length_mm [NUMERICAL]\n",
      "\t240 : island [CATEGORICAL]\n",
      "\t163 : body_mass_g [NUMERICAL]\n",
      "\t6 : sex [CATEGORICAL]\n",
      "\t5 : year [NUMERICAL]\n",
      "\n",
      "Attribute in nodes with depth <= 3:\n",
      "\t640 : bill_length_mm [NUMERICAL]\n",
      "\t373 : bill_depth_mm [NUMERICAL]\n",
      "\t336 : flipper_length_mm [NUMERICAL]\n",
      "\t264 : island [CATEGORICAL]\n",
      "\t254 : body_mass_g [NUMERICAL]\n",
      "\t27 : sex [CATEGORICAL]\n",
      "\t10 : year [NUMERICAL]\n",
      "\n",
      "Attribute in nodes with depth <= 5:\n",
      "\t717 : bill_length_mm [NUMERICAL]\n",
      "\t408 : bill_depth_mm [NUMERICAL]\n",
      "\t359 : flipper_length_mm [NUMERICAL]\n",
      "\t295 : body_mass_g [NUMERICAL]\n",
      "\t269 : island [CATEGORICAL]\n",
      "\t34 : sex [CATEGORICAL]\n",
      "\t18 : year [NUMERICAL]\n",
      "\n",
      "Condition type in nodes:\n",
      "\t1804 : HigherCondition\n",
      "\t303 : ContainsBitmapCondition\n",
      "Condition type in nodes with depth <= 0:\n",
      "\t294 : HigherCondition\n",
      "\t6 : ContainsBitmapCondition\n",
      "Condition type in nodes with depth <= 1:\n",
      "\t728 : HigherCondition\n",
      "\t167 : ContainsBitmapCondition\n",
      "Condition type in nodes with depth <= 2:\n",
      "\t1245 : HigherCondition\n",
      "\t246 : ContainsBitmapCondition\n",
      "Condition type in nodes with depth <= 3:\n",
      "\t1613 : HigherCondition\n",
      "\t291 : ContainsBitmapCondition\n",
      "Condition type in nodes with depth <= 5:\n",
      "\t1797 : HigherCondition\n",
      "\t303 : ContainsBitmapCondition\n",
      "Node format: NOT_SET\n",
      "\n",
      "Training OOB:\n",
      "\ttrees: 1, Out-of-bag evaluation: accuracy:0.901099 logloss:3.56476\n",
      "\ttrees: 11, Out-of-bag evaluation: accuracy:0.965368 logloss:0.54449\n",
      "\ttrees: 21, Out-of-bag evaluation: accuracy:0.957806 logloss:0.252622\n",
      "\ttrees: 31, Out-of-bag evaluation: accuracy:0.962025 logloss:0.244048\n",
      "\ttrees: 42, Out-of-bag evaluation: accuracy:0.953587 logloss:0.242628\n",
      "\ttrees: 53, Out-of-bag evaluation: accuracy:0.957806 logloss:0.241187\n",
      "\ttrees: 63, Out-of-bag evaluation: accuracy:0.970464 logloss:0.239073\n",
      "\ttrees: 73, Out-of-bag evaluation: accuracy:0.978903 logloss:0.233146\n",
      "\ttrees: 84, Out-of-bag evaluation: accuracy:0.978903 logloss:0.227646\n",
      "\ttrees: 94, Out-of-bag evaluation: accuracy:0.974684 logloss:0.226604\n",
      "\ttrees: 105, Out-of-bag evaluation: accuracy:0.974684 logloss:0.226708\n",
      "\ttrees: 115, Out-of-bag evaluation: accuracy:0.978903 logloss:0.225063\n",
      "\ttrees: 126, Out-of-bag evaluation: accuracy:0.978903 logloss:0.223856\n",
      "\ttrees: 137, Out-of-bag evaluation: accuracy:0.978903 logloss:0.22474\n",
      "\ttrees: 148, Out-of-bag evaluation: accuracy:0.970464 logloss:0.227393\n",
      "\ttrees: 159, Out-of-bag evaluation: accuracy:0.978903 logloss:0.22771\n",
      "\ttrees: 170, Out-of-bag evaluation: accuracy:0.974684 logloss:0.0931108\n",
      "\ttrees: 182, Out-of-bag evaluation: accuracy:0.974684 logloss:0.0945836\n",
      "\ttrees: 193, Out-of-bag evaluation: accuracy:0.983122 logloss:0.0954853\n",
      "\ttrees: 204, Out-of-bag evaluation: accuracy:0.978903 logloss:0.0952433\n",
      "\ttrees: 214, Out-of-bag evaluation: accuracy:0.974684 logloss:0.0968419\n",
      "\ttrees: 224, Out-of-bag evaluation: accuracy:0.974684 logloss:0.0963968\n",
      "\ttrees: 234, Out-of-bag evaluation: accuracy:0.978903 logloss:0.0964259\n",
      "\ttrees: 245, Out-of-bag evaluation: accuracy:0.974684 logloss:0.096763\n",
      "\ttrees: 256, Out-of-bag evaluation: accuracy:0.974684 logloss:0.0982132\n",
      "\ttrees: 266, Out-of-bag evaluation: accuracy:0.974684 logloss:0.0983008\n",
      "\ttrees: 276, Out-of-bag evaluation: accuracy:0.978903 logloss:0.0976595\n",
      "\ttrees: 287, Out-of-bag evaluation: accuracy:0.974684 logloss:0.097573\n",
      "\ttrees: 297, Out-of-bag evaluation: accuracy:0.970464 logloss:0.0977524\n",
      "\ttrees: 300, Out-of-bag evaluation: accuracy:0.966245 logloss:0.0941596\n",
      "\n"
     ]
    }
   ],
   "source": [
    "%set_cell_height 300\n",
    "model_1.summary()"
   ]
  },
  {
   "cell_type": "markdown",
   "metadata": {
    "id": "d4ApRpUm02zU"
   },
   "source": [
    "The information in ``summary`` are all available programmatically using the model inspector:"
   ]
  },
  {
   "cell_type": "code",
   "execution_count": 16,
   "metadata": {
    "execution": {
     "iopub.execute_input": "2023-01-25T12:08:12.330706Z",
     "iopub.status.busy": "2023-01-25T12:08:12.330117Z",
     "iopub.status.idle": "2023-01-25T12:08:12.336221Z",
     "shell.execute_reply": "2023-01-25T12:08:12.335484Z"
    },
    "id": "G3xuB3jN1Cww"
   },
   "outputs": [
    {
     "data": {
      "text/plain": [
       "[\"bill_depth_mm\" (1; #1),\n",
       " \"bill_length_mm\" (1; #2),\n",
       " \"body_mass_g\" (1; #3),\n",
       " \"flipper_length_mm\" (1; #4),\n",
       " \"island\" (4; #5),\n",
       " \"sex\" (4; #6),\n",
       " \"year\" (1; #7)]"
      ]
     },
     "execution_count": 16,
     "metadata": {},
     "output_type": "execute_result"
    }
   ],
   "source": [
    "# The input features\n",
    "model_1.make_inspector().features()"
   ]
  },
  {
   "cell_type": "code",
   "execution_count": 17,
   "metadata": {
    "execution": {
     "iopub.execute_input": "2023-01-25T12:08:12.339308Z",
     "iopub.status.busy": "2023-01-25T12:08:12.338831Z",
     "iopub.status.idle": "2023-01-25T12:08:12.345434Z",
     "shell.execute_reply": "2023-01-25T12:08:12.344665Z"
    },
    "id": "BZ2RBbU51L6s"
   },
   "outputs": [
    {
     "data": {
      "text/plain": [
       "{'INV_MEAN_MIN_DEPTH': [(\"flipper_length_mm\" (1; #4), 0.4254822964112493),\n",
       "  (\"bill_length_mm\" (1; #2), 0.41268154964876486),\n",
       "  (\"bill_depth_mm\" (1; #1), 0.3279056344708182),\n",
       "  (\"island\" (4; #5), 0.30316169156769884),\n",
       "  (\"body_mass_g\" (1; #3), 0.2661322392676842),\n",
       "  (\"sex\" (4; #6), 0.23491019460307055),\n",
       "  (\"year\" (1; #7), 0.23353711685657053)],\n",
       " 'NUM_AS_ROOT': [(\"flipper_length_mm\" (1; #4), 151.0),\n",
       "  (\"bill_depth_mm\" (1; #1), 70.0),\n",
       "  (\"bill_length_mm\" (1; #2), 65.0),\n",
       "  (\"body_mass_g\" (1; #3), 8.0),\n",
       "  (\"island\" (4; #5), 6.0)],\n",
       " 'SUM_SCORE': [(\"bill_length_mm\" (1; #2), 23466.171626191586),\n",
       "  (\"flipper_length_mm\" (1; #4), 22061.904065191746),\n",
       "  (\"bill_depth_mm\" (1; #1), 12645.433814158663),\n",
       "  (\"island\" (4; #5), 8817.196899740025),\n",
       "  (\"body_mass_g\" (1; #3), 2836.2770542167127),\n",
       "  (\"sex\" (4; #6), 258.1953242085874),\n",
       "  (\"year\" (1; #7), 37.42315071349731)],\n",
       " 'NUM_NODES': [(\"bill_length_mm\" (1; #2), 721.0),\n",
       "  (\"bill_depth_mm\" (1; #1), 408.0),\n",
       "  (\"flipper_length_mm\" (1; #4), 361.0),\n",
       "  (\"body_mass_g\" (1; #3), 296.0),\n",
       "  (\"island\" (4; #5), 269.0),\n",
       "  (\"sex\" (4; #6), 34.0),\n",
       "  (\"year\" (1; #7), 18.0)]}"
      ]
     },
     "execution_count": 17,
     "metadata": {},
     "output_type": "execute_result"
    }
   ],
   "source": [
    "# The feature importances\n",
    "model_1.make_inspector().variable_importances()"
   ]
  },
  {
   "cell_type": "markdown",
   "metadata": {
    "id": "0zvyRJVk1aEk"
   },
   "source": [
    "The content of the summary and the inspector depends on the learning algorithm (`tfdf.keras.RandomForestModel` in this case) and its hyper-parameters (e.g. `compute_oob_variable_importances=True` will trigger the computation of Out-of-bag variable importances for the Random Forest learner)."
   ]
  },
  {
   "cell_type": "markdown",
   "metadata": {
    "id": "tFVmrHtWXYKY"
   },
   "source": [
    "## Model Self Evaluation\n",
    "\n",
    "During training TFDF models can self evaluate even if no validation dataset is provided to the `fit()` method. The exact logic depends on the model. For example, Random Forest will use Out-of-bag evaluation while Gradient Boosted Trees will use internal train-validation.\n",
    "\n",
    "**Note:** While this evaluation is  computed during training, it is NOT computed on the training dataset and can be used as a low quality evaluation.\n",
    "\n",
    "The model self evaluation is available with the inspector's `evaluation()`:"
   ]
  },
  {
   "cell_type": "code",
   "execution_count": 18,
   "metadata": {
    "execution": {
     "iopub.execute_input": "2023-01-25T12:08:12.348514Z",
     "iopub.status.busy": "2023-01-25T12:08:12.348289Z",
     "iopub.status.idle": "2023-01-25T12:08:12.354480Z",
     "shell.execute_reply": "2023-01-25T12:08:12.353722Z"
    },
    "id": "BZPzyIMmYmsI"
   },
   "outputs": [
    {
     "data": {
      "text/plain": [
       "Evaluation(num_examples=237, accuracy=0.9662447257383966, loss=0.09415958911172637, rmse=None, ndcg=None, aucs=None, auuc=None, qini=None)"
      ]
     },
     "execution_count": 18,
     "metadata": {},
     "output_type": "execute_result"
    }
   ],
   "source": [
    "model_1.make_inspector().evaluation()"
   ]
  },
  {
   "cell_type": "markdown",
   "metadata": {
    "id": "vBSz-jE0Qss_"
   },
   "source": [
    "## Plotting the training logs\n",
    "\n",
    "The training logs show the quality of the model (e.g. accuracy evaluated on the out-of-bag or validation dataset) according to the number of trees in the model. These logs are helpful to study the balance between model size and model quality.\n",
    "\n",
    "The logs are available in multiple ways:\n",
    "\n",
    "1. Displayed in during training if `fit()` is wrapped in `with sys_pipes():` (see example above).\n",
    "1. At the end of the model summary i.e. `model.summary()` (see example above).\n",
    "1. Programmatically, using the model inspector i.e. `model.make_inspector().training_logs()`.\n",
    "1. Using [TensorBoard](https://www.tensorflow.org/tensorboard)\n",
    "\n",
    "Let's try the options 2 and 3:\n"
   ]
  },
  {
   "cell_type": "code",
   "execution_count": 19,
   "metadata": {
    "execution": {
     "iopub.execute_input": "2023-01-25T12:08:12.357633Z",
     "iopub.status.busy": "2023-01-25T12:08:12.357063Z",
     "iopub.status.idle": "2023-01-25T12:08:12.365214Z",
     "shell.execute_reply": "2023-01-25T12:08:12.364423Z"
    },
    "id": "ZbRk7xvpTKQG"
   },
   "outputs": [
    {
     "data": {
      "application/javascript": [
       "google.colab.output.setIframeHeight(0, true, {maxHeight: 150})"
      ],
      "text/plain": [
       "<IPython.core.display.Javascript object>"
      ]
     },
     "metadata": {},
     "output_type": "display_data"
    },
    {
     "data": {
      "text/plain": [
       "[TrainLog(num_trees=1, evaluation=Evaluation(num_examples=91, accuracy=0.9010989010989011, loss=3.5647567497504937, rmse=None, ndcg=None, aucs=None, auuc=None, qini=None)),\n",
       " TrainLog(num_trees=11, evaluation=Evaluation(num_examples=231, accuracy=0.9653679653679653, loss=0.5444894905214186, rmse=None, ndcg=None, aucs=None, auuc=None, qini=None)),\n",
       " TrainLog(num_trees=21, evaluation=Evaluation(num_examples=237, accuracy=0.9578059071729957, loss=0.2526218149229444, rmse=None, ndcg=None, aucs=None, auuc=None, qini=None)),\n",
       " TrainLog(num_trees=31, evaluation=Evaluation(num_examples=237, accuracy=0.9620253164556962, loss=0.2440475665881664, rmse=None, ndcg=None, aucs=None, auuc=None, qini=None)),\n",
       " TrainLog(num_trees=42, evaluation=Evaluation(num_examples=237, accuracy=0.9535864978902954, loss=0.24262816201156706, rmse=None, ndcg=None, aucs=None, auuc=None, qini=None)),\n",
       " TrainLog(num_trees=53, evaluation=Evaluation(num_examples=237, accuracy=0.9578059071729957, loss=0.24118735128817176, rmse=None, ndcg=None, aucs=None, auuc=None, qini=None)),\n",
       " TrainLog(num_trees=63, evaluation=Evaluation(num_examples=237, accuracy=0.9704641350210971, loss=0.23907344560394309, rmse=None, ndcg=None, aucs=None, auuc=None, qini=None)),\n",
       " TrainLog(num_trees=73, evaluation=Evaluation(num_examples=237, accuracy=0.9789029535864979, loss=0.23314568829498714, rmse=None, ndcg=None, aucs=None, auuc=None, qini=None)),\n",
       " TrainLog(num_trees=84, evaluation=Evaluation(num_examples=237, accuracy=0.9789029535864979, loss=0.22764644995017394, rmse=None, ndcg=None, aucs=None, auuc=None, qini=None)),\n",
       " TrainLog(num_trees=94, evaluation=Evaluation(num_examples=237, accuracy=0.9746835443037974, loss=0.22660371195917894, rmse=None, ndcg=None, aucs=None, auuc=None, qini=None)),\n",
       " TrainLog(num_trees=105, evaluation=Evaluation(num_examples=237, accuracy=0.9746835443037974, loss=0.2267080863411165, rmse=None, ndcg=None, aucs=None, auuc=None, qini=None)),\n",
       " TrainLog(num_trees=115, evaluation=Evaluation(num_examples=237, accuracy=0.9789029535864979, loss=0.22506304014521308, rmse=None, ndcg=None, aucs=None, auuc=None, qini=None)),\n",
       " TrainLog(num_trees=126, evaluation=Evaluation(num_examples=237, accuracy=0.9789029535864979, loss=0.2238560340716995, rmse=None, ndcg=None, aucs=None, auuc=None, qini=None)),\n",
       " TrainLog(num_trees=137, evaluation=Evaluation(num_examples=237, accuracy=0.9789029535864979, loss=0.22474029479461882, rmse=None, ndcg=None, aucs=None, auuc=None, qini=None)),\n",
       " TrainLog(num_trees=148, evaluation=Evaluation(num_examples=237, accuracy=0.9704641350210971, loss=0.22739265151007518, rmse=None, ndcg=None, aucs=None, auuc=None, qini=None)),\n",
       " TrainLog(num_trees=159, evaluation=Evaluation(num_examples=237, accuracy=0.9789029535864979, loss=0.22770982528034645, rmse=None, ndcg=None, aucs=None, auuc=None, qini=None)),\n",
       " TrainLog(num_trees=170, evaluation=Evaluation(num_examples=237, accuracy=0.9746835443037974, loss=0.09311077744554619, rmse=None, ndcg=None, aucs=None, auuc=None, qini=None)),\n",
       " TrainLog(num_trees=182, evaluation=Evaluation(num_examples=237, accuracy=0.9746835443037974, loss=0.09458359226757339, rmse=None, ndcg=None, aucs=None, auuc=None, qini=None)),\n",
       " TrainLog(num_trees=193, evaluation=Evaluation(num_examples=237, accuracy=0.9831223628691983, loss=0.09548532919966093, rmse=None, ndcg=None, aucs=None, auuc=None, qini=None)),\n",
       " TrainLog(num_trees=204, evaluation=Evaluation(num_examples=237, accuracy=0.9789029535864979, loss=0.09524331924815972, rmse=None, ndcg=None, aucs=None, auuc=None, qini=None)),\n",
       " TrainLog(num_trees=214, evaluation=Evaluation(num_examples=237, accuracy=0.9746835443037974, loss=0.09684189987459263, rmse=None, ndcg=None, aucs=None, auuc=None, qini=None)),\n",
       " TrainLog(num_trees=224, evaluation=Evaluation(num_examples=237, accuracy=0.9746835443037974, loss=0.09639681822655699, rmse=None, ndcg=None, aucs=None, auuc=None, qini=None)),\n",
       " TrainLog(num_trees=234, evaluation=Evaluation(num_examples=237, accuracy=0.9789029535864979, loss=0.09642591570672984, rmse=None, ndcg=None, aucs=None, auuc=None, qini=None)),\n",
       " TrainLog(num_trees=245, evaluation=Evaluation(num_examples=237, accuracy=0.9746835443037974, loss=0.09676301493879234, rmse=None, ndcg=None, aucs=None, auuc=None, qini=None)),\n",
       " TrainLog(num_trees=256, evaluation=Evaluation(num_examples=237, accuracy=0.9746835443037974, loss=0.09821319910560102, rmse=None, ndcg=None, aucs=None, auuc=None, qini=None)),\n",
       " TrainLog(num_trees=266, evaluation=Evaluation(num_examples=237, accuracy=0.9746835443037974, loss=0.09830078077482901, rmse=None, ndcg=None, aucs=None, auuc=None, qini=None)),\n",
       " TrainLog(num_trees=276, evaluation=Evaluation(num_examples=237, accuracy=0.9789029535864979, loss=0.09765952671111762, rmse=None, ndcg=None, aucs=None, auuc=None, qini=None)),\n",
       " TrainLog(num_trees=287, evaluation=Evaluation(num_examples=237, accuracy=0.9746835443037974, loss=0.09757303090113753, rmse=None, ndcg=None, aucs=None, auuc=None, qini=None)),\n",
       " TrainLog(num_trees=297, evaluation=Evaluation(num_examples=237, accuracy=0.9704641350210971, loss=0.0977523631695265, rmse=None, ndcg=None, aucs=None, auuc=None, qini=None)),\n",
       " TrainLog(num_trees=300, evaluation=Evaluation(num_examples=237, accuracy=0.9662447257383966, loss=0.09415958911172637, rmse=None, ndcg=None, aucs=None, auuc=None, qini=None))]"
      ]
     },
     "execution_count": 19,
     "metadata": {},
     "output_type": "execute_result"
    }
   ],
   "source": [
    "%set_cell_height 150\n",
    "model_1.make_inspector().training_logs()"
   ]
  },
  {
   "cell_type": "markdown",
   "metadata": {
    "id": "WynFJCEbhuF_"
   },
   "source": [
    "Let's plot it:"
   ]
  },
  {
   "cell_type": "code",
   "execution_count": 20,
   "metadata": {
    "execution": {
     "iopub.execute_input": "2023-01-25T12:08:12.368452Z",
     "iopub.status.busy": "2023-01-25T12:08:12.367858Z",
     "iopub.status.idle": "2023-01-25T12:08:13.263533Z",
     "shell.execute_reply": "2023-01-25T12:08:13.262623Z"
    },
    "id": "xzPH7Gggh0g1"
   },
   "outputs": [
    {
     "data": {
      "image/png": "[encoded data removed]",
      "text/plain": [
       "<Figure size 1200x400 with 2 Axes>"
      ]
     },
     "metadata": {},
     "output_type": "display_data"
    }
   ],
   "source": [
    "import matplotlib.pyplot as plt\n",
    "\n",
    "logs = model_1.make_inspector().training_logs()\n",
    "\n",
    "plt.figure(figsize=(12, 4))\n",
    "\n",
    "plt.subplot(1, 2, 1)\n",
    "plt.plot([log.num_trees for log in logs], [log.evaluation.accuracy for log in logs])\n",
    "plt.xlabel(\"Number of trees\")\n",
    "plt.ylabel(\"Accuracy (out-of-bag)\")\n",
    "\n",
    "plt.subplot(1, 2, 2)\n",
    "plt.plot([log.num_trees for log in logs], [log.evaluation.loss for log in logs])\n",
    "plt.xlabel(\"Number of trees\")\n",
    "plt.ylabel(\"Logloss (out-of-bag)\")\n",
    "\n",
    "plt.show()"
   ]
  },
  {
   "cell_type": "markdown",
   "metadata": {
    "id": "w1xzugBRhwuN"
   },
   "source": [
    "This dataset is small. You can see the model converging almost immediately.\n",
    "\n",
    "Let's use TensorBoard:"
   ]
  },
  {
   "cell_type": "code",
   "execution_count": 21,
   "metadata": {
    "execution": {
     "iopub.execute_input": "2023-01-25T12:08:13.267330Z",
     "iopub.status.busy": "2023-01-25T12:08:13.266653Z",
     "iopub.status.idle": "2023-01-25T12:08:13.272546Z",
     "shell.execute_reply": "2023-01-25T12:08:13.271773Z"
    },
    "id": "5R_m-JmvU9tu"
   },
   "outputs": [],
   "source": [
    "# This cell start TensorBoard that can be slow.\n",
    "# Load the TensorBoard notebook extension\n",
    "%load_ext tensorboard\n",
    "# Google internal version\n",
    "# %load_ext google3.learning.brain.tensorboard.notebook.extension"
   ]
  },
  {
   "cell_type": "code",
   "execution_count": 22,
   "metadata": {
    "execution": {
     "iopub.execute_input": "2023-01-25T12:08:13.275678Z",
     "iopub.status.busy": "2023-01-25T12:08:13.275226Z",
     "iopub.status.idle": "2023-01-25T12:08:13.439313Z",
     "shell.execute_reply": "2023-01-25T12:08:13.438182Z"
    },
    "id": "j6mp7K6HWwqQ"
   },
   "outputs": [],
   "source": [
    "# Clear existing results (if any)\n",
    "!rm -fr \"/tmp/tensorboard_logs\""
   ]
  },
  {
   "cell_type": "code",
   "execution_count": 23,
   "metadata": {
    "execution": {
     "iopub.execute_input": "2023-01-25T12:08:13.443789Z",
     "iopub.status.busy": "2023-01-25T12:08:13.443102Z",
     "iopub.status.idle": "2023-01-25T12:08:13.528086Z",
     "shell.execute_reply": "2023-01-25T12:08:13.527343Z"
    },
    "id": "16NbLILYo124"
   },
   "outputs": [],
   "source": [
    "# Export the meta-data to tensorboard.\n",
    "model_1.make_inspector().export_to_tensorboard(\"/tmp/tensorboard_logs\")"
   ]
  },
  {
   "cell_type": "code",
   "execution_count": null,
   "metadata": {
    "id": "TSsN6aTXW0LJ"
   },
   "outputs": [],
   "source": [
    "# docs_infra: no_execute\n",
    "# Start a tensorboard instance.\n",
    "%tensorboard --logdir \"/tmp/tensorboard_logs\""
   ]
  },
  {
   "cell_type": "markdown",
   "metadata": {
    "id": "r_tlSccjZ8kE"
   },
   "source": [
    "<!-- <img class=\"tfo-display-only-on-site\" src=\"images/beginner_tensorboard.png\"/> -->\n"
   ]
  },
  {
   "cell_type": "markdown",
   "metadata": {
    "id": "phTUr6F1t-_E"
   },
   "source": [
    "## Re-train the model with a different learning algorithm\n",
    "\n",
    "The learning algorithm is defined by the model class. For\n",
    "example, `tfdf.keras.RandomForestModel()` trains a Random Forest, while\n",
    "`tfdf.keras.GradientBoostedTreesModel()` trains a Gradient Boosted Decision\n",
    "Trees.\n",
    "\n",
    "The learning algorithms are listed by calling `tfdf.keras.get_all_models()` or in the\n",
    "[learner list](https://github.com/google/yggdrasil-decision-forests/blob/main/documentation/learners.md)."
   ]
  },
  {
   "cell_type": "code",
   "execution_count": 24,
   "metadata": {
    "execution": {
     "iopub.execute_input": "2023-01-25T12:08:13.531563Z",
     "iopub.status.busy": "2023-01-25T12:08:13.531304Z",
     "iopub.status.idle": "2023-01-25T12:08:13.536518Z",
     "shell.execute_reply": "2023-01-25T12:08:13.535781Z"
    },
    "id": "OwEAAzUZq2m8"
   },
   "outputs": [
    {
     "data": {
      "text/plain": [
       "[tensorflow_decision_forests.keras.RandomForestModel,\n",
       " tensorflow_decision_forests.keras.GradientBoostedTreesModel,\n",
       " tensorflow_decision_forests.keras.CartModel,\n",
       " tensorflow_decision_forests.keras.DistributedGradientBoostedTreesModel]"
      ]
     },
     "execution_count": 24,
     "metadata": {},
     "output_type": "execute_result"
    }
   ],
   "source": [
    "tfdf.keras.get_all_models()"
   ]
  },
  {
   "cell_type": "markdown",
   "metadata": {
    "id": "xmzvuI78voD4"
   },
   "source": [
    "The description of the learning algorithms and their hyper-parameters are also available in the [API reference](https://www.tensorflow.org/decision_forests/api_docs/python/tfdf) and builtin help:"
   ]
  },
  {
   "cell_type": "code",
   "execution_count": 25,
   "metadata": {
    "execution": {
     "iopub.execute_input": "2023-01-25T12:08:13.539648Z",
     "iopub.status.busy": "2023-01-25T12:08:13.539068Z",
     "iopub.status.idle": "2023-01-25T12:08:13.592447Z",
     "shell.execute_reply": "2023-01-25T12:08:13.591554Z"
    },
    "id": "2hONToBav4DE"
   },
   "outputs": [
    {
     "name": "stdout",
     "output_type": "stream",
     "text": [
      "Help on class RandomForestModel in module tensorflow_decision_forests.keras:\n",
      "\n",
      "class RandomForestModel(tensorflow_decision_forests.keras.wrappers.RandomForestModel)\n",
      " |  RandomForestModel(*args, **kwargs)\n",
      " |  \n",
      " |  Method resolution order:\n",
      " |      RandomForestModel\n",
      " |      tensorflow_decision_forests.keras.wrappers.RandomForestModel\n",
      " |      tensorflow_decision_forests.keras.core.CoreModel\n",
      " |      tensorflow_decision_forests.keras.core_inference.InferenceCoreModel\n",
      " |      keras.engine.training.Model\n",
      " |      keras.engine.base_layer.Layer\n",
      " |      tensorflow.python.module.module.Module\n",
      " |      tensorflow.python.trackable.autotrackable.AutoTrackable\n",
      " |      tensorflow.python.trackable.base.Trackable\n",
      " |      keras.utils.version_utils.LayerVersionSelector\n",
      " |      keras.utils.version_utils.ModelVersionSelector\n",
      " |      builtins.object\n",
      " |  \n",
      " |  Methods inherited from tensorflow_decision_forests.keras.wrappers.RandomForestModel:\n",
      " |  \n",
      " |  __init__(self, task: Optional[ForwardRef('abstract_model_pb2.Task')] = 1, features: Optional[List[tensorflow_decision_forests.keras.core.FeatureUsage]] = None, exclude_non_specified_features: Optional[bool] = False, preprocessing: Optional[ForwardRef('tf.keras.models.Functional')] = None, postprocessing: Optional[ForwardRef('tf.keras.models.Functional')] = None, ranking_group: Optional[str] = None, uplift_treatment: Optional[str] = None, temp_directory: Optional[str] = None, verbose: int = 1, hyperparameter_template: Optional[str] = None, advanced_arguments: Optional[tensorflow_decision_forests.keras.core_inference.AdvancedArguments] = None, num_threads: Optional[int] = None, name: Optional[str] = None, max_vocab_count: Optional[int] = 2000, try_resume_training: Optional[bool] = True, check_dataset: Optional[bool] = True, tuner: Optional[tensorflow_decision_forests.component.tuner.tuner.Tuner] = None, discretize_numerical_features: bool = False, num_discretized_numerical_bins: int = 255, multitask: Optional[List[tensorflow_decision_forests.keras.core_inference.MultiTaskItem]] = None, adapt_bootstrap_size_ratio_for_maximum_training_duration: Optional[bool] = False, allow_na_conditions: Optional[bool] = False, bootstrap_size_ratio: Optional[float] = 1.0, bootstrap_training_dataset: Optional[bool] = True, categorical_algorithm: Optional[str] = 'CART', categorical_set_split_greedy_sampling: Optional[float] = 0.1, categorical_set_split_max_num_items: Optional[int] = -1, categorical_set_split_min_item_frequency: Optional[int] = 1, compute_oob_performances: Optional[bool] = True, compute_oob_variable_importances: Optional[bool] = False, growing_strategy: Optional[str] = 'LOCAL', honest: Optional[bool] = False, honest_fixed_separation: Optional[bool] = False, honest_ratio_leaf_examples: Optional[float] = 0.5, in_split_min_examples_check: Optional[bool] = True, keep_non_leaf_label_distribution: Optional[bool] = True, max_depth: Optional[int] = 16, max_num_nodes: Optional[int] = None, maximum_model_size_in_memory_in_bytes: Optional[float] = -1.0, maximum_training_duration_seconds: Optional[float] = -1.0, min_examples: Optional[int] = 5, missing_value_policy: Optional[str] = 'GLOBAL_IMPUTATION', num_candidate_attributes: Optional[int] = 0, num_candidate_attributes_ratio: Optional[float] = -1.0, num_oob_variable_importances_permutations: Optional[int] = 1, num_trees: Optional[int] = 300, pure_serving_model: Optional[bool] = False, random_seed: Optional[int] = 123456, sampling_with_replacement: Optional[bool] = True, sorting_strategy: Optional[str] = 'PRESORT', sparse_oblique_normalization: Optional[str] = None, sparse_oblique_num_projections_exponent: Optional[float] = None, sparse_oblique_projection_density_factor: Optional[float] = None, sparse_oblique_weights: Optional[str] = None, split_axis: Optional[str] = 'AXIS_ALIGNED', uplift_min_examples_in_treatment: Optional[int] = 5, uplift_split_score: Optional[str] = 'KULLBACK_LEIBLER', winner_take_all: Optional[bool] = True, explicit_args: Optional[Set[str]] = None)\n",
      " |  \n",
      " |  ----------------------------------------------------------------------\n",
      " |  Static methods inherited from tensorflow_decision_forests.keras.wrappers.RandomForestModel:\n",
      " |  \n",
      " |  capabilities() -> yggdrasil_decision_forests.learner.abstract_learner_pb2.LearnerCapabilities\n",
      " |      Lists the capabilities of the learning algorithm.\n",
      " |  \n",
      " |  predefined_hyperparameters() -> List[tensorflow_decision_forests.keras.core.HyperParameterTemplate]\n",
      " |      Returns a better than default set of hyper-parameters.\n",
      " |      \n",
      " |      They can be used directly with the `hyperparameter_template` argument of the\n",
      " |      model constructor.\n",
      " |      \n",
      " |      These hyper-parameters outperform the default hyper-parameters (either\n",
      " |      generally or in specific scenarios). Like default hyper-parameters, existing\n",
      " |      pre-defined hyper-parameters cannot change.\n",
      " |  \n",
      " |  ----------------------------------------------------------------------\n",
      " |  Methods inherited from tensorflow_decision_forests.keras.core.CoreModel:\n",
      " |  \n",
      " |  collect_data_step(self, data, is_training_example)\n",
      " |      Collect examples e.g. training or validation.\n",
      " |  \n",
      " |  fit(self, x=None, y=None, callbacks=None, verbose: Optional[Any] = None, validation_steps: Optional[int] = None, validation_data: Optional[Any] = None, sample_weight: Optional[Any] = None, steps_per_epoch: Optional[Any] = None, class_weight: Optional[Any] = None, **kwargs) -> keras.callbacks.History\n",
      " |      Trains the model.\n",
      " |      \n",
      " |      Local training\n",
      " |      ==============\n",
      " |      \n",
      " |      It is recommended to use a Pandas Dataframe dataset and to convert it to\n",
      " |      a TensorFlow dataset with `pd_dataframe_to_tf_dataset()`:\n",
      " |        ```python\n",
      " |        pd_dataset = pandas.Dataframe(...)\n",
      " |        tf_dataset = pd_dataframe_to_tf_dataset(dataset, label=\"my_label\")\n",
      " |        model.fit(pd_dataset)\n",
      " |        ```\n",
      " |      \n",
      " |      The following dataset formats are supported:\n",
      " |      \n",
      " |        1. \"x\" is a `tf.data.Dataset` containing a tuple \"(features, labels)\".\n",
      " |           \"features\" can be a dictionary a tensor, a list of tensors or a\n",
      " |           dictionary of tensors (recommended). \"labels\" is a tensor.\n",
      " |      \n",
      " |        2. \"x\" is a tensor, list of tensors or dictionary of tensors containing\n",
      " |           the input features. \"y\" is a tensor.\n",
      " |      \n",
      " |        3. \"x\" is a numpy-array, list of numpy-arrays or dictionary of\n",
      " |           numpy-arrays containing the input features. \"y\" is a numpy-array.\n",
      " |      \n",
      " |      IMPORTANT: This model trains on the entire dataset at once. This has the\n",
      " |      following consequences:\n",
      " |      \n",
      " |        1. The dataset need to be read exactly once. If you use a TensorFlow\n",
      " |           dataset, make sure NOT to add a \"repeat\" operation.\n",
      " |        2. The algorithm does not benefit from shuffling the dataset. If you use a\n",
      " |           TensorFlow dataset, make sure NOT to add a \"shuffle\" operation.\n",
      " |        3. The dataset needs to be batched (i.e. with a \"batch\" operation).\n",
      " |           However, the number of elements per batch has not impact on the model.\n",
      " |           Generally, it is recommended to use batches as large as possible as its\n",
      " |           speeds-up reading the dataset in TensorFlow.\n",
      " |      \n",
      " |      Input features do not need to be normalized (e.g. dividing numerical values\n",
      " |      by the variance) or indexed (e.g. replacing categorical string values by\n",
      " |      an integer). Additionally, missing values can be consumed natively.\n",
      " |      \n",
      " |      Distributed training\n",
      " |      ====================\n",
      " |      \n",
      " |      Some of the learning algorithms will support distributed training with the\n",
      " |      ParameterServerStrategy.\n",
      " |      \n",
      " |      In this case, the dataset is read asynchronously in between the workers. The\n",
      " |      distribution of the training depends on the learning algorithm.\n",
      " |      \n",
      " |      Like for non-distributed training, the dataset should be read exactly once.\n",
      " |      The simplest solution is to divide the dataset into different files (i.e.\n",
      " |      shards) and have each of the worker read a non overlapping subset of shards.\n",
      " |      \n",
      " |      IMPORTANT: The training dataset should not be infinite i.e. the training\n",
      " |      dataset should not contain any repeat operation.\n",
      " |      \n",
      " |      Currently (to be changed), the validation dataset (if provided) is simply\n",
      " |      feed to the `model.evaluate()` method. Therefore, it should satisfy Keras'\n",
      " |      evaluate API. Notably, for distributed training, the validation dataset\n",
      " |      should be infinite (i.e. have a repeat operation).\n",
      " |      \n",
      " |      See https://www.tensorflow.org/decision_forests/distributed_training for\n",
      " |      more details and examples.\n",
      " |      \n",
      " |      Here is a single example of distributed training using PSS for both dataset\n",
      " |      reading and training distribution.\n",
      " |      \n",
      " |        ```python\n",
      " |        def dataset_fn(context, paths, training=True):\n",
      " |          ds_path = tf.data.Dataset.from_tensor_slices(paths)\n",
      " |      \n",
      " |      \n",
      " |          if context is not None:\n",
      " |            # Train on at least 2 workers.\n",
      " |            current_worker = tfdf.keras.get_worker_idx_and_num_workers(context)\n",
      " |            assert current_worker.num_workers > 2\n",
      " |      \n",
      " |            # Split the dataset's examples among the workers.\n",
      " |            ds_path = ds_path.shard(\n",
      " |                num_shards=current_worker.num_workers,\n",
      " |                index=current_worker.worker_idx)\n",
      " |      \n",
      " |          def read_csv_file(path):\n",
      " |            numerical = tf.constant([math.nan], dtype=tf.float32)\n",
      " |            categorical_string = tf.constant([\"\"], dtype=tf.string)\n",
      " |            csv_columns = [\n",
      " |                numerical,  # age\n",
      " |                categorical_string,  # workclass\n",
      " |                numerical,  # fnlwgt\n",
      " |                ...\n",
      " |            ]\n",
      " |            column_names = [\n",
      " |              \"age\", \"workclass\", \"fnlwgt\", ...\n",
      " |            ]\n",
      " |            label_name = \"label\"\n",
      " |            return tf.data.experimental.CsvDataset(path, csv_columns, header=True)\n",
      " |      \n",
      " |          ds_columns = ds_path.interleave(read_csv_file)\n",
      " |      \n",
      " |          def map_features(*columns):\n",
      " |            assert len(column_names) == len(columns)\n",
      " |            features = {column_names[i]: col for i, col in enumerate(columns)}\n",
      " |            label = label_table.lookup(features.pop(label_name))\n",
      " |            return features, label\n",
      " |      \n",
      " |          ds_dataset = ds_columns.map(map_features)\n",
      " |          if not training:\n",
      " |            dataset = dataset.repeat(None)\n",
      " |          ds_dataset = ds_dataset.batch(batch_size)\n",
      " |          return ds_dataset\n",
      " |      \n",
      " |        strategy = tf.distribute.experimental.ParameterServerStrategy(...)\n",
      " |        sharded_train_paths = [list of dataset files]\n",
      " |        with strategy.scope():\n",
      " |          model = DistributedGradientBoostedTreesModel()\n",
      " |          train_dataset = strategy.distribute_datasets_from_function(\n",
      " |            lambda context: dataset_fn(context, sharded_train_paths))\n",
      " |      \n",
      " |          test_dataset = strategy.distribute_datasets_from_function(\n",
      " |            lambda context: dataset_fn(context, sharded_test_paths))\n",
      " |      \n",
      " |        model.fit(sharded_train_paths)\n",
      " |        evaluation = model.evaluate(test_dataset, steps=num_test_examples //\n",
      " |          batch_size)\n",
      " |        ```\n",
      " |      \n",
      " |      Args:\n",
      " |        x: Training dataset (See details above for the supported formats).\n",
      " |        y: Label of the training dataset. Only used if \"x\" does not contains the\n",
      " |          labels.\n",
      " |        callbacks: Callbacks triggered during the training. The training runs in a\n",
      " |          single epoch, itself run in a single step. Therefore, callback logic can\n",
      " |          be called equivalently before/after the fit function.\n",
      " |        verbose: Verbosity mode. 0 = silent, 1 = small details, 2 = full details.\n",
      " |        validation_steps: Number of steps in the evaluation dataset when\n",
      " |          evaluating the trained model with `model.evaluate()`. If not specified,\n",
      " |          evaluates the model on the entire dataset (generally recommended; not\n",
      " |          yet supported for distributed datasets).\n",
      " |        validation_data: Validation dataset. If specified, the learner might use\n",
      " |          this dataset to help training e.g. early stopping.\n",
      " |        sample_weight: Training weights. Note: training weights can also be\n",
      " |          provided as the third output in a `tf.data.Dataset` e.g. (features,\n",
      " |          label, weights).\n",
      " |        steps_per_epoch: [Parameter will be removed] Number of training batch to\n",
      " |          load before training the model. Currently, only supported for\n",
      " |          distributed training.\n",
      " |        class_weight: For binary classification only. Mapping class indices\n",
      " |          (integers) to a weight (float) value. Only available for non-Distributed\n",
      " |          training. For maximum compatibility, feed example weights through the\n",
      " |          tf.data.Dataset or using the `weight` argument of\n",
      " |          `pd_dataframe_to_tf_dataset`.\n",
      " |        **kwargs: Extra arguments passed to the core keras model's fit. Note that\n",
      " |          not all keras' model fit arguments are supported.\n",
      " |      \n",
      " |      Returns:\n",
      " |        A `History` object. Its `History.history` attribute is not yet\n",
      " |        implemented for decision forests algorithms, and will return empty.\n",
      " |        All other fields are filled as usual for `Keras.Mode.fit()`.\n",
      " |  \n",
      " |  fit_on_dataset_path(self, train_path: str, label_key: Optional[str] = None, weight_key: Optional[str] = None, valid_path: Optional[str] = None, dataset_format: Optional[str] = 'csv', max_num_scanned_rows_to_accumulate_statistics: Optional[int] = 100000, try_resume_training: Optional[bool] = True, input_model_signature_fn: Optional[Callable[[tensorflow_decision_forests.component.inspector.inspector.AbstractInspector], Any]] = <function build_default_input_model_signature at 0x7fda03b5e790>, num_io_threads: int = 10)\n",
      " |      Trains the model on a dataset stored on disk.\n",
      " |      \n",
      " |      This solution is generally more efficient and easier than loading the\n",
      " |      dataset with a `tf.Dataset` both for local and distributed training.\n",
      " |      \n",
      " |      Usage example:\n",
      " |      \n",
      " |        # Local training\n",
      " |        ```python\n",
      " |        model = keras.GradientBoostedTreesModel()\n",
      " |        model.fit_on_dataset_path(\n",
      " |          train_path=\"/path/to/dataset.csv\",\n",
      " |          label_key=\"label\",\n",
      " |          dataset_format=\"csv\")\n",
      " |        model.save(\"/model/path\")\n",
      " |        ```\n",
      " |      \n",
      " |        # Distributed training\n",
      " |        ```python\n",
      " |        with tf.distribute.experimental.ParameterServerStrategy(...).scope():\n",
      " |          model = model = keras.DistributedGradientBoostedTreesModel()\n",
      " |        model.fit_on_dataset_path(\n",
      " |          train_path=\"/path/to/dataset@10\",\n",
      " |          label_key=\"label\",\n",
      " |          dataset_format=\"tfrecord+tfe\")\n",
      " |        model.save(\"/model/path\")\n",
      " |        ```\n",
      " |      \n",
      " |      Args:\n",
      " |        train_path: Path to the training dataset. Supports comma separated files,\n",
      " |          shard and glob notation.\n",
      " |        label_key: Name of the label column.\n",
      " |        weight_key: Name of the weighing column.\n",
      " |        valid_path: Path to the validation dataset. If not provided, or if the\n",
      " |          learning algorithm does not supports/needs a validation dataset,\n",
      " |          `valid_path` is ignored.\n",
      " |        dataset_format: Format of the dataset. Should be one of the registered\n",
      " |          dataset format (see [User\n",
      " |          Manual](https://github.com/google/yggdrasil-decision-forests/blob/main/documentation/user_manual.md#dataset-path-and-format)\n",
      " |          for more details). The format \"csv\" is always available but it is\n",
      " |          generally only suited for small datasets.\n",
      " |        max_num_scanned_rows_to_accumulate_statistics: Maximum number of examples\n",
      " |          to scan to determine the statistics of the features (i.e. the dataspec,\n",
      " |          e.g. mean value, dictionaries). (Currently) the \"first\" examples of the\n",
      " |          dataset are scanned (e.g. the first examples of the dataset is a single\n",
      " |          file). Therefore, it is important that the sampled dataset is relatively\n",
      " |          uniformly sampled, notably the scanned examples should contains all the\n",
      " |          possible categorical values (otherwise the not seen value will be\n",
      " |          treated as out-of-vocabulary). If set to None, the entire dataset is\n",
      " |          scanned. This parameter has no effect if the dataset is stored in a\n",
      " |          format that already contains those values.\n",
      " |        try_resume_training: If true, tries to resume training from the model\n",
      " |          checkpoint stored in the `temp_directory` directory. If `temp_directory`\n",
      " |          does not contain any model checkpoint, start the training from the\n",
      " |          start. Works in the following three situations: (1) The training was\n",
      " |          interrupted by the user (e.g. ctrl+c). (2) the training job was\n",
      " |          interrupted (e.g. rescheduling), ond (3) the hyper-parameter of the\n",
      " |          model were changed such that an initially completed training is now\n",
      " |          incomplete (e.g. increasing the number of trees).\n",
      " |        input_model_signature_fn: A lambda that returns the\n",
      " |          (Dense,Sparse,Ragged)TensorSpec (or structure of TensorSpec e.g.\n",
      " |          dictionary, list) corresponding to input signature of the model. If not\n",
      " |          specified, the input model signature is created by\n",
      " |          `build_default_input_model_signature`. For example, specify\n",
      " |          `input_model_signature_fn` if an numerical input feature (which is\n",
      " |          consumed as DenseTensorSpec(float32) by default) will be feed\n",
      " |          differently (e.g. RaggedTensor(int64)).\n",
      " |        num_io_threads: Number of threads to use for IO operations e.g. reading a\n",
      " |          dataset from disk. Increasing this value can speed-up IO operations when\n",
      " |          IO operations are either latency or cpu bounded.\n",
      " |      \n",
      " |      Returns:\n",
      " |        A `History` object. Its `History.history` attribute is not yet\n",
      " |        implemented for decision forests algorithms, and will return empty.\n",
      " |        All other fields are filled as usual for `Keras.Mode.fit()`.\n",
      " |  \n",
      " |  load_weights(self, *args, **kwargs)\n",
      " |      No-op for TensorFlow Decision Forests models.\n",
      " |      \n",
      " |      `load_weights` is not supported by TensorFlow Decision Forests models.\n",
      " |      To save and restore a model, use the SavedModel API i.e.\n",
      " |      `model.save(...)` and `tf.keras.models.load_model(...)`. To resume the\n",
      " |      training of an existing model, create the model with\n",
      " |      `try_resume_training=True` (default value) and with a similar\n",
      " |      `temp_directory` argument. See documentation of `try_resume_training`\n",
      " |      for more details.\n",
      " |      \n",
      " |      Args:\n",
      " |        *args: Passed through to base `keras.Model` implemenation.\n",
      " |        **kwargs: Passed through to base `keras.Model` implemenation.\n",
      " |  \n",
      " |  save(self, filepath: str, overwrite: Optional[bool] = True, **kwargs)\n",
      " |      Saves the model as a TensorFlow SavedModel.\n",
      " |      \n",
      " |      The exported SavedModel contains a standalone Yggdrasil Decision Forests\n",
      " |      model in the \"assets\" sub-directory. The Yggdrasil model can be used\n",
      " |      directly using the Yggdrasil API. However, this model does not contain the\n",
      " |      \"preprocessing\" layer (if any).\n",
      " |      \n",
      " |      Args:\n",
      " |        filepath: Path to the output model.\n",
      " |        overwrite: If true, override an already existing model. If false, raise an\n",
      " |          error if a model already exist.\n",
      " |        **kwargs: Arguments passed to the core keras model's save.\n",
      " |  \n",
      " |  support_distributed_training(self)\n",
      " |  \n",
      " |  train_on_batch(self, *args, **kwargs)\n",
      " |      No supported for Tensorflow Decision Forests models.\n",
      " |      \n",
      " |      Decision forests are not trained in batches the same way neural networks\n",
      " |      are. To avoid confusion, train_on_batch is disabled.\n",
      " |      \n",
      " |      Args:\n",
      " |        *args: Ignored\n",
      " |        **kwargs: Ignored.\n",
      " |  \n",
      " |  train_step(self, data)\n",
      " |      Collects training examples.\n",
      " |  \n",
      " |  valid_step(self, data)\n",
      " |      Collects validation examples.\n",
      " |  \n",
      " |  ----------------------------------------------------------------------\n",
      " |  Readonly properties inherited from tensorflow_decision_forests.keras.core.CoreModel:\n",
      " |  \n",
      " |  exclude_non_specified_features\n",
      " |      If true, only use the features specified in \"features\".\n",
      " |  \n",
      " |  learner\n",
      " |      Name of the learning algorithm used to train the model.\n",
      " |  \n",
      " |  learner_params\n",
      " |      Gets the dictionary of hyper-parameters passed in the model constructor.\n",
      " |      \n",
      " |      Changing this dictionary will impact the training.\n",
      " |  \n",
      " |  num_threads\n",
      " |      Number of threads used to train the model.\n",
      " |  \n",
      " |  num_training_examples\n",
      " |      Number of training examples.\n",
      " |  \n",
      " |  num_validation_examples\n",
      " |      Number of validation examples.\n",
      " |  \n",
      " |  training_model_id\n",
      " |      Identifier of the model.\n",
      " |  \n",
      " |  ----------------------------------------------------------------------\n",
      " |  Methods inherited from tensorflow_decision_forests.keras.core_inference.InferenceCoreModel:\n",
      " |  \n",
      " |  call(self, inputs, training=False)\n",
      " |      Inference of the model.\n",
      " |      \n",
      " |      This method is used for prediction and evaluation of a trained model.\n",
      " |      \n",
      " |      Args:\n",
      " |        inputs: Input tensors.\n",
      " |        training: Is the model being trained. Always False.\n",
      " |      \n",
      " |      Returns:\n",
      " |        Model predictions.\n",
      " |  \n",
      " |  call_get_leaves(self, inputs)\n",
      " |      Computes the index of the active leaf in each tree.\n",
      " |      \n",
      " |      The active leaf is the leave that that receive the example during inference.\n",
      " |      \n",
      " |      The returned value \"leaves[i,j]\" is the index of the active leave for the\n",
      " |      i-th example and the j-th tree. Leaves are indexed by depth first\n",
      " |      exploration with the negative child visited before the positive one\n",
      " |      (similarly as \"iterate_on_nodes()\" iteration). Leaf indices are also\n",
      " |      available with LeafNode.leaf_idx.\n",
      " |      \n",
      " |      Args:\n",
      " |        inputs: Input tensors. Same signature as the model's \"call(inputs)\".\n",
      " |      \n",
      " |      Returns:\n",
      " |        Index of the active leaf for each tree in the model.\n",
      " |  \n",
      " |  compile(self, metrics=None, weighted_metrics=None)\n",
      " |      Configure the model for training.\n",
      " |      \n",
      " |      Unlike for most Keras model, calling \"compile\" is optional before calling\n",
      " |      \"fit\".\n",
      " |      \n",
      " |      Args:\n",
      " |        metrics: List of metrics to be evaluated by the model during training and\n",
      " |          testing.\n",
      " |        weighted_metrics: List of metrics to be evaluated and weighted by\n",
      " |          `sample_weight` or `class_weight` during training and testing.\n",
      " |      \n",
      " |      Raises:\n",
      " |        ValueError: Invalid arguments.\n",
      " |  \n",
      " |  make_inspector(self, index: int = 0) -> tensorflow_decision_forests.component.inspector.inspector.AbstractInspector\n",
      " |      Creates an inspector to access the internal model structure.\n",
      " |      \n",
      " |      Usage example:\n",
      " |      \n",
      " |      ```python\n",
      " |      inspector = model.make_inspector()\n",
      " |      print(inspector.num_trees())\n",
      " |      print(inspector.variable_importances())\n",
      " |      ```\n",
      " |      \n",
      " |      Args:\n",
      " |        index: Index of the sub-model. Only used for multitask models.\n",
      " |      \n",
      " |      Returns:\n",
      " |        A model inspector.\n",
      " |  \n",
      " |  make_predict_function(self)\n",
      " |      Prediction of the model (!= evaluation).\n",
      " |  \n",
      " |  make_test_function(self)\n",
      " |      Predictions for evaluation.\n",
      " |  \n",
      " |  predict_get_leaves(self, x)\n",
      " |      Gets the index of the active leaf of each tree.\n",
      " |      \n",
      " |      The active leaf is the leave that that receive the example during inference.\n",
      " |      \n",
      " |      The returned value \"leaves[i,j]\" is the index of the active leave for the\n",
      " |      i-th example and the j-th tree. Leaves are indexed by depth first\n",
      " |      exploration with the negative child visited before the positive one\n",
      " |      (similarly as \"iterate_on_nodes()\" iteration). Leaf indices are also\n",
      " |      available with LeafNode.leaf_idx.\n",
      " |      \n",
      " |      Args:\n",
      " |        x: Input samples as a tf.data.Dataset.\n",
      " |      \n",
      " |      Returns:\n",
      " |        Index of the active leaf for each tree in the model.\n",
      " |  \n",
      " |  ranking_group(self) -> Optional[str]\n",
      " |  \n",
      " |  summary(self, line_length=None, positions=None, print_fn=None)\n",
      " |      Shows information about the model.\n",
      " |  \n",
      " |  uplift_treatment(self) -> Optional[str]\n",
      " |  \n",
      " |  yggdrasil_model_path_tensor(self, multitask_model_index: int = 0) -> Optional[tensorflow.python.framework.ops.Tensor]\n",
      " |      Gets the path to yggdrasil model, if available.\n",
      " |      \n",
      " |      The effective path can be obtained with:\n",
      " |      \n",
      " |      ```python\n",
      " |      yggdrasil_model_path_tensor().numpy().decode(\"utf-8\")\n",
      " |      ```\n",
      " |      \n",
      " |      Args:\n",
      " |        multitask_model_index: Index of the sub-model. Only used for multitask\n",
      " |          models.\n",
      " |      \n",
      " |      Returns:\n",
      " |        Path to the Yggdrasil model.\n",
      " |  \n",
      " |  yggdrasil_model_prefix(self, index: int = 0) -> str\n",
      " |      Gets the prefix of the internal yggdrasil model.\n",
      " |  \n",
      " |  ----------------------------------------------------------------------\n",
      " |  Readonly properties inherited from tensorflow_decision_forests.keras.core_inference.InferenceCoreModel:\n",
      " |  \n",
      " |  multitask\n",
      " |      Tasks to solve.\n",
      " |  \n",
      " |  task\n",
      " |      Task to solve (e.g. CLASSIFICATION, REGRESSION, RANKING).\n",
      " |  \n",
      " |  ----------------------------------------------------------------------\n",
      " |  Methods inherited from keras.engine.training.Model:\n",
      " |  \n",
      " |  __call__(self, *args, **kwargs)\n",
      " |  \n",
      " |  __copy__(self)\n",
      " |  \n",
      " |  __deepcopy__(self, memo)\n",
      " |  \n",
      " |  __reduce__(self)\n",
      " |      Helper for pickle.\n",
      " |  \n",
      " |  __setattr__(self, name, value)\n",
      " |      Support self.foo = trackable syntax.\n",
      " |  \n",
      " |  build(self, input_shape)\n",
      " |      Builds the model based on input shapes received.\n",
      " |      \n",
      " |      This is to be used for subclassed models, which do not know at\n",
      " |      instantiation time what their inputs look like.\n",
      " |      \n",
      " |      This method only exists for users who want to call `model.build()` in a\n",
      " |      standalone way (as a substitute for calling the model on real data to\n",
      " |      build it). It will never be called by the framework (and thus it will\n",
      " |      never throw unexpected errors in an unrelated workflow).\n",
      " |      \n",
      " |      Args:\n",
      " |       input_shape: Single tuple, `TensorShape` instance, or list/dict of\n",
      " |         shapes, where shapes are tuples, integers, or `TensorShape`\n",
      " |         instances.\n",
      " |      \n",
      " |      Raises:\n",
      " |        ValueError:\n",
      " |          1. In case of invalid user-provided data (not of type tuple,\n",
      " |             list, `TensorShape`, or dict).\n",
      " |          2. If the model requires call arguments that are agnostic\n",
      " |             to the input shapes (positional or keyword arg in call\n",
      " |             signature).\n",
      " |          3. If not all layers were properly built.\n",
      " |          4. If float type inputs are not supported within the layers.\n",
      " |      \n",
      " |        In each of these cases, the user should build their model by calling\n",
      " |        it on real tensor data.\n",
      " |  \n",
      " |  compute_loss(self, x=None, y=None, y_pred=None, sample_weight=None)\n",
      " |      Compute the total loss, validate it, and return it.\n",
      " |      \n",
      " |      Subclasses can optionally override this method to provide custom loss\n",
      " |      computation logic.\n",
      " |      \n",
      " |      Example:\n",
      " |      ```python\n",
      " |      class MyModel(tf.keras.Model):\n",
      " |      \n",
      " |        def __init__(self, *args, **kwargs):\n",
      " |          super(MyModel, self).__init__(*args, **kwargs)\n",
      " |          self.loss_tracker = tf.keras.metrics.Mean(name='loss')\n",
      " |      \n",
      " |        def compute_loss(self, x, y, y_pred, sample_weight):\n",
      " |          loss = tf.reduce_mean(tf.math.squared_difference(y_pred, y))\n",
      " |          loss += tf.add_n(self.losses)\n",
      " |          self.loss_tracker.update_state(loss)\n",
      " |          return loss\n",
      " |      \n",
      " |        def reset_metrics(self):\n",
      " |          self.loss_tracker.reset_states()\n",
      " |      \n",
      " |        @property\n",
      " |        def metrics(self):\n",
      " |          return [self.loss_tracker]\n",
      " |      \n",
      " |      tensors = tf.random.uniform((10, 10)), tf.random.uniform((10,))\n",
      " |      dataset = tf.data.Dataset.from_tensor_slices(tensors).repeat().batch(1)\n",
      " |      \n",
      " |      inputs = tf.keras.layers.Input(shape=(10,), name='my_input')\n",
      " |      outputs = tf.keras.layers.Dense(10)(inputs)\n",
      " |      model = MyModel(inputs, outputs)\n",
      " |      model.add_loss(tf.reduce_sum(outputs))\n",
      " |      \n",
      " |      optimizer = tf.keras.optimizers.SGD()\n",
      " |      model.compile(optimizer, loss='mse', steps_per_execution=10)\n",
      " |      model.fit(dataset, epochs=2, steps_per_epoch=10)\n",
      " |      print('My custom loss: ', model.loss_tracker.result().numpy())\n",
      " |      ```\n",
      " |      \n",
      " |      Args:\n",
      " |        x: Input data.\n",
      " |        y: Target data.\n",
      " |        y_pred: Predictions returned by the model (output of `model(x)`)\n",
      " |        sample_weight: Sample weights for weighting the loss function.\n",
      " |      \n",
      " |      Returns:\n",
      " |        The total loss as a `tf.Tensor`, or `None` if no loss results (which\n",
      " |        is the case when called by `Model.test_step`).\n",
      " |  \n",
      " |  compute_metrics(self, x, y, y_pred, sample_weight)\n",
      " |      Update metric states and collect all metrics to be returned.\n",
      " |      \n",
      " |      Subclasses can optionally override this method to provide custom metric\n",
      " |      updating and collection logic.\n",
      " |      \n",
      " |      Example:\n",
      " |      ```python\n",
      " |      class MyModel(tf.keras.Sequential):\n",
      " |      \n",
      " |        def compute_metrics(self, x, y, y_pred, sample_weight):\n",
      " |      \n",
      " |          # This super call updates `self.compiled_metrics` and returns\n",
      " |          # results for all metrics listed in `self.metrics`.\n",
      " |          metric_results = super(MyModel, self).compute_metrics(\n",
      " |              x, y, y_pred, sample_weight)\n",
      " |      \n",
      " |          # Note that `self.custom_metric` is not listed in `self.metrics`.\n",
      " |          self.custom_metric.update_state(x, y, y_pred, sample_weight)\n",
      " |          metric_results['custom_metric_name'] = self.custom_metric.result()\n",
      " |          return metric_results\n",
      " |      ```\n",
      " |      \n",
      " |      Args:\n",
      " |        x: Input data.\n",
      " |        y: Target data.\n",
      " |        y_pred: Predictions returned by the model (output of `model.call(x)`)\n",
      " |        sample_weight: Sample weights for weighting the loss function.\n",
      " |      \n",
      " |      Returns:\n",
      " |        A `dict` containing values that will be passed to\n",
      " |        `tf.keras.callbacks.CallbackList.on_train_batch_end()`. Typically, the\n",
      " |        values of the metrics listed in `self.metrics` are returned. Example:\n",
      " |        `{'loss': 0.2, 'accuracy': 0.7}`.\n",
      " |  \n",
      " |  evaluate(self, x=None, y=None, batch_size=None, verbose='auto', sample_weight=None, steps=None, callbacks=None, max_queue_size=10, workers=1, use_multiprocessing=False, return_dict=False, **kwargs)\n",
      " |      Returns the loss value & metrics values for the model in test mode.\n",
      " |      \n",
      " |      Computation is done in batches (see the `batch_size` arg.)\n",
      " |      \n",
      " |      Args:\n",
      " |          x: Input data. It could be:\n",
      " |            - A Numpy array (or array-like), or a list of arrays\n",
      " |              (in case the model has multiple inputs).\n",
      " |            - A TensorFlow tensor, or a list of tensors\n",
      " |              (in case the model has multiple inputs).\n",
      " |            - A dict mapping input names to the corresponding array/tensors,\n",
      " |              if the model has named inputs.\n",
      " |            - A `tf.data` dataset. Should return a tuple\n",
      " |              of either `(inputs, targets)` or\n",
      " |              `(inputs, targets, sample_weights)`.\n",
      " |            - A generator or `keras.utils.Sequence` returning `(inputs,\n",
      " |              targets)` or `(inputs, targets, sample_weights)`.\n",
      " |            A more detailed description of unpacking behavior for iterator\n",
      " |            types (Dataset, generator, Sequence) is given in the `Unpacking\n",
      " |            behavior for iterator-like inputs` section of `Model.fit`.\n",
      " |          y: Target data. Like the input data `x`, it could be either Numpy\n",
      " |            array(s) or TensorFlow tensor(s). It should be consistent with `x`\n",
      " |            (you cannot have Numpy inputs and tensor targets, or inversely).\n",
      " |            If `x` is a dataset, generator or `keras.utils.Sequence` instance,\n",
      " |            `y` should not be specified (since targets will be obtained from\n",
      " |            the iterator/dataset).\n",
      " |          batch_size: Integer or `None`. Number of samples per batch of\n",
      " |            computation. If unspecified, `batch_size` will default to 32. Do\n",
      " |            not specify the `batch_size` if your data is in the form of a\n",
      " |            dataset, generators, or `keras.utils.Sequence` instances (since\n",
      " |            they generate batches).\n",
      " |          verbose: `\"auto\"`, 0, 1, or 2. Verbosity mode.\n",
      " |              0 = silent, 1 = progress bar, 2 = single line.\n",
      " |              `\"auto\"` defaults to 1 for most cases, and to 2 when used with\n",
      " |              `ParameterServerStrategy`. Note that the progress bar is not\n",
      " |              particularly useful when logged to a file, so `verbose=2` is\n",
      " |              recommended when not running interactively (e.g. in a production\n",
      " |              environment).\n",
      " |          sample_weight: Optional Numpy array of weights for the test samples,\n",
      " |            used for weighting the loss function. You can either pass a flat\n",
      " |            (1D) Numpy array with the same length as the input samples\n",
      " |              (1:1 mapping between weights and samples), or in the case of\n",
      " |                temporal data, you can pass a 2D array with shape `(samples,\n",
      " |                sequence_length)`, to apply a different weight to every\n",
      " |                timestep of every sample. This argument is not supported when\n",
      " |                `x` is a dataset, instead pass sample weights as the third\n",
      " |                element of `x`.\n",
      " |          steps: Integer or `None`. Total number of steps (batches of samples)\n",
      " |            before declaring the evaluation round finished. Ignored with the\n",
      " |            default value of `None`. If x is a `tf.data` dataset and `steps`\n",
      " |            is None, 'evaluate' will run until the dataset is exhausted. This\n",
      " |            argument is not supported with array inputs.\n",
      " |          callbacks: List of `keras.callbacks.Callback` instances. List of\n",
      " |            callbacks to apply during evaluation. See\n",
      " |            [callbacks](https://www.tensorflow.org/api_docs/python/tf/keras/callbacks).\n",
      " |          max_queue_size: Integer. Used for generator or\n",
      " |            `keras.utils.Sequence` input only. Maximum size for the generator\n",
      " |            queue. If unspecified, `max_queue_size` will default to 10.\n",
      " |          workers: Integer. Used for generator or `keras.utils.Sequence` input\n",
      " |            only. Maximum number of processes to spin up when using\n",
      " |            process-based threading. If unspecified, `workers` will default to\n",
      " |            1.\n",
      " |          use_multiprocessing: Boolean. Used for generator or\n",
      " |            `keras.utils.Sequence` input only. If `True`, use process-based\n",
      " |            threading. If unspecified, `use_multiprocessing` will default to\n",
      " |            `False`. Note that because this implementation relies on\n",
      " |            multiprocessing, you should not pass non-picklable arguments to\n",
      " |            the generator as they can't be passed easily to children\n",
      " |            processes.\n",
      " |          return_dict: If `True`, loss and metric results are returned as a\n",
      " |            dict, with each key being the name of the metric. If `False`, they\n",
      " |            are returned as a list.\n",
      " |          **kwargs: Unused at this time.\n",
      " |      \n",
      " |      See the discussion of `Unpacking behavior for iterator-like inputs` for\n",
      " |      `Model.fit`.\n",
      " |      \n",
      " |      Returns:\n",
      " |          Scalar test loss (if the model has a single output and no metrics)\n",
      " |          or list of scalars (if the model has multiple outputs\n",
      " |          and/or metrics). The attribute `model.metrics_names` will give you\n",
      " |          the display labels for the scalar outputs.\n",
      " |      \n",
      " |      Raises:\n",
      " |          RuntimeError: If `model.evaluate` is wrapped in a `tf.function`.\n",
      " |  \n",
      " |  evaluate_generator(self, generator, steps=None, callbacks=None, max_queue_size=10, workers=1, use_multiprocessing=False, verbose=0)\n",
      " |      Evaluates the model on a data generator.\n",
      " |      \n",
      " |      DEPRECATED:\n",
      " |        `Model.evaluate` now supports generators, so there is no longer any\n",
      " |        need to use this endpoint.\n",
      " |  \n",
      " |  fit_generator(self, generator, steps_per_epoch=None, epochs=1, verbose=1, callbacks=None, validation_data=None, validation_steps=None, validation_freq=1, class_weight=None, max_queue_size=10, workers=1, use_multiprocessing=False, shuffle=True, initial_epoch=0)\n",
      " |      Fits the model on data yielded batch-by-batch by a Python generator.\n",
      " |      \n",
      " |      DEPRECATED:\n",
      " |        `Model.fit` now supports generators, so there is no longer any need to\n",
      " |        use this endpoint.\n",
      " |  \n",
      " |  get_config(self)\n",
      " |      Returns the config of the `Model`.\n",
      " |      \n",
      " |      Config is a Python dictionary (serializable) containing the\n",
      " |      configuration of an object, which in this case is a `Model`. This allows\n",
      " |      the `Model` to be be reinstantiated later (without its trained weights)\n",
      " |      from this configuration.\n",
      " |      \n",
      " |      Note that `get_config()` does not guarantee to return a fresh copy of\n",
      " |      dict every time it is called. The callers should make a copy of the\n",
      " |      returned dict if they want to modify it.\n",
      " |      \n",
      " |      Developers of subclassed `Model` are advised to override this method,\n",
      " |      and continue to update the dict from `super(MyModel, self).get_config()`\n",
      " |      to provide the proper configuration of this `Model`. The default config\n",
      " |      is an empty dict. Optionally, raise `NotImplementedError` to allow Keras\n",
      " |      to attempt a default serialization.\n",
      " |      \n",
      " |      Returns:\n",
      " |          Python dictionary containing the configuration of this `Model`.\n",
      " |  \n",
      " |  get_layer(self, name=None, index=None)\n",
      " |      Retrieves a layer based on either its name (unique) or index.\n",
      " |      \n",
      " |      If `name` and `index` are both provided, `index` will take precedence.\n",
      " |      Indices are based on order of horizontal graph traversal (bottom-up).\n",
      " |      \n",
      " |      Args:\n",
      " |          name: String, name of layer.\n",
      " |          index: Integer, index of layer.\n",
      " |      \n",
      " |      Returns:\n",
      " |          A layer instance.\n",
      " |  \n",
      " |  get_metrics_result(self)\n",
      " |      Returns the model's metrics values as a dict.\n",
      " |      \n",
      " |      If any of the metric result is a dict (containing multiple metrics),\n",
      " |      each of them gets added to the top level returned dict of this method.\n",
      " |      \n",
      " |      Returns:\n",
      " |        A `dict` containing values of the metrics listed in `self.metrics`.\n",
      " |        Example:\n",
      " |        `{'loss': 0.2, 'accuracy': 0.7}`.\n",
      " |  \n",
      " |  get_weight_paths(self)\n",
      " |      Retrieve all the variables and their paths for the model.\n",
      " |      \n",
      " |      The variable path (string) is a stable key to indentify a `tf.Variable`\n",
      " |      instance owned by the model. It can be used to specify variable-specific\n",
      " |      configurations (e.g. DTensor, quantization) from a global view.\n",
      " |      \n",
      " |      This method returns a dict with weight object paths as keys\n",
      " |      and the corresponding `tf.Variable` instances as values.\n",
      " |      \n",
      " |      Note that if the model is a subclassed model and the weights haven't\n",
      " |      been initialized, an empty dict will be returned.\n",
      " |      \n",
      " |      Returns:\n",
      " |          A dict where keys are variable paths and values are `tf.Variable`\n",
      " |           instances.\n",
      " |      \n",
      " |      Example:\n",
      " |      \n",
      " |      ```python\n",
      " |      class SubclassModel(tf.keras.Model):\n",
      " |      \n",
      " |        def __init__(self, name=None):\n",
      " |          super().__init__(name=name)\n",
      " |          self.d1 = tf.keras.layers.Dense(10)\n",
      " |          self.d2 = tf.keras.layers.Dense(20)\n",
      " |      \n",
      " |        def call(self, inputs):\n",
      " |          x = self.d1(inputs)\n",
      " |          return self.d2(x)\n",
      " |      \n",
      " |      model = SubclassModel()\n",
      " |      model(tf.zeros((10, 10)))\n",
      " |      weight_paths = model.get_weight_paths()\n",
      " |      # weight_paths:\n",
      " |      # {\n",
      " |      #    'd1.kernel': model.d1.kernel,\n",
      " |      #    'd1.bias': model.d1.bias,\n",
      " |      #    'd2.kernel': model.d2.kernel,\n",
      " |      #    'd2.bias': model.d2.bias,\n",
      " |      # }\n",
      " |      \n",
      " |      # Functional model\n",
      " |      inputs = tf.keras.Input((10,), batch_size=10)\n",
      " |      x = tf.keras.layers.Dense(20, name='d1')(inputs)\n",
      " |      output = tf.keras.layers.Dense(30, name='d2')(x)\n",
      " |      model = tf.keras.Model(inputs, output)\n",
      " |      d1 = model.layers[1]\n",
      " |      d2 = model.layers[2]\n",
      " |      weight_paths = model.get_weight_paths()\n",
      " |      # weight_paths:\n",
      " |      # {\n",
      " |      #    'd1.kernel': d1.kernel,\n",
      " |      #    'd1.bias': d1.bias,\n",
      " |      #    'd2.kernel': d2.kernel,\n",
      " |      #    'd2.bias': d2.bias,\n",
      " |      # }\n",
      " |      ```\n",
      " |  \n",
      " |  get_weights(self)\n",
      " |      Retrieves the weights of the model.\n",
      " |      \n",
      " |      Returns:\n",
      " |          A flat list of Numpy arrays.\n",
      " |  \n",
      " |  make_train_function(self, force=False)\n",
      " |      Creates a function that executes one step of training.\n",
      " |      \n",
      " |      This method can be overridden to support custom training logic.\n",
      " |      This method is called by `Model.fit` and `Model.train_on_batch`.\n",
      " |      \n",
      " |      Typically, this method directly controls `tf.function` and\n",
      " |      `tf.distribute.Strategy` settings, and delegates the actual training\n",
      " |      logic to `Model.train_step`.\n",
      " |      \n",
      " |      This function is cached the first time `Model.fit` or\n",
      " |      `Model.train_on_batch` is called. The cache is cleared whenever\n",
      " |      `Model.compile` is called. You can skip the cache and generate again the\n",
      " |      function with `force=True`.\n",
      " |      \n",
      " |      Args:\n",
      " |        force: Whether to regenerate the train function and skip the cached\n",
      " |          function if available.\n",
      " |      \n",
      " |      Returns:\n",
      " |        Function. The function created by this method should accept a\n",
      " |        `tf.data.Iterator`, and return a `dict` containing values that will\n",
      " |        be passed to `tf.keras.Callbacks.on_train_batch_end`, such as\n",
      " |        `{'loss': 0.2, 'accuracy': 0.7}`.\n",
      " |  \n",
      " |  predict(self, x, batch_size=None, verbose='auto', steps=None, callbacks=None, max_queue_size=10, workers=1, use_multiprocessing=False)\n",
      " |      Generates output predictions for the input samples.\n",
      " |      \n",
      " |      Computation is done in batches. This method is designed for batch\n",
      " |      processing of large numbers of inputs. It is not intended for use inside\n",
      " |      of loops that iterate over your data and process small numbers of inputs\n",
      " |      at a time.\n",
      " |      \n",
      " |      For small numbers of inputs that fit in one batch,\n",
      " |      directly use `__call__()` for faster execution, e.g.,\n",
      " |      `model(x)`, or `model(x, training=False)` if you have layers such as\n",
      " |      `tf.keras.layers.BatchNormalization` that behave differently during\n",
      " |      inference. You may pair the individual model call with a `tf.function`\n",
      " |      for additional performance inside your inner loop.\n",
      " |      If you need access to numpy array values instead of tensors after your\n",
      " |      model call, you can use `tensor.numpy()` to get the numpy array value of\n",
      " |      an eager tensor.\n",
      " |      \n",
      " |      Also, note the fact that test loss is not affected by\n",
      " |      regularization layers like noise and dropout.\n",
      " |      \n",
      " |      Note: See [this FAQ entry](\n",
      " |      https://keras.io/getting_started/faq/#whats-the-difference-between-model-methods-predict-and-call)\n",
      " |      for more details about the difference between `Model` methods\n",
      " |      `predict()` and `__call__()`.\n",
      " |      \n",
      " |      Args:\n",
      " |          x: Input samples. It could be:\n",
      " |            - A Numpy array (or array-like), or a list of arrays\n",
      " |              (in case the model has multiple inputs).\n",
      " |            - A TensorFlow tensor, or a list of tensors\n",
      " |              (in case the model has multiple inputs).\n",
      " |            - A `tf.data` dataset.\n",
      " |            - A generator or `keras.utils.Sequence` instance.\n",
      " |            A more detailed description of unpacking behavior for iterator\n",
      " |            types (Dataset, generator, Sequence) is given in the `Unpacking\n",
      " |            behavior for iterator-like inputs` section of `Model.fit`.\n",
      " |          batch_size: Integer or `None`.\n",
      " |              Number of samples per batch.\n",
      " |              If unspecified, `batch_size` will default to 32.\n",
      " |              Do not specify the `batch_size` if your data is in the\n",
      " |              form of dataset, generators, or `keras.utils.Sequence` instances\n",
      " |              (since they generate batches).\n",
      " |          verbose: `\"auto\"`, 0, 1, or 2. Verbosity mode.\n",
      " |              0 = silent, 1 = progress bar, 2 = single line.\n",
      " |              `\"auto\"` defaults to 1 for most cases, and to 2 when used with\n",
      " |              `ParameterServerStrategy`. Note that the progress bar is not\n",
      " |              particularly useful when logged to a file, so `verbose=2` is\n",
      " |              recommended when not running interactively (e.g. in a production\n",
      " |              environment).\n",
      " |          steps: Total number of steps (batches of samples)\n",
      " |              before declaring the prediction round finished.\n",
      " |              Ignored with the default value of `None`. If x is a `tf.data`\n",
      " |              dataset and `steps` is None, `predict()` will\n",
      " |              run until the input dataset is exhausted.\n",
      " |          callbacks: List of `keras.callbacks.Callback` instances.\n",
      " |              List of callbacks to apply during prediction.\n",
      " |              See [callbacks](\n",
      " |              https://www.tensorflow.org/api_docs/python/tf/keras/callbacks).\n",
      " |          max_queue_size: Integer. Used for generator or\n",
      " |              `keras.utils.Sequence` input only. Maximum size for the\n",
      " |              generator queue. If unspecified, `max_queue_size` will default\n",
      " |              to 10.\n",
      " |          workers: Integer. Used for generator or `keras.utils.Sequence` input\n",
      " |              only. Maximum number of processes to spin up when using\n",
      " |              process-based threading. If unspecified, `workers` will default\n",
      " |              to 1.\n",
      " |          use_multiprocessing: Boolean. Used for generator or\n",
      " |              `keras.utils.Sequence` input only. If `True`, use process-based\n",
      " |              threading. If unspecified, `use_multiprocessing` will default to\n",
      " |              `False`. Note that because this implementation relies on\n",
      " |              multiprocessing, you should not pass non-picklable arguments to\n",
      " |              the generator as they can't be passed easily to children\n",
      " |              processes.\n",
      " |      \n",
      " |      See the discussion of `Unpacking behavior for iterator-like inputs` for\n",
      " |      `Model.fit`. Note that Model.predict uses the same interpretation rules\n",
      " |      as `Model.fit` and `Model.evaluate`, so inputs must be unambiguous for\n",
      " |      all three methods.\n",
      " |      \n",
      " |      Returns:\n",
      " |          Numpy array(s) of predictions.\n",
      " |      \n",
      " |      Raises:\n",
      " |          RuntimeError: If `model.predict` is wrapped in a `tf.function`.\n",
      " |          ValueError: In case of mismatch between the provided\n",
      " |              input data and the model's expectations,\n",
      " |              or in case a stateful model receives a number of samples\n",
      " |              that is not a multiple of the batch size.\n",
      " |  \n",
      " |  predict_generator(self, generator, steps=None, callbacks=None, max_queue_size=10, workers=1, use_multiprocessing=False, verbose=0)\n",
      " |      Generates predictions for the input samples from a data generator.\n",
      " |      \n",
      " |      DEPRECATED:\n",
      " |        `Model.predict` now supports generators, so there is no longer any\n",
      " |        need to use this endpoint.\n",
      " |  \n",
      " |  predict_on_batch(self, x)\n",
      " |      Returns predictions for a single batch of samples.\n",
      " |      \n",
      " |      Args:\n",
      " |          x: Input data. It could be:\n",
      " |            - A Numpy array (or array-like), or a list of arrays (in case the\n",
      " |                model has multiple inputs).\n",
      " |            - A TensorFlow tensor, or a list of tensors (in case the model has\n",
      " |                multiple inputs).\n",
      " |      \n",
      " |      Returns:\n",
      " |          Numpy array(s) of predictions.\n",
      " |      \n",
      " |      Raises:\n",
      " |          RuntimeError: If `model.predict_on_batch` is wrapped in a\n",
      " |            `tf.function`.\n",
      " |  \n",
      " |  predict_step(self, data)\n",
      " |      The logic for one inference step.\n",
      " |      \n",
      " |      This method can be overridden to support custom inference logic.\n",
      " |      This method is called by `Model.make_predict_function`.\n",
      " |      \n",
      " |      This method should contain the mathematical logic for one step of\n",
      " |      inference.  This typically includes the forward pass.\n",
      " |      \n",
      " |      Configuration details for *how* this logic is run (e.g. `tf.function`\n",
      " |      and `tf.distribute.Strategy` settings), should be left to\n",
      " |      `Model.make_predict_function`, which can also be overridden.\n",
      " |      \n",
      " |      Args:\n",
      " |        data: A nested structure of `Tensor`s.\n",
      " |      \n",
      " |      Returns:\n",
      " |        The result of one inference step, typically the output of calling the\n",
      " |        `Model` on data.\n",
      " |  \n",
      " |  reset_metrics(self)\n",
      " |      Resets the state of all the metrics in the model.\n",
      " |      \n",
      " |      Examples:\n",
      " |      \n",
      " |      >>> inputs = tf.keras.layers.Input(shape=(3,))\n",
      " |      >>> outputs = tf.keras.layers.Dense(2)(inputs)\n",
      " |      >>> model = tf.keras.models.Model(inputs=inputs, outputs=outputs)\n",
      " |      >>> model.compile(optimizer=\"Adam\", loss=\"mse\", metrics=[\"mae\"])\n",
      " |      \n",
      " |      >>> x = np.random.random((2, 3))\n",
      " |      >>> y = np.random.randint(0, 2, (2, 2))\n",
      " |      >>> _ = model.fit(x, y, verbose=0)\n",
      " |      >>> assert all(float(m.result()) for m in model.metrics)\n",
      " |      \n",
      " |      >>> model.reset_metrics()\n",
      " |      >>> assert all(float(m.result()) == 0 for m in model.metrics)\n",
      " |  \n",
      " |  reset_states(self)\n",
      " |  \n",
      " |  save_spec(self, dynamic_batch=True)\n",
      " |      Returns the `tf.TensorSpec` of call inputs as a tuple `(args, kwargs)`.\n",
      " |      \n",
      " |      This value is automatically defined after calling the model for the\n",
      " |      first time. Afterwards, you can use it when exporting the model for\n",
      " |      serving:\n",
      " |      \n",
      " |      ```python\n",
      " |      model = tf.keras.Model(...)\n",
      " |      \n",
      " |      @tf.function\n",
      " |      def serve(*args, **kwargs):\n",
      " |        outputs = model(*args, **kwargs)\n",
      " |        # Apply postprocessing steps, or add additional outputs.\n",
      " |        ...\n",
      " |        return outputs\n",
      " |      \n",
      " |      # arg_specs is `[tf.TensorSpec(...), ...]`. kwarg_specs, in this\n",
      " |      # example, is an empty dict since functional models do not use keyword\n",
      " |      # arguments.\n",
      " |      arg_specs, kwarg_specs = model.save_spec()\n",
      " |      \n",
      " |      model.save(path, signatures={\n",
      " |        'serving_default': serve.get_concrete_function(*arg_specs,\n",
      " |                                                       **kwarg_specs)\n",
      " |      })\n",
      " |      ```\n",
      " |      \n",
      " |      Args:\n",
      " |        dynamic_batch: Whether to set the batch sizes of all the returned\n",
      " |          `tf.TensorSpec` to `None`. (Note that when defining functional or\n",
      " |          Sequential models with `tf.keras.Input([...], batch_size=X)`, the\n",
      " |          batch size will always be preserved). Defaults to `True`.\n",
      " |      Returns:\n",
      " |        If the model inputs are defined, returns a tuple `(args, kwargs)`. All\n",
      " |        elements in `args` and `kwargs` are `tf.TensorSpec`.\n",
      " |        If the model inputs are not defined, returns `None`.\n",
      " |        The model inputs are automatically set when calling the model,\n",
      " |        `model.fit`, `model.evaluate` or `model.predict`.\n",
      " |  \n",
      " |  save_weights(self, filepath, overwrite=True, save_format=None, options=None)\n",
      " |      Saves all layer weights.\n",
      " |      \n",
      " |      Either saves in HDF5 or in TensorFlow format based on the `save_format`\n",
      " |      argument.\n",
      " |      \n",
      " |      When saving in HDF5 format, the weight file has:\n",
      " |        - `layer_names` (attribute), a list of strings\n",
      " |            (ordered names of model layers).\n",
      " |        - For every layer, a `group` named `layer.name`\n",
      " |            - For every such layer group, a group attribute `weight_names`,\n",
      " |                a list of strings\n",
      " |                (ordered names of weights tensor of the layer).\n",
      " |            - For every weight in the layer, a dataset\n",
      " |                storing the weight value, named after the weight tensor.\n",
      " |      \n",
      " |      When saving in TensorFlow format, all objects referenced by the network\n",
      " |      are saved in the same format as `tf.train.Checkpoint`, including any\n",
      " |      `Layer` instances or `Optimizer` instances assigned to object\n",
      " |      attributes. For networks constructed from inputs and outputs using\n",
      " |      `tf.keras.Model(inputs, outputs)`, `Layer` instances used by the network\n",
      " |      are tracked/saved automatically. For user-defined classes which inherit\n",
      " |      from `tf.keras.Model`, `Layer` instances must be assigned to object\n",
      " |      attributes, typically in the constructor. See the documentation of\n",
      " |      `tf.train.Checkpoint` and `tf.keras.Model` for details.\n",
      " |      \n",
      " |      While the formats are the same, do not mix `save_weights` and\n",
      " |      `tf.train.Checkpoint`. Checkpoints saved by `Model.save_weights` should\n",
      " |      be loaded using `Model.load_weights`. Checkpoints saved using\n",
      " |      `tf.train.Checkpoint.save` should be restored using the corresponding\n",
      " |      `tf.train.Checkpoint.restore`. Prefer `tf.train.Checkpoint` over\n",
      " |      `save_weights` for training checkpoints.\n",
      " |      \n",
      " |      The TensorFlow format matches objects and variables by starting at a\n",
      " |      root object, `self` for `save_weights`, and greedily matching attribute\n",
      " |      names. For `Model.save` this is the `Model`, and for `Checkpoint.save`\n",
      " |      this is the `Checkpoint` even if the `Checkpoint` has a model attached.\n",
      " |      This means saving a `tf.keras.Model` using `save_weights` and loading\n",
      " |      into a `tf.train.Checkpoint` with a `Model` attached (or vice versa)\n",
      " |      will not match the `Model`'s variables. See the\n",
      " |      [guide to training checkpoints](\n",
      " |      https://www.tensorflow.org/guide/checkpoint) for details on\n",
      " |      the TensorFlow format.\n",
      " |      \n",
      " |      Args:\n",
      " |          filepath: String or PathLike, path to the file to save the weights\n",
      " |              to. When saving in TensorFlow format, this is the prefix used\n",
      " |              for checkpoint files (multiple files are generated). Note that\n",
      " |              the '.h5' suffix causes weights to be saved in HDF5 format.\n",
      " |          overwrite: Whether to silently overwrite any existing file at the\n",
      " |              target location, or provide the user with a manual prompt.\n",
      " |          save_format: Either 'tf' or 'h5'. A `filepath` ending in '.h5' or\n",
      " |              '.keras' will default to HDF5 if `save_format` is `None`.\n",
      " |              Otherwise `None` defaults to 'tf'.\n",
      " |          options: Optional `tf.train.CheckpointOptions` object that specifies\n",
      " |              options for saving weights.\n",
      " |      \n",
      " |      Raises:\n",
      " |          ImportError: If `h5py` is not available when attempting to save in\n",
      " |              HDF5 format.\n",
      " |  \n",
      " |  test_on_batch(self, x, y=None, sample_weight=None, reset_metrics=True, return_dict=False)\n",
      " |      Test the model on a single batch of samples.\n",
      " |      \n",
      " |      Args:\n",
      " |          x: Input data. It could be:\n",
      " |            - A Numpy array (or array-like), or a list of arrays (in case the\n",
      " |                model has multiple inputs).\n",
      " |            - A TensorFlow tensor, or a list of tensors (in case the model has\n",
      " |                multiple inputs).\n",
      " |            - A dict mapping input names to the corresponding array/tensors,\n",
      " |                if the model has named inputs.\n",
      " |          y: Target data. Like the input data `x`, it could be either Numpy\n",
      " |            array(s) or TensorFlow tensor(s). It should be consistent with `x`\n",
      " |            (you cannot have Numpy inputs and tensor targets, or inversely).\n",
      " |          sample_weight: Optional array of the same length as x, containing\n",
      " |            weights to apply to the model's loss for each sample. In the case\n",
      " |            of temporal data, you can pass a 2D array with shape (samples,\n",
      " |            sequence_length), to apply a different weight to every timestep of\n",
      " |            every sample.\n",
      " |          reset_metrics: If `True`, the metrics returned will be only for this\n",
      " |            batch. If `False`, the metrics will be statefully accumulated\n",
      " |            across batches.\n",
      " |          return_dict: If `True`, loss and metric results are returned as a\n",
      " |            dict, with each key being the name of the metric. If `False`, they\n",
      " |            are returned as a list.\n",
      " |      \n",
      " |      Returns:\n",
      " |          Scalar test loss (if the model has a single output and no metrics)\n",
      " |          or list of scalars (if the model has multiple outputs\n",
      " |          and/or metrics). The attribute `model.metrics_names` will give you\n",
      " |          the display labels for the scalar outputs.\n",
      " |      \n",
      " |      Raises:\n",
      " |          RuntimeError: If `model.test_on_batch` is wrapped in a\n",
      " |            `tf.function`.\n",
      " |  \n",
      " |  test_step(self, data)\n",
      " |      The logic for one evaluation step.\n",
      " |      \n",
      " |      This method can be overridden to support custom evaluation logic.\n",
      " |      This method is called by `Model.make_test_function`.\n",
      " |      \n",
      " |      This function should contain the mathematical logic for one step of\n",
      " |      evaluation.\n",
      " |      This typically includes the forward pass, loss calculation, and metrics\n",
      " |      updates.\n",
      " |      \n",
      " |      Configuration details for *how* this logic is run (e.g. `tf.function`\n",
      " |      and `tf.distribute.Strategy` settings), should be left to\n",
      " |      `Model.make_test_function`, which can also be overridden.\n",
      " |      \n",
      " |      Args:\n",
      " |        data: A nested structure of `Tensor`s.\n",
      " |      \n",
      " |      Returns:\n",
      " |        A `dict` containing values that will be passed to\n",
      " |        `tf.keras.callbacks.CallbackList.on_train_batch_end`. Typically, the\n",
      " |        values of the `Model`'s metrics are returned.\n",
      " |  \n",
      " |  to_json(self, **kwargs)\n",
      " |      Returns a JSON string containing the network configuration.\n",
      " |      \n",
      " |      To load a network from a JSON save file, use\n",
      " |      `keras.models.model_from_json(json_string, custom_objects={})`.\n",
      " |      \n",
      " |      Args:\n",
      " |          **kwargs: Additional keyword arguments to be passed to\n",
      " |              *`json.dumps()`.\n",
      " |      \n",
      " |      Returns:\n",
      " |          A JSON string.\n",
      " |  \n",
      " |  to_yaml(self, **kwargs)\n",
      " |      Returns a yaml string containing the network configuration.\n",
      " |      \n",
      " |      Note: Since TF 2.6, this method is no longer supported and will raise a\n",
      " |      RuntimeError.\n",
      " |      \n",
      " |      To load a network from a yaml save file, use\n",
      " |      `keras.models.model_from_yaml(yaml_string, custom_objects={})`.\n",
      " |      \n",
      " |      `custom_objects` should be a dictionary mapping\n",
      " |      the names of custom losses / layers / etc to the corresponding\n",
      " |      functions / classes.\n",
      " |      \n",
      " |      Args:\n",
      " |          **kwargs: Additional keyword arguments\n",
      " |              to be passed to `yaml.dump()`.\n",
      " |      \n",
      " |      Returns:\n",
      " |          A YAML string.\n",
      " |      \n",
      " |      Raises:\n",
      " |          RuntimeError: announces that the method poses a security risk\n",
      " |  \n",
      " |  ----------------------------------------------------------------------\n",
      " |  Class methods inherited from keras.engine.training.Model:\n",
      " |  \n",
      " |  from_config(config, custom_objects=None) from builtins.type\n",
      " |      Creates a layer from its config.\n",
      " |      \n",
      " |      This method is the reverse of `get_config`,\n",
      " |      capable of instantiating the same layer from the config\n",
      " |      dictionary. It does not handle layer connectivity\n",
      " |      (handled by Network), nor weights (handled by `set_weights`).\n",
      " |      \n",
      " |      Args:\n",
      " |          config: A Python dictionary, typically the\n",
      " |              output of get_config.\n",
      " |      \n",
      " |      Returns:\n",
      " |          A layer instance.\n",
      " |  \n",
      " |  ----------------------------------------------------------------------\n",
      " |  Static methods inherited from keras.engine.training.Model:\n",
      " |  \n",
      " |  __new__(cls, *args, **kwargs)\n",
      " |      Create and return a new object.  See help(type) for accurate signature.\n",
      " |  \n",
      " |  ----------------------------------------------------------------------\n",
      " |  Readonly properties inherited from keras.engine.training.Model:\n",
      " |  \n",
      " |  distribute_strategy\n",
      " |      The `tf.distribute.Strategy` this model was created under.\n",
      " |  \n",
      " |  metrics\n",
      " |      Returns the model's metrics added using `compile()`, `add_metric()` APIs.\n",
      " |      \n",
      " |      Note: Metrics passed to `compile()` are available only after a\n",
      " |      `keras.Model` has been trained/evaluated on actual data.\n",
      " |      \n",
      " |      Examples:\n",
      " |      \n",
      " |      >>> inputs = tf.keras.layers.Input(shape=(3,))\n",
      " |      >>> outputs = tf.keras.layers.Dense(2)(inputs)\n",
      " |      >>> model = tf.keras.models.Model(inputs=inputs, outputs=outputs)\n",
      " |      >>> model.compile(optimizer=\"Adam\", loss=\"mse\", metrics=[\"mae\"])\n",
      " |      >>> [m.name for m in model.metrics]\n",
      " |      []\n",
      " |      \n",
      " |      >>> x = np.random.random((2, 3))\n",
      " |      >>> y = np.random.randint(0, 2, (2, 2))\n",
      " |      >>> model.fit(x, y)\n",
      " |      >>> [m.name for m in model.metrics]\n",
      " |      ['loss', 'mae']\n",
      " |      \n",
      " |      >>> inputs = tf.keras.layers.Input(shape=(3,))\n",
      " |      >>> d = tf.keras.layers.Dense(2, name='out')\n",
      " |      >>> output_1 = d(inputs)\n",
      " |      >>> output_2 = d(inputs)\n",
      " |      >>> model = tf.keras.models.Model(\n",
      " |      ...    inputs=inputs, outputs=[output_1, output_2])\n",
      " |      >>> model.add_metric(\n",
      " |      ...    tf.reduce_sum(output_2), name='mean', aggregation='mean')\n",
      " |      >>> model.compile(optimizer=\"Adam\", loss=\"mse\", metrics=[\"mae\", \"acc\"])\n",
      " |      >>> model.fit(x, (y, y))\n",
      " |      >>> [m.name for m in model.metrics]\n",
      " |      ['loss', 'out_loss', 'out_1_loss', 'out_mae', 'out_acc', 'out_1_mae',\n",
      " |      'out_1_acc', 'mean']\n",
      " |  \n",
      " |  metrics_names\n",
      " |      Returns the model's display labels for all outputs.\n",
      " |      \n",
      " |      Note: `metrics_names` are available only after a `keras.Model` has been\n",
      " |      trained/evaluated on actual data.\n",
      " |      \n",
      " |      Examples:\n",
      " |      \n",
      " |      >>> inputs = tf.keras.layers.Input(shape=(3,))\n",
      " |      >>> outputs = tf.keras.layers.Dense(2)(inputs)\n",
      " |      >>> model = tf.keras.models.Model(inputs=inputs, outputs=outputs)\n",
      " |      >>> model.compile(optimizer=\"Adam\", loss=\"mse\", metrics=[\"mae\"])\n",
      " |      >>> model.metrics_names\n",
      " |      []\n",
      " |      \n",
      " |      >>> x = np.random.random((2, 3))\n",
      " |      >>> y = np.random.randint(0, 2, (2, 2))\n",
      " |      >>> model.fit(x, y)\n",
      " |      >>> model.metrics_names\n",
      " |      ['loss', 'mae']\n",
      " |      \n",
      " |      >>> inputs = tf.keras.layers.Input(shape=(3,))\n",
      " |      >>> d = tf.keras.layers.Dense(2, name='out')\n",
      " |      >>> output_1 = d(inputs)\n",
      " |      >>> output_2 = d(inputs)\n",
      " |      >>> model = tf.keras.models.Model(\n",
      " |      ...    inputs=inputs, outputs=[output_1, output_2])\n",
      " |      >>> model.compile(optimizer=\"Adam\", loss=\"mse\", metrics=[\"mae\", \"acc\"])\n",
      " |      >>> model.fit(x, (y, y))\n",
      " |      >>> model.metrics_names\n",
      " |      ['loss', 'out_loss', 'out_1_loss', 'out_mae', 'out_acc', 'out_1_mae',\n",
      " |      'out_1_acc']\n",
      " |  \n",
      " |  non_trainable_weights\n",
      " |      List of all non-trainable weights tracked by this layer.\n",
      " |      \n",
      " |      Non-trainable weights are *not* updated during training. They are\n",
      " |      expected to be updated manually in `call()`.\n",
      " |      \n",
      " |      Returns:\n",
      " |        A list of non-trainable variables.\n",
      " |  \n",
      " |  state_updates\n",
      " |      Deprecated, do NOT use!\n",
      " |      \n",
      " |      Returns the `updates` from all layers that are stateful.\n",
      " |      \n",
      " |      This is useful for separating training updates and\n",
      " |      state updates, e.g. when we need to update a layer's internal state\n",
      " |      during prediction.\n",
      " |      \n",
      " |      Returns:\n",
      " |          A list of update ops.\n",
      " |  \n",
      " |  trainable_weights\n",
      " |      List of all trainable weights tracked by this layer.\n",
      " |      \n",
      " |      Trainable weights are updated via gradient descent during training.\n",
      " |      \n",
      " |      Returns:\n",
      " |        A list of trainable variables.\n",
      " |  \n",
      " |  weights\n",
      " |      Returns the list of all layer variables/weights.\n",
      " |      \n",
      " |      Note: This will not track the weights of nested `tf.Modules` that are\n",
      " |      not themselves Keras layers.\n",
      " |      \n",
      " |      Returns:\n",
      " |        A list of variables.\n",
      " |  \n",
      " |  ----------------------------------------------------------------------\n",
      " |  Data descriptors inherited from keras.engine.training.Model:\n",
      " |  \n",
      " |  distribute_reduction_method\n",
      " |      The method employed to reduce per-replica values during training.\n",
      " |      \n",
      " |      Unless specified, the value \"auto\" will be assumed, indicating that\n",
      " |      the reduction strategy should be chosen based on the current\n",
      " |      running environment.\n",
      " |      See `reduce_per_replica` function for more details.\n",
      " |  \n",
      " |  layers\n",
      " |  \n",
      " |  run_eagerly\n",
      " |      Settable attribute indicating whether the model should run eagerly.\n",
      " |      \n",
      " |      Running eagerly means that your model will be run step by step,\n",
      " |      like Python code. Your model might run slower, but it should become\n",
      " |      easier for you to debug it by stepping into individual layer calls.\n",
      " |      \n",
      " |      By default, we will attempt to compile your model to a static graph to\n",
      " |      deliver the best execution performance.\n",
      " |      \n",
      " |      Returns:\n",
      " |        Boolean, whether the model should run eagerly.\n",
      " |  \n",
      " |  ----------------------------------------------------------------------\n",
      " |  Methods inherited from keras.engine.base_layer.Layer:\n",
      " |  \n",
      " |  __delattr__(self, name)\n",
      " |      Implement delattr(self, name).\n",
      " |  \n",
      " |  __getstate__(self)\n",
      " |  \n",
      " |  __setstate__(self, state)\n",
      " |  \n",
      " |  add_loss(self, losses, **kwargs)\n",
      " |      Add loss tensor(s), potentially dependent on layer inputs.\n",
      " |      \n",
      " |      Some losses (for instance, activity regularization losses) may be\n",
      " |      dependent on the inputs passed when calling a layer. Hence, when reusing\n",
      " |      the same layer on different inputs `a` and `b`, some entries in\n",
      " |      `layer.losses` may be dependent on `a` and some on `b`. This method\n",
      " |      automatically keeps track of dependencies.\n",
      " |      \n",
      " |      This method can be used inside a subclassed layer or model's `call`\n",
      " |      function, in which case `losses` should be a Tensor or list of Tensors.\n",
      " |      \n",
      " |      Example:\n",
      " |      \n",
      " |      ```python\n",
      " |      class MyLayer(tf.keras.layers.Layer):\n",
      " |        def call(self, inputs):\n",
      " |          self.add_loss(tf.abs(tf.reduce_mean(inputs)))\n",
      " |          return inputs\n",
      " |      ```\n",
      " |      \n",
      " |      This method can also be called directly on a Functional Model during\n",
      " |      construction. In this case, any loss Tensors passed to this Model must\n",
      " |      be symbolic and be able to be traced back to the model's `Input`s. These\n",
      " |      losses become part of the model's topology and are tracked in\n",
      " |      `get_config`.\n",
      " |      \n",
      " |      Example:\n",
      " |      \n",
      " |      ```python\n",
      " |      inputs = tf.keras.Input(shape=(10,))\n",
      " |      x = tf.keras.layers.Dense(10)(inputs)\n",
      " |      outputs = tf.keras.layers.Dense(1)(x)\n",
      " |      model = tf.keras.Model(inputs, outputs)\n",
      " |      # Activity regularization.\n",
      " |      model.add_loss(tf.abs(tf.reduce_mean(x)))\n",
      " |      ```\n",
      " |      \n",
      " |      If this is not the case for your loss (if, for example, your loss\n",
      " |      references a `Variable` of one of the model's layers), you can wrap your\n",
      " |      loss in a zero-argument lambda. These losses are not tracked as part of\n",
      " |      the model's topology since they can't be serialized.\n",
      " |      \n",
      " |      Example:\n",
      " |      \n",
      " |      ```python\n",
      " |      inputs = tf.keras.Input(shape=(10,))\n",
      " |      d = tf.keras.layers.Dense(10)\n",
      " |      x = d(inputs)\n",
      " |      outputs = tf.keras.layers.Dense(1)(x)\n",
      " |      model = tf.keras.Model(inputs, outputs)\n",
      " |      # Weight regularization.\n",
      " |      model.add_loss(lambda: tf.reduce_mean(d.kernel))\n",
      " |      ```\n",
      " |      \n",
      " |      Args:\n",
      " |        losses: Loss tensor, or list/tuple of tensors. Rather than tensors,\n",
      " |          losses may also be zero-argument callables which create a loss\n",
      " |          tensor.\n",
      " |        **kwargs: Used for backwards compatibility only.\n",
      " |  \n",
      " |  add_metric(self, value, name=None, **kwargs)\n",
      " |      Adds metric tensor to the layer.\n",
      " |      \n",
      " |      This method can be used inside the `call()` method of a subclassed layer\n",
      " |      or model.\n",
      " |      \n",
      " |      ```python\n",
      " |      class MyMetricLayer(tf.keras.layers.Layer):\n",
      " |        def __init__(self):\n",
      " |          super(MyMetricLayer, self).__init__(name='my_metric_layer')\n",
      " |          self.mean = tf.keras.metrics.Mean(name='metric_1')\n",
      " |      \n",
      " |        def call(self, inputs):\n",
      " |          self.add_metric(self.mean(inputs))\n",
      " |          self.add_metric(tf.reduce_sum(inputs), name='metric_2')\n",
      " |          return inputs\n",
      " |      ```\n",
      " |      \n",
      " |      This method can also be called directly on a Functional Model during\n",
      " |      construction. In this case, any tensor passed to this Model must\n",
      " |      be symbolic and be able to be traced back to the model's `Input`s. These\n",
      " |      metrics become part of the model's topology and are tracked when you\n",
      " |      save the model via `save()`.\n",
      " |      \n",
      " |      ```python\n",
      " |      inputs = tf.keras.Input(shape=(10,))\n",
      " |      x = tf.keras.layers.Dense(10)(inputs)\n",
      " |      outputs = tf.keras.layers.Dense(1)(x)\n",
      " |      model = tf.keras.Model(inputs, outputs)\n",
      " |      model.add_metric(math_ops.reduce_sum(x), name='metric_1')\n",
      " |      ```\n",
      " |      \n",
      " |      Note: Calling `add_metric()` with the result of a metric object on a\n",
      " |      Functional Model, as shown in the example below, is not supported. This\n",
      " |      is because we cannot trace the metric result tensor back to the model's\n",
      " |      inputs.\n",
      " |      \n",
      " |      ```python\n",
      " |      inputs = tf.keras.Input(shape=(10,))\n",
      " |      x = tf.keras.layers.Dense(10)(inputs)\n",
      " |      outputs = tf.keras.layers.Dense(1)(x)\n",
      " |      model = tf.keras.Model(inputs, outputs)\n",
      " |      model.add_metric(tf.keras.metrics.Mean()(x), name='metric_1')\n",
      " |      ```\n",
      " |      \n",
      " |      Args:\n",
      " |        value: Metric tensor.\n",
      " |        name: String metric name.\n",
      " |        **kwargs: Additional keyword arguments for backward compatibility.\n",
      " |          Accepted values:\n",
      " |          `aggregation` - When the `value` tensor provided is not the result\n",
      " |          of calling a `keras.Metric` instance, it will be aggregated by\n",
      " |          default using a `keras.Metric.Mean`.\n",
      " |  \n",
      " |  add_update(self, updates)\n",
      " |      Add update op(s), potentially dependent on layer inputs.\n",
      " |      \n",
      " |      Weight updates (for instance, the updates of the moving mean and\n",
      " |      variance in a BatchNormalization layer) may be dependent on the inputs\n",
      " |      passed when calling a layer. Hence, when reusing the same layer on\n",
      " |      different inputs `a` and `b`, some entries in `layer.updates` may be\n",
      " |      dependent on `a` and some on `b`. This method automatically keeps track\n",
      " |      of dependencies.\n",
      " |      \n",
      " |      This call is ignored when eager execution is enabled (in that case,\n",
      " |      variable updates are run on the fly and thus do not need to be tracked\n",
      " |      for later execution).\n",
      " |      \n",
      " |      Args:\n",
      " |        updates: Update op, or list/tuple of update ops, or zero-arg callable\n",
      " |          that returns an update op. A zero-arg callable should be passed in\n",
      " |          order to disable running the updates by setting `trainable=False`\n",
      " |          on this Layer, when executing in Eager mode.\n",
      " |  \n",
      " |  add_variable(self, *args, **kwargs)\n",
      " |      Deprecated, do NOT use! Alias for `add_weight`.\n",
      " |  \n",
      " |  add_weight(self, name=None, shape=None, dtype=None, initializer=None, regularizer=None, trainable=None, constraint=None, use_resource=None, synchronization=<VariableSynchronization.AUTO: 0>, aggregation=<VariableAggregationV2.NONE: 0>, **kwargs)\n",
      " |      Adds a new variable to the layer.\n",
      " |      \n",
      " |      Args:\n",
      " |        name: Variable name.\n",
      " |        shape: Variable shape. Defaults to scalar if unspecified.\n",
      " |        dtype: The type of the variable. Defaults to `self.dtype`.\n",
      " |        initializer: Initializer instance (callable).\n",
      " |        regularizer: Regularizer instance (callable).\n",
      " |        trainable: Boolean, whether the variable should be part of the layer's\n",
      " |          \"trainable_variables\" (e.g. variables, biases)\n",
      " |          or \"non_trainable_variables\" (e.g. BatchNorm mean and variance).\n",
      " |          Note that `trainable` cannot be `True` if `synchronization`\n",
      " |          is set to `ON_READ`.\n",
      " |        constraint: Constraint instance (callable).\n",
      " |        use_resource: Whether to use a `ResourceVariable` or not.\n",
      " |          See [this guide](\n",
      " |          https://www.tensorflow.org/guide/migrate/tf1_vs_tf2#resourcevariables_instead_of_referencevariables)\n",
      " |           for more information.\n",
      " |        synchronization: Indicates when a distributed a variable will be\n",
      " |          aggregated. Accepted values are constants defined in the class\n",
      " |          `tf.VariableSynchronization`. By default the synchronization is set\n",
      " |          to `AUTO` and the current `DistributionStrategy` chooses when to\n",
      " |          synchronize. If `synchronization` is set to `ON_READ`, `trainable`\n",
      " |          must not be set to `True`.\n",
      " |        aggregation: Indicates how a distributed variable will be aggregated.\n",
      " |          Accepted values are constants defined in the class\n",
      " |          `tf.VariableAggregation`.\n",
      " |        **kwargs: Additional keyword arguments. Accepted values are `getter`,\n",
      " |          `collections`, `experimental_autocast` and `caching_device`.\n",
      " |      \n",
      " |      Returns:\n",
      " |        The variable created.\n",
      " |      \n",
      " |      Raises:\n",
      " |        ValueError: When giving unsupported dtype and no initializer or when\n",
      " |          trainable has been set to True with synchronization set as\n",
      " |          `ON_READ`.\n",
      " |  \n",
      " |  compute_mask(self, inputs, mask=None)\n",
      " |      Computes an output mask tensor.\n",
      " |      \n",
      " |      Args:\n",
      " |          inputs: Tensor or list of tensors.\n",
      " |          mask: Tensor or list of tensors.\n",
      " |      \n",
      " |      Returns:\n",
      " |          None or a tensor (or list of tensors,\n",
      " |              one per output tensor of the layer).\n",
      " |  \n",
      " |  compute_output_shape(self, input_shape)\n",
      " |      Computes the output shape of the layer.\n",
      " |      \n",
      " |      This method will cause the layer's state to be built, if that has not\n",
      " |      happened before. This requires that the layer will later be used with\n",
      " |      inputs that match the input shape provided here.\n",
      " |      \n",
      " |      Args:\n",
      " |          input_shape: Shape tuple (tuple of integers) or `tf.TensorShape`,\n",
      " |              or structure of shape tuples / `tf.TensorShape` instances\n",
      " |              (one per output tensor of the layer).\n",
      " |              Shape tuples can include None for free dimensions,\n",
      " |              instead of an integer.\n",
      " |      \n",
      " |      Returns:\n",
      " |          A `tf.TensorShape` instance\n",
      " |          or structure of `tf.TensorShape` instances.\n",
      " |  \n",
      " |  compute_output_signature(self, input_signature)\n",
      " |      Compute the output tensor signature of the layer based on the inputs.\n",
      " |      \n",
      " |      Unlike a TensorShape object, a TensorSpec object contains both shape\n",
      " |      and dtype information for a tensor. This method allows layers to provide\n",
      " |      output dtype information if it is different from the input dtype.\n",
      " |      For any layer that doesn't implement this function,\n",
      " |      the framework will fall back to use `compute_output_shape`, and will\n",
      " |      assume that the output dtype matches the input dtype.\n",
      " |      \n",
      " |      Args:\n",
      " |        input_signature: Single TensorSpec or nested structure of TensorSpec\n",
      " |          objects, describing a candidate input for the layer.\n",
      " |      \n",
      " |      Returns:\n",
      " |        Single TensorSpec or nested structure of TensorSpec objects,\n",
      " |          describing how the layer would transform the provided input.\n",
      " |      \n",
      " |      Raises:\n",
      " |        TypeError: If input_signature contains a non-TensorSpec object.\n",
      " |  \n",
      " |  count_params(self)\n",
      " |      Count the total number of scalars composing the weights.\n",
      " |      \n",
      " |      Returns:\n",
      " |          An integer count.\n",
      " |      \n",
      " |      Raises:\n",
      " |          ValueError: if the layer isn't yet built\n",
      " |            (in which case its weights aren't yet defined).\n",
      " |  \n",
      " |  finalize_state(self)\n",
      " |      Finalizes the layers state after updating layer weights.\n",
      " |      \n",
      " |      This function can be subclassed in a layer and will be called after\n",
      " |      updating a layer weights. It can be overridden to finalize any\n",
      " |      additional layer state after a weight update.\n",
      " |      \n",
      " |      This function will be called after weights of a layer have been restored\n",
      " |      from a loaded model.\n",
      " |  \n",
      " |  get_input_at(self, node_index)\n",
      " |      Retrieves the input tensor(s) of a layer at a given node.\n",
      " |      \n",
      " |      Args:\n",
      " |          node_index: Integer, index of the node\n",
      " |              from which to retrieve the attribute.\n",
      " |              E.g. `node_index=0` will correspond to the\n",
      " |              first input node of the layer.\n",
      " |      \n",
      " |      Returns:\n",
      " |          A tensor (or list of tensors if the layer has multiple inputs).\n",
      " |      \n",
      " |      Raises:\n",
      " |        RuntimeError: If called in Eager mode.\n",
      " |  \n",
      " |  get_input_mask_at(self, node_index)\n",
      " |      Retrieves the input mask tensor(s) of a layer at a given node.\n",
      " |      \n",
      " |      Args:\n",
      " |          node_index: Integer, index of the node\n",
      " |              from which to retrieve the attribute.\n",
      " |              E.g. `node_index=0` will correspond to the\n",
      " |              first time the layer was called.\n",
      " |      \n",
      " |      Returns:\n",
      " |          A mask tensor\n",
      " |          (or list of tensors if the layer has multiple inputs).\n",
      " |  \n",
      " |  get_input_shape_at(self, node_index)\n",
      " |      Retrieves the input shape(s) of a layer at a given node.\n",
      " |      \n",
      " |      Args:\n",
      " |          node_index: Integer, index of the node\n",
      " |              from which to retrieve the attribute.\n",
      " |              E.g. `node_index=0` will correspond to the\n",
      " |              first time the layer was called.\n",
      " |      \n",
      " |      Returns:\n",
      " |          A shape tuple\n",
      " |          (or list of shape tuples if the layer has multiple inputs).\n",
      " |      \n",
      " |      Raises:\n",
      " |        RuntimeError: If called in Eager mode.\n",
      " |  \n",
      " |  get_output_at(self, node_index)\n",
      " |      Retrieves the output tensor(s) of a layer at a given node.\n",
      " |      \n",
      " |      Args:\n",
      " |          node_index: Integer, index of the node\n",
      " |              from which to retrieve the attribute.\n",
      " |              E.g. `node_index=0` will correspond to the\n",
      " |              first output node of the layer.\n",
      " |      \n",
      " |      Returns:\n",
      " |          A tensor (or list of tensors if the layer has multiple outputs).\n",
      " |      \n",
      " |      Raises:\n",
      " |        RuntimeError: If called in Eager mode.\n",
      " |  \n",
      " |  get_output_mask_at(self, node_index)\n",
      " |      Retrieves the output mask tensor(s) of a layer at a given node.\n",
      " |      \n",
      " |      Args:\n",
      " |          node_index: Integer, index of the node\n",
      " |              from which to retrieve the attribute.\n",
      " |              E.g. `node_index=0` will correspond to the\n",
      " |              first time the layer was called.\n",
      " |      \n",
      " |      Returns:\n",
      " |          A mask tensor\n",
      " |          (or list of tensors if the layer has multiple outputs).\n",
      " |  \n",
      " |  get_output_shape_at(self, node_index)\n",
      " |      Retrieves the output shape(s) of a layer at a given node.\n",
      " |      \n",
      " |      Args:\n",
      " |          node_index: Integer, index of the node\n",
      " |              from which to retrieve the attribute.\n",
      " |              E.g. `node_index=0` will correspond to the\n",
      " |              first time the layer was called.\n",
      " |      \n",
      " |      Returns:\n",
      " |          A shape tuple\n",
      " |          (or list of shape tuples if the layer has multiple outputs).\n",
      " |      \n",
      " |      Raises:\n",
      " |        RuntimeError: If called in Eager mode.\n",
      " |  \n",
      " |  set_weights(self, weights)\n",
      " |      Sets the weights of the layer, from NumPy arrays.\n",
      " |      \n",
      " |      The weights of a layer represent the state of the layer. This function\n",
      " |      sets the weight values from numpy arrays. The weight values should be\n",
      " |      passed in the order they are created by the layer. Note that the layer's\n",
      " |      weights must be instantiated before calling this function, by calling\n",
      " |      the layer.\n",
      " |      \n",
      " |      For example, a `Dense` layer returns a list of two values: the kernel\n",
      " |      matrix and the bias vector. These can be used to set the weights of\n",
      " |      another `Dense` layer:\n",
      " |      \n",
      " |      >>> layer_a = tf.keras.layers.Dense(1,\n",
      " |      ...   kernel_initializer=tf.constant_initializer(1.))\n",
      " |      >>> a_out = layer_a(tf.convert_to_tensor([[1., 2., 3.]]))\n",
      " |      >>> layer_a.get_weights()\n",
      " |      [array([[1.],\n",
      " |             [1.],\n",
      " |             [1.]], dtype=float32), array([0.], dtype=float32)]\n",
      " |      >>> layer_b = tf.keras.layers.Dense(1,\n",
      " |      ...   kernel_initializer=tf.constant_initializer(2.))\n",
      " |      >>> b_out = layer_b(tf.convert_to_tensor([[10., 20., 30.]]))\n",
      " |      >>> layer_b.get_weights()\n",
      " |      [array([[2.],\n",
      " |             [2.],\n",
      " |             [2.]], dtype=float32), array([0.], dtype=float32)]\n",
      " |      >>> layer_b.set_weights(layer_a.get_weights())\n",
      " |      >>> layer_b.get_weights()\n",
      " |      [array([[1.],\n",
      " |             [1.],\n",
      " |             [1.]], dtype=float32), array([0.], dtype=float32)]\n",
      " |      \n",
      " |      Args:\n",
      " |        weights: a list of NumPy arrays. The number\n",
      " |          of arrays and their shape must match\n",
      " |          number of the dimensions of the weights\n",
      " |          of the layer (i.e. it should match the\n",
      " |          output of `get_weights`).\n",
      " |      \n",
      " |      Raises:\n",
      " |        ValueError: If the provided weights list does not match the\n",
      " |          layer's specifications.\n",
      " |  \n",
      " |  ----------------------------------------------------------------------\n",
      " |  Readonly properties inherited from keras.engine.base_layer.Layer:\n",
      " |  \n",
      " |  compute_dtype\n",
      " |      The dtype of the layer's computations.\n",
      " |      \n",
      " |      This is equivalent to `Layer.dtype_policy.compute_dtype`. Unless\n",
      " |      mixed precision is used, this is the same as `Layer.dtype`, the dtype of\n",
      " |      the weights.\n",
      " |      \n",
      " |      Layers automatically cast their inputs to the compute dtype, which\n",
      " |      causes computations and the output to be in the compute dtype as well.\n",
      " |      This is done by the base Layer class in `Layer.__call__`, so you do not\n",
      " |      have to insert these casts if implementing your own layer.\n",
      " |      \n",
      " |      Layers often perform certain internal computations in higher precision\n",
      " |      when `compute_dtype` is float16 or bfloat16 for numeric stability. The\n",
      " |      output will still typically be float16 or bfloat16 in such cases.\n",
      " |      \n",
      " |      Returns:\n",
      " |        The layer's compute dtype.\n",
      " |  \n",
      " |  dtype\n",
      " |      The dtype of the layer weights.\n",
      " |      \n",
      " |      This is equivalent to `Layer.dtype_policy.variable_dtype`. Unless\n",
      " |      mixed precision is used, this is the same as `Layer.compute_dtype`, the\n",
      " |      dtype of the layer's computations.\n",
      " |  \n",
      " |  dtype_policy\n",
      " |      The dtype policy associated with this layer.\n",
      " |      \n",
      " |      This is an instance of a `tf.keras.mixed_precision.Policy`.\n",
      " |  \n",
      " |  dynamic\n",
      " |      Whether the layer is dynamic (eager-only); set in the constructor.\n",
      " |  \n",
      " |  inbound_nodes\n",
      " |      Return Functional API nodes upstream of this layer.\n",
      " |  \n",
      " |  input\n",
      " |      Retrieves the input tensor(s) of a layer.\n",
      " |      \n",
      " |      Only applicable if the layer has exactly one input,\n",
      " |      i.e. if it is connected to one incoming layer.\n",
      " |      \n",
      " |      Returns:\n",
      " |          Input tensor or list of input tensors.\n",
      " |      \n",
      " |      Raises:\n",
      " |        RuntimeError: If called in Eager mode.\n",
      " |        AttributeError: If no inbound nodes are found.\n",
      " |  \n",
      " |  input_mask\n",
      " |      Retrieves the input mask tensor(s) of a layer.\n",
      " |      \n",
      " |      Only applicable if the layer has exactly one inbound node,\n",
      " |      i.e. if it is connected to one incoming layer.\n",
      " |      \n",
      " |      Returns:\n",
      " |          Input mask tensor (potentially None) or list of input\n",
      " |          mask tensors.\n",
      " |      \n",
      " |      Raises:\n",
      " |          AttributeError: if the layer is connected to\n",
      " |          more than one incoming layers.\n",
      " |  \n",
      " |  input_shape\n",
      " |      Retrieves the input shape(s) of a layer.\n",
      " |      \n",
      " |      Only applicable if the layer has exactly one input,\n",
      " |      i.e. if it is connected to one incoming layer, or if all inputs\n",
      " |      have the same shape.\n",
      " |      \n",
      " |      Returns:\n",
      " |          Input shape, as an integer shape tuple\n",
      " |          (or list of shape tuples, one tuple per input tensor).\n",
      " |      \n",
      " |      Raises:\n",
      " |          AttributeError: if the layer has no defined input_shape.\n",
      " |          RuntimeError: if called in Eager mode.\n",
      " |  \n",
      " |  losses\n",
      " |      List of losses added using the `add_loss()` API.\n",
      " |      \n",
      " |      Variable regularization tensors are created when this property is\n",
      " |      accessed, so it is eager safe: accessing `losses` under a\n",
      " |      `tf.GradientTape` will propagate gradients back to the corresponding\n",
      " |      variables.\n",
      " |      \n",
      " |      Examples:\n",
      " |      \n",
      " |      >>> class MyLayer(tf.keras.layers.Layer):\n",
      " |      ...   def call(self, inputs):\n",
      " |      ...     self.add_loss(tf.abs(tf.reduce_mean(inputs)))\n",
      " |      ...     return inputs\n",
      " |      >>> l = MyLayer()\n",
      " |      >>> l(np.ones((10, 1)))\n",
      " |      >>> l.losses\n",
      " |      [1.0]\n",
      " |      \n",
      " |      >>> inputs = tf.keras.Input(shape=(10,))\n",
      " |      >>> x = tf.keras.layers.Dense(10)(inputs)\n",
      " |      >>> outputs = tf.keras.layers.Dense(1)(x)\n",
      " |      >>> model = tf.keras.Model(inputs, outputs)\n",
      " |      >>> # Activity regularization.\n",
      " |      >>> len(model.losses)\n",
      " |      0\n",
      " |      >>> model.add_loss(tf.abs(tf.reduce_mean(x)))\n",
      " |      >>> len(model.losses)\n",
      " |      1\n",
      " |      \n",
      " |      >>> inputs = tf.keras.Input(shape=(10,))\n",
      " |      >>> d = tf.keras.layers.Dense(10, kernel_initializer='ones')\n",
      " |      >>> x = d(inputs)\n",
      " |      >>> outputs = tf.keras.layers.Dense(1)(x)\n",
      " |      >>> model = tf.keras.Model(inputs, outputs)\n",
      " |      >>> # Weight regularization.\n",
      " |      >>> model.add_loss(lambda: tf.reduce_mean(d.kernel))\n",
      " |      >>> model.losses\n",
      " |      [<tf.Tensor: shape=(), dtype=float32, numpy=1.0>]\n",
      " |      \n",
      " |      Returns:\n",
      " |        A list of tensors.\n",
      " |  \n",
      " |  name\n",
      " |      Name of the layer (string), set in the constructor.\n",
      " |  \n",
      " |  non_trainable_variables\n",
      " |      Sequence of non-trainable variables owned by this module and its submodules.\n",
      " |      \n",
      " |      Note: this method uses reflection to find variables on the current instance\n",
      " |      and submodules. For performance reasons you may wish to cache the result\n",
      " |      of calling this method if you don't expect the return value to change.\n",
      " |      \n",
      " |      Returns:\n",
      " |        A sequence of variables for the current module (sorted by attribute\n",
      " |        name) followed by variables from all submodules recursively (breadth\n",
      " |        first).\n",
      " |  \n",
      " |  outbound_nodes\n",
      " |      Return Functional API nodes downstream of this layer.\n",
      " |  \n",
      " |  output\n",
      " |      Retrieves the output tensor(s) of a layer.\n",
      " |      \n",
      " |      Only applicable if the layer has exactly one output,\n",
      " |      i.e. if it is connected to one incoming layer.\n",
      " |      \n",
      " |      Returns:\n",
      " |        Output tensor or list of output tensors.\n",
      " |      \n",
      " |      Raises:\n",
      " |        AttributeError: if the layer is connected to more than one incoming\n",
      " |          layers.\n",
      " |        RuntimeError: if called in Eager mode.\n",
      " |  \n",
      " |  output_mask\n",
      " |      Retrieves the output mask tensor(s) of a layer.\n",
      " |      \n",
      " |      Only applicable if the layer has exactly one inbound node,\n",
      " |      i.e. if it is connected to one incoming layer.\n",
      " |      \n",
      " |      Returns:\n",
      " |          Output mask tensor (potentially None) or list of output\n",
      " |          mask tensors.\n",
      " |      \n",
      " |      Raises:\n",
      " |          AttributeError: if the layer is connected to\n",
      " |          more than one incoming layers.\n",
      " |  \n",
      " |  output_shape\n",
      " |      Retrieves the output shape(s) of a layer.\n",
      " |      \n",
      " |      Only applicable if the layer has one output,\n",
      " |      or if all outputs have the same shape.\n",
      " |      \n",
      " |      Returns:\n",
      " |          Output shape, as an integer shape tuple\n",
      " |          (or list of shape tuples, one tuple per output tensor).\n",
      " |      \n",
      " |      Raises:\n",
      " |          AttributeError: if the layer has no defined output shape.\n",
      " |          RuntimeError: if called in Eager mode.\n",
      " |  \n",
      " |  trainable_variables\n",
      " |      Sequence of trainable variables owned by this module and its submodules.\n",
      " |      \n",
      " |      Note: this method uses reflection to find variables on the current instance\n",
      " |      and submodules. For performance reasons you may wish to cache the result\n",
      " |      of calling this method if you don't expect the return value to change.\n",
      " |      \n",
      " |      Returns:\n",
      " |        A sequence of variables for the current module (sorted by attribute\n",
      " |        name) followed by variables from all submodules recursively (breadth\n",
      " |        first).\n",
      " |  \n",
      " |  updates\n",
      " |  \n",
      " |  variable_dtype\n",
      " |      Alias of `Layer.dtype`, the dtype of the weights.\n",
      " |  \n",
      " |  variables\n",
      " |      Returns the list of all layer variables/weights.\n",
      " |      \n",
      " |      Alias of `self.weights`.\n",
      " |      \n",
      " |      Note: This will not track the weights of nested `tf.Modules` that are\n",
      " |      not themselves Keras layers.\n",
      " |      \n",
      " |      Returns:\n",
      " |        A list of variables.\n",
      " |  \n",
      " |  ----------------------------------------------------------------------\n",
      " |  Data descriptors inherited from keras.engine.base_layer.Layer:\n",
      " |  \n",
      " |  activity_regularizer\n",
      " |      Optional regularizer function for the output of this layer.\n",
      " |  \n",
      " |  input_spec\n",
      " |      `InputSpec` instance(s) describing the input format for this layer.\n",
      " |      \n",
      " |      When you create a layer subclass, you can set `self.input_spec` to\n",
      " |      enable the layer to run input compatibility checks when it is called.\n",
      " |      Consider a `Conv2D` layer: it can only be called on a single input\n",
      " |      tensor of rank 4. As such, you can set, in `__init__()`:\n",
      " |      \n",
      " |      ```python\n",
      " |      self.input_spec = tf.keras.layers.InputSpec(ndim=4)\n",
      " |      ```\n",
      " |      \n",
      " |      Now, if you try to call the layer on an input that isn't rank 4\n",
      " |      (for instance, an input of shape `(2,)`, it will raise a\n",
      " |      nicely-formatted error:\n",
      " |      \n",
      " |      ```\n",
      " |      ValueError: Input 0 of layer conv2d is incompatible with the layer:\n",
      " |      expected ndim=4, found ndim=1. Full shape received: [2]\n",
      " |      ```\n",
      " |      \n",
      " |      Input checks that can be specified via `input_spec` include:\n",
      " |      - Structure (e.g. a single input, a list of 2 inputs, etc)\n",
      " |      - Shape\n",
      " |      - Rank (ndim)\n",
      " |      - Dtype\n",
      " |      \n",
      " |      For more information, see `tf.keras.layers.InputSpec`.\n",
      " |      \n",
      " |      Returns:\n",
      " |        A `tf.keras.layers.InputSpec` instance, or nested structure thereof.\n",
      " |  \n",
      " |  stateful\n",
      " |  \n",
      " |  supports_masking\n",
      " |      Whether this layer supports computing a mask using `compute_mask`.\n",
      " |  \n",
      " |  trainable\n",
      " |  \n",
      " |  ----------------------------------------------------------------------\n",
      " |  Class methods inherited from tensorflow.python.module.module.Module:\n",
      " |  \n",
      " |  with_name_scope(method) from builtins.type\n",
      " |      Decorator to automatically enter the module name scope.\n",
      " |      \n",
      " |      >>> class MyModule(tf.Module):\n",
      " |      ...   @tf.Module.with_name_scope\n",
      " |      ...   def __call__(self, x):\n",
      " |      ...     if not hasattr(self, 'w'):\n",
      " |      ...       self.w = tf.Variable(tf.random.normal([x.shape[1], 3]))\n",
      " |      ...     return tf.matmul(x, self.w)\n",
      " |      \n",
      " |      Using the above module would produce `tf.Variable`s and `tf.Tensor`s whose\n",
      " |      names included the module name:\n",
      " |      \n",
      " |      >>> mod = MyModule()\n",
      " |      >>> mod(tf.ones([1, 2]))\n",
      " |      <tf.Tensor: shape=(1, 3), dtype=float32, numpy=..., dtype=float32)>\n",
      " |      >>> mod.w\n",
      " |      <tf.Variable 'my_module/Variable:0' shape=(2, 3) dtype=float32,\n",
      " |      numpy=..., dtype=float32)>\n",
      " |      \n",
      " |      Args:\n",
      " |        method: The method to wrap.\n",
      " |      \n",
      " |      Returns:\n",
      " |        The original method wrapped such that it enters the module's name scope.\n",
      " |  \n",
      " |  ----------------------------------------------------------------------\n",
      " |  Readonly properties inherited from tensorflow.python.module.module.Module:\n",
      " |  \n",
      " |  name_scope\n",
      " |      Returns a `tf.name_scope` instance for this class.\n",
      " |  \n",
      " |  submodules\n",
      " |      Sequence of all sub-modules.\n",
      " |      \n",
      " |      Submodules are modules which are properties of this module, or found as\n",
      " |      properties of modules which are properties of this module (and so on).\n",
      " |      \n",
      " |      >>> a = tf.Module()\n",
      " |      >>> b = tf.Module()\n",
      " |      >>> c = tf.Module()\n",
      " |      >>> a.b = b\n",
      " |      >>> b.c = c\n",
      " |      >>> list(a.submodules) == [b, c]\n",
      " |      True\n",
      " |      >>> list(b.submodules) == [c]\n",
      " |      True\n",
      " |      >>> list(c.submodules) == []\n",
      " |      True\n",
      " |      \n",
      " |      Returns:\n",
      " |        A sequence of all submodules.\n",
      " |  \n",
      " |  ----------------------------------------------------------------------\n",
      " |  Data descriptors inherited from tensorflow.python.trackable.base.Trackable:\n",
      " |  \n",
      " |  __dict__\n",
      " |      dictionary for instance variables (if defined)\n",
      " |  \n",
      " |  __weakref__\n",
      " |      list of weak references to the object (if defined)\n",
      "\n"
     ]
    }
   ],
   "source": [
    "# help works anywhere.\n",
    "help(tfdf.keras.RandomForestModel)\n",
    "\n",
    "# ? only works in ipython or notebooks, it usually opens on a separate panel.\n",
    "tfdf.keras.RandomForestModel?"
   ]
  },
  {
   "cell_type": "markdown",
   "metadata": {
    "id": "PuWEYvXaiwhk"
   },
   "source": [
    "## Using a subset of features\n",
    "\n",
    "The previous example did not specify the features, so all the columns were used\n",
    "as input feature (except for the label). The following example shows how to\n",
    "specify input features."
   ]
  },
  {
   "cell_type": "code",
   "execution_count": 26,
   "metadata": {
    "execution": {
     "iopub.execute_input": "2023-01-25T12:08:13.596178Z",
     "iopub.status.busy": "2023-01-25T12:08:13.595749Z",
     "iopub.status.idle": "2023-01-25T12:08:14.731912Z",
     "shell.execute_reply": "2023-01-25T12:08:14.731051Z"
    },
    "id": "sgn_LnRz3M7z"
   },
   "outputs": [
    {
     "name": "stdout",
     "output_type": "stream",
     "text": [
      "Warning: The `num_threads` constructor argument is not set and the number of CPU is os.cpu_count()=32 > 32. Setting num_threads to 32. Set num_threads manually to use more than 32 cpus.\n"
     ]
    },
    {
     "name": "stderr",
     "output_type": "stream",
     "text": [
      "WARNING:absl:The `num_threads` constructor argument is not set and the number of CPU is os.cpu_count()=32 > 32. Setting num_threads to 32. Set num_threads manually to use more than 32 cpus.\n"
     ]
    },
    {
     "name": "stdout",
     "output_type": "stream",
     "text": [
      "Use /tmpfs/tmp/tmp1g4rc8nm as temporary training directory\n"
     ]
    },
    {
     "name": "stdout",
     "output_type": "stream",
     "text": [
      "Reading training dataset...\n"
     ]
    },
    {
     "name": "stdout",
     "output_type": "stream",
     "text": [
      "Training dataset read in 0:00:00.133978. Found 237 examples.\n"
     ]
    },
    {
     "name": "stdout",
     "output_type": "stream",
     "text": [
      "Reading validation dataset...\n"
     ]
    },
    {
     "name": "stdout",
     "output_type": "stream",
     "text": [
      "Num validation examples: tf.Tensor(107, shape=(), dtype=int32)\n"
     ]
    },
    {
     "name": "stdout",
     "output_type": "stream",
     "text": [
      "Validation dataset read in 0:00:00.334691. Found 107 examples.\n"
     ]
    },
    {
     "name": "stdout",
     "output_type": "stream",
     "text": [
      "Training model...\n"
     ]
    },
    {
     "name": "stderr",
     "output_type": "stream",
     "text": [
      "2023-01-25 12:08:14.088139: W external/ydf/yggdrasil_decision_forests/learner/gradient_boosted_trees/gradient_boosted_trees.cc:1790] \"goss_alpha\" set but \"sampling_method\" not equal to \"GOSS\".\n",
      "2023-01-25 12:08:14.088172: W external/ydf/yggdrasil_decision_forests/learner/gradient_boosted_trees/gradient_boosted_trees.cc:1800] \"goss_beta\" set but \"sampling_method\" not equal to \"GOSS\".\n",
      "2023-01-25 12:08:14.088179: W external/ydf/yggdrasil_decision_forests/learner/gradient_boosted_trees/gradient_boosted_trees.cc:1814] \"selective_gradient_boosting_ratio\" set but \"sampling_method\" not equal to \"SELGB\".\n"
     ]
    },
    {
     "name": "stdout",
     "output_type": "stream",
     "text": [
      "Model trained in 0:00:00.374109\n"
     ]
    },
    {
     "name": "stdout",
     "output_type": "stream",
     "text": [
      "Compiling model...\n"
     ]
    },
    {
     "name": "stdout",
     "output_type": "stream",
     "text": [
      "Model compiled.\n"
     ]
    },
    {
     "name": "stderr",
     "output_type": "stream",
     "text": [
      "[INFO 2023-01-25T12:08:14.448731441+00:00 kernel.cc:1214] Loading model from path /tmpfs/tmp/tmp1g4rc8nm/model/ with prefix fa926047672e45bf\n",
      "[INFO 2023-01-25T12:08:14.457709601+00:00 decision_forest.cc:661] Model loaded with 99 root(s), 3077 node(s), and 2 input feature(s).\n",
      "[INFO 2023-01-25T12:08:14.457750228+00:00 kernel.cc:1046] Use fast generic engine\n"
     ]
    },
    {
     "name": "stdout",
     "output_type": "stream",
     "text": [
      "\r",
      "1/1 [==============================] - ETA: 0s - loss: 0.0000e+00 - accuracy: 0.9626"
     ]
    },
    {
     "name": "stdout",
     "output_type": "stream",
     "text": [
      "\b\b\b\b\b\b\b\b\b\b\b\b\b\b\b\b\b\b\b\b\b\b\b\b\b\b\b\b\b\b\b\b\b\b\b\b\b\b\b\b\b\b\b\b\b\b\b\b\b\b\b\b\b\b\b\b\b\b\b\b\b\b\b\b\b\b\b\b\b\b\b\b\b\b\b\b\b\b\b\b\b\b\b\b\r",
      "1/1 [==============================] - 0s 76ms/step - loss: 0.0000e+00 - accuracy: 0.9626\n"
     ]
    },
    {
     "name": "stdout",
     "output_type": "stream",
     "text": [
      "{'loss': 0.0, 'accuracy': 0.9626168012619019}\n"
     ]
    }
   ],
   "source": [
    "feature_1 = tfdf.keras.FeatureUsage(name=\"bill_length_mm\")\n",
    "feature_2 = tfdf.keras.FeatureUsage(name=\"island\")\n",
    "\n",
    "all_features = [feature_1, feature_2]\n",
    "\n",
    "# Note: This model is only trained with two features. It will not be as good as\n",
    "# the one trained on all features.\n",
    "\n",
    "model_2 = tfdf.keras.GradientBoostedTreesModel(\n",
    "    features=all_features, exclude_non_specified_features=True)\n",
    "\n",
    "model_2.compile(metrics=[\"accuracy\"])\n",
    "model_2.fit(train_ds, validation_data=test_ds)\n",
    "\n",
    "print(model_2.evaluate(test_ds, return_dict=True))"
   ]
  },
  {
   "cell_type": "markdown",
   "metadata": {
    "id": "zvM84cgCmbUR"
   },
   "source": [
    "**Note:** As expected, the accuracy is lower than previously."
   ]
  },
  {
   "cell_type": "markdown",
   "metadata": {
    "id": "MFmqpivc7x7p"
   },
   "source": [
    "**TF-DF** attaches a **semantics** to each feature. This semantics controls how\n",
    "the feature is used by the model. The following semantics are currently supported:\n",
    "\n",
    "-   **Numerical**: Generally for quantities or counts with full ordering. For\n",
    "    example, the age of a person, or the number of items in a bag. Can be a\n",
    "    float or an integer. Missing values are represented with float(Nan) or with\n",
    "    an empty sparse tensor.\n",
    "-   **Categorical**: Generally for a type/class in finite set of possible values\n",
    "    without ordering. For example, the color RED in the set {RED, BLUE, GREEN}.\n",
    "    Can be a string or an integer. Missing values are represented as \"\" (empty\n",
    "    sting), value -2 or with an empty sparse tensor.\n",
    "-   **Categorical-Set**: A set of categorical values. Great to represent\n",
    "    tokenized text. Can be a string or an integer in a sparse tensor or a\n",
    "    ragged tensor (recommended). The order/index of each item doesn't matter.\n",
    "\n",
    "If not specified, the semantics is inferred from the representation type and shown in the training logs:\n",
    "\n",
    "- int, float (dense or sparse) → Numerical semantics.\n",
    "- str (dense or sparse) → Categorical semantics\n",
    "- int, str (ragged) → Categorical-Set semantics\n",
    "\n",
    "In some cases, the inferred semantics is incorrect. For example: An Enum stored as an integer is semantically categorical, but it will be detected as numerical. In this case, you should specify the semantic argument in the input. The `education_num` field of the Adult dataset is classical example.\n",
    "\n",
    "This dataset doesn't contain such a feature. However, for the demonstration, we will make the model treat the `year` as a categorical feature:"
   ]
  },
  {
   "cell_type": "code",
   "execution_count": 27,
   "metadata": {
    "execution": {
     "iopub.execute_input": "2023-01-25T12:08:14.735408Z",
     "iopub.status.busy": "2023-01-25T12:08:14.735153Z",
     "iopub.status.idle": "2023-01-25T12:08:15.479162Z",
     "shell.execute_reply": "2023-01-25T12:08:15.478299Z"
    },
    "id": "RNRIwLYC8zrp"
   },
   "outputs": [
    {
     "data": {
      "application/javascript": [
       "google.colab.output.setIframeHeight(0, true, {maxHeight: 300})"
      ],
      "text/plain": [
       "<IPython.core.display.Javascript object>"
      ]
     },
     "metadata": {},
     "output_type": "display_data"
    },
    {
     "name": "stdout",
     "output_type": "stream",
     "text": [
      "Warning: The `num_threads` constructor argument is not set and the number of CPU is os.cpu_count()=32 > 32. Setting num_threads to 32. Set num_threads manually to use more than 32 cpus.\n"
     ]
    },
    {
     "name": "stderr",
     "output_type": "stream",
     "text": [
      "WARNING:absl:The `num_threads` constructor argument is not set and the number of CPU is os.cpu_count()=32 > 32. Setting num_threads to 32. Set num_threads manually to use more than 32 cpus.\n"
     ]
    },
    {
     "name": "stdout",
     "output_type": "stream",
     "text": [
      "Use /tmpfs/tmp/tmp78wbyzf8 as temporary training directory\n"
     ]
    },
    {
     "name": "stdout",
     "output_type": "stream",
     "text": [
      "Reading training dataset...\n"
     ]
    },
    {
     "name": "stdout",
     "output_type": "stream",
     "text": [
      "Training dataset read in 0:00:00.137545. Found 237 examples.\n"
     ]
    },
    {
     "name": "stdout",
     "output_type": "stream",
     "text": [
      "Reading validation dataset...\n"
     ]
    },
    {
     "name": "stdout",
     "output_type": "stream",
     "text": [
      "Num validation examples: tf.Tensor(107, shape=(), dtype=int32)\n"
     ]
    },
    {
     "name": "stdout",
     "output_type": "stream",
     "text": [
      "Validation dataset read in 0:00:00.147597. Found 107 examples.\n"
     ]
    },
    {
     "name": "stdout",
     "output_type": "stream",
     "text": [
      "Training model...\n"
     ]
    },
    {
     "name": "stderr",
     "output_type": "stream",
     "text": [
      "2023-01-25 12:08:15.043828: W external/ydf/yggdrasil_decision_forests/learner/gradient_boosted_trees/gradient_boosted_trees.cc:1790] \"goss_alpha\" set but \"sampling_method\" not equal to \"GOSS\".\n",
      "2023-01-25 12:08:15.043867: W external/ydf/yggdrasil_decision_forests/learner/gradient_boosted_trees/gradient_boosted_trees.cc:1800] \"goss_beta\" set but \"sampling_method\" not equal to \"GOSS\".\n",
      "2023-01-25 12:08:15.043875: W external/ydf/yggdrasil_decision_forests/learner/gradient_boosted_trees/gradient_boosted_trees.cc:1814] \"selective_gradient_boosting_ratio\" set but \"sampling_method\" not equal to \"SELGB\".\n"
     ]
    },
    {
     "name": "stdout",
     "output_type": "stream",
     "text": [
      "Model trained in 0:00:00.233725\n"
     ]
    },
    {
     "name": "stdout",
     "output_type": "stream",
     "text": [
      "Compiling model...\n"
     ]
    },
    {
     "name": "stdout",
     "output_type": "stream",
     "text": [
      "Model compiled.\n"
     ]
    },
    {
     "name": "stderr",
     "output_type": "stream",
     "text": [
      "[INFO 2023-01-25T12:08:15.269600406+00:00 kernel.cc:1214] Loading model from path /tmpfs/tmp/tmp78wbyzf8/model/ with prefix 16bc7bf8165d4643\n",
      "[INFO 2023-01-25T12:08:15.274346248+00:00 decision_forest.cc:661] Model loaded with 36 root(s), 1232 node(s), and 3 input feature(s).\n",
      "[INFO 2023-01-25T12:08:15.27437643+00:00 kernel.cc:1046] Use fast generic engine\n"
     ]
    },
    {
     "data": {
      "text/plain": [
       "<keras.callbacks.History at 0x7fda2c04ffd0>"
      ]
     },
     "execution_count": 27,
     "metadata": {},
     "output_type": "execute_result"
    }
   ],
   "source": [
    "%set_cell_height 300\n",
    "\n",
    "feature_1 = tfdf.keras.FeatureUsage(name=\"year\", semantic=tfdf.keras.FeatureSemantic.CATEGORICAL)\n",
    "feature_2 = tfdf.keras.FeatureUsage(name=\"bill_length_mm\")\n",
    "feature_3 = tfdf.keras.FeatureUsage(name=\"sex\")\n",
    "all_features = [feature_1, feature_2, feature_3]\n",
    "\n",
    "model_3 = tfdf.keras.GradientBoostedTreesModel(features=all_features, exclude_non_specified_features=True)\n",
    "model_3.compile( metrics=[\"accuracy\"])\n",
    "\n",
    "model_3.fit(train_ds, validation_data=test_ds)"
   ]
  },
  {
   "cell_type": "markdown",
   "metadata": {
    "id": "2AQaNwihcpP7"
   },
   "source": [
    "Note that `year` is in the list of CATEGORICAL features (unlike the first run)."
   ]
  },
  {
   "cell_type": "markdown",
   "metadata": {
    "id": "GYrw7nKN40Vm"
   },
   "source": [
    "## Hyper-parameters\n",
    "\n",
    "**Hyper-parameters** are parameters of the training algorithm that impact\n",
    "the quality of the final model. They are specified in the model class\n",
    "constructor. The list of hyper-parameters is visible with the *question mark* colab command (e.g. `?tfdf.keras.GradientBoostedTreesModel`).\n",
    "\n",
    "Alternatively, you can find them on the [TensorFlow Decision Forest Github](https://github.com/tensorflow/decision-forests/blob/main/tensorflow_decision_forests/keras/wrappers_pre_generated.py) or the [Yggdrasil Decision Forest documentation](https://github.com/google/yggdrasil-decision-forests/blob/main/documentation/learners.md).\n",
    "\n",
    "The default hyper-parameters of each algorithm matches approximatively the initial publication paper. To ensure consistancy, new features and their matching hyper-parameters are always disable by default. That's why it is a good idea to tune your hyper-parameters."
   ]
  },
  {
   "cell_type": "code",
   "execution_count": 28,
   "metadata": {
    "execution": {
     "iopub.execute_input": "2023-01-25T12:08:15.482723Z",
     "iopub.status.busy": "2023-01-25T12:08:15.482187Z",
     "iopub.status.idle": "2023-01-25T12:08:22.327349Z",
     "shell.execute_reply": "2023-01-25T12:08:22.326780Z"
    },
    "id": "vHgPr4Pt43hv"
   },
   "outputs": [
    {
     "name": "stdout",
     "output_type": "stream",
     "text": [
      "Warning: The `num_threads` constructor argument is not set and the number of CPU is os.cpu_count()=32 > 32. Setting num_threads to 32. Set num_threads manually to use more than 32 cpus.\n"
     ]
    },
    {
     "name": "stderr",
     "output_type": "stream",
     "text": [
      "WARNING:absl:The `num_threads` constructor argument is not set and the number of CPU is os.cpu_count()=32 > 32. Setting num_threads to 32. Set num_threads manually to use more than 32 cpus.\n"
     ]
    },
    {
     "name": "stdout",
     "output_type": "stream",
     "text": [
      "Use /tmpfs/tmp/tmpvjndpuei as temporary training directory\n"
     ]
    },
    {
     "name": "stdout",
     "output_type": "stream",
     "text": [
      "Reading training dataset...\n"
     ]
    },
    {
     "name": "stdout",
     "output_type": "stream",
     "text": [
      "Training dataset read in 0:00:00.160159. Found 237 examples.\n"
     ]
    },
    {
     "name": "stdout",
     "output_type": "stream",
     "text": [
      "Training model...\n"
     ]
    },
    {
     "name": "stderr",
     "output_type": "stream",
     "text": [
      "2023-01-25 12:08:15.659620: W external/ydf/yggdrasil_decision_forests/learner/gradient_boosted_trees/gradient_boosted_trees.cc:1790] \"goss_alpha\" set but \"sampling_method\" not equal to \"GOSS\".\n",
      "2023-01-25 12:08:15.659658: W external/ydf/yggdrasil_decision_forests/learner/gradient_boosted_trees/gradient_boosted_trees.cc:1800] \"goss_beta\" set but \"sampling_method\" not equal to \"GOSS\".\n",
      "2023-01-25 12:08:15.659665: W external/ydf/yggdrasil_decision_forests/learner/gradient_boosted_trees/gradient_boosted_trees.cc:1814] \"selective_gradient_boosting_ratio\" set but \"sampling_method\" not equal to \"SELGB\".\n"
     ]
    },
    {
     "name": "stderr",
     "output_type": "stream",
     "text": [
      "[INFO 2023-01-25T12:08:21.906636663+00:00 kernel.cc:1214] Loading model from path /tmpfs/tmp/tmpvjndpuei/model/ with prefix 3507958eaa0e4dc8\n"
     ]
    },
    {
     "name": "stdout",
     "output_type": "stream",
     "text": [
      "Model trained in 0:00:06.508038\n"
     ]
    },
    {
     "name": "stdout",
     "output_type": "stream",
     "text": [
      "Compiling model...\n"
     ]
    },
    {
     "name": "stdout",
     "output_type": "stream",
     "text": [
      "Model compiled.\n"
     ]
    },
    {
     "name": "stderr",
     "output_type": "stream",
     "text": [
      "[INFO 2023-01-25T12:08:22.154920471+00:00 decision_forest.cc:661] Model loaded with 1500 root(s), 84366 node(s), and 7 input feature(s).\n",
      "[INFO 2023-01-25T12:08:22.154964967+00:00 abstract_model.cc:1311] Engine \"GradientBoostedTreesGeneric\" built\n",
      "[INFO 2023-01-25T12:08:22.154985455+00:00 kernel.cc:1046] Use fast generic engine\n"
     ]
    },
    {
     "data": {
      "text/plain": [
       "<keras.callbacks.History at 0x7fd9f075fb20>"
      ]
     },
     "execution_count": 28,
     "metadata": {},
     "output_type": "execute_result"
    }
   ],
   "source": [
    "# A classical but slighly more complex model.\n",
    "model_6 = tfdf.keras.GradientBoostedTreesModel(\n",
    "    num_trees=500, growing_strategy=\"BEST_FIRST_GLOBAL\", max_depth=8)\n",
    "model_6.fit(train_ds)"
   ]
  },
  {
   "cell_type": "code",
   "execution_count": 29,
   "metadata": {
    "execution": {
     "iopub.execute_input": "2023-01-25T12:08:22.330485Z",
     "iopub.status.busy": "2023-01-25T12:08:22.330260Z",
     "iopub.status.idle": "2023-01-25T12:08:25.249013Z",
     "shell.execute_reply": "2023-01-25T12:08:25.248388Z"
    },
    "id": "uECgPGDc2P4p"
   },
   "outputs": [
    {
     "name": "stdout",
     "output_type": "stream",
     "text": [
      "Warning: The `num_threads` constructor argument is not set and the number of CPU is os.cpu_count()=32 > 32. Setting num_threads to 32. Set num_threads manually to use more than 32 cpus.\n"
     ]
    },
    {
     "name": "stderr",
     "output_type": "stream",
     "text": [
      "WARNING:absl:The `num_threads` constructor argument is not set and the number of CPU is os.cpu_count()=32 > 32. Setting num_threads to 32. Set num_threads manually to use more than 32 cpus.\n"
     ]
    },
    {
     "name": "stdout",
     "output_type": "stream",
     "text": [
      "Use /tmpfs/tmp/tmpdbkadzwj as temporary training directory\n"
     ]
    },
    {
     "name": "stdout",
     "output_type": "stream",
     "text": [
      "Reading training dataset...\n"
     ]
    },
    {
     "name": "stdout",
     "output_type": "stream",
     "text": [
      "WARNING:tensorflow:5 out of the last 5 calls to <function CoreModel._consumes_training_examples_until_eof at 0x7fda03b04280> triggered tf.function retracing. Tracing is expensive and the excessive number of tracings could be due to (1) creating @tf.function repeatedly in a loop, (2) passing tensors with different shapes, (3) passing Python objects instead of tensors. For (1), please define your @tf.function outside of the loop. For (2), @tf.function has reduce_retracing=True option that can avoid unnecessary retracing. For (3), please refer to https://www.tensorflow.org/guide/function#controlling_retracing and https://www.tensorflow.org/api_docs/python/tf/function for  more details.\n"
     ]
    },
    {
     "name": "stderr",
     "output_type": "stream",
     "text": [
      "WARNING:tensorflow:5 out of the last 5 calls to <function CoreModel._consumes_training_examples_until_eof at 0x7fda03b04280> triggered tf.function retracing. Tracing is expensive and the excessive number of tracings could be due to (1) creating @tf.function repeatedly in a loop, (2) passing tensors with different shapes, (3) passing Python objects instead of tensors. For (1), please define your @tf.function outside of the loop. For (2), @tf.function has reduce_retracing=True option that can avoid unnecessary retracing. For (3), please refer to https://www.tensorflow.org/guide/function#controlling_retracing and https://www.tensorflow.org/api_docs/python/tf/function for  more details.\n"
     ]
    },
    {
     "name": "stdout",
     "output_type": "stream",
     "text": [
      "Training dataset read in 0:00:00.159482. Found 237 examples.\n"
     ]
    },
    {
     "name": "stdout",
     "output_type": "stream",
     "text": [
      "Training model...\n"
     ]
    },
    {
     "name": "stderr",
     "output_type": "stream",
     "text": [
      "2023-01-25 12:08:22.505687: W external/ydf/yggdrasil_decision_forests/learner/gradient_boosted_trees/gradient_boosted_trees.cc:1790] \"goss_alpha\" set but \"sampling_method\" not equal to \"GOSS\".\n",
      "2023-01-25 12:08:22.505720: W external/ydf/yggdrasil_decision_forests/learner/gradient_boosted_trees/gradient_boosted_trees.cc:1800] \"goss_beta\" set but \"sampling_method\" not equal to \"GOSS\".\n",
      "2023-01-25 12:08:22.505727: W external/ydf/yggdrasil_decision_forests/learner/gradient_boosted_trees/gradient_boosted_trees.cc:1814] \"selective_gradient_boosting_ratio\" set but \"sampling_method\" not equal to \"SELGB\".\n"
     ]
    },
    {
     "name": "stdout",
     "output_type": "stream",
     "text": [
      "Model trained in 0:00:02.611603\n"
     ]
    },
    {
     "name": "stdout",
     "output_type": "stream",
     "text": [
      "Compiling model...\n"
     ]
    },
    {
     "name": "stdout",
     "output_type": "stream",
     "text": [
      "WARNING:tensorflow:5 out of the last 5 calls to <function InferenceCoreModel.make_predict_function.<locals>.predict_function_trained at 0x7fd9f0659a60> triggered tf.function retracing. Tracing is expensive and the excessive number of tracings could be due to (1) creating @tf.function repeatedly in a loop, (2) passing tensors with different shapes, (3) passing Python objects instead of tensors. For (1), please define your @tf.function outside of the loop. For (2), @tf.function has reduce_retracing=True option that can avoid unnecessary retracing. For (3), please refer to https://www.tensorflow.org/guide/function#controlling_retracing and https://www.tensorflow.org/api_docs/python/tf/function for  more details.\n"
     ]
    },
    {
     "name": "stderr",
     "output_type": "stream",
     "text": [
      "[INFO 2023-01-25T12:08:25.038295931+00:00 kernel.cc:1214] Loading model from path /tmpfs/tmp/tmpdbkadzwj/model/ with prefix 5f9c7e13cfef48e1\n",
      "[INFO 2023-01-25T12:08:25.111284805+00:00 decision_forest.cc:661] Model loaded with 492 root(s), 24864 node(s), and 7 input feature(s).\n",
      "[INFO 2023-01-25T12:08:25.111320746+00:00 kernel.cc:1046] Use fast generic engine\n",
      "WARNING:tensorflow:5 out of the last 5 calls to <function InferenceCoreModel.make_predict_function.<locals>.predict_function_trained at 0x7fd9f0659a60> triggered tf.function retracing. Tracing is expensive and the excessive number of tracings could be due to (1) creating @tf.function repeatedly in a loop, (2) passing tensors with different shapes, (3) passing Python objects instead of tensors. For (1), please define your @tf.function outside of the loop. For (2), @tf.function has reduce_retracing=True option that can avoid unnecessary retracing. For (3), please refer to https://www.tensorflow.org/guide/function#controlling_retracing and https://www.tensorflow.org/api_docs/python/tf/function for  more details.\n"
     ]
    },
    {
     "name": "stdout",
     "output_type": "stream",
     "text": [
      "Model compiled.\n"
     ]
    },
    {
     "data": {
      "text/plain": [
       "<keras.callbacks.History at 0x7fd9f0652f10>"
      ]
     },
     "execution_count": 29,
     "metadata": {},
     "output_type": "execute_result"
    }
   ],
   "source": [
    "# A more complex, but possibly, more accurate model.\n",
    "model_7 = tfdf.keras.GradientBoostedTreesModel(\n",
    "    num_trees=500,\n",
    "    growing_strategy=\"BEST_FIRST_GLOBAL\",\n",
    "    max_depth=8,\n",
    "    split_axis=\"SPARSE_OBLIQUE\",\n",
    "    categorical_algorithm=\"RANDOM\",\n",
    "    )\n",
    "model_7.fit(train_ds)"
   ]
  },
  {
   "cell_type": "markdown",
   "metadata": {
    "id": "Xk7wEmUZu3V0"
   },
   "source": [
    "As new training methods are published and implemented, combination of hyper-parameters can emerge as good or almost-always-better than the default parameters. To avoid changing the default hyper-parameter values these good combination are indexed and available as hyper-parameter templates.\n",
    "\n",
    "For example, the `benchmark_rank1` template is the best combination on our internal benchmarks. Those templates are versioned to allow training configuration stability e.g. `benchmark_rank1@v1`."
   ]
  },
  {
   "cell_type": "code",
   "execution_count": 30,
   "metadata": {
    "execution": {
     "iopub.execute_input": "2023-01-25T12:08:25.252143Z",
     "iopub.status.busy": "2023-01-25T12:08:25.251913Z",
     "iopub.status.idle": "2023-01-25T12:08:28.821089Z",
     "shell.execute_reply": "2023-01-25T12:08:28.820404Z"
    },
    "id": "LtrRhMhj3hSu"
   },
   "outputs": [
    {
     "name": "stdout",
     "output_type": "stream",
     "text": [
      "Resolve hyper-parameter template \"benchmark_rank1\" to \"benchmark_rank1@v1\" -> {'growing_strategy': 'BEST_FIRST_GLOBAL', 'categorical_algorithm': 'RANDOM', 'split_axis': 'SPARSE_OBLIQUE', 'sparse_oblique_normalization': 'MIN_MAX', 'sparse_oblique_num_projections_exponent': 1.0}.\n"
     ]
    },
    {
     "name": "stdout",
     "output_type": "stream",
     "text": [
      "Warning: The `num_threads` constructor argument is not set and the number of CPU is os.cpu_count()=32 > 32. Setting num_threads to 32. Set num_threads manually to use more than 32 cpus.\n"
     ]
    },
    {
     "name": "stderr",
     "output_type": "stream",
     "text": [
      "WARNING:absl:The `num_threads` constructor argument is not set and the number of CPU is os.cpu_count()=32 > 32. Setting num_threads to 32. Set num_threads manually to use more than 32 cpus.\n"
     ]
    },
    {
     "name": "stdout",
     "output_type": "stream",
     "text": [
      "Use /tmpfs/tmp/tmp73ghsb8r as temporary training directory\n"
     ]
    },
    {
     "name": "stdout",
     "output_type": "stream",
     "text": [
      "Reading training dataset...\n"
     ]
    },
    {
     "name": "stdout",
     "output_type": "stream",
     "text": [
      "WARNING:tensorflow:6 out of the last 6 calls to <function CoreModel._consumes_training_examples_until_eof at 0x7fda03b04280> triggered tf.function retracing. Tracing is expensive and the excessive number of tracings could be due to (1) creating @tf.function repeatedly in a loop, (2) passing tensors with different shapes, (3) passing Python objects instead of tensors. For (1), please define your @tf.function outside of the loop. For (2), @tf.function has reduce_retracing=True option that can avoid unnecessary retracing. For (3), please refer to https://www.tensorflow.org/guide/function#controlling_retracing and https://www.tensorflow.org/api_docs/python/tf/function for  more details.\n"
     ]
    },
    {
     "name": "stderr",
     "output_type": "stream",
     "text": [
      "WARNING:tensorflow:6 out of the last 6 calls to <function CoreModel._consumes_training_examples_until_eof at 0x7fda03b04280> triggered tf.function retracing. Tracing is expensive and the excessive number of tracings could be due to (1) creating @tf.function repeatedly in a loop, (2) passing tensors with different shapes, (3) passing Python objects instead of tensors. For (1), please define your @tf.function outside of the loop. For (2), @tf.function has reduce_retracing=True option that can avoid unnecessary retracing. For (3), please refer to https://www.tensorflow.org/guide/function#controlling_retracing and https://www.tensorflow.org/api_docs/python/tf/function for  more details.\n"
     ]
    },
    {
     "name": "stdout",
     "output_type": "stream",
     "text": [
      "Training dataset read in 0:00:00.159285. Found 237 examples.\n"
     ]
    },
    {
     "name": "stdout",
     "output_type": "stream",
     "text": [
      "Training model...\n"
     ]
    },
    {
     "name": "stderr",
     "output_type": "stream",
     "text": [
      "2023-01-25 12:08:25.428142: W external/ydf/yggdrasil_decision_forests/learner/gradient_boosted_trees/gradient_boosted_trees.cc:1790] \"goss_alpha\" set but \"sampling_method\" not equal to \"GOSS\".\n",
      "2023-01-25 12:08:25.428178: W external/ydf/yggdrasil_decision_forests/learner/gradient_boosted_trees/gradient_boosted_trees.cc:1800] \"goss_beta\" set but \"sampling_method\" not equal to \"GOSS\".\n",
      "2023-01-25 12:08:25.428185: W external/ydf/yggdrasil_decision_forests/learner/gradient_boosted_trees/gradient_boosted_trees.cc:1814] \"selective_gradient_boosting_ratio\" set but \"sampling_method\" not equal to \"SELGB\".\n"
     ]
    },
    {
     "name": "stdout",
     "output_type": "stream",
     "text": [
      "Model trained in 0:00:03.247370\n"
     ]
    },
    {
     "name": "stdout",
     "output_type": "stream",
     "text": [
      "Compiling model...\n"
     ]
    },
    {
     "name": "stderr",
     "output_type": "stream",
     "text": [
      "[INFO 2023-01-25T12:08:28.566855502+00:00 kernel.cc:1214] Loading model from path /tmpfs/tmp/tmp73ghsb8r/model/ with prefix 4789b51fc3ab4350\n",
      "[INFO 2023-01-25T12:08:28.668299263+00:00 decision_forest.cc:661] Model loaded with 900 root(s), 34852 node(s), and 7 input feature(s).\n",
      "[INFO 2023-01-25T12:08:28.66833643+00:00 kernel.cc:1046] Use fast generic engine\n"
     ]
    },
    {
     "name": "stdout",
     "output_type": "stream",
     "text": [
      "WARNING:tensorflow:6 out of the last 6 calls to <function InferenceCoreModel.make_predict_function.<locals>.predict_function_trained at 0x7fd9f05ad310> triggered tf.function retracing. Tracing is expensive and the excessive number of tracings could be due to (1) creating @tf.function repeatedly in a loop, (2) passing tensors with different shapes, (3) passing Python objects instead of tensors. For (1), please define your @tf.function outside of the loop. For (2), @tf.function has reduce_retracing=True option that can avoid unnecessary retracing. For (3), please refer to https://www.tensorflow.org/guide/function#controlling_retracing and https://www.tensorflow.org/api_docs/python/tf/function for  more details.\n"
     ]
    },
    {
     "name": "stderr",
     "output_type": "stream",
     "text": [
      "WARNING:tensorflow:6 out of the last 6 calls to <function InferenceCoreModel.make_predict_function.<locals>.predict_function_trained at 0x7fd9f05ad310> triggered tf.function retracing. Tracing is expensive and the excessive number of tracings could be due to (1) creating @tf.function repeatedly in a loop, (2) passing tensors with different shapes, (3) passing Python objects instead of tensors. For (1), please define your @tf.function outside of the loop. For (2), @tf.function has reduce_retracing=True option that can avoid unnecessary retracing. For (3), please refer to https://www.tensorflow.org/guide/function#controlling_retracing and https://www.tensorflow.org/api_docs/python/tf/function for  more details.\n"
     ]
    },
    {
     "name": "stdout",
     "output_type": "stream",
     "text": [
      "Model compiled.\n"
     ]
    },
    {
     "data": {
      "text/plain": [
       "<keras.callbacks.History at 0x7fd9f05948e0>"
      ]
     },
     "execution_count": 30,
     "metadata": {},
     "output_type": "execute_result"
    }
   ],
   "source": [
    "# A good template of hyper-parameters.\n",
    "model_8 = tfdf.keras.GradientBoostedTreesModel(hyperparameter_template=\"benchmark_rank1\")\n",
    "model_8.fit(train_ds)"
   ]
  },
  {
   "cell_type": "markdown",
   "metadata": {
    "id": "FSDXcKXB3u6M"
   },
   "source": [
    "The available templates are available with `predefined_hyperparameters`. Note that different learning algorithms have different templates, even if the name is similar."
   ]
  },
  {
   "cell_type": "code",
   "execution_count": 31,
   "metadata": {
    "execution": {
     "iopub.execute_input": "2023-01-25T12:08:28.824303Z",
     "iopub.status.busy": "2023-01-25T12:08:28.824074Z",
     "iopub.status.idle": "2023-01-25T12:08:28.827687Z",
     "shell.execute_reply": "2023-01-25T12:08:28.827123Z"
    },
    "id": "MQrWI2iv37Bo"
   },
   "outputs": [
    {
     "name": "stdout",
     "output_type": "stream",
     "text": [
      "[HyperParameterTemplate(name='better_default', version=1, parameters={'growing_strategy': 'BEST_FIRST_GLOBAL'}, description='A configuration that is generally better than the default parameters without being more expensive.'), HyperParameterTemplate(name='benchmark_rank1', version=1, parameters={'growing_strategy': 'BEST_FIRST_GLOBAL', 'categorical_algorithm': 'RANDOM', 'split_axis': 'SPARSE_OBLIQUE', 'sparse_oblique_normalization': 'MIN_MAX', 'sparse_oblique_num_projections_exponent': 1.0}, description='Top ranking hyper-parameters on our benchmark slightly modified to run in reasonable time.')]\n"
     ]
    }
   ],
   "source": [
    "# The hyper-parameter templates of the Gradient Boosted Tree model.\n",
    "print(tfdf.keras.GradientBoostedTreesModel.predefined_hyperparameters())"
   ]
  },
  {
   "cell_type": "markdown",
   "metadata": {
    "id": "gcX4tov1_lwp"
   },
   "source": [
    "## Feature Preprocessing\n",
    "\n",
    "Pre-processing features is sometimes necessary to consume signals with complex\n",
    "structures, to regularize the model or to apply transfer learning.\n",
    "Pre-processing can be done in one of three ways:\n",
    "\n",
    "1.  Preprocessing on the Pandas dataframe. This solution is easy to implement\n",
    "    and generally suitable for experimentation. However, the\n",
    "    pre-processing logic will not be exported in the model by `model.save()`.\n",
    "\n",
    "2.  [Keras Preprocessing](https://keras.io/guides/preprocessing_layers/): While\n",
    "    more complex than the previous solution, Keras Preprocessing is packaged in\n",
    "    the model.\n",
    "\n",
    "3.  [TensorFlow Feature Columns](https://www.tensorflow.org/tutorials/structured_data/feature_columns):\n",
    "    This API is part of the TF Estimator library (!= Keras) and planned for\n",
    "    deprecation. This solution is interesting when using existing preprocessing\n",
    "    code.\n",
    "\n",
    "Note: Using [TensorFlow Hub](https://www.tensorflow.org/hub)\n",
    "pre-trained embedding is often, a great way to consume text and image with\n",
    "TF-DF. For example, `hub.KerasLayer(\"https://tfhub.dev/google/nnlm-en-dim128/2\")`. See the [Intermediate tutorial](intermediate_colab.ipynb) for more details.\n",
    "\n",
    "In the next example, pre-process the `body_mass_g` feature into `body_mass_kg = body_mass_g / 1000`. The `bill_length_mm` is consumed without pre-processing. Note that such\n",
    "monotonic transformations have generally no impact on decision forest models."
   ]
  },
  {
   "cell_type": "code",
   "execution_count": 32,
   "metadata": {
    "execution": {
     "iopub.execute_input": "2023-01-25T12:08:28.830620Z",
     "iopub.status.busy": "2023-01-25T12:08:28.830413Z",
     "iopub.status.idle": "2023-01-25T12:08:29.232774Z",
     "shell.execute_reply": "2023-01-25T12:08:29.231999Z"
    },
    "id": "tGcIvTeKAApp"
   },
   "outputs": [
    {
     "data": {
      "application/javascript": [
       "google.colab.output.setIframeHeight(0, true, {maxHeight: 300})"
      ],
      "text/plain": [
       "<IPython.core.display.Javascript object>"
      ]
     },
     "metadata": {},
     "output_type": "display_data"
    },
    {
     "name": "stdout",
     "output_type": "stream",
     "text": [
      "Warning: The `num_threads` constructor argument is not set and the number of CPU is os.cpu_count()=32 > 32. Setting num_threads to 32. Set num_threads manually to use more than 32 cpus.\n"
     ]
    },
    {
     "name": "stderr",
     "output_type": "stream",
     "text": [
      "WARNING:absl:The `num_threads` constructor argument is not set and the number of CPU is os.cpu_count()=32 > 32. Setting num_threads to 32. Set num_threads manually to use more than 32 cpus.\n"
     ]
    },
    {
     "name": "stdout",
     "output_type": "stream",
     "text": [
      "Use /tmpfs/tmp/tmpebxxyzg5 as temporary training directory\n"
     ]
    },
    {
     "name": "stdout",
     "output_type": "stream",
     "text": [
      "Reading training dataset...\n"
     ]
    },
    {
     "name": "stderr",
     "output_type": "stream",
     "text": [
      "/tmpfs/src/tf_docs_env/lib/python3.9/site-packages/keras/engine/functional.py:638: UserWarning: Input dict contained keys ['island', 'bill_depth_mm', 'flipper_length_mm', 'sex', 'year'] which did not match any model input. They will be ignored by the model.\n",
      "  inputs = self._flatten_to_reference_inputs(inputs)\n"
     ]
    },
    {
     "name": "stdout",
     "output_type": "stream",
     "text": [
      "Training dataset read in 0:00:00.220865. Found 237 examples.\n"
     ]
    },
    {
     "name": "stdout",
     "output_type": "stream",
     "text": [
      "Training model...\n"
     ]
    },
    {
     "name": "stdout",
     "output_type": "stream",
     "text": [
      "Model trained in 0:00:00.043578\n"
     ]
    },
    {
     "name": "stdout",
     "output_type": "stream",
     "text": [
      "Compiling model...\n"
     ]
    },
    {
     "name": "stdout",
     "output_type": "stream",
     "text": [
      "Model compiled.\n"
     ]
    },
    {
     "name": "stdout",
     "output_type": "stream",
     "text": [
      "WARNING:tensorflow:5 out of the last 12 calls to <function InferenceCoreModel.yggdrasil_model_path_tensor at 0x7fd9f042a4c0> triggered tf.function retracing. Tracing is expensive and the excessive number of tracings could be due to (1) creating @tf.function repeatedly in a loop, (2) passing tensors with different shapes, (3) passing Python objects instead of tensors. For (1), please define your @tf.function outside of the loop. For (2), @tf.function has reduce_retracing=True option that can avoid unnecessary retracing. For (3), please refer to https://www.tensorflow.org/guide/function#controlling_retracing and https://www.tensorflow.org/api_docs/python/tf/function for  more details.\n"
     ]
    },
    {
     "name": "stderr",
     "output_type": "stream",
     "text": [
      "[INFO 2023-01-25T12:08:29.10200963+00:00 kernel.cc:1214] Loading model from path /tmpfs/tmp/tmpebxxyzg5/model/ with prefix ad4639dcd82643bd\n",
      "[INFO 2023-01-25T12:08:29.119763105+00:00 decision_forest.cc:661] Model loaded with 300 root(s), 6232 node(s), and 2 input feature(s).\n",
      "[INFO 2023-01-25T12:08:29.119795758+00:00 kernel.cc:1046] Use fast generic engine\n",
      "WARNING:tensorflow:5 out of the last 12 calls to <function InferenceCoreModel.yggdrasil_model_path_tensor at 0x7fd9f042a4c0> triggered tf.function retracing. Tracing is expensive and the excessive number of tracings could be due to (1) creating @tf.function repeatedly in a loop, (2) passing tensors with different shapes, (3) passing Python objects instead of tensors. For (1), please define your @tf.function outside of the loop. For (2), @tf.function has reduce_retracing=True option that can avoid unnecessary retracing. For (3), please refer to https://www.tensorflow.org/guide/function#controlling_retracing and https://www.tensorflow.org/api_docs/python/tf/function for  more details.\n"
     ]
    },
    {
     "name": "stdout",
     "output_type": "stream",
     "text": [
      "Model: \"random_forest_model_1\"\n"
     ]
    },
    {
     "name": "stdout",
     "output_type": "stream",
     "text": [
      "_________________________________________________________________\n"
     ]
    },
    {
     "name": "stdout",
     "output_type": "stream",
     "text": [
      " Layer (type)                Output Shape              Param #   \n"
     ]
    },
    {
     "name": "stdout",
     "output_type": "stream",
     "text": [
      "=================================================================\n"
     ]
    },
    {
     "name": "stdout",
     "output_type": "stream",
     "text": [
      " model (Functional)          {'body_mass_kg': (None,   0         \n"
     ]
    },
    {
     "name": "stdout",
     "output_type": "stream",
     "text": [
      "                             1),                                 \n"
     ]
    },
    {
     "name": "stdout",
     "output_type": "stream",
     "text": [
      "                              'bill_length_mm': (None            \n"
     ]
    },
    {
     "name": "stdout",
     "output_type": "stream",
     "text": [
      "                             , 1)}                               \n"
     ]
    },
    {
     "name": "stdout",
     "output_type": "stream",
     "text": [
      "                                                                 \n"
     ]
    },
    {
     "name": "stdout",
     "output_type": "stream",
     "text": [
      "=================================================================\n"
     ]
    },
    {
     "name": "stdout",
     "output_type": "stream",
     "text": [
      "Total params: 1\n"
     ]
    },
    {
     "name": "stdout",
     "output_type": "stream",
     "text": [
      "Trainable params: 0\n"
     ]
    },
    {
     "name": "stdout",
     "output_type": "stream",
     "text": [
      "Non-trainable params: 1\n"
     ]
    },
    {
     "name": "stdout",
     "output_type": "stream",
     "text": [
      "_________________________________________________________________\n"
     ]
    },
    {
     "name": "stdout",
     "output_type": "stream",
     "text": [
      "Type: \"RANDOM_FOREST\"\n",
      "Task: CLASSIFICATION\n",
      "Label: \"__LABEL\"\n",
      "\n",
      "Input Features (2):\n",
      "\tbill_length_mm\n",
      "\tbody_mass_kg\n",
      "\n",
      "No weights\n",
      "\n",
      "Variable Importance: INV_MEAN_MIN_DEPTH:\n",
      "    1. \"bill_length_mm\"  0.955336 ################\n",
      "    2.   \"body_mass_kg\"  0.458964 \n",
      "\n",
      "Variable Importance: NUM_AS_ROOT:\n",
      "    1. \"bill_length_mm\" 287.000000 ################\n",
      "    2.   \"body_mass_kg\" 13.000000 \n",
      "\n",
      "Variable Importance: NUM_NODES:\n",
      "    1. \"bill_length_mm\" 1554.000000 ################\n",
      "    2.   \"body_mass_kg\" 1412.000000 \n",
      "\n",
      "Variable Importance: SUM_SCORE:\n",
      "    1. \"bill_length_mm\" 42820.114765 ################\n",
      "    2.   \"body_mass_kg\" 24279.873687 \n",
      "\n",
      "\n",
      "\n",
      "Winner takes all: true\n",
      "Out-of-bag evaluation: accuracy:0.924051 logloss:0.485486\n",
      "Number of trees: 300\n",
      "Total number of nodes: 6232\n",
      "\n",
      "Number of nodes by tree:\n",
      "Count: 300 Average: 20.7733 StdDev: 3.04663\n",
      "Min: 13 Max: 29 Ignored: 0\n",
      "----------------------------------------------\n",
      "[ 13, 14)  5   1.67%   1.67% #\n",
      "[ 14, 15)  0   0.00%   1.67%\n",
      "[ 15, 16) 18   6.00%   7.67% ##\n",
      "[ 16, 17)  0   0.00%   7.67%\n",
      "[ 17, 18) 29   9.67%  17.33% ####\n",
      "[ 18, 19)  0   0.00%  17.33%\n",
      "[ 19, 20) 64  21.33%  38.67% ########\n",
      "[ 20, 21)  0   0.00%  38.67%\n",
      "[ 21, 22) 68  22.67%  61.33% #########\n",
      "[ 22, 23)  0   0.00%  61.33%\n",
      "[ 23, 24) 80  26.67%  88.00% ##########\n",
      "[ 24, 25)  0   0.00%  88.00%\n",
      "[ 25, 26) 28   9.33%  97.33% ####\n",
      "[ 26, 27)  0   0.00%  97.33%\n",
      "[ 27, 28)  6   2.00%  99.33% #\n",
      "[ 28, 29)  0   0.00%  99.33%\n",
      "[ 29, 29]  2   0.67% 100.00%\n",
      "\n",
      "Depth by leafs:\n",
      "Count: 3266 Average: 3.93172 StdDev: 1.25862\n",
      "Min: 1 Max: 8 Ignored: 0\n",
      "----------------------------------------------\n",
      "[ 1, 2)   13   0.40%   0.40%\n",
      "[ 2, 3)  395  12.09%  12.49% ####\n",
      "[ 3, 4)  854  26.15%  38.64% ########\n",
      "[ 4, 5) 1032  31.60%  70.24% ##########\n",
      "[ 5, 6)  575  17.61%  87.84% ######\n",
      "[ 6, 7)  316   9.68%  97.52% ###\n",
      "[ 7, 8)   71   2.17%  99.69% #\n",
      "[ 8, 8]   10   0.31% 100.00%\n",
      "\n",
      "Number of training obs by leaf:\n",
      "Count: 3266 Average: 21.7697 StdDev: 27.1366\n",
      "Min: 5 Max: 120 Ignored: 0\n",
      "----------------------------------------------\n",
      "[   5,  10) 2082  63.75%  63.75% ##########\n",
      "[  10,  16)  225   6.89%  70.64% #\n",
      "[  16,  22)   57   1.75%  72.38%\n",
      "[  22,  28)   75   2.30%  74.68%\n",
      "[  28,  34)  100   3.06%  77.74%\n",
      "[  34,  39)   90   2.76%  80.50%\n",
      "[  39,  45)   45   1.38%  81.87%\n",
      "[  45,  51)   33   1.01%  82.88%\n",
      "[  51,  57)   58   1.78%  84.66%\n",
      "[  57,  63)   82   2.51%  87.17%\n",
      "[  63,  68)   64   1.96%  89.13%\n",
      "[  68,  74)   55   1.68%  90.81%\n",
      "[  74,  80)   44   1.35%  92.16%\n",
      "[  80,  86)   77   2.36%  94.52%\n",
      "[  86,  92)   71   2.17%  96.69%\n",
      "[  92,  97)   45   1.38%  98.07%\n",
      "[  97, 103)   38   1.16%  99.23%\n",
      "[ 103, 109)   14   0.43%  99.66%\n",
      "[ 109, 115)   10   0.31%  99.97%\n",
      "[ 115, 120]    1   0.03% 100.00%\n",
      "\n",
      "Attribute in nodes:\n",
      "\t1554 : bill_length_mm [NUMERICAL]\n",
      "\t1412 : body_mass_kg [NUMERICAL]\n",
      "\n",
      "Attribute in nodes with depth <= 0:\n",
      "\t287 : bill_length_mm [NUMERICAL]\n",
      "\t13 : body_mass_kg [NUMERICAL]\n",
      "\n",
      "Attribute in nodes with depth <= 1:\n",
      "\t459 : bill_length_mm [NUMERICAL]\n",
      "\t428 : body_mass_kg [NUMERICAL]\n",
      "\n",
      "Attribute in nodes with depth <= 2:\n",
      "\t864 : bill_length_mm [NUMERICAL]\n",
      "\t802 : body_mass_kg [NUMERICAL]\n",
      "\n",
      "Attribute in nodes with depth <= 3:\n",
      "\t1219 : bill_length_mm [NUMERICAL]\n",
      "\t1151 : body_mass_kg [NUMERICAL]\n",
      "\n",
      "Attribute in nodes with depth <= 5:\n",
      "\t1522 : bill_length_mm [NUMERICAL]\n",
      "\t1401 : body_mass_kg [NUMERICAL]\n",
      "\n",
      "Condition type in nodes:\n",
      "\t2966 : HigherCondition\n",
      "Condition type in nodes with depth <= 0:\n",
      "\t300 : HigherCondition\n",
      "Condition type in nodes with depth <= 1:\n",
      "\t887 : HigherCondition\n",
      "Condition type in nodes with depth <= 2:\n",
      "\t1666 : HigherCondition\n",
      "Condition type in nodes with depth <= 3:\n",
      "\t2370 : HigherCondition\n",
      "Condition type in nodes with depth <= 5:\n",
      "\t2923 : HigherCondition\n",
      "Node format: NOT_SET\n",
      "\n",
      "Training OOB:\n",
      "\ttrees: 1, Out-of-bag evaluation: accuracy:0.926829 logloss:2.63734\n",
      "\ttrees: 11, Out-of-bag evaluation: accuracy:0.900433 logloss:2.27569\n",
      "\ttrees: 21, Out-of-bag evaluation: accuracy:0.90678 logloss:1.48711\n",
      "\ttrees: 32, Out-of-bag evaluation: accuracy:0.911392 logloss:1.0448\n",
      "\ttrees: 42, Out-of-bag evaluation: accuracy:0.919831 logloss:1.04734\n",
      "\ttrees: 52, Out-of-bag evaluation: accuracy:0.92827 logloss:1.03832\n",
      "\ttrees: 63, Out-of-bag evaluation: accuracy:0.919831 logloss:0.620885\n",
      "\ttrees: 74, Out-of-bag evaluation: accuracy:0.919831 logloss:0.622808\n",
      "\ttrees: 84, Out-of-bag evaluation: accuracy:0.915612 logloss:0.487603\n",
      "\ttrees: 94, Out-of-bag evaluation: accuracy:0.911392 logloss:0.486997\n",
      "\ttrees: 105, Out-of-bag evaluation: accuracy:0.911392 logloss:0.482311\n",
      "\ttrees: 115, Out-of-bag evaluation: accuracy:0.919831 logloss:0.482066\n",
      "\ttrees: 125, Out-of-bag evaluation: accuracy:0.924051 logloss:0.481876\n",
      "\ttrees: 135, Out-of-bag evaluation: accuracy:0.924051 logloss:0.483349\n",
      "\ttrees: 145, Out-of-bag evaluation: accuracy:0.924051 logloss:0.484082\n",
      "\ttrees: 156, Out-of-bag evaluation: accuracy:0.924051 logloss:0.484739\n",
      "\ttrees: 167, Out-of-bag evaluation: accuracy:0.919831 logloss:0.486343\n",
      "\ttrees: 177, Out-of-bag evaluation: accuracy:0.919831 logloss:0.486041\n",
      "\ttrees: 187, Out-of-bag evaluation: accuracy:0.919831 logloss:0.487163\n",
      "\ttrees: 197, Out-of-bag evaluation: accuracy:0.915612 logloss:0.488568\n",
      "\ttrees: 207, Out-of-bag evaluation: accuracy:0.915612 logloss:0.489061\n",
      "\ttrees: 218, Out-of-bag evaluation: accuracy:0.919831 logloss:0.486594\n",
      "\ttrees: 229, Out-of-bag evaluation: accuracy:0.919831 logloss:0.487484\n",
      "\ttrees: 241, Out-of-bag evaluation: accuracy:0.924051 logloss:0.487819\n",
      "\ttrees: 251, Out-of-bag evaluation: accuracy:0.919831 logloss:0.48831\n",
      "\ttrees: 261, Out-of-bag evaluation: accuracy:0.924051 logloss:0.487564\n",
      "\ttrees: 271, Out-of-bag evaluation: accuracy:0.924051 logloss:0.487601\n",
      "\ttrees: 281, Out-of-bag evaluation: accuracy:0.924051 logloss:0.487559\n",
      "\ttrees: 292, Out-of-bag evaluation: accuracy:0.924051 logloss:0.485657\n",
      "\ttrees: 300, Out-of-bag evaluation: accuracy:0.924051 logloss:0.485486\n",
      "\n"
     ]
    }
   ],
   "source": [
    "%set_cell_height 300\n",
    "\n",
    "body_mass_g = tf.keras.layers.Input(shape=(1,), name=\"body_mass_g\")\n",
    "body_mass_kg = body_mass_g / 1000.0\n",
    "\n",
    "bill_length_mm = tf.keras.layers.Input(shape=(1,), name=\"bill_length_mm\")\n",
    "\n",
    "raw_inputs = {\"body_mass_g\": body_mass_g, \"bill_length_mm\": bill_length_mm}\n",
    "processed_inputs = {\"body_mass_kg\": body_mass_kg, \"bill_length_mm\": bill_length_mm}\n",
    "\n",
    "# \"preprocessor\" contains the preprocessing logic.\n",
    "preprocessor = tf.keras.Model(inputs=raw_inputs, outputs=processed_inputs)\n",
    "\n",
    "# \"model_4\" contains both the pre-processing logic and the decision forest.\n",
    "model_4 = tfdf.keras.RandomForestModel(preprocessing=preprocessor)\n",
    "model_4.fit(train_ds)\n",
    "\n",
    "model_4.summary()"
   ]
  },
  {
   "cell_type": "markdown",
   "metadata": {
    "id": "h1Bx3Feyjb2o"
   },
   "source": [
    "The following example re-implements the same logic using TensorFlow Feature\n",
    "Columns."
   ]
  },
  {
   "cell_type": "code",
   "execution_count": 33,
   "metadata": {
    "execution": {
     "iopub.execute_input": "2023-01-25T12:08:29.236042Z",
     "iopub.status.busy": "2023-01-25T12:08:29.235799Z",
     "iopub.status.idle": "2023-01-25T12:08:29.572290Z",
     "shell.execute_reply": "2023-01-25T12:08:29.571637Z"
    },
    "id": "fnwe3sBt-yJk"
   },
   "outputs": [
    {
     "name": "stdout",
     "output_type": "stream",
     "text": [
      "Warning: The `num_threads` constructor argument is not set and the number of CPU is os.cpu_count()=32 > 32. Setting num_threads to 32. Set num_threads manually to use more than 32 cpus.\n"
     ]
    },
    {
     "name": "stderr",
     "output_type": "stream",
     "text": [
      "WARNING:absl:The `num_threads` constructor argument is not set and the number of CPU is os.cpu_count()=32 > 32. Setting num_threads to 32. Set num_threads manually to use more than 32 cpus.\n"
     ]
    },
    {
     "name": "stdout",
     "output_type": "stream",
     "text": [
      "Use /tmpfs/tmp/tmpdlphymb6 as temporary training directory\n"
     ]
    },
    {
     "name": "stdout",
     "output_type": "stream",
     "text": [
      "Reading training dataset...\n"
     ]
    },
    {
     "name": "stdout",
     "output_type": "stream",
     "text": [
      "Training dataset read in 0:00:00.158335. Found 237 examples.\n"
     ]
    },
    {
     "name": "stdout",
     "output_type": "stream",
     "text": [
      "Training model...\n"
     ]
    },
    {
     "name": "stderr",
     "output_type": "stream",
     "text": [
      "[INFO 2023-01-25T12:08:29.439443571+00:00 kernel.cc:1214] Loading model from path /tmpfs/tmp/tmpdlphymb6/model/ with prefix 081fb9551ab74100\n"
     ]
    },
    {
     "name": "stdout",
     "output_type": "stream",
     "text": [
      "Model trained in 0:00:00.045740\n"
     ]
    },
    {
     "name": "stdout",
     "output_type": "stream",
     "text": [
      "Compiling model...\n"
     ]
    },
    {
     "name": "stdout",
     "output_type": "stream",
     "text": [
      "Model compiled.\n"
     ]
    },
    {
     "name": "stdout",
     "output_type": "stream",
     "text": [
      "WARNING:tensorflow:6 out of the last 13 calls to <function InferenceCoreModel.yggdrasil_model_path_tensor at 0x7fd9f0371c10> triggered tf.function retracing. Tracing is expensive and the excessive number of tracings could be due to (1) creating @tf.function repeatedly in a loop, (2) passing tensors with different shapes, (3) passing Python objects instead of tensors. For (1), please define your @tf.function outside of the loop. For (2), @tf.function has reduce_retracing=True option that can avoid unnecessary retracing. For (3), please refer to https://www.tensorflow.org/guide/function#controlling_retracing and https://www.tensorflow.org/api_docs/python/tf/function for  more details.\n"
     ]
    },
    {
     "name": "stderr",
     "output_type": "stream",
     "text": [
      "[INFO 2023-01-25T12:08:29.458072504+00:00 decision_forest.cc:661] Model loaded with 300 root(s), 6232 node(s), and 2 input feature(s).\n",
      "[INFO 2023-01-25T12:08:29.458108268+00:00 kernel.cc:1046] Use fast generic engine\n",
      "WARNING:tensorflow:6 out of the last 13 calls to <function InferenceCoreModel.yggdrasil_model_path_tensor at 0x7fd9f0371c10> triggered tf.function retracing. Tracing is expensive and the excessive number of tracings could be due to (1) creating @tf.function repeatedly in a loop, (2) passing tensors with different shapes, (3) passing Python objects instead of tensors. For (1), please define your @tf.function outside of the loop. For (2), @tf.function has reduce_retracing=True option that can avoid unnecessary retracing. For (3), please refer to https://www.tensorflow.org/guide/function#controlling_retracing and https://www.tensorflow.org/api_docs/python/tf/function for  more details.\n"
     ]
    },
    {
     "data": {
      "text/plain": [
       "<keras.callbacks.History at 0x7fd9f0652df0>"
      ]
     },
     "execution_count": 33,
     "metadata": {},
     "output_type": "execute_result"
    }
   ],
   "source": [
    "def g_to_kg(x):\n",
    "  return x / 1000\n",
    "\n",
    "feature_columns = [\n",
    "    tf.feature_column.numeric_column(\"body_mass_g\", normalizer_fn=g_to_kg),\n",
    "    tf.feature_column.numeric_column(\"bill_length_mm\"),\n",
    "]\n",
    "\n",
    "preprocessing = tf.keras.layers.DenseFeatures(feature_columns)\n",
    "\n",
    "model_5 = tfdf.keras.RandomForestModel(preprocessing=preprocessing)\n",
    "model_5.fit(train_ds)"
   ]
  },
  {
   "cell_type": "markdown",
   "metadata": {
    "id": "9vif6gsAjfzv"
   },
   "source": [
    "## Training a regression model\n",
    "\n",
    "The previous example trains a classification model (TF-DF does not differentiate\n",
    "between binary classification and multi-class classification). In the next\n",
    "example, train a regression model on the\n",
    "[Abalone dataset](https://archive.ics.uci.edu/ml/datasets/abalone). The\n",
    "objective of this dataset is to predict the number of shell's rings of an\n",
    "abalone.\n",
    "\n",
    "**Note:** The csv file is assembled by appending UCI's header and data files. No preprocessing was applied.\n",
    "\n",
    "<center>\n",
    "<img src=\"https://upload.wikimedia.org/wikipedia/commons/thumb/3/33/LivingAbalone.JPG/800px-LivingAbalone.JPG\" width=\"200\"/></center>"
   ]
  },
  {
   "cell_type": "code",
   "execution_count": 34,
   "metadata": {
    "execution": {
     "iopub.execute_input": "2023-01-25T12:08:29.575386Z",
     "iopub.status.busy": "2023-01-25T12:08:29.575160Z",
     "iopub.status.idle": "2023-01-25T12:08:29.845670Z",
     "shell.execute_reply": "2023-01-25T12:08:29.844909Z"
    },
    "id": "0uKI_Uy7RyWN"
   },
   "outputs": [
    {
     "name": "stdout",
     "output_type": "stream",
     "text": [
      "  Type  LongestShell  Diameter  Height  WholeWeight  ShuckedWeight  \\\n",
      "0    M         0.455     0.365   0.095       0.5140         0.2245   \n",
      "1    M         0.350     0.265   0.090       0.2255         0.0995   \n",
      "2    F         0.530     0.420   0.135       0.6770         0.2565   \n",
      "\n",
      "   VisceraWeight  ShellWeight  Rings  \n",
      "0         0.1010         0.15     15  \n",
      "1         0.0485         0.07      7  \n",
      "2         0.1415         0.21      9  \n"
     ]
    }
   ],
   "source": [
    "# Download the dataset.\n",
    "!wget -q https://storage.googleapis.com/download.tensorflow.org/data/abalone_raw.csv -O /tmp/abalone.csv\n",
    "\n",
    "dataset_df = pd.read_csv(\"/tmp/abalone.csv\")\n",
    "print(dataset_df.head(3))"
   ]
  },
  {
   "cell_type": "code",
   "execution_count": 35,
   "metadata": {
    "execution": {
     "iopub.execute_input": "2023-01-25T12:08:29.849226Z",
     "iopub.status.busy": "2023-01-25T12:08:29.848977Z",
     "iopub.status.idle": "2023-01-25T12:08:29.883511Z",
     "shell.execute_reply": "2023-01-25T12:08:29.882917Z"
    },
    "id": "_gjrquQySU7Q"
   },
   "outputs": [
    {
     "name": "stdout",
     "output_type": "stream",
     "text": [
      "2950 examples in training, 1227 examples for testing.\n"
     ]
    }
   ],
   "source": [
    "# Split the dataset into a training and testing dataset.\n",
    "train_ds_pd, test_ds_pd = split_dataset(dataset_df)\n",
    "print(\"{} examples in training, {} examples for testing.\".format(\n",
    "    len(train_ds_pd), len(test_ds_pd)))\n",
    "\n",
    "# Name of the label column.\n",
    "label = \"Rings\"\n",
    "\n",
    "train_ds = tfdf.keras.pd_dataframe_to_tf_dataset(train_ds_pd, label=label, task=tfdf.keras.Task.REGRESSION)\n",
    "test_ds = tfdf.keras.pd_dataframe_to_tf_dataset(test_ds_pd, label=label, task=tfdf.keras.Task.REGRESSION)"
   ]
  },
  {
   "cell_type": "code",
   "execution_count": 36,
   "metadata": {
    "execution": {
     "iopub.execute_input": "2023-01-25T12:08:29.886617Z",
     "iopub.status.busy": "2023-01-25T12:08:29.886407Z",
     "iopub.status.idle": "2023-01-25T12:08:31.673700Z",
     "shell.execute_reply": "2023-01-25T12:08:31.673040Z"
    },
    "id": "t8fUhQKISqYT"
   },
   "outputs": [
    {
     "data": {
      "application/javascript": [
       "google.colab.output.setIframeHeight(0, true, {maxHeight: 300})"
      ],
      "text/plain": [
       "<IPython.core.display.Javascript object>"
      ]
     },
     "metadata": {},
     "output_type": "display_data"
    },
    {
     "name": "stdout",
     "output_type": "stream",
     "text": [
      "Warning: The `num_threads` constructor argument is not set and the number of CPU is os.cpu_count()=32 > 32. Setting num_threads to 32. Set num_threads manually to use more than 32 cpus.\n"
     ]
    },
    {
     "name": "stderr",
     "output_type": "stream",
     "text": [
      "WARNING:absl:The `num_threads` constructor argument is not set and the number of CPU is os.cpu_count()=32 > 32. Setting num_threads to 32. Set num_threads manually to use more than 32 cpus.\n"
     ]
    },
    {
     "name": "stdout",
     "output_type": "stream",
     "text": [
      "Use /tmpfs/tmp/tmpzedtgb0u as temporary training directory\n"
     ]
    },
    {
     "name": "stdout",
     "output_type": "stream",
     "text": [
      "Reading training dataset...\n"
     ]
    },
    {
     "name": "stdout",
     "output_type": "stream",
     "text": [
      "Training dataset read in 0:00:00.195899. Found 2950 examples.\n"
     ]
    },
    {
     "name": "stdout",
     "output_type": "stream",
     "text": [
      "Training model...\n"
     ]
    },
    {
     "name": "stderr",
     "output_type": "stream",
     "text": [
      "[INFO 2023-01-25T12:08:30.635116485+00:00 kernel.cc:1214] Loading model from path /tmpfs/tmp/tmpzedtgb0u/model/ with prefix 976b962ef8974fdf\n"
     ]
    },
    {
     "name": "stdout",
     "output_type": "stream",
     "text": [
      "Model trained in 0:00:01.369793\n"
     ]
    },
    {
     "name": "stdout",
     "output_type": "stream",
     "text": [
      "Compiling model...\n"
     ]
    },
    {
     "name": "stderr",
     "output_type": "stream",
     "text": [
      "[INFO 2023-01-25T12:08:31.428238437+00:00 decision_forest.cc:661] Model loaded with 300 root(s), 266188 node(s), and 8 input feature(s).\n",
      "[INFO 2023-01-25T12:08:31.428284154+00:00 kernel.cc:1046] Use fast generic engine\n"
     ]
    },
    {
     "name": "stdout",
     "output_type": "stream",
     "text": [
      "Model compiled.\n"
     ]
    },
    {
     "data": {
      "text/plain": [
       "<keras.callbacks.History at 0x7fd9f04c9400>"
      ]
     },
     "execution_count": 36,
     "metadata": {},
     "output_type": "execute_result"
    }
   ],
   "source": [
    "%set_cell_height 300\n",
    "\n",
    "# Configure the model.\n",
    "model_7 = tfdf.keras.RandomForestModel(task = tfdf.keras.Task.REGRESSION)\n",
    "\n",
    "# Train the model.\n",
    "model_7.fit(train_ds)"
   ]
  },
  {
   "cell_type": "code",
   "execution_count": 37,
   "metadata": {
    "execution": {
     "iopub.execute_input": "2023-01-25T12:08:31.676610Z",
     "iopub.status.busy": "2023-01-25T12:08:31.676387Z",
     "iopub.status.idle": "2023-01-25T12:08:31.846270Z",
     "shell.execute_reply": "2023-01-25T12:08:31.845570Z"
    },
    "id": "aSriIAaMSzwA"
   },
   "outputs": [
    {
     "name": "stdout",
     "output_type": "stream",
     "text": [
      "WARNING:tensorflow:5 out of the last 5 calls to <function InferenceCoreModel.make_test_function.<locals>.test_function at 0x7fd9f02f9430> triggered tf.function retracing. Tracing is expensive and the excessive number of tracings could be due to (1) creating @tf.function repeatedly in a loop, (2) passing tensors with different shapes, (3) passing Python objects instead of tensors. For (1), please define your @tf.function outside of the loop. For (2), @tf.function has reduce_retracing=True option that can avoid unnecessary retracing. For (3), please refer to https://www.tensorflow.org/guide/function#controlling_retracing and https://www.tensorflow.org/api_docs/python/tf/function for  more details.\n"
     ]
    },
    {
     "name": "stderr",
     "output_type": "stream",
     "text": [
      "WARNING:tensorflow:5 out of the last 5 calls to <function InferenceCoreModel.make_test_function.<locals>.test_function at 0x7fd9f02f9430> triggered tf.function retracing. Tracing is expensive and the excessive number of tracings could be due to (1) creating @tf.function repeatedly in a loop, (2) passing tensors with different shapes, (3) passing Python objects instead of tensors. For (1), please define your @tf.function outside of the loop. For (2), @tf.function has reduce_retracing=True option that can avoid unnecessary retracing. For (3), please refer to https://www.tensorflow.org/guide/function#controlling_retracing and https://www.tensorflow.org/api_docs/python/tf/function for  more details.\n"
     ]
    },
    {
     "name": "stdout",
     "output_type": "stream",
     "text": [
      "\r",
      "1/2 [==============>...............] - ETA: 0s - loss: 0.0000e+00 - mse: 5.2928"
     ]
    },
    {
     "name": "stdout",
     "output_type": "stream",
     "text": [
      "\b\b\b\b\b\b\b\b\b\b\b\b\b\b\b\b\b\b\b\b\b\b\b\b\b\b\b\b\b\b\b\b\b\b\b\b\b\b\b\b\b\b\b\b\b\b\b\b\b\b\b\b\b\b\b\b\b\b\b\b\b\b\b\b\b\b\b\b\b\b\b\b\b\b\b\b\b\b\b\r",
      "2/2 [==============================] - 0s 12ms/step - loss: 0.0000e+00 - mse: 4.7990\n"
     ]
    },
    {
     "name": "stdout",
     "output_type": "stream",
     "text": [
      "{'loss': 0.0, 'mse': 4.799042224884033}\n",
      "\n",
      "MSE: 4.799042224884033\n",
      "RMSE: 2.190671637850829\n"
     ]
    }
   ],
   "source": [
    "# Evaluate the model on the test dataset.\n",
    "model_7.compile(metrics=[\"mse\"])\n",
    "evaluation = model_7.evaluate(test_ds, return_dict=True)\n",
    "\n",
    "print(evaluation)\n",
    "print()\n",
    "print(f\"MSE: {evaluation['mse']}\")\n",
    "print(f\"RMSE: {math.sqrt(evaluation['mse'])}\")"
   ]
  }
 ],
 "metadata": {
  "colab": {
   "collapsed_sections": [],
   "name": "beginner_colab.ipynb",
   "provenance": [],
   "toc_visible": true
  },
  "kernelspec": {
   "display_name": "Python 3",
   "name": "python3"
  },
  "language_info": {
   "codemirror_mode": {
    "name": "ipython",
    "version": 3
   },
   "file_extension": ".py",
   "mimetype": "text/x-python",
   "name": "python",
   "nbconvert_exporter": "python",
   "pygments_lexer": "ipython3",
   "version": "3.9.16"
  }
 },
 "nbformat": 4,
 "nbformat_minor": 0
}
