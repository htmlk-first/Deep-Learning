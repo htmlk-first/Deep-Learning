{
 "cells": [
  {
   "cell_type": "code",
   "execution_count": 22,
   "metadata": {},
   "outputs": [],
   "source": [
    "from numpy import array, transpose\n",
    "from tensorflow.keras.models import Sequential\n",
    "from tensorflow.keras.layers import Dense, LSTM\n",
    "from sklearn.preprocessing import MinMaxScaler"
   ]
  },
  {
   "cell_type": "code",
   "execution_count": 23,
   "metadata": {},
   "outputs": [],
   "source": [
    "x = [ 97.94353205,  81.39440948,  82.56188812,  96.78309796,  22.08676868,\n",
    "    22.08676868,  85.47545193,  27.67143612,  22.94845973,  82.55900406,\n",
    "    100.66434675,  29.19567575,  15.89876742,  14.68010337,  97.40364463,\n",
    "    86.62909341,  45.11752955,  49.5135526,  137.58300356, 136.95245273]\n",
    "          "
   ]
  },
  {
   "cell_type": "code",
   "execution_count": 24,
   "metadata": {},
   "outputs": [],
   "source": [
    "y = array([\n",
    "    [97.94353205,  81.39440948,  82.56188812,  96.78309796,  22.08676868,\n",
    "    22.08676868,  85.47545193,  27.67143612,  22.94845973,  82.55900406,\n",
    "    100.66434675,  29.19567575,  15.89876742,  14.68010337,  97.40364463,\n",
    "    86.62909341,  45.11752955,  49.5135526,  137.58300356, 136.95245273],\n",
    "    \n",
    "    [121.6980208,   80.0298634,   76.47926913,  95.54061483,  41.95492416,\n",
    "    41.95492416,  72.54222772, 137.84295854, 102.25427602,  63.20847833,\n",
    "    87.96249672, 135.08574293,  48.96579391,  19.51911206, 107.6503686,\n",
    "    87.73955015, 150.45927938, 151.78303507, 144.28259361, 143.69771768],\n",
    "    \n",
    "    [122.42908247,  78.00045527,  82.98252293,  89.77253748, 105.12436696,\n",
    "    105.12436696,  76.93908458, 150.16126638, 132.16621058,  33.33137595,\n",
    "    88.68754408, 149.27075143, 109.07406339,  13.69373603, 106.37813098,\n",
    "    90.5841414, 160.46769261, 159.25089736, 146.02376126, 143.35080529],\n",
    "    \n",
    "    [116.75509693,  85.09257088,  69.2887424,  101.68090934,  32.46643852,\n",
    "    32.46643852,  77.54015761, 121.140053,   112.99898847,  33.76276091,\n",
    "    92.63911665, 127.86603416,  24.16814159,  15.61936405, 104.21687,\n",
    "    90.18242789, 157.82693598, 157.40491431, 148.10605111, 146.58259538]\n",
    "])\n",
    "    \n",
    "            "
   ]
  },
  {
   "cell_type": "code",
   "execution_count": 25,
   "metadata": {},
   "outputs": [
    {
     "ename": "ValueError",
     "evalue": "Expected 2D array, got 1D array instead:\narray=[ 97.94353205  81.39440948  82.56188812  96.78309796  22.08676868\n  22.08676868  85.47545193  27.67143612  22.94845973  82.55900406\n 100.66434675  29.19567575  15.89876742  14.68010337  97.40364463\n  86.62909341  45.11752955  49.5135526  137.58300356 136.95245273].\nReshape your data either using array.reshape(-1, 1) if your data has a single feature or array.reshape(1, -1) if it contains a single sample.",
     "output_type": "error",
     "traceback": [
      "\u001b[1;31m---------------------------------------------------------------------------\u001b[0m",
      "\u001b[1;31mValueError\u001b[0m                                Traceback (most recent call last)",
      "\u001b[1;32mC:\\Users\\kwuser\\AppData\\Local\\Temp/ipykernel_2860/888836587.py\u001b[0m in \u001b[0;36m<module>\u001b[1;34m\u001b[0m\n\u001b[0;32m      1\u001b[0m \u001b[0mscaler\u001b[0m \u001b[1;33m=\u001b[0m \u001b[0mMinMaxScaler\u001b[0m\u001b[1;33m(\u001b[0m\u001b[1;33m)\u001b[0m\u001b[1;33m\u001b[0m\u001b[1;33m\u001b[0m\u001b[0m\n\u001b[1;32m----> 2\u001b[1;33m \u001b[0mscaler\u001b[0m\u001b[1;33m.\u001b[0m\u001b[0mfit\u001b[0m\u001b[1;33m(\u001b[0m\u001b[0mx\u001b[0m\u001b[1;33m)\u001b[0m\u001b[1;33m\u001b[0m\u001b[1;33m\u001b[0m\u001b[0m\n\u001b[0m\u001b[0;32m      3\u001b[0m \u001b[0mx\u001b[0m \u001b[1;33m=\u001b[0m \u001b[0mscaler\u001b[0m\u001b[1;33m.\u001b[0m\u001b[0mtransform\u001b[0m\u001b[1;33m(\u001b[0m\u001b[0mx\u001b[0m\u001b[1;33m)\u001b[0m\u001b[1;33m\u001b[0m\u001b[1;33m\u001b[0m\u001b[0m\n",
      "\u001b[1;32mC:\\Users\\kwuser\\Anaconda3\\lib\\site-packages\\sklearn\\preprocessing\\_data.py\u001b[0m in \u001b[0;36mfit\u001b[1;34m(self, X, y)\u001b[0m\n\u001b[0;32m    414\u001b[0m         \u001b[1;31m# Reset internal state before fitting\u001b[0m\u001b[1;33m\u001b[0m\u001b[1;33m\u001b[0m\u001b[1;33m\u001b[0m\u001b[0m\n\u001b[0;32m    415\u001b[0m         \u001b[0mself\u001b[0m\u001b[1;33m.\u001b[0m\u001b[0m_reset\u001b[0m\u001b[1;33m(\u001b[0m\u001b[1;33m)\u001b[0m\u001b[1;33m\u001b[0m\u001b[1;33m\u001b[0m\u001b[0m\n\u001b[1;32m--> 416\u001b[1;33m         \u001b[1;32mreturn\u001b[0m \u001b[0mself\u001b[0m\u001b[1;33m.\u001b[0m\u001b[0mpartial_fit\u001b[0m\u001b[1;33m(\u001b[0m\u001b[0mX\u001b[0m\u001b[1;33m,\u001b[0m \u001b[0my\u001b[0m\u001b[1;33m)\u001b[0m\u001b[1;33m\u001b[0m\u001b[1;33m\u001b[0m\u001b[0m\n\u001b[0m\u001b[0;32m    417\u001b[0m \u001b[1;33m\u001b[0m\u001b[0m\n\u001b[0;32m    418\u001b[0m     \u001b[1;32mdef\u001b[0m \u001b[0mpartial_fit\u001b[0m\u001b[1;33m(\u001b[0m\u001b[0mself\u001b[0m\u001b[1;33m,\u001b[0m \u001b[0mX\u001b[0m\u001b[1;33m,\u001b[0m \u001b[0my\u001b[0m\u001b[1;33m=\u001b[0m\u001b[1;32mNone\u001b[0m\u001b[1;33m)\u001b[0m\u001b[1;33m:\u001b[0m\u001b[1;33m\u001b[0m\u001b[1;33m\u001b[0m\u001b[0m\n",
      "\u001b[1;32mC:\\Users\\kwuser\\Anaconda3\\lib\\site-packages\\sklearn\\preprocessing\\_data.py\u001b[0m in \u001b[0;36mpartial_fit\u001b[1;34m(self, X, y)\u001b[0m\n\u001b[0;32m    456\u001b[0m             \u001b[0mestimator\u001b[0m\u001b[1;33m=\u001b[0m\u001b[0mself\u001b[0m\u001b[1;33m,\u001b[0m\u001b[1;33m\u001b[0m\u001b[1;33m\u001b[0m\u001b[0m\n\u001b[0;32m    457\u001b[0m             \u001b[0mdtype\u001b[0m\u001b[1;33m=\u001b[0m\u001b[0mFLOAT_DTYPES\u001b[0m\u001b[1;33m,\u001b[0m\u001b[1;33m\u001b[0m\u001b[1;33m\u001b[0m\u001b[0m\n\u001b[1;32m--> 458\u001b[1;33m             \u001b[0mforce_all_finite\u001b[0m\u001b[1;33m=\u001b[0m\u001b[1;34m\"allow-nan\"\u001b[0m\u001b[1;33m,\u001b[0m\u001b[1;33m\u001b[0m\u001b[1;33m\u001b[0m\u001b[0m\n\u001b[0m\u001b[0;32m    459\u001b[0m         )\n\u001b[0;32m    460\u001b[0m \u001b[1;33m\u001b[0m\u001b[0m\n",
      "\u001b[1;32mC:\\Users\\kwuser\\Anaconda3\\lib\\site-packages\\sklearn\\base.py\u001b[0m in \u001b[0;36m_validate_data\u001b[1;34m(self, X, y, reset, validate_separately, **check_params)\u001b[0m\n\u001b[0;32m    564\u001b[0m             \u001b[1;32mraise\u001b[0m \u001b[0mValueError\u001b[0m\u001b[1;33m(\u001b[0m\u001b[1;34m\"Validation should be done on X, y or both.\"\u001b[0m\u001b[1;33m)\u001b[0m\u001b[1;33m\u001b[0m\u001b[1;33m\u001b[0m\u001b[0m\n\u001b[0;32m    565\u001b[0m         \u001b[1;32melif\u001b[0m \u001b[1;32mnot\u001b[0m \u001b[0mno_val_X\u001b[0m \u001b[1;32mand\u001b[0m \u001b[0mno_val_y\u001b[0m\u001b[1;33m:\u001b[0m\u001b[1;33m\u001b[0m\u001b[1;33m\u001b[0m\u001b[0m\n\u001b[1;32m--> 566\u001b[1;33m             \u001b[0mX\u001b[0m \u001b[1;33m=\u001b[0m \u001b[0mcheck_array\u001b[0m\u001b[1;33m(\u001b[0m\u001b[0mX\u001b[0m\u001b[1;33m,\u001b[0m \u001b[1;33m**\u001b[0m\u001b[0mcheck_params\u001b[0m\u001b[1;33m)\u001b[0m\u001b[1;33m\u001b[0m\u001b[1;33m\u001b[0m\u001b[0m\n\u001b[0m\u001b[0;32m    567\u001b[0m             \u001b[0mout\u001b[0m \u001b[1;33m=\u001b[0m \u001b[0mX\u001b[0m\u001b[1;33m\u001b[0m\u001b[1;33m\u001b[0m\u001b[0m\n\u001b[0;32m    568\u001b[0m         \u001b[1;32melif\u001b[0m \u001b[0mno_val_X\u001b[0m \u001b[1;32mand\u001b[0m \u001b[1;32mnot\u001b[0m \u001b[0mno_val_y\u001b[0m\u001b[1;33m:\u001b[0m\u001b[1;33m\u001b[0m\u001b[1;33m\u001b[0m\u001b[0m\n",
      "\u001b[1;32mC:\\Users\\kwuser\\Anaconda3\\lib\\site-packages\\sklearn\\utils\\validation.py\u001b[0m in \u001b[0;36mcheck_array\u001b[1;34m(array, accept_sparse, accept_large_sparse, dtype, order, copy, force_all_finite, ensure_2d, allow_nd, ensure_min_samples, ensure_min_features, estimator)\u001b[0m\n\u001b[0;32m    771\u001b[0m                     \u001b[1;34m\"Reshape your data either using array.reshape(-1, 1) if \"\u001b[0m\u001b[1;33m\u001b[0m\u001b[1;33m\u001b[0m\u001b[0m\n\u001b[0;32m    772\u001b[0m                     \u001b[1;34m\"your data has a single feature or array.reshape(1, -1) \"\u001b[0m\u001b[1;33m\u001b[0m\u001b[1;33m\u001b[0m\u001b[0m\n\u001b[1;32m--> 773\u001b[1;33m                     \u001b[1;34m\"if it contains a single sample.\"\u001b[0m\u001b[1;33m.\u001b[0m\u001b[0mformat\u001b[0m\u001b[1;33m(\u001b[0m\u001b[0marray\u001b[0m\u001b[1;33m)\u001b[0m\u001b[1;33m\u001b[0m\u001b[1;33m\u001b[0m\u001b[0m\n\u001b[0m\u001b[0;32m    774\u001b[0m                 )\n\u001b[0;32m    775\u001b[0m \u001b[1;33m\u001b[0m\u001b[0m\n",
      "\u001b[1;31mValueError\u001b[0m: Expected 2D array, got 1D array instead:\narray=[ 97.94353205  81.39440948  82.56188812  96.78309796  22.08676868\n  22.08676868  85.47545193  27.67143612  22.94845973  82.55900406\n 100.66434675  29.19567575  15.89876742  14.68010337  97.40364463\n  86.62909341  45.11752955  49.5135526  137.58300356 136.95245273].\nReshape your data either using array.reshape(-1, 1) if your data has a single feature or array.reshape(1, -1) if it contains a single sample."
     ]
    }
   ],
   "source": [
    "scaler = MinMaxScaler()\n",
    "scaler.fit(x) \n",
    "x = scaler.transform(x)"
   ]
  },
  {
   "cell_type": "code",
   "execution_count": null,
   "metadata": {},
   "outputs": [
    {
     "name": "stdout",
     "output_type": "stream",
     "text": [
      "[[0.         0.47855314 0.96928278 0.58870856 0.         0.\n",
      "  1.         0.         0.         1.         1.         0.\n",
      "  0.         0.16932252 0.         0.         0.         0.\n",
      "  0.         0.        ]\n",
      " [0.97014314 0.28614989 0.52509435 0.48437162 0.23926698 0.23926698\n",
      "  0.         0.89943404 0.7261257  0.60691737 0.         0.8818655\n",
      "  0.35489049 1.         1.         0.28076947 0.91323451 0.93194785\n",
      "  0.63665873 0.70043251]\n",
      " [1.         0.         1.         0.         1.         1.\n",
      "  0.33996603 1.         1.         0.         0.05708203 1.\n",
      "  1.         0.         0.87583957 1.         1.         1.\n",
      "  0.80212103 0.66440891]\n",
      " [0.76827209 1.         0.         1.         0.12499964 0.12499964\n",
      "  0.38644114 0.76307247 0.82450452 0.00876307 0.36818416 0.82173888\n",
      "  0.08875072 0.33055858 0.66491743 0.89843018 0.97710661 0.98317817\n",
      "  1.         1.        ]]\n"
     ]
    }
   ],
   "source": [
    "print(x)"
   ]
  },
  {
   "cell_type": "code",
   "execution_count": null,
   "metadata": {},
   "outputs": [],
   "source": [
    "scaler = MinMaxScaler()\n",
    "scaler.fit(y) \n",
    "y = scaler.transform(y)"
   ]
  },
  {
   "cell_type": "code",
   "execution_count": null,
   "metadata": {},
   "outputs": [
    {
     "name": "stdout",
     "output_type": "stream",
     "text": [
      "[[0.         0.47855314 0.96928278 0.58870856 0.         0.\n",
      "  1.         0.         0.         1.         1.         0.\n",
      "  0.         0.16932252 0.         0.         0.         0.\n",
      "  0.         0.        ]\n",
      " [0.97014314 0.28614989 0.52509435 0.48437162 0.23926698 0.23926698\n",
      "  0.         0.89943404 0.7261257  0.60691737 0.         0.8818655\n",
      "  0.35489049 1.         1.         0.28076947 0.91323451 0.93194785\n",
      "  0.63665873 0.70043251]\n",
      " [1.         0.         1.         0.         1.         1.\n",
      "  0.33996603 1.         1.         0.         0.05708203 1.\n",
      "  1.         0.         0.87583957 1.         1.         1.\n",
      "  0.80212103 0.66440891]\n",
      " [0.76827209 1.         0.         1.         0.12499964 0.12499964\n",
      "  0.38644114 0.76307247 0.82450452 0.00876307 0.36818416 0.82173888\n",
      "  0.08875072 0.33055858 0.66491743 0.89843018 0.97710661 0.98317817\n",
      "  1.         1.        ]]\n"
     ]
    }
   ],
   "source": [
    "print(y)"
   ]
  },
  {
   "cell_type": "code",
   "execution_count": null,
   "metadata": {},
   "outputs": [
    {
     "name": "stdout",
     "output_type": "stream",
     "text": [
      "Epoch 1/100\n",
      "13/13 - 0s - loss: 846144960.0000 - acc: 0.0000e+00\n",
      "Epoch 2/100\n",
      "13/13 - 0s - loss: 846142080.0000 - acc: 0.0000e+00\n",
      "Epoch 3/100\n",
      "13/13 - 0s - loss: 846137600.0000 - acc: 0.0000e+00\n",
      "Epoch 4/100\n",
      "13/13 - 0s - loss: 846134208.0000 - acc: 0.0000e+00\n",
      "Epoch 5/100\n",
      "13/13 - 0s - loss: 846129792.0000 - acc: 0.0000e+00\n",
      "Epoch 6/100\n",
      "13/13 - 0s - loss: 846125376.0000 - acc: 0.0000e+00\n",
      "Epoch 7/100\n",
      "13/13 - 0s - loss: 846121728.0000 - acc: 0.0000e+00\n",
      "Epoch 8/100\n",
      "13/13 - 0s - loss: 846116224.0000 - acc: 0.0000e+00\n",
      "Epoch 9/100\n",
      "13/13 - 0s - loss: 846112128.0000 - acc: 0.0000e+00\n",
      "Epoch 10/100\n",
      "13/13 - 0s - loss: 846107392.0000 - acc: 0.0000e+00\n",
      "Epoch 11/100\n",
      "13/13 - 0s - loss: 846100480.0000 - acc: 0.0000e+00\n",
      "Epoch 12/100\n",
      "13/13 - 0s - loss: 846096064.0000 - acc: 0.0000e+00\n",
      "Epoch 13/100\n",
      "13/13 - 0s - loss: 846088768.0000 - acc: 0.0000e+00\n",
      "Epoch 14/100\n",
      "13/13 - 0s - loss: 846081664.0000 - acc: 0.0000e+00\n",
      "Epoch 15/100\n",
      "13/13 - 0s - loss: 846074944.0000 - acc: 0.0000e+00\n",
      "Epoch 16/100\n",
      "13/13 - 0s - loss: 846069120.0000 - acc: 0.0000e+00\n",
      "Epoch 17/100\n",
      "13/13 - 0s - loss: 846058880.0000 - acc: 0.0000e+00\n",
      "Epoch 18/100\n",
      "13/13 - 0s - loss: 846050240.0000 - acc: 0.0000e+00\n",
      "Epoch 19/100\n",
      "13/13 - 0s - loss: 846041408.0000 - acc: 0.0000e+00\n",
      "Epoch 20/100\n",
      "13/13 - 0s - loss: 846033024.0000 - acc: 0.0000e+00\n",
      "Epoch 21/100\n",
      "13/13 - 0s - loss: 846021760.0000 - acc: 0.0000e+00\n",
      "Epoch 22/100\n",
      "13/13 - 0s - loss: 846011392.0000 - acc: 0.0000e+00\n",
      "Epoch 23/100\n",
      "13/13 - 0s - loss: 846002048.0000 - acc: 0.0000e+00\n",
      "Epoch 24/100\n",
      "13/13 - 0s - loss: 845986752.0000 - acc: 0.0000e+00\n",
      "Epoch 25/100\n",
      "13/13 - 0s - loss: 845978560.0000 - acc: 0.0000e+00\n",
      "Epoch 26/100\n",
      "13/13 - 0s - loss: 845961472.0000 - acc: 0.0000e+00\n",
      "Epoch 27/100\n",
      "13/13 - 0s - loss: 845948224.0000 - acc: 0.0000e+00\n",
      "Epoch 28/100\n",
      "13/13 - 0s - loss: 845937216.0000 - acc: 0.0000e+00\n",
      "Epoch 29/100\n",
      "13/13 - 0s - loss: 845919488.0000 - acc: 0.0000e+00\n",
      "Epoch 30/100\n",
      "13/13 - 0s - loss: 845900736.0000 - acc: 0.0000e+00\n",
      "Epoch 31/100\n",
      "13/13 - 0s - loss: 845886336.0000 - acc: 0.0000e+00\n",
      "Epoch 32/100\n",
      "13/13 - 0s - loss: 845868096.0000 - acc: 0.0000e+00\n",
      "Epoch 33/100\n",
      "13/13 - 0s - loss: 845849600.0000 - acc: 0.0000e+00\n",
      "Epoch 34/100\n",
      "13/13 - 0s - loss: 845828352.0000 - acc: 0.0000e+00\n",
      "Epoch 35/100\n",
      "13/13 - 0s - loss: 845809088.0000 - acc: 0.0000e+00\n",
      "Epoch 36/100\n",
      "13/13 - 0s - loss: 845793152.0000 - acc: 0.0000e+00\n",
      "Epoch 37/100\n",
      "13/13 - 0s - loss: 845764736.0000 - acc: 0.0000e+00\n",
      "Epoch 38/100\n",
      "13/13 - 0s - loss: 845739584.0000 - acc: 0.0000e+00\n",
      "Epoch 39/100\n",
      "13/13 - 0s - loss: 845716800.0000 - acc: 0.0000e+00\n",
      "Epoch 40/100\n",
      "13/13 - 0s - loss: 845699456.0000 - acc: 0.0000e+00\n",
      "Epoch 41/100\n",
      "13/13 - 0s - loss: 845665408.0000 - acc: 0.0000e+00\n",
      "Epoch 42/100\n",
      "13/13 - 0s - loss: 845644416.0000 - acc: 0.0000e+00\n",
      "Epoch 43/100\n",
      "13/13 - 0s - loss: 845606272.0000 - acc: 0.0000e+00\n",
      "Epoch 44/100\n",
      "13/13 - 0s - loss: 845586880.0000 - acc: 0.0000e+00\n",
      "Epoch 45/100\n",
      "13/13 - 0s - loss: 845552896.0000 - acc: 0.0000e+00\n",
      "Epoch 46/100\n",
      "13/13 - 0s - loss: 845517248.0000 - acc: 0.0000e+00\n",
      "Epoch 47/100\n",
      "13/13 - 0s - loss: 845484928.0000 - acc: 0.0000e+00\n",
      "Epoch 48/100\n",
      "13/13 - 0s - loss: 845448960.0000 - acc: 0.0000e+00\n",
      "Epoch 49/100\n",
      "13/13 - 0s - loss: 845412288.0000 - acc: 0.0000e+00\n",
      "Epoch 50/100\n",
      "13/13 - 0s - loss: 845376768.0000 - acc: 0.0000e+00\n",
      "Epoch 51/100\n",
      "13/13 - 0s - loss: 845335936.0000 - acc: 0.0000e+00\n",
      "Epoch 52/100\n",
      "13/13 - 0s - loss: 845299584.0000 - acc: 0.0000e+00\n",
      "Epoch 53/100\n",
      "13/13 - 0s - loss: 845273536.0000 - acc: 0.0000e+00\n",
      "Epoch 54/100\n",
      "13/13 - 0s - loss: 845209920.0000 - acc: 0.0000e+00\n",
      "Epoch 55/100\n",
      "13/13 - 0s - loss: 845177280.0000 - acc: 0.0000e+00\n",
      "Epoch 56/100\n",
      "13/13 - 0s - loss: 845119616.0000 - acc: 0.0000e+00\n",
      "Epoch 57/100\n",
      "13/13 - 0s - loss: 845087488.0000 - acc: 0.0000e+00\n",
      "Epoch 58/100\n",
      "13/13 - 0s - loss: 845034368.0000 - acc: 0.0000e+00\n",
      "Epoch 59/100\n",
      "13/13 - 0s - loss: 844978048.0000 - acc: 0.0000e+00\n",
      "Epoch 60/100\n",
      "13/13 - 0s - loss: 844926976.0000 - acc: 0.0000e+00\n",
      "Epoch 61/100\n",
      "13/13 - 0s - loss: 844888128.0000 - acc: 0.0000e+00\n",
      "Epoch 62/100\n",
      "13/13 - 0s - loss: 844821120.0000 - acc: 0.0000e+00\n",
      "Epoch 63/100\n",
      "13/13 - 0s - loss: 844768960.0000 - acc: 0.0000e+00\n",
      "Epoch 64/100\n",
      "13/13 - 0s - loss: 844706432.0000 - acc: 0.0000e+00\n",
      "Epoch 65/100\n",
      "13/13 - 0s - loss: 844651904.0000 - acc: 0.0000e+00\n",
      "Epoch 66/100\n",
      "13/13 - 0s - loss: 844596224.0000 - acc: 0.0000e+00\n",
      "Epoch 67/100\n",
      "13/13 - 0s - loss: 844527488.0000 - acc: 0.0000e+00\n",
      "Epoch 68/100\n",
      "13/13 - 0s - loss: 844460288.0000 - acc: 0.0000e+00\n",
      "Epoch 69/100\n",
      "13/13 - 0s - loss: 844395136.0000 - acc: 0.0000e+00\n",
      "Epoch 70/100\n",
      "13/13 - 0s - loss: 844343040.0000 - acc: 0.0000e+00\n",
      "Epoch 71/100\n",
      "13/13 - 0s - loss: 844251840.0000 - acc: 0.0000e+00\n",
      "Epoch 72/100\n",
      "13/13 - 0s - loss: 844207360.0000 - acc: 0.0000e+00\n",
      "Epoch 73/100\n",
      "13/13 - 0s - loss: 844113152.0000 - acc: 0.0000e+00\n",
      "Epoch 74/100\n",
      "13/13 - 0s - loss: 844040512.0000 - acc: 0.0000e+00\n",
      "Epoch 75/100\n",
      "13/13 - 0s - loss: 843973248.0000 - acc: 0.0000e+00\n",
      "Epoch 76/100\n",
      "13/13 - 0s - loss: 843885184.0000 - acc: 0.0000e+00\n",
      "Epoch 77/100\n",
      "13/13 - 0s - loss: 843797568.0000 - acc: 0.0000e+00\n",
      "Epoch 78/100\n",
      "13/13 - 0s - loss: 843730944.0000 - acc: 0.0000e+00\n",
      "Epoch 79/100\n",
      "13/13 - 0s - loss: 843635008.0000 - acc: 0.0000e+00\n",
      "Epoch 80/100\n",
      "13/13 - 0s - loss: 843573376.0000 - acc: 0.0000e+00\n",
      "Epoch 81/100\n",
      "13/13 - 0s - loss: 843484864.0000 - acc: 0.0000e+00\n",
      "Epoch 82/100\n",
      "13/13 - 0s - loss: 843375744.0000 - acc: 0.0000e+00\n",
      "Epoch 83/100\n",
      "13/13 - 0s - loss: 843276352.0000 - acc: 0.0000e+00\n",
      "Epoch 84/100\n",
      "13/13 - 0s - loss: 843194752.0000 - acc: 0.0000e+00\n",
      "Epoch 85/100\n",
      "13/13 - 0s - loss: 843109248.0000 - acc: 0.0000e+00\n",
      "Epoch 86/100\n",
      "13/13 - 0s - loss: 842997120.0000 - acc: 0.0000e+00\n",
      "Epoch 87/100\n",
      "13/13 - 0s - loss: 842898752.0000 - acc: 0.0000e+00\n",
      "Epoch 88/100\n",
      "13/13 - 0s - loss: 842801216.0000 - acc: 0.0000e+00\n",
      "Epoch 89/100\n",
      "13/13 - 0s - loss: 842693952.0000 - acc: 0.0000e+00\n",
      "Epoch 90/100\n",
      "13/13 - 0s - loss: 842600832.0000 - acc: 0.0000e+00\n",
      "Epoch 91/100\n",
      "13/13 - 0s - loss: 842472192.0000 - acc: 0.0000e+00\n",
      "Epoch 92/100\n",
      "13/13 - 0s - loss: 842384064.0000 - acc: 0.0000e+00\n",
      "Epoch 93/100\n",
      "13/13 - 0s - loss: 842265344.0000 - acc: 0.0000e+00\n",
      "Epoch 94/100\n",
      "13/13 - 0s - loss: 842145088.0000 - acc: 0.0000e+00\n",
      "Epoch 95/100\n",
      "13/13 - 0s - loss: 842046144.0000 - acc: 0.0000e+00\n",
      "Epoch 96/100\n",
      "13/13 - 0s - loss: 841914944.0000 - acc: 0.0000e+00\n",
      "Epoch 97/100\n",
      "13/13 - 0s - loss: 841796160.0000 - acc: 0.0000e+00\n",
      "Epoch 98/100\n",
      "13/13 - 0s - loss: 841687424.0000 - acc: 0.0000e+00\n",
      "Epoch 99/100\n",
      "13/13 - 0s - loss: 841555200.0000 - acc: 0.0000e+00\n",
      "Epoch 100/100\n",
      "13/13 - 0s - loss: 841417344.0000 - acc: 0.0000e+00\n"
     ]
    },
    {
     "data": {
      "text/plain": [
       "<tensorflow.python.keras.callbacks.History at 0x17c89651608>"
      ]
     },
     "execution_count": 15,
     "metadata": {},
     "output_type": "execute_result"
    }
   ],
   "source": [
    "# model = Sequential()\n",
    "# model.add(Dense(10, activation = 'relu', input_shape=(3,)))\n",
    "# model.add(Dense(10))\n",
    "# model.add(Dense(1))\n",
    "\n",
    "# model.compile(optimizer='adam', loss='mse')\n",
    "# model.fit(x, y, epochs=100, verbose=2, batch_size=1)"
   ]
  },
  {
   "cell_type": "code",
   "execution_count": null,
   "metadata": {},
   "outputs": [],
   "source": [
    "# x_input = array([25,35,45]) # (3,)\n",
    "# x_input = x_input.reshape(1,3)\n",
    "# x_input = scaler.transform(x_input)"
   ]
  },
  {
   "cell_type": "code",
   "execution_count": null,
   "metadata": {},
   "outputs": [
    {
     "name": "stdout",
     "output_type": "stream",
     "text": [
      "[[53.622334]]\n"
     ]
    }
   ],
   "source": [
    "# yhat = model.predict(x_input)\n",
    "# print(yhat)"
   ]
  },
  {
   "cell_type": "code",
   "execution_count": null,
   "metadata": {},
   "outputs": [],
   "source": []
  }
 ],
 "metadata": {
  "interpreter": {
   "hash": "d0f8330eff2168fad63f77d58953d6b7151d4acc41456747c4ca21d2a0343b66"
  },
  "kernelspec": {
   "display_name": "Python 3.7.11 ('base')",
   "language": "python",
   "name": "python3"
  },
  "language_info": {
   "codemirror_mode": {
    "name": "ipython",
    "version": 3
   },
   "file_extension": ".py",
   "mimetype": "text/x-python",
   "name": "python",
   "nbconvert_exporter": "python",
   "pygments_lexer": "ipython3",
   "version": "3.7.11"
  },
  "orig_nbformat": 4
 },
 "nbformat": 4,
 "nbformat_minor": 2
}
